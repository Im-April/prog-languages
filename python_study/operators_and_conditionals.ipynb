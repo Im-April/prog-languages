{
  "nbformat": 4,
  "nbformat_minor": 0,
  "metadata": {
    "colab": {
      "provenance": []
    },
    "kernelspec": {
      "name": "python3",
      "display_name": "Python 3"
    },
    "language_info": {
      "name": "python"
    }
  },
  "cells": [
    {
      "cell_type": "code",
      "execution_count": 3,
      "metadata": {
        "colab": {
          "base_uri": "https://localhost:8080/"
        },
        "id": "zlnEUO7REnj9",
        "outputId": "61562d8f-b9c4-4f8d-89a1-35e7d1358304"
      },
      "outputs": [
        {
          "output_type": "stream",
          "name": "stdout",
          "text": [
            "어서오세요\n",
            "이름을 입력하세요 : 마루집사\n",
            "마루집사님 안녕하세요\n",
            "생년을 입력하세요 : 2000\n",
            "2025-07-18\n",
            "마루집사님은 2025년 현재 25세 입니다.\n",
            "마루집사님은 성인입니다.\n"
          ]
        }
      ],
      "source": [
        "import datetime\n",
        "\n",
        "print('어서오세요')\n",
        "\n",
        "name = input('이름을 입력하세요 : ')\n",
        "print(f'{name}님 안녕하세요')\n",
        "birth_year = int(input('생년을 입력하세요 : '))\n",
        "\n",
        "# 현재 날짜를 str_today 변수에 저장한다.\n",
        "str_today = str(datetime.date.today())\n",
        "print(str_today)\n",
        "\n",
        "# 현재 날짜에서 연도만 추출한다.\n",
        "now_year = int(str_today.split('-')[0])\n",
        "\n",
        "# 현재 연도에서 생년을 빼면 나이가 된다.\n",
        "age = now_year - birth_year\n",
        "\n",
        "# 출력\n",
        "print(f'{name}님은 {now_year}년 현재 {age}세 입니다.')\n",
        "\n",
        "# 성인인지 아닌지..\n",
        "if (age < 19) :\n",
        "  print(f'{name}님은 미성년자 입니다.')\n",
        "else :\n",
        "  print(f'{name}님은 성인입니다.')\n"
      ]
    },
    {
      "cell_type": "code",
      "source": [
        "# 산술 연산자\n",
        "\n",
        "a = 20\n",
        "\n",
        "result = a + 10\n",
        "print(f'덧셈 결과 : a + 10 = {result}')\n",
        "\n",
        "resutl = a - 10\n",
        "print(f'뺄셈 결과 : a - 10 = {result}')\n",
        "\n",
        "result = a * 10\n",
        "print(f'곱셈 결과 : a * 10 = {result}')\n",
        "\n",
        "result = a / 3\n",
        "print(f'나눗셈 결과 : a / 3 = {result}')\n",
        "\n",
        "result = a // 3\n",
        "print(f'몫의 연산자 : 10 // 3 = {result}')\n",
        "\n",
        "result = a % 3\n",
        "print(f'나머지 연산자 : 10 % 3 = {result}')"
      ],
      "metadata": {
        "colab": {
          "base_uri": "https://localhost:8080/"
        },
        "id": "AdIT6tGyHZeG",
        "outputId": "46488af4-b56e-4c3d-d6dd-d915e115262c"
      },
      "execution_count": 11,
      "outputs": [
        {
          "output_type": "stream",
          "name": "stdout",
          "text": [
            "덧셈 결과 : a + 10 = 30\n",
            "뺄셈 결과 : a - 10 = 30\n",
            "곱셈 결과 : a * 10 = 200\n",
            "나눗셈 결과 : a / 3 = 6.666666666666667\n",
            "몫의 연산자 : 10 // 3 = 6\n",
            "나머지 연산자 : 10 % 3 = 2\n"
          ]
        }
      ]
    },
    {
      "cell_type": "code",
      "source": [
        "# 비교 연산자\n",
        "\n",
        "result = 10\n",
        "\n",
        "isTrue = result == 10\n",
        "print(f'result == 10 의 결과 : {isTrue}')\n",
        "\n",
        "isTrue = result > 10\n",
        "print(f'result > 10 의 결과 : {isTrue}')\n",
        "\n",
        "isTrue = result < 10\n",
        "print(f'result < 10 의 결과 : {isTrue}')\n",
        "\n",
        "isTrue = result >= 10\n",
        "print(f'result >= 10 의 결과 : {isTrue}')\n",
        "\n",
        "isTrue = result <= 10\n",
        "print(f'result <= 10 의 결과 : {isTrue}')\n",
        "\n",
        "isTrue = result != 10\n",
        "print(f'result != 10 의 결과 : {isTrue}')"
      ],
      "metadata": {
        "colab": {
          "base_uri": "https://localhost:8080/"
        },
        "id": "IDlOvXykKGxj",
        "outputId": "6be76f3d-c93c-47cc-97bb-040469394499"
      },
      "execution_count": 14,
      "outputs": [
        {
          "output_type": "stream",
          "name": "stdout",
          "text": [
            "result == 10 의 결과 : True\n",
            "result > 10 의 결과 : False\n",
            "result < 10 의 결과 : False\n",
            "result >= 10 의 결과 : True\n",
            "result <= 10 의 결과 : True\n",
            "result != 10 의 결과 : False\n"
          ]
        }
      ]
    },
    {
      "cell_type": "code",
      "source": [
        "result = 10\n",
        "print(f'result 변수의 값 : {result}')\n",
        "\n",
        "result += 10\n",
        "print(f'result += 10 실행 후 결과 : {result}')\n",
        "\n",
        "result -= 10\n",
        "print(f'result -= 10 실행 후 결과 : {result}')\n",
        "\n",
        "result *= 10\n",
        "print(f'result *= 10 실행 후 결과 : {result}')\n",
        "\n",
        "result //= 10\n",
        "print(f'result //= 10 실행 후 결과 : {result}')\n",
        "\n",
        "result %= 10\n",
        "print(f'result %= 10 실행 후 결과 : {result}')"
      ],
      "metadata": {
        "colab": {
          "base_uri": "https://localhost:8080/"
        },
        "id": "GYE-LvMWQf4Z",
        "outputId": "204caf5f-4345-464d-e49b-757966266cae"
      },
      "execution_count": 17,
      "outputs": [
        {
          "output_type": "stream",
          "name": "stdout",
          "text": [
            "result 변수의 값 : 10\n",
            "result += 10 실행 후 결과 : 20\n",
            "result -= 10 실행 후 결과 : 10\n",
            "result *= 10 실행 후 결과 : 100\n",
            "result //= 10 실행 후 결과 : 10\n",
            "result %= 10 실행 후 결과 : 0\n"
          ]
        }
      ]
    },
    {
      "cell_type": "code",
      "source": [
        "# 논리 연산자\n",
        "\n",
        "isTrue = True and True\n",
        "print(f'True and True 의 결과 : {isTrue}')\n",
        "\n",
        "isTrue = True and False\n",
        "print(f'True and False 의 결과 : {isTrue}')\n",
        "\n",
        "isTrue = False and True\n",
        "print(f'False and True 의 결과 : {isTrue}')\n",
        "\n",
        "isTrue = False and False\n",
        "print(f'False and False 의 결과 : {isTrue}')\n",
        "\n",
        "print('{:-^40}'.format('OR'))\n",
        "\n",
        "isTrue = True or True\n",
        "print(f'True or True : {isTrue}')\n",
        "\n",
        "isTrue = True or False\n",
        "print(f'True or False : {isTrue}')\n",
        "\n",
        "isTrue = False or True\n",
        "print(f'False or True : {isTrue}')\n",
        "\n",
        "isTrue = False or False\n",
        "print(f'False or False : {isTrue}')"
      ],
      "metadata": {
        "colab": {
          "base_uri": "https://localhost:8080/"
        },
        "id": "RVd3h44wRNIQ",
        "outputId": "424a3eec-df78-4f87-999e-4a9ce92057e1"
      },
      "execution_count": 23,
      "outputs": [
        {
          "output_type": "stream",
          "name": "stdout",
          "text": [
            "True and True 의 결과 : True\n",
            "True and False 의 결과 : False\n",
            "False and True 의 결과 : False\n",
            "False and False 의 결과 : False\n",
            "-------------------OR-------------------\n",
            "True or True : True\n",
            "True or False : True\n",
            "False or True : True\n",
            "False or False : False\n"
          ]
        }
      ]
    },
    {
      "cell_type": "code",
      "source": [
        "# 삼항 연산자\n",
        "\n",
        "num = 120\n",
        "result = \"100 보다 크다\" if num > 100 else \"100 이하이다.\"\n",
        "print(result)\n",
        "\n",
        "# 삼항 연산자에서 즉시 출력\n",
        "print('True 입니다.') if False else print('False 입니다.')\n",
        "print('True 입니다.') if True else print('False 입니다.')"
      ],
      "metadata": {
        "colab": {
          "base_uri": "https://localhost:8080/"
        },
        "id": "8vkgD0GaTDUI",
        "outputId": "5ae8c5ec-9f6c-421b-e583-65d7ce3515a3"
      },
      "execution_count": 25,
      "outputs": [
        {
          "output_type": "stream",
          "name": "stdout",
          "text": [
            "100 보다 크다\n",
            "False 입니다.\n",
            "True 입니다.\n"
          ]
        }
      ]
    },
    {
      "cell_type": "code",
      "source": [
        "# if문 예제\n",
        "\n",
        "import sys\n",
        "\n",
        "name = input('성명 입력 : ')\n",
        "\n",
        "if len(name) == 0 :\n",
        "  print('성명을 입력 하지 않았습니다 !')\n",
        "  sys.exit()\n",
        "\n",
        "print(f'당신의 이름은 {name}이고 {len(name)}글자 입니다.')"
      ],
      "metadata": {
        "colab": {
          "base_uri": "https://localhost:8080/"
        },
        "id": "DAN8iy24Tx6d",
        "outputId": "30cced16-884f-4a1f-eb1c-f55383fab138"
      },
      "execution_count": 28,
      "outputs": [
        {
          "output_type": "stream",
          "name": "stdout",
          "text": [
            "성명 입력 : 마루집사\n",
            "당신의 이름은 마루집사이고 4글자 입니다.\n"
          ]
        }
      ]
    },
    {
      "cell_type": "code",
      "source": [
        "# if ~ else 문\n",
        "\n",
        "num = int(input('정수 입력 : '))\n",
        "\n",
        "print('결과 => ', end='')\n",
        "\n",
        "if num%2 == 0 :\n",
        "  print('짝수 입니다.')\n",
        "else :\n",
        "  print('홀수 입니다.')"
      ],
      "metadata": {
        "colab": {
          "base_uri": "https://localhost:8080/"
        },
        "id": "FEI09XWzUOKQ",
        "outputId": "05c56772-54f4-4453-b0a7-c4797072e134"
      },
      "execution_count": 29,
      "outputs": [
        {
          "output_type": "stream",
          "name": "stdout",
          "text": [
            "정수 입력 : 22\n",
            "결과 => 짝수 입니다.\n"
          ]
        }
      ]
    },
    {
      "cell_type": "code",
      "source": [
        "# if 문을 이용해서 유효성 검사\n",
        "\n",
        "name = input('이름을 입력하세요 : ')\n",
        "\n",
        "if len(name) == 0 :\n",
        "  print('Error : 성명을 입력하지 않았습니다.')\n",
        "else :\n",
        "  age = int(input('나이를 입력하세요 : '))\n",
        "  print(f'당신의 이름은 {name}이고, {age}세 입니다.')\n",
        "  print(f'당신은 10년 후에 {age + 10}세 입니다.')\n",
        "\n",
        "print('프로그램 종료')"
      ],
      "metadata": {
        "colab": {
          "base_uri": "https://localhost:8080/"
        },
        "id": "tb0cmCLZUl91",
        "outputId": "ba9b7dfc-c4c5-4031-bdc9-bb745229c0d3"
      },
      "execution_count": 30,
      "outputs": [
        {
          "output_type": "stream",
          "name": "stdout",
          "text": [
            "이름을 입력하세요 : 마루집사\n",
            "나이를 입력하세요 : 28\n",
            "당신의 이름은 마루집사이고, 28세 입니다.\n",
            "당신은 10년 후에 38세 입니다.\n",
            "프로그램 종료\n"
          ]
        }
      ]
    },
    {
      "cell_type": "code",
      "source": [
        "# if ~ else문을 이용하여 데이터 값 구분\n",
        "\n",
        "integer = int(input('정수를 입력 하세요 : '))\n",
        "\n",
        "print(integer,':', end='')\n",
        "\n",
        "if integer == 0 :\n",
        "  print('\\'0\\, 입니다.')\n",
        "if integer == 5 :\n",
        "  print(\"\\'5\\' 입니다.\")\n",
        "elif integer%3==0 :\n",
        "  print('\\'3의 배수\\' 입니다.')\n",
        "else :\n",
        "  print('3의 배수가 아닙니다.')"
      ],
      "metadata": {
        "colab": {
          "base_uri": "https://localhost:8080/"
        },
        "id": "TrBkyEfxVQ6O",
        "outputId": "537a0f1e-156f-485d-abc7-3886d17abe9c"
      },
      "execution_count": 31,
      "outputs": [
        {
          "output_type": "stream",
          "name": "stdout",
          "text": [
            "정수를 입력 하세요 : 30\n",
            "30 :'3의 배수' 입니다.\n"
          ]
        }
      ]
    },
    {
      "cell_type": "code",
      "source": [
        "# 다중 if 문\n",
        "\n",
        "score = int(input('성적 입력 : '))\n",
        "grade = 'F'\n",
        "\n",
        "if score >= 90 :\n",
        "  grade = 'A'\n",
        "elif score >= 80 :\n",
        "  grade = 'B'\n",
        "elif score >= 70 :\n",
        "  grade = 'C'\n",
        "elif score > 60 :\n",
        "  grade = 'D'\n",
        "else :\n",
        "  grade = 'F'\n",
        "\n",
        "print(f'{score}점은 {grade}학점 입니다.')"
      ],
      "metadata": {
        "colab": {
          "base_uri": "https://localhost:8080/"
        },
        "id": "r_eFdjh1XgXu",
        "outputId": "a9d8235a-4b5e-41dd-c7b9-e42fb93814ff"
      },
      "execution_count": 32,
      "outputs": [
        {
          "output_type": "stream",
          "name": "stdout",
          "text": [
            "성적 입력 : 98\n",
            "98점은 A학점 입니다.\n"
          ]
        }
      ]
    },
    {
      "cell_type": "code",
      "source": [
        "# 중첩 if문 예제\n",
        "\n",
        "score = int(input('성적 입력 : '))\n",
        "grade = 'F'\n",
        "\n",
        "if score < 0 or score > 100 :\n",
        "  print('Error !')\n",
        "else :\n",
        "  if score >= 90 :\n",
        "    grade = 'A'\n",
        "  elif score >= 80 :\n",
        "    grade = 'B'\n",
        "  elif score >= 70 :\n",
        "    grade = 'C'\n",
        "  elif score > 60 :\n",
        "    grade = 'D'\n",
        "  else :\n",
        "    grade = 'F'\n",
        "\n",
        "  print(f'{score}점은 {grade}학점 입니다.')"
      ],
      "metadata": {
        "colab": {
          "base_uri": "https://localhost:8080/"
        },
        "id": "4-wAK3BlYTPv",
        "outputId": "552f5500-481f-43b3-b643-a3d18c078812"
      },
      "execution_count": 33,
      "outputs": [
        {
          "output_type": "stream",
          "name": "stdout",
          "text": [
            "성적 입력 : 76\n",
            "76점은 C학점 입니다.\n"
          ]
        }
      ]
    },
    {
      "cell_type": "code",
      "source": [
        "# while 반복문과 if 조건문 예제\n",
        "\n",
        "grade = 'F'\n",
        "score = int(input('성적을 입력하세요 : '))\n",
        "\n",
        "\n",
        "while not(score in range(0,101)) :\n",
        "  print('Error !')\n",
        "  score = int(input('성적을 다시 입력하세요 : '))\n",
        "\n",
        "if score >= 90 :\n",
        "  grade = 'A'\n",
        "elif score >= 80 :\n",
        "  grade = 'B'\n",
        "elif score >= 70 :\n",
        "  grade = 'C'\n",
        "elif score > 60 :\n",
        "  grade = 'D'\n",
        "\n",
        "num = score % 10\n",
        "if num > 7 :\n",
        "  grade = str(grade) +'+'\n",
        "elif num < 3 :\n",
        "  grade = str(grade) + '-'\n",
        "\n",
        "print(f'{score}점은 {grade}학점 입니다.')"
      ],
      "metadata": {
        "colab": {
          "base_uri": "https://localhost:8080/"
        },
        "id": "GkZ2deonYwYh",
        "outputId": "a1f37fa5-e16d-41db-f0c8-d8cec3ad586a"
      },
      "execution_count": 37,
      "outputs": [
        {
          "output_type": "stream",
          "name": "stdout",
          "text": [
            "성적을 입력하세요 : 99\n",
            "99점은 A+학점 입니다.\n"
          ]
        }
      ]
    },
    {
      "cell_type": "code",
      "source": [
        "# if 문에서 in 연산자 활용\n",
        "\n",
        "countryList = ['유럽','필리핀','대만','캐나다','호주','미국','베트남']\n",
        "journey = input('가고 싶은 여행지 입력 : ')\n",
        "\n",
        "if journey in countryList :\n",
        "  print(f'{journey}은(는) 여행 가능한 여행지에 있습니다.')\n",
        "else :\n",
        "  print(f'{journey}은(는) 여행 가능한 여행지에 없습니다.')"
      ],
      "metadata": {
        "colab": {
          "base_uri": "https://localhost:8080/"
        },
        "id": "u7EqOnYvfjvQ",
        "outputId": "99658929-b809-4e13-a881-c3c951253992"
      },
      "execution_count": 4,
      "outputs": [
        {
          "output_type": "stream",
          "name": "stdout",
          "text": [
            "가고 싶은 여행지 입력 : 베트남\n",
            "베트남은(는) 여행 가능한 여행지에 있습니다.\n"
          ]
        }
      ]
    },
    {
      "cell_type": "code",
      "source": [
        "# while not 조건문 예제\n",
        "\n",
        "countryList = ['유럽','필리핀','대만','캐나다','호주','미국','베트남']\n",
        "journey = input('가고 싶은 여행지 입력 : ')\n",
        "\n",
        "while not(journey in countryList) :\n",
        "  print(f'{journey}은(는) 여행 가능한 여행지에 없습니다.')\n",
        "  journey = input('가고 싶은 여행지를 다시 입력 : ')\n",
        "\n",
        "print(f'{journey}은(는) 여행 가능한 여행지에 있습니다.')"
      ],
      "metadata": {
        "colab": {
          "base_uri": "https://localhost:8080/"
        },
        "id": "xkr7R5FHgNvd",
        "outputId": "118e394c-4369-4aea-8f99-a49d81e489b5"
      },
      "execution_count": 5,
      "outputs": [
        {
          "output_type": "stream",
          "name": "stdout",
          "text": [
            "가고 싶은 여행지 입력 : 일본\n",
            "일본은(는) 여행 가능한 여행지에 없습니다.\n",
            "가고 싶은 여행지를 다시 입력 : 호주\n",
            "호주은(는) 여행 가능한 여행지에 있습니다.\n"
          ]
        }
      ]
    },
    {
      "cell_type": "code",
      "source": [
        "# if else 문 응용 예제\n",
        "\n",
        "while True :\n",
        "  print('1.입력 2.출력 3.검색 4.수정 5.삭제 6.종료')\n",
        "  no = int(input('선택 : '))\n",
        "  if no == 1 :\n",
        "    print('{:-^50}'.format(' 입력가능 '))\n",
        "  elif no == 2 :\n",
        "    print('{:-^50}'.format(' 출력가능 '))\n",
        "  elif no == 3 :\n",
        "    print('{:-^50}'.format(' 검색가능 '))\n",
        "  elif no == 4 :\n",
        "    print('{:-^50}'.format(' 수정가능 '))\n",
        "  elif no == 5 :\n",
        "    print('{:-^50}'.format(' 삭제가능 '))\n",
        "  elif no == 6 :\n",
        "    print('{:-^50}'.format(' 종료 '))\n",
        "    break\n",
        "  else :\n",
        "    print('{:-^50}'.format(' 선택 사항 없음 '))\n",
        "    print()\n",
        "\n",
        "print('다음 기회에 만나요~')"
      ],
      "metadata": {
        "colab": {
          "base_uri": "https://localhost:8080/"
        },
        "id": "2T_qEpsggptw",
        "outputId": "2a80be7e-5c04-4f68-b9e7-84f54f36cb8b"
      },
      "execution_count": 8,
      "outputs": [
        {
          "output_type": "stream",
          "name": "stdout",
          "text": [
            "1.입력 2.출력 3.검색 4.수정 5.삭제 6.종료\n",
            "선택 : 2\n",
            "---------------------- 출력가능 ----------------------\n",
            "1.입력 2.출력 3.검색 4.수정 5.삭제 6.종료\n",
            "선택 : 4\n",
            "---------------------- 수정가능 ----------------------\n",
            "1.입력 2.출력 3.검색 4.수정 5.삭제 6.종료\n",
            "선택 : 5\n",
            "---------------------- 삭제가능 ----------------------\n",
            "1.입력 2.출력 3.검색 4.수정 5.삭제 6.종료\n",
            "선택 : 6\n",
            "----------------------- 종료 -----------------------\n",
            "다음 기회에 만나요~\n"
          ]
        }
      ]
    },
    {
      "cell_type": "code",
      "source": [
        "print(2**16)\n",
        "print(10/3)\n",
        "print(10//3)\n",
        "print(10%3)\n",
        "print('줄바꿈 문자는 \\\\n인데 이를 \\\"개행문자\\\"라고 한다.')"
      ],
      "metadata": {
        "colab": {
          "base_uri": "https://localhost:8080/"
        },
        "id": "WAixXqfZkM_B",
        "outputId": "02f278e3-3db2-4350-f1ba-f4d6fb745551"
      },
      "execution_count": 11,
      "outputs": [
        {
          "output_type": "stream",
          "name": "stdout",
          "text": [
            "65536\n",
            "3.3333333333333335\n",
            "3\n",
            "1\n",
            "줄바꿈 문자는 \\n인데 이를 \"개행문자\"라고 한다.\n"
          ]
        }
      ]
    },
    {
      "cell_type": "code",
      "source": [
        "print('정수를 입력 하면 양수, 음수, 0을 판별합니다.')\n",
        "\n",
        "num = int(input('정수를 입력하세요. : '))\n",
        "\n",
        "if num == 0 :\n",
        "  print('0 입니다.')\n",
        "elif num > 0 :\n",
        "  print('양수 입니다.')\n",
        "elif num < 0 :\n",
        "  print('음수 입니다.')"
      ],
      "metadata": {
        "colab": {
          "base_uri": "https://localhost:8080/"
        },
        "id": "Csgv1JbAksMS",
        "outputId": "8709295c-24df-4e83-e3ff-e88233cab36b"
      },
      "execution_count": 13,
      "outputs": [
        {
          "output_type": "stream",
          "name": "stdout",
          "text": [
            "정수를 입력 하면 양수, 음수, 0을 판별합니다.\n",
            "정수를 입력하세요. : 3\n",
            "양수 입니다.\n"
          ]
        }
      ]
    },
    {
      "cell_type": "code",
      "source": [
        "name = input('성명을 입력하세요 : ')\n",
        "\n",
        "if len(name) <= 0 :\n",
        "  print('이름이 입력되지 않았습니다')\n",
        "else :\n",
        "  print(f'{name}님 안녕하세요 !')"
      ],
      "metadata": {
        "colab": {
          "base_uri": "https://localhost:8080/"
        },
        "id": "45JgqzlWlXr6",
        "outputId": "49d1e202-2117-40d8-b746-84d1f6b5506e"
      },
      "execution_count": 15,
      "outputs": [
        {
          "output_type": "stream",
          "name": "stdout",
          "text": [
            "성명을 입력하세요 : 마루집사\n",
            "마루집사님 안녕하세요 !\n"
          ]
        }
      ]
    },
    {
      "cell_type": "code",
      "source": [
        "integer = int(input('정수를 입력하세요 : '))\n",
        "print(f'{integer} : ', end='')\n",
        "\n",
        "if integer == 0 :\n",
        "  print('0 입니다')\n",
        "elif integer == 5 :\n",
        "  print('5 입니다')\n",
        "elif integer%3 == 0 :\n",
        "  print('3의 배수 입니다.')\n",
        "else :\n",
        "  print('3의 배수가 아닙니다.')"
      ],
      "metadata": {
        "colab": {
          "base_uri": "https://localhost:8080/"
        },
        "id": "l3eWNaC9l1dG",
        "outputId": "b17f9dd4-8e16-4edb-b30f-76684cd6aa2b"
      },
      "execution_count": 16,
      "outputs": [
        {
          "output_type": "stream",
          "name": "stdout",
          "text": [
            "정수를 입력하세요 : 22\n",
            "22 : 3의 배수가 아닙니다.\n"
          ]
        }
      ]
    },
    {
      "cell_type": "code",
      "source": [
        "score = int(input('성적입력 : '))\n",
        "grade = 'F'\n",
        "\n",
        "if score < 0 or score > 100 :\n",
        "  print('Error')\n",
        "else :\n",
        "  if score >= 90 :\n",
        "    grade = 'A'\n",
        "  elif score >= 80 :\n",
        "    grade = 'B'\n",
        "  elif score >= 70 :\n",
        "    grade = 'C'\n",
        "  elif score >= 60 :\n",
        "    grade = 'D'\n",
        "  else :\n",
        "    grade = 'F'\n",
        "\n",
        "  print(f'{score}점은 {grade}학점 입니다.')"
      ],
      "metadata": {
        "colab": {
          "base_uri": "https://localhost:8080/"
        },
        "id": "4Xvl95dvmaNo",
        "outputId": "b97c36a2-c56b-45c8-b13b-644f5290fdb3"
      },
      "execution_count": 20,
      "outputs": [
        {
          "output_type": "stream",
          "name": "stdout",
          "text": [
            "성적입력 : 70\n",
            "70점은 C학점 입니다.\n"
          ]
        }
      ]
    },
    {
      "cell_type": "code",
      "source": [
        "score = int(input('성적입력 : '))\n",
        "\n",
        "while not(0 < score <= 100) :\n",
        "  print('Error !')\n",
        "  score = int(input('성적을 다시 입력 하세요. : '))\n"
      ],
      "metadata": {
        "colab": {
          "base_uri": "https://localhost:8080/"
        },
        "id": "4_MgeFpWnVdB",
        "outputId": "df1f21b6-7b08-46cd-af5b-aa8e86fbfd0b"
      },
      "execution_count": 22,
      "outputs": [
        {
          "name": "stdout",
          "output_type": "stream",
          "text": [
            "성적입력 : 101\n",
            "Error !\n",
            "성적을 다시 입력 하세요. : 2\n"
          ]
        }
      ]
    },
    {
      "cell_type": "code",
      "source": [
        "money = int(input('10만원 이상의 금액 입력 : '))\n",
        "\n",
        "won_50000 = money // 50000\n",
        "won_10000 = (money % 50000) // 10000\n",
        "won_5000 = ((money % 50000) % 10000) // 5000\n",
        "won_1000 = (((money % 50000) % 10000) % 5000) // 1000\n",
        "won_500 = ((((money % 50000) % 10000) % 5000) % 1000) // 500\n",
        "won_100 = (((((money % 50000) % 10000) % 5000) % 1000) % 500) // 100\n",
        "won_50 = ((((((money % 50000) % 10000) % 5000) % 1000) % 500) % 100) // 50\n",
        "won_10 = (((((((money % 50000) % 10000) % 5000) % 1000) % 500) % 100) % 50) // 10\n",
        "won_5 = ((((((((money % 50000) % 10000) % 5000) % 1000) % 500) % 100) % 50) % 10) // 5\n",
        "won_1 = ((((((((money % 50000) % 10000) % 5000) % 1000) % 500) % 100) % 50) % 10) % 5\n",
        "\n",
        "print('{:-^30}'.format('결과'))\n",
        "print(won_50000)\n",
        "print(won_10000)\n",
        "print(won_5000)\n",
        "print(won_1000)\n",
        "print(won_500)\n",
        "print(won_100)\n",
        "print(won_50)\n",
        "print(won_10)\n",
        "print(won_5)\n",
        "print(won_1)"
      ],
      "metadata": {
        "colab": {
          "base_uri": "https://localhost:8080/"
        },
        "id": "og2nA3JLoA2W",
        "outputId": "3894fa96-58bf-42e9-dd48-f6732b4b68d8"
      },
      "execution_count": 28,
      "outputs": [
        {
          "output_type": "stream",
          "name": "stdout",
          "text": [
            "10만원 이상의 금액 입력 : 137832\n",
            "--------------결과--------------\n",
            "2\n",
            "3\n",
            "1\n",
            "2\n",
            "1\n",
            "3\n",
            "0\n",
            "3\n",
            "0\n",
            "2\n"
          ]
        }
      ]
    },
    {
      "cell_type": "code",
      "source": [
        "city = input('사는 도시 입력 : ')\n",
        "\n",
        "cities = ['대전','대구','부산','광주','울산','인천']\n",
        "\n",
        "if city in cities :\n",
        "  print(f'{city}은(는) 광역시입니다.')"
      ],
      "metadata": {
        "colab": {
          "base_uri": "https://localhost:8080/"
        },
        "id": "qRqubnuXui0U",
        "outputId": "f28ccc45-f158-4d88-d397-41d0f6e6c49e"
      },
      "execution_count": 29,
      "outputs": [
        {
          "output_type": "stream",
          "name": "stdout",
          "text": [
            "사는 도시 입력 : 광주\n",
            "광주은(는) 광역시입니다,\n"
          ]
        }
      ]
    },
    {
      "cell_type": "code",
      "source": [
        "while True:\n",
        "    word = input('검색어 입력 : ')\n",
        "\n",
        "    if word == 'stop':\n",
        "        print('프로그램을 종료합니다.')\n",
        "        break\n",
        "    elif len(word) <= 2:\n",
        "        print('검색어가 너무 짧습니다.')\n",
        "    elif len(word) >= 10:\n",
        "        print('검색어가 너무 깁니다.')\n",
        "    else:\n",
        "        print(word)\n"
      ],
      "metadata": {
        "colab": {
          "base_uri": "https://localhost:8080/"
        },
        "id": "X7m58OAJvP7o",
        "outputId": "4fcd242b-b8f7-4c05-a051-49456f98ffba"
      },
      "execution_count": 37,
      "outputs": [
        {
          "output_type": "stream",
          "name": "stdout",
          "text": [
            "검색어 입력 : 아이스크림\n",
            "아이스크림\n",
            "검색어 입력 : stop\n",
            "프로그램을 종료합니다.\n"
          ]
        }
      ]
    },
    {
      "cell_type": "code",
      "source": [],
      "metadata": {
        "id": "7f5QnkWYwqf6"
      },
      "execution_count": null,
      "outputs": []
    }
  ]
}