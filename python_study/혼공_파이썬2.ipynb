{
  "nbformat": 4,
  "nbformat_minor": 0,
  "metadata": {
    "colab": {
      "provenance": []
    },
    "kernelspec": {
      "name": "python3",
      "display_name": "Python 3"
    },
    "language_info": {
      "name": "python"
    }
  },
  "cells": [
    {
      "cell_type": "code",
      "execution_count": 1,
      "metadata": {
        "colab": {
          "base_uri": "https://localhost:8080/"
        },
        "id": "mhcO0oVAWP16",
        "outputId": "588c39d7-8d9d-482a-acff-48c4594e68ad"
      },
      "outputs": [
        {
          "output_type": "stream",
          "name": "stdout",
          "text": [
            "3.141592\n",
            "5.141592\n"
          ]
        }
      ],
      "source": [
        "# 변수 : 어떠한 값에 이름을 붙임\n",
        "\n",
        "pi = 3.141592 # 정의와 할당이 동시에\n",
        "print(pi)\n",
        "print(pi+2)"
      ]
    },
    {
      "cell_type": "code",
      "source": [
        "pi = 3.14159265\n",
        "r = 10\n",
        "\n",
        "print(f'원주율 : {pi}')\n",
        "print(f'반지름 : {r}')\n",
        "print(f'넓이 : {pi*r*r}')"
      ],
      "metadata": {
        "colab": {
          "base_uri": "https://localhost:8080/"
        },
        "id": "q3DDlrk4YR0T",
        "outputId": "002a2cf1-6da3-4d88-ed8d-52b7e09fd3ae"
      },
      "execution_count": 2,
      "outputs": [
        {
          "output_type": "stream",
          "name": "stdout",
          "text": [
            "원주율 : 3.14159265\n",
            "반지름 : 10\n",
            "넓이 : 314.159265\n"
          ]
        }
      ]
    },
    {
      "cell_type": "code",
      "source": [
        "# 복합 대입 연산자\n",
        "\n",
        "a = 1\n",
        "a += 1\n",
        "\n",
        "print(a)\n",
        "\n",
        "number = 100\n",
        "number += 10\n",
        "number += 20\n",
        "number += 30\n",
        "\n",
        "print(f'number : {number}')"
      ],
      "metadata": {
        "colab": {
          "base_uri": "https://localhost:8080/"
        },
        "id": "dFMZmywVZK-q",
        "outputId": "37d52a10-7e49-4717-fd0e-e1809157e46d"
      },
      "execution_count": 5,
      "outputs": [
        {
          "output_type": "stream",
          "name": "stdout",
          "text": [
            "2\n",
            "number : 160\n"
          ]
        }
      ]
    },
    {
      "cell_type": "code",
      "source": [
        "string = '안녕하세요'\n",
        "string += '!'\n",
        "string += '!'\n",
        "\n",
        "print(f'string : {string}')"
      ],
      "metadata": {
        "colab": {
          "base_uri": "https://localhost:8080/"
        },
        "id": "fY0rJn2OZw_7",
        "outputId": "cafafcd6-d3b8-4d1d-a295-8a1118409840"
      },
      "execution_count": 6,
      "outputs": [
        {
          "output_type": "stream",
          "name": "stdout",
          "text": [
            "string : 안녕하세요!!\n"
          ]
        }
      ]
    },
    {
      "cell_type": "code",
      "source": [
        "# input 함수\n",
        "print(input('입력해주세요 >>> '))\n",
        "\n",
        "a = input('이름을 입력해주세요: ')\n",
        "print(f'a: {a}')"
      ],
      "metadata": {
        "colab": {
          "base_uri": "https://localhost:8080/"
        },
        "id": "aEhnwHPabUhJ",
        "outputId": "83636d21-debe-4613-a473-ff49034d40bd"
      },
      "execution_count": 10,
      "outputs": [
        {
          "output_type": "stream",
          "name": "stdout",
          "text": [
            "입력해주세요 >>> hello\n",
            "hello\n",
            "이름을 입력해주세요: maru\n",
            "a: maru\n"
          ]
        }
      ]
    },
    {
      "cell_type": "code",
      "source": [
        "a = input('num1: ')\n",
        "b = input('num2: ')\n",
        "\n",
        "print(f'a + b : {a+b}')"
      ],
      "metadata": {
        "colab": {
          "base_uri": "https://localhost:8080/"
        },
        "id": "fu0Y1g1YciLY",
        "outputId": "4bcf5e59-0b55-4b65-b0e3-ac9cf8a5cf41"
      },
      "execution_count": 11,
      "outputs": [
        {
          "output_type": "stream",
          "name": "stdout",
          "text": [
            "num1: 10\n",
            "num2: 20\n",
            "a + b : 1020\n"
          ]
        }
      ]
    },
    {
      "cell_type": "code",
      "source": [
        "a = int(input('num1: '))\n",
        "b = int(input('num2: '))\n",
        "\n",
        "print(f'a + b : {a+b}')"
      ],
      "metadata": {
        "colab": {
          "base_uri": "https://localhost:8080/"
        },
        "id": "WIQWI4z5c8qW",
        "outputId": "ae84df1b-7083-4156-adf4-dab047c41f51"
      },
      "execution_count": 12,
      "outputs": [
        {
          "output_type": "stream",
          "name": "stdout",
          "text": [
            "num1: 10\n",
            "num2: 20\n",
            "a + b : 30\n"
          ]
        }
      ]
    },
    {
      "cell_type": "code",
      "source": [
        "int('hello')"
      ],
      "metadata": {
        "colab": {
          "base_uri": "https://localhost:8080/",
          "height": 146
        },
        "id": "dCJj1mABdGSw",
        "outputId": "d33bb74f-939a-40c1-c6f1-351061ef3a92"
      },
      "execution_count": 13,
      "outputs": [
        {
          "output_type": "error",
          "ename": "ValueError",
          "evalue": "invalid literal for int() with base 10: 'hello'",
          "traceback": [
            "\u001b[0;31m---------------------------------------------------------------------------\u001b[0m",
            "\u001b[0;31mValueError\u001b[0m                                Traceback (most recent call last)",
            "\u001b[0;32m/tmp/ipython-input-1136785238.py\u001b[0m in \u001b[0;36m<cell line: 0>\u001b[0;34m()\u001b[0m\n\u001b[0;32m----> 1\u001b[0;31m \u001b[0mint\u001b[0m\u001b[0;34m(\u001b[0m\u001b[0;34m'hello'\u001b[0m\u001b[0;34m)\u001b[0m\u001b[0;34m\u001b[0m\u001b[0;34m\u001b[0m\u001b[0m\n\u001b[0m",
            "\u001b[0;31mValueError\u001b[0m: invalid literal for int() with base 10: 'hello'"
          ]
        }
      ]
    },
    {
      "cell_type": "code",
      "source": [
        "num = 12\n",
        "print(type(num))\n",
        "str_num = str(num)\n",
        "print(type(str_num))"
      ],
      "metadata": {
        "colab": {
          "base_uri": "https://localhost:8080/"
        },
        "id": "xRLaW_CndTXZ",
        "outputId": "5cc04e3d-4f22-4204-d4b7-8da1a0962096"
      },
      "execution_count": 16,
      "outputs": [
        {
          "output_type": "stream",
          "name": "stdout",
          "text": [
            "<class 'int'>\n",
            "<class 'str'>\n"
          ]
        }
      ]
    },
    {
      "cell_type": "code",
      "source": [
        "# 입력 : inch 단위\n",
        "inch_a = input('inch 단이 입력 >>> ')\n",
        "\n",
        "# 처리 : inch -> cm\n",
        "cm_a = float(inch_a) * 2.54\n",
        "\n",
        "# 출력 : cm 단위\n",
        "print(f'{inch_a} inch = {cm_a} cm')"
      ],
      "metadata": {
        "colab": {
          "base_uri": "https://localhost:8080/"
        },
        "id": "5zBT_jXXd8tz",
        "outputId": "e1c69775-23fc-46bd-a271-7eaa3b45aa22"
      },
      "execution_count": 18,
      "outputs": [
        {
          "output_type": "stream",
          "name": "stdout",
          "text": [
            "inch 단이 입력 >>> 30\n",
            "30 inch = 76.2 cm\n"
          ]
        }
      ]
    },
    {
      "cell_type": "code",
      "source": [
        "str_input = input('원의 반지름 입력 >>> ')\n",
        "num_input = float(str_input)\n",
        "print()\n",
        "\n",
        "print(f'반지름: {num_input}')\n",
        "print(f'둘레: {2*3.14*num_input}')\n",
        "print(f'넓이: {num_input*num_input*3.14}')"
      ],
      "metadata": {
        "colab": {
          "base_uri": "https://localhost:8080/"
        },
        "id": "VABqeWlGfhPO",
        "outputId": "37e45872-9bb3-4bb1-e4c6-98dc8a602dfe"
      },
      "execution_count": 20,
      "outputs": [
        {
          "output_type": "stream",
          "name": "stdout",
          "text": [
            "원의 반지름 입력 >>> 10\n",
            "\n",
            "반지름: 10.0\n",
            "둘레: 62.800000000000004\n",
            "넓이: 314.0\n"
          ]
        }
      ]
    },
    {
      "cell_type": "code",
      "source": [],
      "metadata": {
        "id": "ohJgp2PogXqy"
      },
      "execution_count": null,
      "outputs": []
    }
  ]
}