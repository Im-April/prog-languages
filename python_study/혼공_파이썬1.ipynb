{
  "nbformat": 4,
  "nbformat_minor": 0,
  "metadata": {
    "colab": {
      "provenance": []
    },
    "kernelspec": {
      "name": "python3",
      "display_name": "Python 3"
    },
    "language_info": {
      "name": "python"
    }
  },
  "cells": [
    {
      "cell_type": "code",
      "execution_count": 1,
      "metadata": {
        "colab": {
          "base_uri": "https://localhost:8080/"
        },
        "id": "UK2eg1uQqJNs",
        "outputId": "038a89fc-6e40-497a-a536-64cbab4481be"
      },
      "outputs": [
        {
          "output_type": "stream",
          "name": "stdout",
          "text": [
            "Hello world\n"
          ]
        }
      ],
      "source": [
        "# 주석 입니다\n",
        "\n",
        "# Hello world 출력 코드\n",
        "print('Hello world')"
      ]
    },
    {
      "cell_type": "code",
      "source": [
        "# 하나 출력하기\n",
        "print('안녕하세요')\n",
        "print(10)\n",
        "\n",
        "# 여러 개 출력\n",
        "print(10,20,30)\n",
        "\n",
        "# 줄바꿈하기\n",
        "print()"
      ],
      "metadata": {
        "colab": {
          "base_uri": "https://localhost:8080/"
        },
        "id": "lE2p-jbk8hAn",
        "outputId": "bf00379c-5eb7-4ee6-ee9e-42e88c6c0fcf"
      },
      "execution_count": 2,
      "outputs": [
        {
          "output_type": "stream",
          "name": "stdout",
          "text": [
            "안녕하세요\n",
            "10\n",
            "10 20 30\n",
            "\n"
          ]
        }
      ]
    },
    {
      "cell_type": "code",
      "source": [
        "# 기본 코드\n",
        "\n",
        "print('# 하나만 출력합니다.')\n",
        "print('Hello Python Programming...!')\n",
        "print()\n",
        "\n",
        "print('# 여러 개를 출력합니다.')\n",
        "print(10,20,30,40)\n",
        "print('안녕하세요','여러분','파이썬을','공부합시다')\n",
        "print()\n",
        "\n",
        "print('아무것도 출력하지 않습니다')\n",
        "print('-----확인선-----')\n",
        "print()\n",
        "print()\n",
        "print('-----확인선-----')"
      ],
      "metadata": {
        "colab": {
          "base_uri": "https://localhost:8080/"
        },
        "id": "49M-XNJS8wUq",
        "outputId": "0d574c54-353a-4ebf-efd2-f687b622c3fa"
      },
      "execution_count": 3,
      "outputs": [
        {
          "output_type": "stream",
          "name": "stdout",
          "text": [
            "# 하나만 출력합니다.\n",
            "Hello Python Programming...!\n",
            "\n",
            "# 여러 개를 출력합니다.\n",
            "10 20 30 40\n",
            "안녕하세요 여러분 파이썬을 공부합시다\n",
            "\n",
            "아무것도 출력하지 않습니다\n",
            "-----확인선-----\n",
            "\n",
            "\n",
            "-----확인선-----\n"
          ]
        }
      ]
    },
    {
      "cell_type": "code",
      "source": [
        "# 자료형 확인\n",
        "# type() 함수 사용\n",
        "\n",
        "print(type('안녕하세요'))\n",
        "print(type(12))\n",
        "print(type(3.14))\n",
        "print(type(True))"
      ],
      "metadata": {
        "colab": {
          "base_uri": "https://localhost:8080/"
        },
        "id": "GbXgRicG-hQK",
        "outputId": "feef842a-6876-442c-b7fb-6db69a4be4d7"
      },
      "execution_count": 4,
      "outputs": [
        {
          "output_type": "stream",
          "name": "stdout",
          "text": [
            "<class 'str'>\n",
            "<class 'int'>\n",
            "<class 'float'>\n",
            "<class 'bool'>\n"
          ]
        }
      ]
    },
    {
      "cell_type": "code",
      "source": [
        "# 문자열 만들기 -> 큰/작은 따옴표 사용\n",
        "'안녕하세요'\n",
        "\"안녕하세요\"\n",
        "\n",
        "# 따옴표도 출력하기\n",
        "# 1. 감싸주는 따옴표를 다른걸로..\n",
        "print('\"안녕하세요\"라고 말 했습니다.')\n",
        "\n",
        "# 2. 이스케이프 문자 사용\n",
        "print('\\'안녕하세요\\'라고 말 했습니다.')\n",
        "\n",
        "# 이스케이프 문자 활요\n",
        "print('안녕\\n하세요')\n",
        "print('안녕\\t하세요')\n",
        "print('안녕\\\\하세요')\n",
        "\n",
        "print()\n",
        "# 표처럼 ...\n",
        "print('이름\\t나이\\t색상')\n",
        "print('마루\\t2\\t아이보리')\n",
        "print('석탄\\t3\\t검정')\n",
        "\n",
        "print()\n",
        "# 긴 문장\n",
        "# 여러 줄 문자열\n",
        "print('-'*50)\n",
        "print(\"\"\"\n",
        "동해물과 백두산이 마르고 닳도록\n",
        "하느님이 보우하사\n",
        "우리나라 만세.\n",
        "무궁화 삼천리 화려 강산\n",
        "대한 사람 대한으로 길이\n",
        "보전하세\n",
        "\"\"\")\n",
        "print('-'*50)\n",
        "print(\"\"\"동해물과 백두산이 마르고 닳도록\n",
        "하느님이 보우하사\n",
        "우리나라 만세.\n",
        "무궁화 삼천리 화려 강산\n",
        "대한 사람 대한으로 길이\n",
        "보전하세\"\"\")\n",
        "print('-'*50)\n",
        "print(\"\"\"\\\n",
        "동해물과 백두산이 마르고 닳도록\n",
        "하느님이 보우하사\n",
        "우리나라 만세.\n",
        "무궁화 삼천리 화려 강산\n",
        "대한 사람 대한으로 길이\n",
        "보전하세\\\n",
        "\"\"\")\n",
        "print('-'*50)\n",
        "print()\n",
        "\n",
        "print\\\n",
        "(1,2,3)"
      ],
      "metadata": {
        "colab": {
          "base_uri": "https://localhost:8080/"
        },
        "id": "q_nqWf7FADyZ",
        "outputId": "05eeac44-a07b-40bc-d372-f58d4bd3844b"
      },
      "execution_count": 19,
      "outputs": [
        {
          "output_type": "stream",
          "name": "stdout",
          "text": [
            "\"안녕하세요\"라고 말 했습니다.\n",
            "'안녕하세요'라고 말 했습니다.\n",
            "안녕\n",
            "하세요\n",
            "안녕\t하세요\n",
            "안녕\\하세요\n",
            "\n",
            "이름\t나이\t색상\n",
            "마루\t2\t아이보리\n",
            "석탄\t3\t검정\n",
            "\n",
            "--------------------------------------------------\n",
            "\n",
            "동해물과 백두산이 마르고 닳도록\n",
            "하느님이 보우하사 \n",
            "우리나라 만세. \n",
            "무궁화 삼천리 화려 강산 \n",
            "대한 사람 대한으로 길이 \n",
            "보전하세\n",
            "\n",
            "--------------------------------------------------\n",
            "동해물과 백두산이 마르고 닳도록\n",
            "하느님이 보우하사 \n",
            "우리나라 만세. \n",
            "무궁화 삼천리 화려 강산 \n",
            "대한 사람 대한으로 길이 \n",
            "보전하세\n",
            "--------------------------------------------------\n",
            "동해물과 백두산이 마르고 닳도록\n",
            "하느님이 보우하사 \n",
            "우리나라 만세. \n",
            "무궁화 삼천리 화려 강산 \n",
            "대한 사람 대한으로 길이 \n",
            "보전하세\n",
            "--------------------------------------------------\n",
            "\n",
            "1 2 3\n"
          ]
        }
      ]
    },
    {
      "cell_type": "code",
      "source": [
        "# 문자열 연산자\n",
        "\n",
        "# 문자열 연결 연산자\n",
        "print('안녕'+'하세요')\n",
        "\n",
        "# 문자열 반복 연산자\n",
        "print('안녕'*3)\n",
        "\n",
        "# 문자 선택 연산자\n",
        "# 문자열[]\n",
        "# 문자열[ : ]\n",
        "# 문자열[ : : ]\n",
        "print('안녕하세요'[0])\n",
        "print('안녕하세요'[1:3])\n",
        "print('안녕하세요'[0::2])\n",
        "print('안녕하세요'[-1])\n",
        "print('안녕하세요'[:3])\n",
        "print('안녕하세요'[1:4:2]) # 녕세\n",
        "print('0123456789'[::5])"
      ],
      "metadata": {
        "colab": {
          "base_uri": "https://localhost:8080/"
        },
        "id": "YseIIekKiWcA",
        "outputId": "a83c6cf6-29bb-47a8-8398-e0888da22e42"
      },
      "execution_count": 14,
      "outputs": [
        {
          "output_type": "stream",
          "name": "stdout",
          "text": [
            "안녕하세요\n",
            "안녕안녕안녕\n",
            "안\n",
            "녕하\n",
            "안하요\n",
            "요\n",
            "안녕하\n",
            "녕세\n",
            "05\n"
          ]
        }
      ]
    },
    {
      "cell_type": "code",
      "source": [
        "print('안녕하세요'[0]) # 안\n",
        "print('안녕하세요'[2]) # 하\n",
        "print('안녕하세요'[4]) # 요\n",
        "print('안녕하세요'[-1]) # 요\n",
        "\n",
        "print('안녕하세요'[0:1]) # 안\n",
        "print('안녕하세요'[0:2]) # 안녕\n",
        "print('안녕하세요'[2:3]) # 하\n",
        "\n",
        "print('안녕하세요'[2:]) # 하세요\n",
        "print('안녕하세요'[:]) # 안녕하세요"
      ],
      "metadata": {
        "colab": {
          "base_uri": "https://localhost:8080/"
        },
        "id": "lYIBTGYjksga",
        "outputId": "29b7feba-fc02-46a0-c7dd-6b3a34b53324"
      },
      "execution_count": 8,
      "outputs": [
        {
          "output_type": "stream",
          "name": "stdout",
          "text": [
            "안\n",
            "하\n",
            "요\n",
            "요\n",
            "안\n",
            "안녕\n",
            "하\n",
            "하세요\n",
            "안녕하세요\n"
          ]
        }
      ]
    },
    {
      "cell_type": "code",
      "source": [
        "# IndexError\n",
        "print('안녕하세요'[100])"
      ],
      "metadata": {
        "colab": {
          "base_uri": "https://localhost:8080/",
          "height": 164
        },
        "id": "r38POgbRlG2U",
        "outputId": "5c5c7fb8-5211-4692-8adb-8f4ba9ff2a87"
      },
      "execution_count": 17,
      "outputs": [
        {
          "output_type": "error",
          "ename": "IndexError",
          "evalue": "string index out of range",
          "traceback": [
            "\u001b[0;31m---------------------------------------------------------------------------\u001b[0m",
            "\u001b[0;31mIndexError\u001b[0m                                Traceback (most recent call last)",
            "\u001b[0;32m/tmp/ipython-input-487837391.py\u001b[0m in \u001b[0;36m<cell line: 0>\u001b[0;34m()\u001b[0m\n\u001b[1;32m      1\u001b[0m \u001b[0;31m# IndexError\u001b[0m\u001b[0;34m\u001b[0m\u001b[0;34m\u001b[0m\u001b[0m\n\u001b[0;32m----> 2\u001b[0;31m \u001b[0mprint\u001b[0m\u001b[0;34m(\u001b[0m\u001b[0;34m'안녕하세요'\u001b[0m\u001b[0;34m[\u001b[0m\u001b[0;36m100\u001b[0m\u001b[0;34m]\u001b[0m\u001b[0;34m)\u001b[0m\u001b[0;34m\u001b[0m\u001b[0;34m\u001b[0m\u001b[0m\n\u001b[0m",
            "\u001b[0;31mIndexError\u001b[0m: string index out of range"
          ]
        }
      ]
    },
    {
      "cell_type": "code",
      "source": [
        "print('안녕하세요'[1:100])\n",
        "\n",
        "# 슬라이싱에는 IndexError가 발생하지 않는다.\n"
      ],
      "metadata": {
        "colab": {
          "base_uri": "https://localhost:8080/"
        },
        "id": "a2I2rBuvnneb",
        "outputId": "f84a7235-eb6c-4cad-c907-db8580b84e44"
      },
      "execution_count": 24,
      "outputs": [
        {
          "output_type": "stream",
          "name": "stdout",
          "text": [
            "녕하세요\n"
          ]
        }
      ]
    },
    {
      "cell_type": "code",
      "source": [
        "# 문자열의 길이\n",
        "print(len('안녕하세요')) # 5"
      ],
      "metadata": {
        "colab": {
          "base_uri": "https://localhost:8080/"
        },
        "id": "y-OiWmyFnzrf",
        "outputId": "6bf48d62-2c3d-43f7-c9ef-975c47cdcd03"
      },
      "execution_count": 23,
      "outputs": [
        {
          "output_type": "stream",
          "name": "stdout",
          "text": [
            "5\n"
          ]
        }
      ]
    },
    {
      "cell_type": "code",
      "source": [
        "print(type(0))\n",
        "print(type(0.0))"
      ],
      "metadata": {
        "colab": {
          "base_uri": "https://localhost:8080/"
        },
        "id": "HYdcuTt3oTpa",
        "outputId": "27dbafaf-21d2-408c-b131-305df4fad3db"
      },
      "execution_count": 26,
      "outputs": [
        {
          "output_type": "stream",
          "name": "stdout",
          "text": [
            "<class 'int'>\n",
            "<class 'float'>\n"
          ]
        }
      ]
    },
    {
      "cell_type": "code",
      "source": [
        "print(10+10)\n",
        "print(10-10)\n",
        "print(10*10)\n",
        "print(10/3) # 결과가 부동소수로 나타남\n",
        "print(10%3) # 나머지\n",
        "print(10//3) # 몫 (정수 나눗셈)\n",
        "print(10**3) # 제곱"
      ],
      "metadata": {
        "colab": {
          "base_uri": "https://localhost:8080/"
        },
        "id": "q4cv3e8sp3_h",
        "outputId": "d4b07ea0-c79d-41e8-f388-fbf2fc834d87"
      },
      "execution_count": 31,
      "outputs": [
        {
          "output_type": "stream",
          "name": "stdout",
          "text": [
            "20\n",
            "0\n",
            "100\n",
            "3.3333333333333335\n",
            "1\n",
            "3\n",
            "1000\n"
          ]
        }
      ]
    },
    {
      "cell_type": "code",
      "source": [
        "# 부동소수점과 부동소수점 연산\n",
        "\n",
        "print(10.0+10.0)\n",
        "print(10.0-10.0)\n",
        "print(10.0*10.0)\n",
        "print(10.0/10.0)\n",
        "print(10.0%10.0)\n",
        "print(10.0**10.0)\n",
        "print(10.0//3.0) # 대충 설계해서 이상한 값이 나옴"
      ],
      "metadata": {
        "colab": {
          "base_uri": "https://localhost:8080/"
        },
        "id": "WL93TZogqFBf",
        "outputId": "0d439dd4-b457-43b7-f539-4ea9ecf836f7"
      },
      "execution_count": 32,
      "outputs": [
        {
          "output_type": "stream",
          "name": "stdout",
          "text": [
            "20.0\n",
            "0.0\n",
            "100.0\n",
            "1.0\n",
            "0.0\n",
            "10000000000.0\n",
            "3.0\n"
          ]
        }
      ]
    },
    {
      "cell_type": "code",
      "source": [
        "print('안녕'+4)"
      ],
      "metadata": {
        "colab": {
          "base_uri": "https://localhost:8080/",
          "height": 146
        },
        "id": "dl8RR7lvrlLc",
        "outputId": "4c5436c7-fd70-4d21-e733-bd914747ece1"
      },
      "execution_count": 33,
      "outputs": [
        {
          "output_type": "error",
          "ename": "TypeError",
          "evalue": "can only concatenate str (not \"int\") to str",
          "traceback": [
            "\u001b[0;31m---------------------------------------------------------------------------\u001b[0m",
            "\u001b[0;31mTypeError\u001b[0m                                 Traceback (most recent call last)",
            "\u001b[0;32m/tmp/ipython-input-3515673204.py\u001b[0m in \u001b[0;36m<cell line: 0>\u001b[0;34m()\u001b[0m\n\u001b[0;32m----> 1\u001b[0;31m \u001b[0mprint\u001b[0m\u001b[0;34m(\u001b[0m\u001b[0;34m'안녕'\u001b[0m\u001b[0;34m+\u001b[0m\u001b[0;36m4\u001b[0m\u001b[0;34m)\u001b[0m\u001b[0;34m\u001b[0m\u001b[0;34m\u001b[0m\u001b[0m\n\u001b[0m",
            "\u001b[0;31mTypeError\u001b[0m: can only concatenate str (not \"int\") to str"
          ]
        }
      ]
    }
  ]
}