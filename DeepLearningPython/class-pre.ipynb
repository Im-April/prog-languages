{
 "cells": [
  {
   "cell_type": "code",
   "execution_count": 1,
   "id": "b45812c0",
   "metadata": {},
   "outputs": [
    {
     "name": "stdout",
     "output_type": "stream",
     "text": [
      "<__main__.car object at 0x0000018DEAC1BB60>\n"
     ]
    }
   ],
   "source": [
    "# 기본\n",
    "\n",
    "class car :\n",
    "    pass # 아무것도 안 하는 빈 클래스\n",
    "\n",
    "my_car = car()\n",
    "print(my_car)"
   ]
  },
  {
   "cell_type": "code",
   "execution_count": 3,
   "id": "2ee5e0b8",
   "metadata": {},
   "outputs": [
    {
     "name": "stdout",
     "output_type": "stream",
     "text": [
      "현대\n",
      "아반떼\n",
      "0\n"
     ]
    }
   ],
   "source": [
    "# 속성 추가\n",
    "\n",
    "class car :\n",
    "    def __init__(self, brand, model) :\n",
    "        self.brand = brand\n",
    "        self.model = model\n",
    "        self.speed = 0\n",
    "\n",
    "my_car = car('현대', '아반떼')\n",
    "print(my_car.brand)\n",
    "print(my_car.model)\n",
    "print(my_car.speed)"
   ]
  },
  {
   "cell_type": "code",
   "execution_count": 4,
   "id": "776a8a1d",
   "metadata": {},
   "outputs": [
    {
     "name": "stdout",
     "output_type": "stream",
     "text": [
      "속도가 50km/h로 증가\n",
      "속도가 70km/h로 증가\n",
      "현대 아반떼, 현재 속도 : 70km/h\n",
      "차가 멈췄습니다\n"
     ]
    }
   ],
   "source": [
    "# 메서드 추가하기\n",
    "\n",
    "class car :\n",
    "    def __init__(self, brand, model) :\n",
    "        self.brand = brand\n",
    "        self.model = model\n",
    "        self.speed = 0\n",
    "\n",
    "    def accelerate(self, amount) :\n",
    "        self.speed += amount\n",
    "        print(f'속도가 {self.speed}km/h로 증가')\n",
    "\n",
    "    def brake(self):\n",
    "        self.speed = 0\n",
    "        print(\"차가 멈췄습니다\")\n",
    "\n",
    "    def get_info(self):\n",
    "        return f'{self.brand} {self.model}, 현재 속도 : {self.speed}km/h'\n",
    "    \n",
    "my_car = car('현대','아반떼')\n",
    "my_car.accelerate(50)    # 속도가 50km/h로 증가했습니다\n",
    "my_car.accelerate(20)    # 속도가 70km/h로 증가했습니다\n",
    "print(my_car.get_info())\n",
    "my_car.brake()"
   ]
  },
  {
   "cell_type": "code",
   "execution_count": 5,
   "id": "b8e54dd4",
   "metadata": {},
   "outputs": [
    {
     "name": "stdout",
     "output_type": "stream",
     "text": [
      "2\n",
      "2\n",
      "2\n"
     ]
    }
   ],
   "source": [
    "# 클래스 변수 vs 인스턴스 변수\n",
    "\n",
    "class car :\n",
    "    # 클래스 변수 (모든 객체가 공유)\n",
    "    total_cars = 0\n",
    "\n",
    "    def __init__(self, brand, model):\n",
    "        self.brand = brand\n",
    "        self.model = model\n",
    "        car.total_cars += 1 # 클래스 변수 증가\n",
    "\n",
    "    @classmethod\n",
    "    def get_total_cars(cls):\n",
    "        return cls.total_cars\n",
    "    \n",
    "\n",
    "car1 = car(\"현대\", \"아반떼\")\n",
    "car2 = car(\"기아\", \"K5\")\n",
    "\n",
    "print(car.get_total_cars())  # 2\n",
    "print(car1.total_cars)       # 2\n",
    "print(car2.total_cars)       # 2"
   ]
  },
  {
   "cell_type": "code",
   "execution_count": 7,
   "id": "62a9953e",
   "metadata": {},
   "outputs": [
    {
     "name": "stdout",
     "output_type": "stream",
     "text": [
      "현대 아반떼이 시동을 걸었습니다\n",
      "빵빵\n",
      "야마하 R1이 시동을 걸었습니다\n",
      "앞바퀴 들기\n"
     ]
    }
   ],
   "source": [
    "# 상속\n",
    "\n",
    "class vehicle : # 부모 클래스\n",
    "    def __init__(self, brand, model) :\n",
    "        self.brand = brand\n",
    "        self.model = model\n",
    "\n",
    "    def start(self) :\n",
    "        print(f\"{self.brand} {self.model}이 시동을 걸었습니다\")\n",
    "\n",
    "class car(vehicle) : # 자식 클래스\n",
    "    def __init__(self, brand, model, doors):\n",
    "        super().__init__(brand, model) # 부모 클래스의 __init__ 호출\n",
    "        self.doors = doors\n",
    "\n",
    "    def honk(self) :\n",
    "        print('빵빵')\n",
    "\n",
    "class motorcycle(vehicle) : # 또 다른 자식 \n",
    "    def __init__(self, brand, model, engine_cc):\n",
    "        super().__init__(brand, model)\n",
    "        self.engine_cc = engine_cc\n",
    "\n",
    "    def wheelie(self) :\n",
    "        print('앞바퀴 들기')\n",
    "\n",
    "car = car(\"현대\", \"아반떼\", 4)\n",
    "bike = motorcycle(\"야마하\", \"R1\", 1000)\n",
    "\n",
    "car.start()\n",
    "car.honk()\n",
    "\n",
    "bike.start()   # 야마하 R1이 시동을 걸었습니다\n",
    "bike.wheelie() # 앞바퀴 들기!"
   ]
  },
  {
   "cell_type": "markdown",
   "id": "800d8e5a",
   "metadata": {},
   "source": [
    "### ✅ 캡슐화란?\n",
    "- 객체 내부의 데이터(변수)나 구현 세부사항을 감추고,\n",
    "외부에서는 정해진 방식으로만 접근하게 만드는 것\n",
    "\n",
    "\n",
    "#### 🔒 왜 캡슐화가 중요할까?\n",
    "- 데이터를 함부로 수정하거나 깨트리지 못하게 보호\n",
    "- 복잡한 내부 구조는 숨기고, 필요한 정보만 안전하게 메서드로 공개\n",
    "\n",
    "### ✅ 캡슐화를 위한 방법: __변수명 (비공개)\n",
    "```python\n",
    "self.__balance = balance\n",
    "```\n",
    "- 언더바 2개 __를 붙이면 외부에서 직접 접근이 불가능"
   ]
  },
  {
   "cell_type": "code",
   "execution_count": 10,
   "id": "10fd3a26",
   "metadata": {},
   "outputs": [
    {
     "name": "stdout",
     "output_type": "stream",
     "text": [
      "5000원이 입금되었습니다\n",
      "3000원이 출금되었습니다\n",
      "12000\n"
     ]
    }
   ],
   "source": [
    "# 캡슐화\n",
    "\n",
    "class BankAccount :\n",
    "    def __init__(self, owner, balance=0) :\n",
    "        self.owner = owner\n",
    "        self.__balance = balance # 비공개 속성 (캡슐화)\n",
    "\n",
    "    def deposit(self, amount) :\n",
    "        if amount > 0 :\n",
    "            self.__balance += amount\n",
    "            print(f'{amount}원이 입금되었습니다')\n",
    "        else :\n",
    "            print('양수만 입금 가능합니다')\n",
    "\n",
    "    def withdraw(self, amount):\n",
    "        if 0 < amount <= self.__balance:\n",
    "            self.__balance -= amount\n",
    "            print(f\"{amount}원이 출금되었습니다\")\n",
    "        else:\n",
    "            print(\"잔액이 부족하거나 잘못된 금액입니다\")\n",
    "\n",
    "    def get_balance(self) :\n",
    "        return self.__balance\n",
    "    \n",
    "account = BankAccount(\"홍길동\", 10000)\n",
    "account.deposit(5000)     # 5000원이 입금되었습니다\n",
    "account.withdraw(3000)    # 3000원이 출금되었습니다\n",
    "print(account.get_balance())  # 12000\n",
    "\n",
    "# print(account.__balance)  # 오류! 직접 접근 불가"
   ]
  }
 ],
 "metadata": {
  "kernelspec": {
   "display_name": "Python 3",
   "language": "python",
   "name": "python3"
  },
  "language_info": {
   "codemirror_mode": {
    "name": "ipython",
    "version": 3
   },
   "file_extension": ".py",
   "mimetype": "text/x-python",
   "name": "python",
   "nbconvert_exporter": "python",
   "pygments_lexer": "ipython3",
   "version": "3.13.1"
  }
 },
 "nbformat": 4,
 "nbformat_minor": 5
}
