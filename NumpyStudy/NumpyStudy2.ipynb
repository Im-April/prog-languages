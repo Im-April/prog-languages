{
  "nbformat": 4,
  "nbformat_minor": 0,
  "metadata": {
    "colab": {
      "provenance": []
    },
    "kernelspec": {
      "name": "python3",
      "display_name": "Python 3"
    },
    "language_info": {
      "name": "python"
    }
  },
  "cells": [
    {
      "cell_type": "markdown",
      "source": [
        "## 배열 조회"
      ],
      "metadata": {
        "id": "8pKAvBigAfYd"
      }
    },
    {
      "cell_type": "code",
      "execution_count": 1,
      "metadata": {
        "id": "qss_AgA1-xU3"
      },
      "outputs": [],
      "source": [
        "def array_info(array) :\n",
        "  print(array)\n",
        "  print(\"ndim : \", array.ndim)\n",
        "  print(\"shape : \", array.shape)\n",
        "  print(\"dtype : \", array.dtype)\n",
        "  print(\"size : \", array.size )\n",
        "  print(\"itemsize : \", array.itemsize)\n",
        "  print(\"nbytes : \", array.nbytes)\n",
        "  print(\"strides : \", array.strides)"
      ]
    },
    {
      "cell_type": "code",
      "source": [
        "import numpy as np\n",
        "\n",
        "a1 = np.array([1,2,3,4,5])\n",
        "\n",
        "array_info(a1)"
      ],
      "metadata": {
        "id": "sD_4deKAEnhf",
        "colab": {
          "base_uri": "https://localhost:8080/"
        },
        "outputId": "f799fff5-7ba8-4a83-d00f-31d1efc2698d"
      },
      "execution_count": 2,
      "outputs": [
        {
          "output_type": "stream",
          "name": "stdout",
          "text": [
            "[1 2 3 4 5]\n",
            "ndim :  1\n",
            "shape :  (5,)\n",
            "dtype :  int64\n",
            "size :  5\n",
            "itemsize :  8\n",
            "nbytes :  40\n",
            "strides :  (8,)\n"
          ]
        }
      ]
    },
    {
      "cell_type": "code",
      "source": [
        "a2 = np.array([[1,2,3],[4,5,6],[7,8,9]])\n",
        "\n",
        "array_info(a2)"
      ],
      "metadata": {
        "colab": {
          "base_uri": "https://localhost:8080/"
        },
        "id": "qGCWTUIYu_QU",
        "outputId": "3de82a21-a6e3-4c33-8f0d-3f2d3f140974"
      },
      "execution_count": 3,
      "outputs": [
        {
          "output_type": "stream",
          "name": "stdout",
          "text": [
            "[[1 2 3]\n",
            " [4 5 6]\n",
            " [7 8 9]]\n",
            "ndim :  2\n",
            "shape :  (3, 3)\n",
            "dtype :  int64\n",
            "size :  9\n",
            "itemsize :  8\n",
            "nbytes :  72\n",
            "strides :  (24, 8)\n"
          ]
        }
      ]
    },
    {
      "cell_type": "code",
      "source": [
        "a3 = np.array([[[1,2,3],[4,5,6],[7,8,9]],[[1,2,3],[4,5,6],[7,8,9]]])\n",
        "\n",
        "array_info(a3)"
      ],
      "metadata": {
        "colab": {
          "base_uri": "https://localhost:8080/"
        },
        "id": "W0Ga_yUqvJ_6",
        "outputId": "85b8844f-dcaa-4fce-8077-3ae1495b9e57"
      },
      "execution_count": 4,
      "outputs": [
        {
          "output_type": "stream",
          "name": "stdout",
          "text": [
            "[[[1 2 3]\n",
            "  [4 5 6]\n",
            "  [7 8 9]]\n",
            "\n",
            " [[1 2 3]\n",
            "  [4 5 6]\n",
            "  [7 8 9]]]\n",
            "ndim :  3\n",
            "shape :  (2, 3, 3)\n",
            "dtype :  int64\n",
            "size :  18\n",
            "itemsize :  8\n",
            "nbytes :  144\n",
            "strides :  (72, 24, 8)\n"
          ]
        }
      ]
    },
    {
      "cell_type": "markdown",
      "source": [
        "## 인덱싱"
      ],
      "metadata": {
        "id": "0AEqamh9v34W"
      }
    },
    {
      "cell_type": "code",
      "source": [
        "print(a1)\n",
        "print(a1[0])\n",
        "print(a1[1])\n",
        "print(a1[-1])"
      ],
      "metadata": {
        "colab": {
          "base_uri": "https://localhost:8080/"
        },
        "id": "GoIDgMRDvlMw",
        "outputId": "d8239f8a-fbf2-411c-cc6c-17e4f9ebf702"
      },
      "execution_count": 5,
      "outputs": [
        {
          "output_type": "stream",
          "name": "stdout",
          "text": [
            "[1 2 3 4 5]\n",
            "1\n",
            "2\n",
            "5\n"
          ]
        }
      ]
    },
    {
      "cell_type": "code",
      "source": [
        "print(a2)\n",
        "print(a2[0,0])\n",
        "print(a2[0,2])\n",
        "print(a2[1,1])\n",
        "print(a2[2,-1])"
      ],
      "metadata": {
        "colab": {
          "base_uri": "https://localhost:8080/"
        },
        "id": "SA6CQQDDwAIi",
        "outputId": "509b199d-4d20-4496-eb0f-6dfc7c69fc83"
      },
      "execution_count": 6,
      "outputs": [
        {
          "output_type": "stream",
          "name": "stdout",
          "text": [
            "[[1 2 3]\n",
            " [4 5 6]\n",
            " [7 8 9]]\n",
            "1\n",
            "3\n",
            "5\n",
            "9\n"
          ]
        }
      ]
    },
    {
      "cell_type": "code",
      "source": [
        "print(a3)\n",
        "print(a3[0,0,0])\n",
        "print(a3[1,1,1])\n",
        "print(a3[1,-1,-1])"
      ],
      "metadata": {
        "colab": {
          "base_uri": "https://localhost:8080/"
        },
        "id": "rJV5NhmuwQKi",
        "outputId": "bc9d2ced-1f00-40b6-9924-b0369794466a"
      },
      "execution_count": 7,
      "outputs": [
        {
          "output_type": "stream",
          "name": "stdout",
          "text": [
            "[[[1 2 3]\n",
            "  [4 5 6]\n",
            "  [7 8 9]]\n",
            "\n",
            " [[1 2 3]\n",
            "  [4 5 6]\n",
            "  [7 8 9]]]\n",
            "1\n",
            "5\n",
            "9\n"
          ]
        }
      ]
    },
    {
      "cell_type": "markdown",
      "source": [
        "## 슬라이싱\n",
        "- 슬라이싱 구분 : `a[start : stop : step]`\n",
        "- 기본값 : `strat = 0` , `stop = ndim` , `step =1`"
      ],
      "metadata": {
        "id": "FooPo_RuwyH4"
      }
    },
    {
      "cell_type": "code",
      "source": [
        "print(a1)\n",
        "print(a1[:2])\n",
        "print(a1[:])\n",
        "print(a1[:1])\n",
        "print(a1[::2])\n",
        "print(a1[::-1])"
      ],
      "metadata": {
        "colab": {
          "base_uri": "https://localhost:8080/"
        },
        "id": "z6Bj5k6Twgoq",
        "outputId": "b3b8b389-80c8-4bc2-98fd-6d8f078e54fe"
      },
      "execution_count": 8,
      "outputs": [
        {
          "output_type": "stream",
          "name": "stdout",
          "text": [
            "[1 2 3 4 5]\n",
            "[1 2]\n",
            "[1 2 3 4 5]\n",
            "[1]\n",
            "[1 3 5]\n",
            "[5 4 3 2 1]\n"
          ]
        }
      ]
    },
    {
      "cell_type": "code",
      "source": [
        "print(a2)\n",
        "print('-'*40)\n",
        "print(a2[1])\n",
        "print('-'*40)\n",
        "print(a2[1, :])\n",
        "print('-'*40)\n",
        "print(a2[:2, :2])\n",
        "print('-'*40)\n",
        "print(a2[1:, ::-1])\n",
        "print('-'*40)\n",
        "print(a2[::-1, ::-1])"
      ],
      "metadata": {
        "colab": {
          "base_uri": "https://localhost:8080/"
        },
        "id": "UNYocxOb0ytJ",
        "outputId": "35d73232-6ffb-4201-c0f2-9ce6fb0738b7"
      },
      "execution_count": 9,
      "outputs": [
        {
          "output_type": "stream",
          "name": "stdout",
          "text": [
            "[[1 2 3]\n",
            " [4 5 6]\n",
            " [7 8 9]]\n",
            "----------------------------------------\n",
            "[4 5 6]\n",
            "----------------------------------------\n",
            "[4 5 6]\n",
            "----------------------------------------\n",
            "[[1 2]\n",
            " [4 5]]\n",
            "----------------------------------------\n",
            "[[6 5 4]\n",
            " [9 8 7]]\n",
            "----------------------------------------\n",
            "[[9 8 7]\n",
            " [6 5 4]\n",
            " [3 2 1]]\n"
          ]
        }
      ]
    },
    {
      "cell_type": "markdown",
      "source": [
        "## 불리언 인덱싱\n",
        "- 배열 각 요소의 선택 여부를 불리언으로 지정\n",
        "- True 값인 인덱스의 값만 조회"
      ],
      "metadata": {
        "id": "atiYyJwQ69eQ"
      }
    },
    {
      "cell_type": "code",
      "source": [
        "print(a1)\n",
        "bi = [False, True, True, False, True]\n",
        "print(a1[bi])\n",
        "\n",
        "bi = [True,False,True,True,False]\n",
        "print(a1[bi])"
      ],
      "metadata": {
        "colab": {
          "base_uri": "https://localhost:8080/"
        },
        "id": "yWrS898c671k",
        "outputId": "af20d274-dabe-4253-a5af-13f96995ec80"
      },
      "execution_count": 10,
      "outputs": [
        {
          "output_type": "stream",
          "name": "stdout",
          "text": [
            "[1 2 3 4 5]\n",
            "[2 3 5]\n",
            "[1 3 4]\n"
          ]
        }
      ]
    },
    {
      "cell_type": "markdown",
      "source": [
        "## 펜시 인덱싱"
      ],
      "metadata": {
        "id": "xOxuP1bmpTPI"
      }
    },
    {
      "cell_type": "code",
      "source": [
        "print(a1)\n",
        "print(a1[0], a1[2])\n",
        "print('*'*40)\n",
        "ind = [0,2]\n",
        "print(a1[ind])"
      ],
      "metadata": {
        "colab": {
          "base_uri": "https://localhost:8080/"
        },
        "id": "v6PQZ9Vl7QwU",
        "outputId": "a431f5ee-6180-434d-a94d-d3b1c1ae164f"
      },
      "execution_count": 11,
      "outputs": [
        {
          "output_type": "stream",
          "name": "stdout",
          "text": [
            "[1 2 3 4 5]\n",
            "1 3\n",
            "****************************************\n",
            "[1 3]\n"
          ]
        }
      ]
    },
    {
      "cell_type": "code",
      "source": [
        "ind = np.array([[0,1], [2,0]])\n",
        "print(a1[ind])"
      ],
      "metadata": {
        "colab": {
          "base_uri": "https://localhost:8080/"
        },
        "id": "Qebs0XR7pibP",
        "outputId": "6c38f165-4bd1-40a3-c79c-fb0ad3fb1689"
      },
      "execution_count": 12,
      "outputs": [
        {
          "output_type": "stream",
          "name": "stdout",
          "text": [
            "[[1 2]\n",
            " [3 1]]\n"
          ]
        }
      ]
    },
    {
      "cell_type": "code",
      "source": [
        "print(a2)\n",
        "\n",
        "row = np.array([0,2])\n",
        "col = np.array([1,2])\n",
        "\n",
        "print(a2[row,col])\n",
        "print('*'*40)\n",
        "print(a2[row, :])\n",
        "print('*'*40)\n",
        "print(a2[row,1])\n",
        "print('*'*40)\n",
        "print(a2[2,col])\n",
        "print('*'*40)\n",
        "print(a2[row,1:])\n",
        "print('*'*40)\n",
        "print(a2[1:,col])"
      ],
      "metadata": {
        "colab": {
          "base_uri": "https://localhost:8080/"
        },
        "id": "FY0Zom8NpwXn",
        "outputId": "98d8d07d-2a12-422d-a65c-363533b8d45e"
      },
      "execution_count": 17,
      "outputs": [
        {
          "output_type": "stream",
          "name": "stdout",
          "text": [
            "[[1 2 3]\n",
            " [4 5 6]\n",
            " [7 8 9]]\n",
            "[2 9]\n",
            "****************************************\n",
            "[[1 2 3]\n",
            " [7 8 9]]\n",
            "****************************************\n",
            "[2 8]\n",
            "****************************************\n",
            "[8 9]\n",
            "****************************************\n",
            "[[2 3]\n",
            " [8 9]]\n",
            "****************************************\n",
            "[[5 6]\n",
            " [8 9]]\n"
          ]
        }
      ]
    },
    {
      "cell_type": "markdown",
      "source": [
        "# 배열 값 삽입 / 수정 / 삭제 / 복사"
      ],
      "metadata": {
        "id": "Wn1JUDYZq-qa"
      }
    },
    {
      "cell_type": "markdown",
      "source": [
        "### 배열값 삽입\n",
        "- `insert()` : 배열의 특정 위치에 값 삽입\n",
        "- axis를 지정하지 않으면 1차원 배열로 변환\n",
        "- 추가할 방향을 axis로 지정\n",
        "- 원본 배열 변경없이 새로운 배열 반환"
      ],
      "metadata": {
        "id": "l-W62U_crC49"
      }
    },
    {
      "cell_type": "code",
      "source": [
        "print(a1)\n",
        "b1 = np.insert(a1,0,10) # a1의 0번 인덱스에 10 넣어 b1 배열 만들기\n",
        "print(f'b1 : {b1}')\n",
        "print(f'a1의 값은 바뀌지 않음 : {a1}')\n",
        "c1 = np.insert(a1,2,10)\n",
        "print(f'c1 : {c1}')\n"
      ],
      "metadata": {
        "colab": {
          "base_uri": "https://localhost:8080/"
        },
        "id": "UiJv6--EqCMG",
        "outputId": "1f4876d5-fef0-4854-aa0a-887d8350a092"
      },
      "execution_count": 19,
      "outputs": [
        {
          "output_type": "stream",
          "name": "stdout",
          "text": [
            "[1 2 3 4 5]\n",
            "b1 : [10  1  2  3  4  5]\n",
            "a1의 값은 바뀌지 않음 : [1 2 3 4 5]\n",
            "c1 : [ 1  2 10  3  4  5]\n"
          ]
        }
      ]
    },
    {
      "cell_type": "code",
      "source": [
        "print(a2)\n",
        "b2 = np.insert(a2, 1, 10, axis=0)\n",
        "print(f'{b2}')\n",
        "print('*'*40)\n",
        "c2 = np.insert(a2, 1, 10, axis=1)\n",
        "print(f'{c2}')"
      ],
      "metadata": {
        "colab": {
          "base_uri": "https://localhost:8080/"
        },
        "id": "v9Se8PYptJHX",
        "outputId": "eff9fcf2-ed62-46d5-d4a1-ee4cdfe5de68"
      },
      "execution_count": 21,
      "outputs": [
        {
          "output_type": "stream",
          "name": "stdout",
          "text": [
            "[[1 2 3]\n",
            " [4 5 6]\n",
            " [7 8 9]]\n",
            "[[ 1  2  3]\n",
            " [10 10 10]\n",
            " [ 4  5  6]\n",
            " [ 7  8  9]]\n",
            "****************************************\n",
            "[[ 1 10  2  3]\n",
            " [ 4 10  5  6]\n",
            " [ 7 10  8  9]]\n"
          ]
        }
      ]
    },
    {
      "cell_type": "markdown",
      "source": [
        "### 배열 값 수정\n",
        "\n",
        "- 배열의 인덱싱으로 접근하여 값 수정"
      ],
      "metadata": {
        "id": "jvHDjfLft84N"
      }
    },
    {
      "cell_type": "code",
      "source": [
        "a1 = np.array([1,2,3,4,5])\n",
        "print(a1)\n",
        "a1[0] = 0\n",
        "a1[1] = 1\n",
        "a1[2] = 2\n",
        "a1[3] = 3\n",
        "a1[4] = 4\n",
        "print(a1)\n",
        "print('*'*40)\n",
        "\n",
        "a1[:1] = 9\n",
        "print(a1)\n",
        "print('*'*40)\n",
        "\n",
        "i = np.array([1,3,4])\n",
        "a1[i] = 0\n",
        "print(a1)\n",
        "print('*'*40)\n",
        "\n",
        "a1[i] += 4\n",
        "print(a1)"
      ],
      "metadata": {
        "colab": {
          "base_uri": "https://localhost:8080/"
        },
        "id": "WKZEnnpMtkGy",
        "outputId": "fe7a6ed9-4216-4a81-9daa-aff427714ea2"
      },
      "execution_count": 29,
      "outputs": [
        {
          "output_type": "stream",
          "name": "stdout",
          "text": [
            "[1 2 3 4 5]\n",
            "[0 1 2 3 4]\n",
            "****************************************\n",
            "[9 1 2 3 4]\n",
            "****************************************\n",
            "[9 0 2 0 0]\n",
            "****************************************\n",
            "[9 4 2 4 4]\n"
          ]
        }
      ]
    },
    {
      "cell_type": "code",
      "source": [
        "a2 = np.array([[1,2,3],[4,5,6],[7,8,9]])\n",
        "\n",
        "a2[0,0] = 1\n",
        "a2[1,1] = 2\n",
        "a2[2,2] = 3\n",
        "a2[0] = 1\n",
        "print(a2)\n",
        "print('*'*40)\n",
        "a2[1:,2] = 9\n",
        "print(a2)\n",
        "print('*'*40)\n",
        "row = np.array([0,1])\n",
        "col = np.array([1,2])\n",
        "a2[row,col] = 0\n",
        "print(a2)"
      ],
      "metadata": {
        "colab": {
          "base_uri": "https://localhost:8080/"
        },
        "id": "QZpYhUKMvHp0",
        "outputId": "fd47b6a9-c15f-44b5-87c1-5fd5c12f0e1d"
      },
      "execution_count": 32,
      "outputs": [
        {
          "output_type": "stream",
          "name": "stdout",
          "text": [
            "[[1 1 1]\n",
            " [4 2 6]\n",
            " [7 8 3]]\n",
            "****************************************\n",
            "[[1 1 1]\n",
            " [4 2 9]\n",
            " [7 8 9]]\n",
            "****************************************\n",
            "[[1 0 1]\n",
            " [4 2 0]\n",
            " [7 8 9]]\n"
          ]
        }
      ]
    },
    {
      "cell_type": "markdown",
      "source": [
        "### 배열값 삭제\n",
        "- `delete()` : 배열의 특정 위치에 값을 삭제\n",
        "- axis를 지정하지 않으면 1차원 배열로 변환\n",
        "- 삭제할 방향을 axis로 지정\n",
        "- 원본 배열 변경없이 새로운 배열 반환"
      ],
      "metadata": {
        "id": "D-4OcXcTwFDg"
      }
    },
    {
      "cell_type": "code",
      "source": [
        "print(a1)\n",
        "b1 = np.delete(a1,1)\n",
        "print(b1)\n",
        "print(a1)"
      ],
      "metadata": {
        "colab": {
          "base_uri": "https://localhost:8080/"
        },
        "id": "yOsptQ_ZvflU",
        "outputId": "35767820-6b7a-4a36-f252-1bbfd986d084"
      },
      "execution_count": 34,
      "outputs": [
        {
          "output_type": "stream",
          "name": "stdout",
          "text": [
            "[9 4 2 4 4]\n",
            "[9 2 4 4]\n",
            "[9 4 2 4 4]\n"
          ]
        }
      ]
    },
    {
      "cell_type": "code",
      "source": [
        "print(a2)\n",
        "print('*'*40)\n",
        "b2 = np.delete(a2,1,axis=0)\n",
        "print(b2)\n",
        "print('*'*40)\n",
        "c2 = np.delete(a2,1,axis=1)\n",
        "print(c2)"
      ],
      "metadata": {
        "colab": {
          "base_uri": "https://localhost:8080/"
        },
        "id": "gFgqSyoVweNW",
        "outputId": "599aaf1f-865a-4e94-fd7d-c01f82aa96bf"
      },
      "execution_count": 36,
      "outputs": [
        {
          "output_type": "stream",
          "name": "stdout",
          "text": [
            "[[1 0 1]\n",
            " [4 2 0]\n",
            " [7 8 9]]\n",
            "****************************************\n",
            "[[1 0 1]\n",
            " [7 8 9]]\n",
            "****************************************\n",
            "[[1 1]\n",
            " [4 0]\n",
            " [7 9]]\n"
          ]
        }
      ]
    },
    {
      "cell_type": "markdown",
      "source": [
        "### 배열 복사\n",
        "- 리스트 자료형과 달리 배열의 슬라이스는 복사본이 아님\n",
        "- 원본의 위치와 동일한 위치를 사용해서 원본 배열 또한 값이 바뀐다"
      ],
      "metadata": {
        "id": "RV9cFejYw06R"
      }
    },
    {
      "cell_type": "code",
      "source": [
        "print(a2)\n",
        "print('*'*40)\n",
        "print(a2[:2,:2])\n",
        "print('*'*40)\n",
        "a2_sub = a2[:2,:2]\n",
        "print(a2_sub)\n",
        "print('*'*40)\n",
        "a2_sub[:, 1] = 0\n",
        "print(a2_sub)\n",
        "print('*'*40)\n",
        "print(a2)\n"
      ],
      "metadata": {
        "colab": {
          "base_uri": "https://localhost:8080/"
        },
        "id": "fID6cLg9wrNT",
        "outputId": "a57254ce-31a1-490d-b027-fa4ba059fb0a"
      },
      "execution_count": 39,
      "outputs": [
        {
          "output_type": "stream",
          "name": "stdout",
          "text": [
            "[[1 0 1]\n",
            " [4 2 0]\n",
            " [7 8 9]]\n",
            "****************************************\n",
            "[[1 0]\n",
            " [4 2]]\n",
            "****************************************\n",
            "[[1 0]\n",
            " [4 2]]\n",
            "****************************************\n",
            "[[1 0]\n",
            " [4 0]]\n",
            "****************************************\n",
            "[[1 0 1]\n",
            " [4 0 0]\n",
            " [7 8 9]]\n"
          ]
        }
      ]
    },
    {
      "cell_type": "markdown",
      "source": [
        "- `copy()` : 배열이나 하위 배열 내의 값을 명시적으로 복사"
      ],
      "metadata": {
        "id": "i_7Lek9kzg8x"
      }
    },
    {
      "cell_type": "code",
      "source": [
        "print(a2)\n",
        "print('*'*40)\n",
        "a2_sub_copy = a2[:2,:2].copy()\n",
        "print(a2_sub_copy)\n",
        "a2_sub_copy[:,1] = 1\n",
        "print(a2_sub_copy)\n",
        "print('*'*40)\n",
        "print(a2)"
      ],
      "metadata": {
        "colab": {
          "base_uri": "https://localhost:8080/"
        },
        "id": "CUWgMKh1zsYK",
        "outputId": "bcb88066-f37d-4e28-a474-437e66a79a94"
      },
      "execution_count": 41,
      "outputs": [
        {
          "output_type": "stream",
          "name": "stdout",
          "text": [
            "[[1 0 1]\n",
            " [4 0 0]\n",
            " [7 8 9]]\n",
            "****************************************\n",
            "[[1 0]\n",
            " [4 0]]\n",
            "[[1 1]\n",
            " [4 1]]\n",
            "****************************************\n",
            "[[1 0 1]\n",
            " [4 0 0]\n",
            " [7 8 9]]\n"
          ]
        }
      ]
    },
    {
      "cell_type": "markdown",
      "source": [
        "## 배열 변환"
      ],
      "metadata": {
        "id": "nWZweT1p0d8m"
      }
    },
    {
      "cell_type": "markdown",
      "source": [
        "### 배열 전치 및 축 변경"
      ],
      "metadata": {
        "id": "v3gr9wjX0fXd"
      }
    },
    {
      "cell_type": "code",
      "source": [
        "a2 = np.array([[1,2,3],[4,5,6],[7,8,9]])\n",
        "print(a2)\n",
        "print('-'*30)\n",
        "print(a2.T) # 행과 열이 바뀜"
      ],
      "metadata": {
        "colab": {
          "base_uri": "https://localhost:8080/"
        },
        "id": "NeiA8axK0e90",
        "outputId": "688c2fb8-c90a-410e-f193-bc87fe2daa73"
      },
      "execution_count": 51,
      "outputs": [
        {
          "output_type": "stream",
          "name": "stdout",
          "text": [
            "[[1 2 3]\n",
            " [4 5 6]\n",
            " [7 8 9]]\n",
            "------------------------------\n",
            "[[1 4 7]\n",
            " [2 5 8]\n",
            " [3 6 9]]\n"
          ]
        }
      ]
    },
    {
      "cell_type": "code",
      "source": [
        "a3 = np.array([[[1,2,3],[4,5,6],[7,8,9]],[[1,2,3],[4,5,6],[7,8,9]],[[1,2,3],[4,5,6],[7,8,9]]])\n",
        "print(a3)\n",
        "# print(a3.ndim)\n",
        "print('-'*30)\n",
        "print(a3.T)"
      ],
      "metadata": {
        "colab": {
          "base_uri": "https://localhost:8080/"
        },
        "id": "FP_lB_wL0pRk",
        "outputId": "10ccbf22-c5ba-4b1d-fc4d-ef2fc6ef6783"
      },
      "execution_count": 47,
      "outputs": [
        {
          "output_type": "stream",
          "name": "stdout",
          "text": [
            "[[[1 2 3]\n",
            "  [4 5 6]\n",
            "  [7 8 9]]\n",
            "\n",
            " [[1 2 3]\n",
            "  [4 5 6]\n",
            "  [7 8 9]]\n",
            "\n",
            " [[1 2 3]\n",
            "  [4 5 6]\n",
            "  [7 8 9]]]\n",
            "------------------------------\n",
            "[[[1 1 1]\n",
            "  [4 4 4]\n",
            "  [7 7 7]]\n",
            "\n",
            " [[2 2 2]\n",
            "  [5 5 5]\n",
            "  [8 8 8]]\n",
            "\n",
            " [[3 3 3]\n",
            "  [6 6 6]\n",
            "  [9 9 9]]]\n"
          ]
        }
      ]
    },
    {
      "cell_type": "code",
      "source": [
        "print(a2)\n",
        "print('-'*30)\n",
        "print(a2.swapaxes(1,0))"
      ],
      "metadata": {
        "colab": {
          "base_uri": "https://localhost:8080/"
        },
        "id": "oE6f9SbH1Yow",
        "outputId": "d22f9e0e-9c9c-45e2-8b8b-3311554b091b"
      },
      "execution_count": 48,
      "outputs": [
        {
          "output_type": "stream",
          "name": "stdout",
          "text": [
            "[[1 0 1]\n",
            " [4 0 0]\n",
            " [7 8 9]]\n",
            "------------------------------\n",
            "[[1 4 7]\n",
            " [0 0 8]\n",
            " [1 0 9]]\n"
          ]
        }
      ]
    },
    {
      "cell_type": "code",
      "source": [
        "print(a3)\n",
        "print('-'*30)\n",
        "print(a3.swapaxes(0,1))\n",
        "print('-'*30)\n",
        "print(a3.swapaxes(1,2))"
      ],
      "metadata": {
        "colab": {
          "base_uri": "https://localhost:8080/"
        },
        "id": "7Uv4nJDN1eMy",
        "outputId": "38cd19c6-bbfc-4d7c-bf56-31b6ceb167b3"
      },
      "execution_count": 49,
      "outputs": [
        {
          "output_type": "stream",
          "name": "stdout",
          "text": [
            "[[[1 2 3]\n",
            "  [4 5 6]\n",
            "  [7 8 9]]\n",
            "\n",
            " [[1 2 3]\n",
            "  [4 5 6]\n",
            "  [7 8 9]]\n",
            "\n",
            " [[1 2 3]\n",
            "  [4 5 6]\n",
            "  [7 8 9]]]\n",
            "------------------------------\n",
            "[[[1 2 3]\n",
            "  [1 2 3]\n",
            "  [1 2 3]]\n",
            "\n",
            " [[4 5 6]\n",
            "  [4 5 6]\n",
            "  [4 5 6]]\n",
            "\n",
            " [[7 8 9]\n",
            "  [7 8 9]\n",
            "  [7 8 9]]]\n",
            "------------------------------\n",
            "[[[1 4 7]\n",
            "  [2 5 8]\n",
            "  [3 6 9]]\n",
            "\n",
            " [[1 4 7]\n",
            "  [2 5 8]\n",
            "  [3 6 9]]\n",
            "\n",
            " [[1 4 7]\n",
            "  [2 5 8]\n",
            "  [3 6 9]]]\n"
          ]
        }
      ]
    },
    {
      "cell_type": "markdown",
      "source": [
        "## 배열 재구조화"
      ],
      "metadata": {
        "id": "LaYkpkLu2UJX"
      }
    },
    {
      "cell_type": "markdown",
      "source": [
        "- `reshape()` : 배열의 형상화를 변경"
      ],
      "metadata": {
        "id": "-aB15pyD2W3f"
      }
    },
    {
      "cell_type": "code",
      "source": [
        "n1 = np.arange(1,10)\n",
        "print(n1)\n",
        "print('-'*30)\n",
        "print(n1.reshape(3,3)) # 2차원으로만들기"
      ],
      "metadata": {
        "colab": {
          "base_uri": "https://localhost:8080/"
        },
        "id": "sxBAMNc_2bT1",
        "outputId": "71e5e561-7943-4ca4-b40e-b14430d56415"
      },
      "execution_count": 53,
      "outputs": [
        {
          "output_type": "stream",
          "name": "stdout",
          "text": [
            "[1 2 3 4 5 6 7 8 9]\n",
            "------------------------------\n",
            "[[1 2 3]\n",
            " [4 5 6]\n",
            " [7 8 9]]\n"
          ]
        }
      ]
    },
    {
      "cell_type": "markdown",
      "source": [
        "- `newaxis()` : 새로운 축 추가"
      ],
      "metadata": {
        "id": "ESHQStuq2shJ"
      }
    },
    {
      "cell_type": "code",
      "source": [
        "print(n1)\n",
        "print('-'*30)\n",
        "print(n1[np.newaxis, :5])\n",
        "print('-'*30)\n",
        "print(n1[:5, np.newaxis])"
      ],
      "metadata": {
        "colab": {
          "base_uri": "https://localhost:8080/"
        },
        "id": "aX-5JhPz2jo0",
        "outputId": "9c65740b-212f-421b-b66d-17fc7843efb1"
      },
      "execution_count": 56,
      "outputs": [
        {
          "output_type": "stream",
          "name": "stdout",
          "text": [
            "[1 2 3 4 5 6 7 8 9]\n",
            "------------------------------\n",
            "[[1 2 3 4 5]]\n",
            "------------------------------\n",
            "[[1]\n",
            " [2]\n",
            " [3]\n",
            " [4]\n",
            " [5]]\n"
          ]
        }
      ]
    },
    {
      "cell_type": "markdown",
      "source": [
        "## 배열의 크기 변경"
      ],
      "metadata": {
        "id": "V8LhAEOy3Ie-"
      }
    },
    {
      "cell_type": "markdown",
      "source": [
        "- 배열의 모양만 변경"
      ],
      "metadata": {
        "id": "7EGgUbzg3Kxh"
      }
    },
    {
      "cell_type": "code",
      "source": [
        "import random\n",
        "\n",
        "n2 = np.random.randint(0,10,(2,5))\n",
        "print(n2)\n",
        "print('-'*30)\n",
        "n2.resize((5,2))\n",
        "print(n2)"
      ],
      "metadata": {
        "colab": {
          "base_uri": "https://localhost:8080/"
        },
        "id": "sd7-NmxI3FwA",
        "outputId": "d576f054-47aa-4405-b0e5-77e34f88a805"
      },
      "execution_count": 67,
      "outputs": [
        {
          "output_type": "stream",
          "name": "stdout",
          "text": [
            "[[4 6 7 2 3]\n",
            " [9 6 3 1 3]]\n",
            "------------------------------\n",
            "[[4 6]\n",
            " [7 2]\n",
            " [3 9]\n",
            " [6 3]\n",
            " [1 3]]\n"
          ]
        }
      ]
    },
    {
      "cell_type": "markdown",
      "source": [
        "- 배열 크기 증가\n",
        "- 남은 공간은 0으로 채워줌"
      ],
      "metadata": {
        "id": "13q83jQb3juH"
      }
    },
    {
      "cell_type": "code",
      "source": [
        "n2 = np.random.randint(0, 10, (2, 5))\n",
        "print(n2)\n",
        "print('-'*30)\n",
        "n2.resize((5, 5))\n",
        "print(n2)"
      ],
      "metadata": {
        "colab": {
          "base_uri": "https://localhost:8080/"
        },
        "id": "YqJzvo7Y3mUV",
        "outputId": "f6b8f35b-7308-4397-ea56-d7fbb3943411"
      },
      "execution_count": 71,
      "outputs": [
        {
          "output_type": "stream",
          "name": "stdout",
          "text": [
            "[[0 3 8 9 7]\n",
            " [5 3 8 4 3]]\n",
            "------------------------------\n",
            "[[0 3 8 9 7]\n",
            " [5 3 8 4 3]\n",
            " [0 0 0 0 0]\n",
            " [0 0 0 0 0]\n",
            " [0 0 0 0 0]]\n"
          ]
        }
      ]
    },
    {
      "cell_type": "markdown",
      "source": [
        "- 배열의 크기 감소\n",
        "- 포함되지 않은 값은 삭제됨"
      ],
      "metadata": {
        "id": "-z1xG9ui8vfT"
      }
    },
    {
      "cell_type": "code",
      "source": [
        "n2 = np.random.randint(0, 10, (2, 5))\n",
        "n2.resize((3,3))\n",
        "print(n2)"
      ],
      "metadata": {
        "colab": {
          "base_uri": "https://localhost:8080/"
        },
        "id": "QUezTG2v8l52",
        "outputId": "df8cc6db-dba1-4916-96f9-bb1c3f6b469d"
      },
      "execution_count": 73,
      "outputs": [
        {
          "output_type": "stream",
          "name": "stdout",
          "text": [
            "[[1 0 0]\n",
            " [6 3 0]\n",
            " [6 2 2]]\n"
          ]
        }
      ]
    },
    {
      "cell_type": "markdown",
      "source": [
        "### 배열 추가"
      ],
      "metadata": {
        "id": "wym69kST9RYy"
      }
    },
    {
      "cell_type": "markdown",
      "source": [
        "- `append()` : 배열의 끝에 값 추가"
      ],
      "metadata": {
        "id": "92rEtlci9S3v"
      }
    },
    {
      "cell_type": "code",
      "source": [
        "a2 = np.arange(1, 10).reshape(3, 3)\n",
        "print(a2)\n",
        "print('-'*30)\n",
        "b2 = np.arange(10,19).reshape(3, 3)\n",
        "print(b2)"
      ],
      "metadata": {
        "colab": {
          "base_uri": "https://localhost:8080/"
        },
        "id": "YFbpOYuy9OyJ",
        "outputId": "b0df35a2-0530-47be-c972-100e6a0506b7"
      },
      "execution_count": 74,
      "outputs": [
        {
          "output_type": "stream",
          "name": "stdout",
          "text": [
            "[[1 2 3]\n",
            " [4 5 6]\n",
            " [7 8 9]]\n",
            "------------------------------\n",
            "[[10 11 12]\n",
            " [13 14 15]\n",
            " [16 17 18]]\n"
          ]
        }
      ]
    },
    {
      "cell_type": "markdown",
      "source": [
        "- axis 지정이 없으면 1차원 배열 형태로 변형되어 결합"
      ],
      "metadata": {
        "id": "xjk9hpLC9oci"
      }
    },
    {
      "cell_type": "code",
      "source": [
        "c2 = np.append(a2, b2)\n",
        "print(c2)"
      ],
      "metadata": {
        "colab": {
          "base_uri": "https://localhost:8080/"
        },
        "id": "nBgPJrkm9nXA",
        "outputId": "91715b4b-a67d-458b-d1e0-22504592a17f"
      },
      "execution_count": 75,
      "outputs": [
        {
          "output_type": "stream",
          "name": "stdout",
          "text": [
            "[ 1  2  3  4  5  6  7  8  9 10 11 12 13 14 15 16 17 18]\n"
          ]
        }
      ]
    },
    {
      "cell_type": "markdown",
      "source": [
        "- axis를 0으로 지정\n",
        "- shape[0]을 제외한 나머지 shape은 같아야 함"
      ],
      "metadata": {
        "id": "UQ8gLhPK94Pb"
      }
    },
    {
      "cell_type": "code",
      "source": [
        "c2 = np.append(a2, b2, axis=0)\n",
        "print(c2)"
      ],
      "metadata": {
        "colab": {
          "base_uri": "https://localhost:8080/"
        },
        "id": "KyM4SdsW9_WL",
        "outputId": "f8be3e7a-e9a0-4503-de59-8448fd8ae031"
      },
      "execution_count": 76,
      "outputs": [
        {
          "output_type": "stream",
          "name": "stdout",
          "text": [
            "[[ 1  2  3]\n",
            " [ 4  5  6]\n",
            " [ 7  8  9]\n",
            " [10 11 12]\n",
            " [13 14 15]\n",
            " [16 17 18]]\n"
          ]
        }
      ]
    },
    {
      "cell_type": "markdown",
      "source": [
        "- axis를 1으로 지정\n",
        "- shape[1]을 제외한 나머지 shape은 같아야 함"
      ],
      "metadata": {
        "id": "tlwc6uro-ILH"
      }
    },
    {
      "cell_type": "code",
      "source": [
        "c2 = np.append(a2, b2, axis=1)\n",
        "print(c2)"
      ],
      "metadata": {
        "colab": {
          "base_uri": "https://localhost:8080/"
        },
        "id": "khYFhkPz-QJu",
        "outputId": "2b96a1f4-4fd3-453d-ac74-a3c3a8bca020"
      },
      "execution_count": 77,
      "outputs": [
        {
          "output_type": "stream",
          "name": "stdout",
          "text": [
            "[[ 1  2  3 10 11 12]\n",
            " [ 4  5  6 13 14 15]\n",
            " [ 7  8  9 16 17 18]]\n"
          ]
        }
      ]
    },
    {
      "cell_type": "markdown",
      "source": [
        "### 배열 연결"
      ],
      "metadata": {
        "id": "eDqo5l3_-hzd"
      }
    },
    {
      "cell_type": "markdown",
      "source": [
        "- `concatenate()` : 튜플이나 배열의 리스트를 인수로 사용해 배열 연결"
      ],
      "metadata": {
        "id": "wEHL723C-qMy"
      }
    },
    {
      "cell_type": "code",
      "source": [
        "a1 = np.array([1,3,5])\n",
        "b1 = np.array([2,4,6])\n",
        "np.concatenate([a1,b1])"
      ],
      "metadata": {
        "colab": {
          "base_uri": "https://localhost:8080/"
        },
        "id": "18ZWCKKz-kZq",
        "outputId": "1b0464e3-6d91-4c86-b50d-5d2d96ce72d7"
      },
      "execution_count": 78,
      "outputs": [
        {
          "output_type": "execute_result",
          "data": {
            "text/plain": [
              "array([1, 3, 5, 2, 4, 6])"
            ]
          },
          "metadata": {},
          "execution_count": 78
        }
      ]
    },
    {
      "cell_type": "code",
      "source": [
        "c1 = np.array([7,8,9])\n",
        "np.concatenate([a1,b1,c1])"
      ],
      "metadata": {
        "colab": {
          "base_uri": "https://localhost:8080/"
        },
        "id": "GmEC5LvV-fuH",
        "outputId": "8267cd9b-2e9a-48a4-ebb1-543e6a283c9f"
      },
      "execution_count": 79,
      "outputs": [
        {
          "output_type": "execute_result",
          "data": {
            "text/plain": [
              "array([1, 3, 5, 2, 4, 6, 7, 8, 9])"
            ]
          },
          "metadata": {},
          "execution_count": 79
        }
      ]
    },
    {
      "cell_type": "code",
      "source": [
        "a2 = np.array([[1,2,3],[4,5,6]])\n",
        "np.concatenate([a2,a2])"
      ],
      "metadata": {
        "colab": {
          "base_uri": "https://localhost:8080/"
        },
        "id": "jpqIAGa6_HQT",
        "outputId": "f07acca1-bbec-4fef-9bf3-ebcc2dec1c58"
      },
      "execution_count": 80,
      "outputs": [
        {
          "output_type": "execute_result",
          "data": {
            "text/plain": [
              "array([[1, 2, 3],\n",
              "       [4, 5, 6],\n",
              "       [1, 2, 3],\n",
              "       [4, 5, 6]])"
            ]
          },
          "metadata": {},
          "execution_count": 80
        }
      ]
    },
    {
      "cell_type": "code",
      "source": [
        "a2 = np.array([[1,2,3],[4,5,6]])\n",
        "np.concatenate([a2,a2], axis=1)"
      ],
      "metadata": {
        "colab": {
          "base_uri": "https://localhost:8080/"
        },
        "id": "8QXeZD3G_Txu",
        "outputId": "e166eba6-5233-48fa-f0db-4b1d98e72427"
      },
      "execution_count": 82,
      "outputs": [
        {
          "output_type": "execute_result",
          "data": {
            "text/plain": [
              "array([[1, 2, 3, 1, 2, 3],\n",
              "       [4, 5, 6, 4, 5, 6]])"
            ]
          },
          "metadata": {},
          "execution_count": 82
        }
      ]
    },
    {
      "cell_type": "markdown",
      "source": [
        "- `vstack()` : 수직 스택, 1차원으로 연결"
      ],
      "metadata": {
        "id": "bgNHhJ4o_e65"
      }
    },
    {
      "cell_type": "code",
      "source": [
        "np.vstack([a2,a2])"
      ],
      "metadata": {
        "colab": {
          "base_uri": "https://localhost:8080/"
        },
        "id": "V24b4adF_aZA",
        "outputId": "1ae82afc-ea77-4efe-e63d-51fcd1935315"
      },
      "execution_count": 83,
      "outputs": [
        {
          "output_type": "execute_result",
          "data": {
            "text/plain": [
              "array([[1, 2, 3],\n",
              "       [4, 5, 6],\n",
              "       [1, 2, 3],\n",
              "       [4, 5, 6]])"
            ]
          },
          "metadata": {},
          "execution_count": 83
        }
      ]
    },
    {
      "cell_type": "markdown",
      "source": [
        "- `hstack()` : 수평 스택, 2차원으로 연결"
      ],
      "metadata": {
        "id": "KUi_ZlDS_ohL"
      }
    },
    {
      "cell_type": "code",
      "source": [
        "np.hstack([a2,a2])"
      ],
      "metadata": {
        "colab": {
          "base_uri": "https://localhost:8080/"
        },
        "id": "SC5ovcTn_b-N",
        "outputId": "9453b048-5d8e-4924-eeb6-79961688ebf9"
      },
      "execution_count": 84,
      "outputs": [
        {
          "output_type": "execute_result",
          "data": {
            "text/plain": [
              "array([[1, 2, 3, 1, 2, 3],\n",
              "       [4, 5, 6, 4, 5, 6]])"
            ]
          },
          "metadata": {},
          "execution_count": 84
        }
      ]
    },
    {
      "cell_type": "markdown",
      "source": [
        "- `dstack()` : 깊이 스택, 3차원으로 연결"
      ],
      "metadata": {
        "id": "V7jG6Zuz_51Q"
      }
    },
    {
      "cell_type": "code",
      "source": [
        "np.dstack([a2,a2])"
      ],
      "metadata": {
        "colab": {
          "base_uri": "https://localhost:8080/"
        },
        "id": "urhg92FV_-ZG",
        "outputId": "caf745df-f422-4d88-d187-c1e9c9b897a4"
      },
      "execution_count": 85,
      "outputs": [
        {
          "output_type": "execute_result",
          "data": {
            "text/plain": [
              "array([[[1, 1],\n",
              "        [2, 2],\n",
              "        [3, 3]],\n",
              "\n",
              "       [[4, 4],\n",
              "        [5, 5],\n",
              "        [6, 6]]])"
            ]
          },
          "metadata": {},
          "execution_count": 85
        }
      ]
    },
    {
      "cell_type": "markdown",
      "source": [
        "- `stack()` : 새로운 차원으로 연결"
      ],
      "metadata": {
        "id": "G2BK630qAIQZ"
      }
    },
    {
      "cell_type": "code",
      "source": [
        "np.stack([a2,a2])"
      ],
      "metadata": {
        "colab": {
          "base_uri": "https://localhost:8080/"
        },
        "id": "vgeIZ5_QABnP",
        "outputId": "e072c7cb-550f-4135-ee77-75ebbb80ac85"
      },
      "execution_count": 86,
      "outputs": [
        {
          "output_type": "execute_result",
          "data": {
            "text/plain": [
              "array([[[1, 2, 3],\n",
              "        [4, 5, 6]],\n",
              "\n",
              "       [[1, 2, 3],\n",
              "        [4, 5, 6]]])"
            ]
          },
          "metadata": {},
          "execution_count": 86
        }
      ]
    },
    {
      "cell_type": "markdown",
      "source": [
        "### 배열 분할"
      ],
      "metadata": {
        "id": "Li8tFurOAa1r"
      }
    },
    {
      "cell_type": "markdown",
      "source": [
        "- `slite()` : 배열 분할"
      ],
      "metadata": {
        "id": "yzPFehuHAeNE"
      }
    },
    {
      "cell_type": "code",
      "source": [
        "a1 = np.arange(0, 10)\n",
        "print(a1)\n",
        "b1, c1 = np.split(a1, [5]) # [5]는 기준이 되는 인덱스 위치\n",
        "print(b1, c1)\n",
        "print('-'*30)\n",
        "b1,c1,d1,e1,f1 = np.split(a1, [2,4,6,8])\n",
        "print(b1,c1,d1,e1,f1)"
      ],
      "metadata": {
        "colab": {
          "base_uri": "https://localhost:8080/"
        },
        "id": "W5J4QCc2AdjQ",
        "outputId": "54c1261c-e3a5-45cc-be3e-d25b1a5b86b0"
      },
      "execution_count": 88,
      "outputs": [
        {
          "output_type": "stream",
          "name": "stdout",
          "text": [
            "[0 1 2 3 4 5 6 7 8 9]\n",
            "[0 1 2 3 4] [5 6 7 8 9]\n",
            "------------------------------\n",
            "[0 1] [2 3] [4 5] [6 7] [8 9]\n"
          ]
        }
      ]
    },
    {
      "cell_type": "markdown",
      "source": [
        "- `vsplit()` : 수직 분할, 1차원으로 분할"
      ],
      "metadata": {
        "id": "yGSPTLM-B7p0"
      }
    },
    {
      "cell_type": "code",
      "source": [
        "a2 = np.arange(1, 10).reshape(3, 3)\n",
        "print(a2)\n",
        "print('-'*30)\n",
        "b2, c2 = np.vsplit(a2, [2])\n",
        "print(b2)\n",
        "print('-'*30)\n",
        "print(c2)"
      ],
      "metadata": {
        "colab": {
          "base_uri": "https://localhost:8080/"
        },
        "id": "4bVwb2NyCZPD",
        "outputId": "dfabaa1b-fd4d-4d62-ffcd-c9fdb22c16ed"
      },
      "execution_count": 90,
      "outputs": [
        {
          "output_type": "stream",
          "name": "stdout",
          "text": [
            "[[1 2 3]\n",
            " [4 5 6]\n",
            " [7 8 9]]\n",
            "------------------------------\n",
            "[[1 2 3]\n",
            " [4 5 6]]\n",
            "------------------------------\n",
            "[[7 8 9]]\n"
          ]
        }
      ]
    },
    {
      "cell_type": "markdown",
      "source": [
        "- `hsplit()` : 수평 분할, 2차워능로 분할"
      ],
      "metadata": {
        "id": "AZpNJm3bCCes"
      }
    },
    {
      "cell_type": "code",
      "source": [
        "a2 = np.arange(1, 10).reshape(3, 3)\n",
        "print(a2)\n",
        "print('-'*30)\n",
        "b2, c2 = np.hsplit(a2, [2])\n",
        "print(b2)\n",
        "print('-'*30)\n",
        "print(c2)"
      ],
      "metadata": {
        "colab": {
          "base_uri": "https://localhost:8080/"
        },
        "id": "xuv-xFEvCa4l",
        "outputId": "fed72065-30e5-4a84-a749-e8caaf947362"
      },
      "execution_count": 91,
      "outputs": [
        {
          "output_type": "stream",
          "name": "stdout",
          "text": [
            "[[1 2 3]\n",
            " [4 5 6]\n",
            " [7 8 9]]\n",
            "------------------------------\n",
            "[[1 2]\n",
            " [4 5]\n",
            " [7 8]]\n",
            "------------------------------\n",
            "[[3]\n",
            " [6]\n",
            " [9]]\n"
          ]
        }
      ]
    },
    {
      "cell_type": "markdown",
      "source": [
        "- `dsplit()` : 깊이 분할, 3차원으로 분할"
      ],
      "metadata": {
        "id": "XMJJJB8SCHaH"
      }
    },
    {
      "cell_type": "code",
      "source": [
        "a3 = np.arange(1, 28).reshape(3, 3, 3)\n",
        "print(a3)\n",
        "print('-'*30)\n",
        "b3, c3 = np.dsplit(a3, [2])\n",
        "print(b3)\n",
        "print('-'*30)\n",
        "print(c3)"
      ],
      "metadata": {
        "colab": {
          "base_uri": "https://localhost:8080/"
        },
        "id": "rw4ZrYcvCbRE",
        "outputId": "f723f10c-4df2-4a2d-81be-f8e0b2f54e4f"
      },
      "execution_count": 94,
      "outputs": [
        {
          "output_type": "stream",
          "name": "stdout",
          "text": [
            "[[[ 1  2  3]\n",
            "  [ 4  5  6]\n",
            "  [ 7  8  9]]\n",
            "\n",
            " [[10 11 12]\n",
            "  [13 14 15]\n",
            "  [16 17 18]]\n",
            "\n",
            " [[19 20 21]\n",
            "  [22 23 24]\n",
            "  [25 26 27]]]\n",
            "------------------------------\n",
            "[[[ 1  2]\n",
            "  [ 4  5]\n",
            "  [ 7  8]]\n",
            "\n",
            " [[10 11]\n",
            "  [13 14]\n",
            "  [16 17]]\n",
            "\n",
            " [[19 20]\n",
            "  [22 23]\n",
            "  [25 26]]]\n",
            "------------------------------\n",
            "[[[ 3]\n",
            "  [ 6]\n",
            "  [ 9]]\n",
            "\n",
            " [[12]\n",
            "  [15]\n",
            "  [18]]\n",
            "\n",
            " [[21]\n",
            "  [24]\n",
            "  [27]]]\n"
          ]
        }
      ]
    }
  ]
}