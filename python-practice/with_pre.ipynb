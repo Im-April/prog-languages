{
 "cells": [
  {
   "cell_type": "markdown",
   "id": "09aeca3a",
   "metadata": {},
   "source": [
    "## with 문\n",
    "- 파일 처리, 리소스 관리, 예외 처리 등에 많이 상요되는 문법\n",
    "- `try/finally` 구조를 간단하고 안전하게 쓸 수 있게 해줌"
   ]
  },
  {
   "cell_type": "code",
   "execution_count": 1,
   "id": "649a583e",
   "metadata": {},
   "outputs": [
    {
     "name": "stdout",
     "output_type": "stream",
     "text": [
      "Hello, with 문 !\n",
      "\n"
     ]
    }
   ],
   "source": [
    "# Step 1: 파일 열기와 자동 닫기\n",
    "\n",
    "# 파일 쓰기\n",
    "with open(\"example.txt\", \"w\") as f:\n",
    "    f.write(\"Hello, with 문 !\\n\")\n",
    "\n",
    "# 파일 읽기\n",
    "with open(\"example.txt\", 'r') as f :\n",
    "    content = f.read()\n",
    "    print(content)"
   ]
  },
  {
   "cell_type": "code",
   "execution_count": 3,
   "id": "7895b036",
   "metadata": {},
   "outputs": [
    {
     "name": "stdout",
     "output_type": "stream",
     "text": [
      "에러 발생 :  invalid literal for int() with base 10: 'Hello, with 문 !\\n'\n"
     ]
    }
   ],
   "source": [
    "# Step 2: 예외가 생겨도 파일 닫기\n",
    "\n",
    "try:\n",
    "    with open(\"example.txt\", \"r\") as f:\n",
    "        for line in f:\n",
    "            print(int(line))\n",
    "except ValueError as e :\n",
    "    print('에러 발생 : ', e)"
   ]
  },
  {
   "cell_type": "markdown",
   "id": "4e3dc63d",
   "metadata": {},
   "source": [
    "`try : `\n",
    "- 이 아래 코드에서 오류가 발생할 수 있는 부분을 감시\n",
    "- 오류가 나면 except로 넘어감\n",
    "\n",
    "`with open(\"example.txt\", \"r\") as f : `\n",
    "- example.txt 파일을 읽기 모드(\"r\")로 연다\n",
    "- f는 파일 객체이고, 자동으로 닫힌다\n",
    "\n",
    "`for line in f : `\n",
    "- 파일의 줄(line)을 한 줄씩 읽는다\n",
    "\n",
    "`print(int(line))`\n",
    "- 읽은 줄을 int()로 정수로 변환\n",
    "- 만약 줄에 \"123\" 같은 숫자 문자열이 있으면 OK.\n",
    "- 하지만 \"hello\"나 \"3.14\"처럼 정수로 바꿀 수 없는 경우, ValueError가 발생\n",
    "\n",
    "`except ValueError as e : `\n",
    "- 위에서 ValueError가 발생하면 이 블록이 실행\n",
    "- 에러 메시지를 e에 담고, 아래 코드를 실행\n",
    "\n",
    "`print(\"에러 발생:\", e)`\n",
    "- 예: 에러 발생: `invalid literal for int() with base 10: 'hello\\n'`"
   ]
  },
  {
   "cell_type": "code",
   "execution_count": 5,
   "id": "589f04f4",
   "metadata": {},
   "outputs": [],
   "source": [
    "# Step 3: 여러 파일 동시에 열기\n",
    "\n",
    "with open('file1.txt', 'w') as f1, open('file2.txt', 'w') as f2 :\n",
    "    f1.write('first file\\n')\n",
    "    f2.write('second file\\n')"
   ]
  },
  {
   "cell_type": "code",
   "execution_count": 6,
   "id": "2fa4d865",
   "metadata": {},
   "outputs": [
    {
     "name": "stdout",
     "output_type": "stream",
     "text": [
      "자원 열기\n",
      "내부 코드 실행: 데이터\n",
      "자원 닫기\n"
     ]
    }
   ],
   "source": [
    "# Step 4: 사용자 정의 컨텍스트 매니저 (고급)\n",
    "\n",
    "class Mycontext :\n",
    "    def __enter__(self) :\n",
    "        print('자원 열기')\n",
    "        return '데이터'\n",
    "    \n",
    "    def __exit__(self, exc_type, exc_val, exc_tb) :\n",
    "        print('자원 닫기')\n",
    "        if exc_type :\n",
    "            print(f'에러 처리 : {exc_val}')\n",
    "        return True\n",
    "    \n",
    "with Mycontext() as data :\n",
    "    print(\"내부 코드 실행:\", data)"
   ]
  },
  {
   "cell_type": "markdown",
   "id": "479d6d9a",
   "metadata": {},
   "source": [
    "```python\n",
    "def __enter__(self):\n",
    "    print(\"자원 열기\")\n",
    "    return \"데이터\"\n",
    "```\n",
    "- with 문에 들어가면 가장 먼저 실행되는 함수\n",
    "- \"자원 열기\"를 출력하고 \"데이터\"라는 값을 return\n",
    "\n",
    "```python\n",
    "def __exit__(self, exc_type, exc_val, exc_tb):\n",
    "    print(\"자원 닫기\")\n",
    "    if exc_type:\n",
    "        print(\"에러 처리:\", exc_val)\n",
    "    return True  # 예외 무시\n",
    "```\n",
    "- with 블록이 끝나면 자동으로 이 함수가 실행\n",
    "- (정상 종료든, 에러가 나든 무조건 실행됩니다)"
   ]
  }
 ],
 "metadata": {
  "kernelspec": {
   "display_name": "venv",
   "language": "python",
   "name": "python3"
  },
  "language_info": {
   "codemirror_mode": {
    "name": "ipython",
    "version": 3
   },
   "file_extension": ".py",
   "mimetype": "text/x-python",
   "name": "python",
   "nbconvert_exporter": "python",
   "pygments_lexer": "ipython3",
   "version": "3.12.7"
  }
 },
 "nbformat": 4,
 "nbformat_minor": 5
}
