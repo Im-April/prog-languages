{
  "nbformat": 4,
  "nbformat_minor": 0,
  "metadata": {
    "colab": {
      "provenance": []
    },
    "kernelspec": {
      "name": "python3",
      "display_name": "Python 3"
    },
    "language_info": {
      "name": "python"
    }
  },
  "cells": [
    {
      "cell_type": "markdown",
      "source": [
        "## 유리수 사칙연산 공식\n",
        "유리수 a/b와 c/d (b≠0, d≠0)에 대해:  \n",
        "덧셈: a/b + c/d = (ad + bc)/(bd)  \n",
        "뺄셈: a/b - c/d = (ad - bc)/(bd)  \n",
        "곱셈: a/b × c/d = (ac)/(bd)  \n",
        "나눗셈: a/b ÷ c/d = a/b × d/c = (ad)/(bc) (단, c≠0)  "
      ],
      "metadata": {
        "id": "4roXSl_2rdH-"
      }
    },
    {
      "cell_type": "code",
      "execution_count": 1,
      "metadata": {
        "id": "yy1y7_-Xp9BU"
      },
      "outputs": [],
      "source": [
        "import math\n",
        "\n",
        "class Rational:\n",
        "    \"\"\"유리수를 나타내는 클래스\"\"\"\n",
        "\n",
        "    def __init__(self, numerator, denominator):\n",
        "        \"\"\"\n",
        "        유리수 초기화\n",
        "        numerator: 분자 (정수)\n",
        "        denominator: 분모 (0이 아닌 정수)\n",
        "        \"\"\"\n",
        "        if denominator == 0:\n",
        "            raise ValueError(\"분모는 0이 될 수 없습니다!\")\n",
        "\n",
        "        # 기약분수로 만들기\n",
        "        gcd = math.gcd(abs(numerator), abs(denominator))\n",
        "        self.numerator = numerator // gcd\n",
        "        self.denominator = denominator // gcd\n",
        "\n",
        "        # 분모가 음수이면 분자로 부호 이동\n",
        "        if self.denominator < 0:\n",
        "            self.numerator = -self.numerator\n",
        "            self.denominator = -self.denominator\n",
        "\n",
        "    def __str__(self):\n",
        "        \"\"\"유리수를 문자열로 표현\"\"\"\n",
        "        if self.denominator == 1:\n",
        "            return str(self.numerator)\n",
        "        return f\"{self.numerator}/{self.denominator}\"\n",
        "\n",
        "    def __add__(self, other):\n",
        "        \"\"\"덧셈: a/b + c/d = (ad + bc)/(bd)\"\"\"\n",
        "        new_numerator = self.numerator * other.denominator + other.numerator * self.denominator\n",
        "        new_denominator = self.denominator * other.denominator\n",
        "        return Rational(new_numerator, new_denominator)\n",
        "\n",
        "    def __sub__(self, other):\n",
        "        \"\"\"뺄셈: a/b - c/d = (ad - bc)/(bd)\"\"\"\n",
        "        new_numerator = self.numerator * other.denominator - other.numerator * self.denominator\n",
        "        new_denominator = self.denominator * other.denominator\n",
        "        return Rational(new_numerator, new_denominator)\n",
        "\n",
        "    def __mul__(self, other):\n",
        "        \"\"\"곱셈: a/b × c/d = (ac)/(bd)\"\"\"\n",
        "        new_numerator = self.numerator * other.numerator\n",
        "        new_denominator = self.denominator * other.denominator\n",
        "        return Rational(new_numerator, new_denominator)\n",
        "\n",
        "    def __truediv__(self, other):\n",
        "        \"\"\"나눗셈: a/b ÷ c/d = (ad)/(bc)\"\"\"\n",
        "        if other.numerator == 0:\n",
        "            raise ValueError(\"0으로 나눌 수 없습니다!\")\n",
        "        new_numerator = self.numerator * other.denominator\n",
        "        new_denominator = self.denominator * other.numerator\n",
        "        return Rational(new_numerator, new_denominator)\n",
        "\n",
        "    def to_decimal(self):\n",
        "        \"\"\"소수로 변환\"\"\"\n",
        "        return self.numerator / self.denominator"
      ]
    },
    {
      "cell_type": "code",
      "source": [
        "# 유리수 생성\n",
        "r1 = Rational(2, 3)  # 2/3\n",
        "r2 = Rational(3, 4)  # 3/4\n",
        "r3 = Rational(5, 6)  # 5/6\n",
        "r4 = Rational(-1, 2) # -1/2"
      ],
      "metadata": {
        "id": "_HTEkk0WyQdU"
      },
      "execution_count": 2,
      "outputs": []
    },
    {
      "cell_type": "code",
      "source": [
        "print(f\"r1 = {r1}\")\n",
        "print(f\"r2 = {r2}\")\n",
        "print(f\"r3 = {r3}\")\n",
        "print(f\"r4 = {r4}\")"
      ],
      "metadata": {
        "colab": {
          "base_uri": "https://localhost:8080/"
        },
        "id": "T2JyPGXfySiW",
        "outputId": "e5299028-7eb3-4fd9-ef09-5341b811c2e4"
      },
      "execution_count": 5,
      "outputs": [
        {
          "output_type": "stream",
          "name": "stdout",
          "text": [
            "r1 = 2/3\n",
            "r2 = 3/4\n",
            "r3 = 5/6\n",
            "r4 = -1/2\n"
          ]
        }
      ]
    },
    {
      "cell_type": "code",
      "source": [
        "# 덧셈 예제\n",
        "print(\"1. 덧셈 (Addition)\")\n",
        "result_add = r1 + r2\n",
        "print(f\"{r1} + {r2} = {result_add}\")\n",
        "print(f\"계산 과정: 2/3 + 3/4 = (2×4 + 3×3)/(3×4) = (8+9)/12 = 17/12\")\n",
        "print(f\"소수로: {result_add.to_decimal():.4f}\")"
      ],
      "metadata": {
        "colab": {
          "base_uri": "https://localhost:8080/"
        },
        "id": "Zh1wPZvAyUkx",
        "outputId": "aca587e5-5fbd-4eca-ec98-ab29074fdaeb"
      },
      "execution_count": 4,
      "outputs": [
        {
          "output_type": "stream",
          "name": "stdout",
          "text": [
            "1. 덧셈 (Addition)\n",
            "2/3 + 3/4 = 17/12\n",
            "계산 과정: 2/3 + 3/4 = (2×4 + 3×3)/(3×4) = (8+9)/12 = 17/12\n",
            "소수로: 1.4167\n"
          ]
        }
      ]
    },
    {
      "cell_type": "code",
      "source": [
        "# 뺄셈 예제\n",
        "print(\"2. 뺄셈 (Subtraction)\")\n",
        "result_sub = r3 - r1\n",
        "print(f\"{r3} - {r1} = {result_sub}\")\n",
        "print(f\"계산 과정: 5/6 - 2/3 = (5×3 - 2×6)/(6×3) = (15-12)/18 = 3/18 = 1/6\")\n",
        "print(f\"소수로: {result_sub.to_decimal():.4f}\")\n",
        "print()"
      ],
      "metadata": {
        "colab": {
          "base_uri": "https://localhost:8080/"
        },
        "id": "G4ktFV3Dybo_",
        "outputId": "810a45f8-9fc7-439d-a06f-4a27932748f5"
      },
      "execution_count": 6,
      "outputs": [
        {
          "output_type": "stream",
          "name": "stdout",
          "text": [
            "2. 뺄셈 (Subtraction)\n",
            "5/6 - 2/3 = 1/6\n",
            "계산 과정: 5/6 - 2/3 = (5×3 - 2×6)/(6×3) = (15-12)/18 = 3/18 = 1/6\n",
            "소수로: 0.1667\n",
            "\n"
          ]
        }
      ]
    },
    {
      "cell_type": "code",
      "source": [
        "# 곱셈 예제\n",
        "print(\"3. 곱셈 (Multiplication)\")\n",
        "result_mul = r1 * r2\n",
        "print(f\"{r1} × {r2} = {result_mul}\")\n",
        "print(f\"계산 과정: 2/3 × 3/4 = (2×3)/(3×4) = 6/12 = 1/2\")\n",
        "print(f\"소수로: {result_mul.to_decimal():.4f}\")\n",
        "print()"
      ],
      "metadata": {
        "colab": {
          "base_uri": "https://localhost:8080/"
        },
        "id": "K1YYOmWGydYB",
        "outputId": "0710a1d9-f418-4485-9cd8-117a24c7c43f"
      },
      "execution_count": 7,
      "outputs": [
        {
          "output_type": "stream",
          "name": "stdout",
          "text": [
            "3. 곱셈 (Multiplication)\n",
            "2/3 × 3/4 = 1/2\n",
            "계산 과정: 2/3 × 3/4 = (2×3)/(3×4) = 6/12 = 1/2\n",
            "소수로: 0.5000\n",
            "\n"
          ]
        }
      ]
    },
    {
      "cell_type": "code",
      "source": [
        "# 나눗셈 예제\n",
        "print(\"4. 나눗셈 (Division)\")\n",
        "result_div = r2 / r1\n",
        "print(f\"{r2} ÷ {r1} = {result_div}\")\n",
        "print(f\"계산 과정: 3/4 ÷ 2/3 = 3/4 × 3/2 = (3×3)/(4×2) = 9/8\")\n",
        "print(f\"소수로: {result_div.to_decimal():.4f}\")"
      ],
      "metadata": {
        "colab": {
          "base_uri": "https://localhost:8080/"
        },
        "id": "uBX5k9cKyfEF",
        "outputId": "1401198b-99f1-40c7-beaa-4cfb7d778076"
      },
      "execution_count": 8,
      "outputs": [
        {
          "output_type": "stream",
          "name": "stdout",
          "text": [
            "4. 나눗셈 (Division)\n",
            "3/4 ÷ 2/3 = 9/8\n",
            "계산 과정: 3/4 ÷ 2/3 = 3/4 × 3/2 = (3×3)/(4×2) = 9/8\n",
            "소수로: 1.1250\n",
            "\n"
          ]
        }
      ]
    },
    {
      "cell_type": "code",
      "source": [
        "# 복합 연산 예제\n",
        "print(\"5. 복합 연산 예제\")\n",
        "complex_result = (r1 + r2) * r3 - r4\n",
        "print(f\"({r1} + {r2}) × {r3} - {r4} = {complex_result}\")\n",
        "print(f\"단계별 계산:\")\n",
        "step1 = r1 + r2\n",
        "print(f\"  1단계: {r1} + {r2} = {step1}\")\n",
        "step2 = step1 * r3\n",
        "print(f\"  2단계: {step1} × {r3} = {step2}\")\n",
        "step3 = step2 - r4\n",
        "print(f\"  3단계: {step2} - {r4} = {step3}\")\n",
        "print(f\"소수로: {complex_result.to_decimal():.4f}\")"
      ],
      "metadata": {
        "colab": {
          "base_uri": "https://localhost:8080/"
        },
        "id": "Jjbvr9mbyhS4",
        "outputId": "02186ca4-6351-4620-e13a-8db29b54b1f9"
      },
      "execution_count": 9,
      "outputs": [
        {
          "output_type": "stream",
          "name": "stdout",
          "text": [
            "5. 복합 연산 예제\n",
            "(2/3 + 3/4) × 5/6 - -1/2 = 121/72\n",
            "단계별 계산:\n",
            "  1단계: 2/3 + 3/4 = 17/12\n",
            "  2단계: 17/12 × 5/6 = 85/72\n",
            "  3단계: 85/72 - -1/2 = 121/72\n",
            "소수로: 1.6806\n"
          ]
        }
      ]
    },
    {
      "cell_type": "code",
      "source": [
        "# 특별한 경우들\n",
        "print(\"6. 특별한 경우들\")\n",
        "print(\"정수와의 연산:\")\n",
        "r_int = Rational(5, 1)  # 정수 5\n",
        "print(f\"정수 표현: {r_int}\")"
      ],
      "metadata": {
        "colab": {
          "base_uri": "https://localhost:8080/"
        },
        "id": "cm_dMW1hykOc",
        "outputId": "0a6ca09d-1744-454d-a32e-91363a983c08"
      },
      "execution_count": 10,
      "outputs": [
        {
          "output_type": "stream",
          "name": "stdout",
          "text": [
            "6. 특별한 경우들\n",
            "정수와의 연산:\n",
            "정수 표현: 5\n"
          ]
        }
      ]
    },
    {
      "cell_type": "code",
      "source": [
        "print(\"\\n음수가 포함된 연산:\")\n",
        "r_neg1 = Rational(-3, 7)\n",
        "r_neg2 = Rational(2, -5)  # 분모가 음수인 경우\n",
        "print(f\"{r_neg1} + {r_neg2} = {r_neg1 + r_neg2}\")"
      ],
      "metadata": {
        "colab": {
          "base_uri": "https://localhost:8080/"
        },
        "id": "dPeWv_5xykxH",
        "outputId": "baa848bb-e77e-408d-9fe6-2f2f450dee61"
      },
      "execution_count": 11,
      "outputs": [
        {
          "output_type": "stream",
          "name": "stdout",
          "text": [
            "\n",
            "음수가 포함된 연산:\n",
            "-3/7 + -2/5 = -29/35\n"
          ]
        }
      ]
    }
  ]
}