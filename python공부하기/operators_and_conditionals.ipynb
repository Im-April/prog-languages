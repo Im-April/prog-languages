{
  "nbformat": 4,
  "nbformat_minor": 0,
  "metadata": {
    "colab": {
      "provenance": []
    },
    "kernelspec": {
      "name": "python3",
      "display_name": "Python 3"
    },
    "language_info": {
      "name": "python"
    }
  },
  "cells": [
    {
      "cell_type": "code",
      "execution_count": 3,
      "metadata": {
        "colab": {
          "base_uri": "https://localhost:8080/"
        },
        "id": "zlnEUO7REnj9",
        "outputId": "61562d8f-b9c4-4f8d-89a1-35e7d1358304"
      },
      "outputs": [
        {
          "output_type": "stream",
          "name": "stdout",
          "text": [
            "어서오세요\n",
            "이름을 입력하세요 : 마루집사\n",
            "마루집사님 안녕하세요\n",
            "생년을 입력하세요 : 2000\n",
            "2025-07-18\n",
            "마루집사님은 2025년 현재 25세 입니다.\n",
            "마루집사님은 성인입니다.\n"
          ]
        }
      ],
      "source": [
        "import datetime\n",
        "\n",
        "print('어서오세요')\n",
        "\n",
        "name = input('이름을 입력하세요 : ')\n",
        "print(f'{name}님 안녕하세요')\n",
        "birth_year = int(input('생년을 입력하세요 : '))\n",
        "\n",
        "# 현재 날짜를 str_today 변수에 저장한다.\n",
        "str_today = str(datetime.date.today())\n",
        "print(str_today)\n",
        "\n",
        "# 현재 날짜에서 연도만 추출한다.\n",
        "now_year = int(str_today.split('-')[0])\n",
        "\n",
        "# 현재 연도에서 생년을 빼면 나이가 된다.\n",
        "age = now_year - birth_year\n",
        "\n",
        "# 출력\n",
        "print(f'{name}님은 {now_year}년 현재 {age}세 입니다.')\n",
        "\n",
        "# 성인인지 아닌지..\n",
        "if (age < 19) :\n",
        "  print(f'{name}님은 미성년자 입니다.')\n",
        "else :\n",
        "  print(f'{name}님은 성인입니다.')\n"
      ]
    },
    {
      "cell_type": "code",
      "source": [
        "# 산술 연산자\n",
        "\n",
        "a = 20\n",
        "\n",
        "result = a + 10\n",
        "print(f'덧셈 결과 : a + 10 = {result}')\n",
        "\n",
        "resutl = a - 10\n",
        "print(f'뺄셈 결과 : a - 10 = {result}')\n",
        "\n",
        "result = a * 10\n",
        "print(f'곱셈 결과 : a * 10 = {result}')\n",
        "\n",
        "result = a / 3\n",
        "print(f'나눗셈 결과 : a / 3 = {result}')\n",
        "\n",
        "result = a // 3\n",
        "print(f'몫의 연산자 : 10 // 3 = {result}')\n",
        "\n",
        "result = a % 3\n",
        "print(f'나머지 연산자 : 10 % 3 = {result}')"
      ],
      "metadata": {
        "colab": {
          "base_uri": "https://localhost:8080/"
        },
        "id": "AdIT6tGyHZeG",
        "outputId": "46488af4-b56e-4c3d-d6dd-d915e115262c"
      },
      "execution_count": 11,
      "outputs": [
        {
          "output_type": "stream",
          "name": "stdout",
          "text": [
            "덧셈 결과 : a + 10 = 30\n",
            "뺄셈 결과 : a - 10 = 30\n",
            "곱셈 결과 : a * 10 = 200\n",
            "나눗셈 결과 : a / 3 = 6.666666666666667\n",
            "몫의 연산자 : 10 // 3 = 6\n",
            "나머지 연산자 : 10 % 3 = 2\n"
          ]
        }
      ]
    },
    {
      "cell_type": "code",
      "source": [
        "# 비교 연산자\n",
        "\n",
        "result = 10\n",
        "\n",
        "isTrue = result == 10\n",
        "print(f'result == 10 의 결과 : {isTrue}')\n",
        "\n",
        "isTrue = result > 10\n",
        "print(f'result > 10 의 결과 : {isTrue}')\n",
        "\n",
        "isTrue = result < 10\n",
        "print(f'result < 10 의 결과 : {isTrue}')\n",
        "\n",
        "isTrue = result >= 10\n",
        "print(f'result >= 10 의 결과 : {isTrue}')\n",
        "\n",
        "isTrue = result <= 10\n",
        "print(f'result <= 10 의 결과 : {isTrue}')\n",
        "\n",
        "isTrue = result != 10\n",
        "print(f'result != 10 의 결과 : {isTrue}')"
      ],
      "metadata": {
        "colab": {
          "base_uri": "https://localhost:8080/"
        },
        "id": "IDlOvXykKGxj",
        "outputId": "6be76f3d-c93c-47cc-97bb-040469394499"
      },
      "execution_count": 14,
      "outputs": [
        {
          "output_type": "stream",
          "name": "stdout",
          "text": [
            "result == 10 의 결과 : True\n",
            "result > 10 의 결과 : False\n",
            "result < 10 의 결과 : False\n",
            "result >= 10 의 결과 : True\n",
            "result <= 10 의 결과 : True\n",
            "result != 10 의 결과 : False\n"
          ]
        }
      ]
    },
    {
      "cell_type": "code",
      "source": [
        "result = 10\n",
        "print(f'result 변수의 값 : {result}')\n",
        "\n",
        "result += 10\n",
        "print(f'result += 10 실행 후 결과 : {result}')\n",
        "\n",
        "result -= 10\n",
        "print(f'result -= 10 실행 후 결과 : {result}')\n",
        "\n",
        "result *= 10\n",
        "print(f'result *= 10 실행 후 결과 : {result}')\n",
        "\n",
        "result //= 10\n",
        "print(f'result //= 10 실행 후 결과 : {result}')\n",
        "\n",
        "result %= 10\n",
        "print(f'result %= 10 실행 후 결과 : {result}')"
      ],
      "metadata": {
        "colab": {
          "base_uri": "https://localhost:8080/"
        },
        "id": "GYE-LvMWQf4Z",
        "outputId": "204caf5f-4345-464d-e49b-757966266cae"
      },
      "execution_count": 17,
      "outputs": [
        {
          "output_type": "stream",
          "name": "stdout",
          "text": [
            "result 변수의 값 : 10\n",
            "result += 10 실행 후 결과 : 20\n",
            "result -= 10 실행 후 결과 : 10\n",
            "result *= 10 실행 후 결과 : 100\n",
            "result //= 10 실행 후 결과 : 10\n",
            "result %= 10 실행 후 결과 : 0\n"
          ]
        }
      ]
    },
    {
      "cell_type": "code",
      "source": [
        "# 논리 연산자\n",
        "\n",
        "isTrue = True and True\n",
        "print(f'True and True 의 결과 : {isTrue}')\n",
        "\n",
        "isTrue = True and False\n",
        "print(f'True and False 의 결과 : {isTrue}')\n",
        "\n",
        "isTrue = False and True\n",
        "print(f'False and True 의 결과 : {isTrue}')\n",
        "\n",
        "isTrue = False and False\n",
        "print(f'False and False 의 결과 : {isTrue}')\n",
        "\n",
        "print('{:-^40}'.format('OR'))\n",
        "\n",
        "isTrue = True or True\n",
        "print(f'True or True : {isTrue}')\n",
        "\n",
        "isTrue = True or False\n",
        "print(f'True or False : {isTrue}')\n",
        "\n",
        "isTrue = False or True\n",
        "print(f'False or True : {isTrue}')\n",
        "\n",
        "isTrue = False or False\n",
        "print(f'False or False : {isTrue}')"
      ],
      "metadata": {
        "colab": {
          "base_uri": "https://localhost:8080/"
        },
        "id": "RVd3h44wRNIQ",
        "outputId": "424a3eec-df78-4f87-999e-4a9ce92057e1"
      },
      "execution_count": 23,
      "outputs": [
        {
          "output_type": "stream",
          "name": "stdout",
          "text": [
            "True and True 의 결과 : True\n",
            "True and False 의 결과 : False\n",
            "False and True 의 결과 : False\n",
            "False and False 의 결과 : False\n",
            "-------------------OR-------------------\n",
            "True or True : True\n",
            "True or False : True\n",
            "False or True : True\n",
            "False or False : False\n"
          ]
        }
      ]
    },
    {
      "cell_type": "code",
      "source": [
        "# 삼항 연산자\n",
        "\n",
        "num = 120\n",
        "result = \"100 보다 크다\" if num > 100 else \"100 이하이다.\"\n",
        "print(result)\n",
        "\n",
        "# 삼항 연산자에서 즉시 출력\n",
        "print('True 입니다.') if False else print('False 입니다.')\n",
        "print('True 입니다.') if True else print('False 입니다.')"
      ],
      "metadata": {
        "colab": {
          "base_uri": "https://localhost:8080/"
        },
        "id": "8vkgD0GaTDUI",
        "outputId": "5ae8c5ec-9f6c-421b-e583-65d7ce3515a3"
      },
      "execution_count": 25,
      "outputs": [
        {
          "output_type": "stream",
          "name": "stdout",
          "text": [
            "100 보다 크다\n",
            "False 입니다.\n",
            "True 입니다.\n"
          ]
        }
      ]
    },
    {
      "cell_type": "code",
      "source": [
        "# if문 예제\n",
        "\n",
        "import sys\n",
        "\n",
        "name = input('성명 입력 : ')\n",
        "\n",
        "if len(name) == 0 :\n",
        "  print('성명을 입력 하지 않았습니다 !')\n",
        "  sys.exit()\n",
        "\n",
        "print(f'당신의 이름은 {name}이고 {len(name)}글자 입니다.')"
      ],
      "metadata": {
        "colab": {
          "base_uri": "https://localhost:8080/"
        },
        "id": "DAN8iy24Tx6d",
        "outputId": "30cced16-884f-4a1f-eb1c-f55383fab138"
      },
      "execution_count": 28,
      "outputs": [
        {
          "output_type": "stream",
          "name": "stdout",
          "text": [
            "성명 입력 : 마루집사\n",
            "당신의 이름은 마루집사이고 4글자 입니다.\n"
          ]
        }
      ]
    },
    {
      "cell_type": "code",
      "source": [
        "# if ~ else 문\n",
        "\n",
        "num = int(input('정수 입력 : '))\n",
        "\n",
        "print('결과 => ', end='')\n",
        "\n",
        "if num%2 == 0 :\n",
        "  print('짝수 입니다.')\n",
        "else :\n",
        "  print('홀수 입니다.')"
      ],
      "metadata": {
        "colab": {
          "base_uri": "https://localhost:8080/"
        },
        "id": "FEI09XWzUOKQ",
        "outputId": "05c56772-54f4-4453-b0a7-c4797072e134"
      },
      "execution_count": 29,
      "outputs": [
        {
          "output_type": "stream",
          "name": "stdout",
          "text": [
            "정수 입력 : 22\n",
            "결과 => 짝수 입니다.\n"
          ]
        }
      ]
    },
    {
      "cell_type": "code",
      "source": [
        "# if 문을 이용해서 유효성 검사\n",
        "\n",
        "name = input('이름을 입력하세요 : ')\n",
        "\n",
        "if len(name) == 0 :\n",
        "  print('Error : 성명을 입력하지 않았습니다.')\n",
        "else :\n",
        "  age = int(input('나이를 입력하세요 : '))\n",
        "  print(f'당신의 이름은 {name}이고, {age}세 입니다.')\n",
        "  print(f'당신은 10년 후에 {age + 10}세 입니다.')\n",
        "\n",
        "print('프로그램 종료')"
      ],
      "metadata": {
        "colab": {
          "base_uri": "https://localhost:8080/"
        },
        "id": "tb0cmCLZUl91",
        "outputId": "ba9b7dfc-c4c5-4031-bdc9-bb745229c0d3"
      },
      "execution_count": 30,
      "outputs": [
        {
          "output_type": "stream",
          "name": "stdout",
          "text": [
            "이름을 입력하세요 : 마루집사\n",
            "나이를 입력하세요 : 28\n",
            "당신의 이름은 마루집사이고, 28세 입니다.\n",
            "당신은 10년 후에 38세 입니다.\n",
            "프로그램 종료\n"
          ]
        }
      ]
    },
    {
      "cell_type": "code",
      "source": [
        "# if ~ else문을 이용하여 데이터 값 구분\n",
        "\n",
        "integer = int(input('정수를 입력 하세요 : '))\n",
        "\n",
        "print(integer,':', end='')\n",
        "\n",
        "if integer == 0 :\n",
        "  print('\\'0\\, 입니다.')\n",
        "if integer == 5 :\n",
        "  print(\"\\'5\\' 입니다.\")\n",
        "elif integer%3==0 :\n",
        "  print('\\'3의 배수\\' 입니다.')\n",
        "else :\n",
        "  print('3의 배수가 아닙니다.')"
      ],
      "metadata": {
        "colab": {
          "base_uri": "https://localhost:8080/"
        },
        "id": "TrBkyEfxVQ6O",
        "outputId": "537a0f1e-156f-485d-abc7-3886d17abe9c"
      },
      "execution_count": 31,
      "outputs": [
        {
          "output_type": "stream",
          "name": "stdout",
          "text": [
            "정수를 입력 하세요 : 30\n",
            "30 :'3의 배수' 입니다.\n"
          ]
        }
      ]
    },
    {
      "cell_type": "code",
      "source": [
        "# 다중 if 문\n",
        "\n",
        "score = int(input('성적 입력 : '))\n",
        "grade = 'F'\n",
        "\n",
        "if score >= 90 :\n",
        "  grade = 'A'\n",
        "elif score >= 80 :\n",
        "  grade = 'B'\n",
        "elif score >= 70 :\n",
        "  grade = 'C'\n",
        "elif score > 60 :\n",
        "  grade = 'D'\n",
        "else :\n",
        "  grade = 'F'\n",
        "\n",
        "print(f'{score}점은 {grade}학점 입니다.')"
      ],
      "metadata": {
        "colab": {
          "base_uri": "https://localhost:8080/"
        },
        "id": "r_eFdjh1XgXu",
        "outputId": "a9d8235a-4b5e-41dd-c7b9-e42fb93814ff"
      },
      "execution_count": 32,
      "outputs": [
        {
          "output_type": "stream",
          "name": "stdout",
          "text": [
            "성적 입력 : 98\n",
            "98점은 A학점 입니다.\n"
          ]
        }
      ]
    },
    {
      "cell_type": "code",
      "source": [
        "# 중첩 if문 예제\n",
        "\n",
        "score = int(input('성적 입력 : '))\n",
        "grade = 'F'\n",
        "\n",
        "if score < 0 or score > 100 :\n",
        "  print('Error !')\n",
        "else :\n",
        "  if score >= 90 :\n",
        "    grade = 'A'\n",
        "  elif score >= 80 :\n",
        "    grade = 'B'\n",
        "  elif score >= 70 :\n",
        "    grade = 'C'\n",
        "  elif score > 60 :\n",
        "    grade = 'D'\n",
        "  else :\n",
        "    grade = 'F'\n",
        "\n",
        "  print(f'{score}점은 {grade}학점 입니다.')"
      ],
      "metadata": {
        "colab": {
          "base_uri": "https://localhost:8080/"
        },
        "id": "4-wAK3BlYTPv",
        "outputId": "552f5500-481f-43b3-b643-a3d18c078812"
      },
      "execution_count": 33,
      "outputs": [
        {
          "output_type": "stream",
          "name": "stdout",
          "text": [
            "성적 입력 : 76\n",
            "76점은 C학점 입니다.\n"
          ]
        }
      ]
    },
    {
      "cell_type": "code",
      "source": [
        "# while 반복문과 if 조건문 예제\n",
        "\n",
        "grade = 'F'\n",
        "score = int(input('성적을 입력하세요 : '))\n",
        "\n",
        "\n",
        "while not(score in range(0,101)) :\n",
        "  print('Error !')\n",
        "  score = int(input('성적을 다시 입력하세요 : '))\n",
        "\n",
        "if score >= 90 :\n",
        "  grade = 'A'\n",
        "elif score >= 80 :\n",
        "  grade = 'B'\n",
        "elif score >= 70 :\n",
        "  grade = 'C'\n",
        "elif score > 60 :\n",
        "  grade = 'D'\n",
        "\n",
        "num = score % 10\n",
        "if num > 7 :\n",
        "  grade = str(grade) +'+'\n",
        "elif num < 3 :\n",
        "  grade = str(grade) + '-'\n",
        "\n",
        "print(f'{score}점은 {grade}학점 입니다.')"
      ],
      "metadata": {
        "colab": {
          "base_uri": "https://localhost:8080/"
        },
        "id": "GkZ2deonYwYh",
        "outputId": "a1f37fa5-e16d-41db-f0c8-d8cec3ad586a"
      },
      "execution_count": 37,
      "outputs": [
        {
          "output_type": "stream",
          "name": "stdout",
          "text": [
            "성적을 입력하세요 : 99\n",
            "99점은 A+학점 입니다.\n"
          ]
        }
      ]
    }
  ]
}