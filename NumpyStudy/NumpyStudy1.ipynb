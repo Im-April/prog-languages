{
  "nbformat": 4,
  "nbformat_minor": 0,
  "metadata": {
    "colab": {
      "provenance": []
    },
    "kernelspec": {
      "name": "python3",
      "display_name": "Python 3"
    },
    "language_info": {
      "name": "python"
    }
  },
  "cells": [
    {
      "cell_type": "markdown",
      "source": [
        "# Numpy\n",
        "- 고성능 과학 계산용 패키지로 강력한 N차원 배열 객체\n",
        "- 범용적 데이터 처리에 사용 가능한 다차원 컨테이너\n",
        "- 정교한 브로드캐스팅 기능\n",
        "- 파이썬의 자료형 list와 비슷하지만, 더 빠르고 메모리를 효율적으로 관리\n",
        "- 반복문 없이 데이터 배열에 대한 처리를 지원하여 빠르고 편의\n",
        "- 데이터 과학 도구에 대한 생태계의 핵심을 이루고 있음\n",
        "\n"
      ],
      "metadata": {
        "id": "5pIO8ShwpMJX"
      }
    },
    {
      "cell_type": "code",
      "execution_count": 3,
      "metadata": {
        "colab": {
          "base_uri": "https://localhost:8080/",
          "height": 35
        },
        "id": "FsX7hzZql83j",
        "outputId": "ab091344-d3c1-408f-b3b8-57a3992e36f6"
      },
      "outputs": [
        {
          "output_type": "execute_result",
          "data": {
            "text/plain": [
              "'2.0.2'"
            ],
            "application/vnd.google.colaboratory.intrinsic+json": {
              "type": "string"
            }
          },
          "metadata": {},
          "execution_count": 3
        }
      ],
      "source": [
        "import numpy as np\n",
        "\n",
        "np.__version__"
      ]
    },
    {
      "cell_type": "markdown",
      "source": [
        "## 배열 생성"
      ],
      "metadata": {
        "id": "E_gDxyc3qOrD"
      }
    },
    {
      "cell_type": "code",
      "source": [
        "a1 = np.array([1,2,3,4,5])\n",
        "print(a1)\n",
        "print(type(a1))\n",
        "print(a1.shape)\n",
        "print(a1[0], a1[1], a1[2])\n",
        "a1[0] = 6\n",
        "a1[1] = 7\n",
        "print(a1)"
      ],
      "metadata": {
        "colab": {
          "base_uri": "https://localhost:8080/"
        },
        "id": "rJP0AmK9puPH",
        "outputId": "c73c8e07-a403-4cb0-dbbc-da1181d4e91e"
      },
      "execution_count": 9,
      "outputs": [
        {
          "output_type": "stream",
          "name": "stdout",
          "text": [
            "[1 2 3 4 5]\n",
            "<class 'numpy.ndarray'>\n",
            "(5,)\n",
            "1 2 3\n",
            "[6 7 3 4 5]\n"
          ]
        }
      ]
    },
    {
      "cell_type": "code",
      "source": [
        "a2 = np.array([[1,2,3],[4,5,6],[7,8,9]])\n",
        "print(a2)\n",
        "print(a2.shape)\n",
        "print(type(a2))\n",
        "print(a2[0,0],a2[1,1],a2[2,2])"
      ],
      "metadata": {
        "colab": {
          "base_uri": "https://localhost:8080/"
        },
        "id": "lTIGyAhuqabH",
        "outputId": "fcd1147a-7794-4f4b-d805-a6e7d30d882c"
      },
      "execution_count": 14,
      "outputs": [
        {
          "output_type": "stream",
          "name": "stdout",
          "text": [
            "[[1 2 3]\n",
            " [4 5 6]\n",
            " [7 8 9]]\n",
            "(3, 3)\n",
            "<class 'numpy.ndarray'>\n",
            "1 5 9\n"
          ]
        }
      ]
    },
    {
      "cell_type": "code",
      "source": [
        "a3 = np.array([[[1,2,3],[4,5,6],[7,8,9,]],\n",
        "               [[1,2,3],[4,5,6],[7,8,9]],\n",
        "               [[1,2,3],[4,5,6],[7,8,9]]])\n",
        "\n",
        "print(a3)\n",
        "print(a3.shape)"
      ],
      "metadata": {
        "colab": {
          "base_uri": "https://localhost:8080/"
        },
        "id": "wcnZNxmSrnQ-",
        "outputId": "b366886e-5d4d-425b-f06d-d2068cf7e5c6"
      },
      "execution_count": 17,
      "outputs": [
        {
          "output_type": "stream",
          "name": "stdout",
          "text": [
            "[[[1 2 3]\n",
            "  [4 5 6]\n",
            "  [7 8 9]]\n",
            "\n",
            " [[1 2 3]\n",
            "  [4 5 6]\n",
            "  [7 8 9]]\n",
            "\n",
            " [[1 2 3]\n",
            "  [4 5 6]\n",
            "  [7 8 9]]]\n",
            "(3, 3, 3)\n"
          ]
        }
      ]
    },
    {
      "cell_type": "markdown",
      "source": [
        "## 배열 생성 및 초기화"
      ],
      "metadata": {
        "id": "QJLHgobGsQgU"
      }
    },
    {
      "cell_type": "code",
      "source": [
        "# 모든 요소를 0으로 초기화\n",
        "\n",
        "np.zeros(10) # 1차원"
      ],
      "metadata": {
        "colab": {
          "base_uri": "https://localhost:8080/"
        },
        "id": "qSo_VTZesP5X",
        "outputId": "3144e0a8-15b0-4de6-83c7-8b986d2c66a8"
      },
      "execution_count": 18,
      "outputs": [
        {
          "output_type": "execute_result",
          "data": {
            "text/plain": [
              "array([0., 0., 0., 0., 0., 0., 0., 0., 0., 0.])"
            ]
          },
          "metadata": {},
          "execution_count": 18
        }
      ]
    },
    {
      "cell_type": "code",
      "source": [
        "# 모든 요소를 1로 초기화\n",
        "\n",
        "np.ones(10) # 1차원"
      ],
      "metadata": {
        "colab": {
          "base_uri": "https://localhost:8080/"
        },
        "id": "_HN9VrBDsYwv",
        "outputId": "d23aa2bf-e444-438a-a5e6-1e74f5fb80a0"
      },
      "execution_count": 19,
      "outputs": [
        {
          "output_type": "execute_result",
          "data": {
            "text/plain": [
              "array([1., 1., 1., 1., 1., 1., 1., 1., 1., 1.])"
            ]
          },
          "metadata": {},
          "execution_count": 19
        }
      ]
    },
    {
      "cell_type": "code",
      "source": [
        "np.ones((3,3)) # 2차원"
      ],
      "metadata": {
        "colab": {
          "base_uri": "https://localhost:8080/"
        },
        "id": "gTF9RcJ8sb9V",
        "outputId": "a9933866-467a-4704-aded-927530e02819"
      },
      "execution_count": 21,
      "outputs": [
        {
          "output_type": "execute_result",
          "data": {
            "text/plain": [
              "array([[1., 1., 1.],\n",
              "       [1., 1., 1.],\n",
              "       [1., 1., 1.]])"
            ]
          },
          "metadata": {},
          "execution_count": 21
        }
      ]
    },
    {
      "cell_type": "code",
      "source": [
        "# 모든 요소를 지정한 값으로 초기화\n",
        "\n",
        "np.full((3,3),1.5)"
      ],
      "metadata": {
        "colab": {
          "base_uri": "https://localhost:8080/"
        },
        "id": "VSAPbpXPsmxb",
        "outputId": "97de1a1b-9fc9-4b6b-d589-96de02e8a40d"
      },
      "execution_count": 23,
      "outputs": [
        {
          "output_type": "execute_result",
          "data": {
            "text/plain": [
              "array([[1.5, 1.5, 1.5],\n",
              "       [1.5, 1.5, 1.5],\n",
              "       [1.5, 1.5, 1.5]])"
            ]
          },
          "metadata": {},
          "execution_count": 23
        }
      ]
    },
    {
      "cell_type": "code",
      "source": [
        "# 단위 행렬\n",
        "# 주대각선의 원소가 모두 1이고, 나머지 원소는 모두 0인 정사각 행렬\n",
        "\n",
        "np.eye(3)"
      ],
      "metadata": {
        "colab": {
          "base_uri": "https://localhost:8080/"
        },
        "id": "gtx7t3dKsytR",
        "outputId": "7ac8b10c-bb34-4c20-93e4-7e766b5e406e"
      },
      "execution_count": 24,
      "outputs": [
        {
          "output_type": "execute_result",
          "data": {
            "text/plain": [
              "array([[1., 0., 0.],\n",
              "       [0., 1., 0.],\n",
              "       [0., 0., 1.]])"
            ]
          },
          "metadata": {},
          "execution_count": 24
        }
      ]
    },
    {
      "cell_type": "code",
      "source": [
        "# 삼각행렬 생성\n",
        "\n",
        "np.tri(3)"
      ],
      "metadata": {
        "colab": {
          "base_uri": "https://localhost:8080/"
        },
        "id": "BLBQVokns8Mh",
        "outputId": "8d7fd556-3a8f-46b5-9041-cc4593d69f1b"
      },
      "execution_count": 25,
      "outputs": [
        {
          "output_type": "execute_result",
          "data": {
            "text/plain": [
              "array([[1., 0., 0.],\n",
              "       [1., 1., 0.],\n",
              "       [1., 1., 1.]])"
            ]
          },
          "metadata": {},
          "execution_count": 25
        }
      ]
    },
    {
      "cell_type": "code",
      "source": [
        "# 초기화되지 않은 배열 생성\n",
        "# 초기화가 없어서 배열 생성비용 저렴하고 빠름\n",
        "# 초기화되지 않아서 기존 메모리 위치에 존재하는 값이 있음\n",
        "\n",
        "np.empty(10)"
      ],
      "metadata": {
        "colab": {
          "base_uri": "https://localhost:8080/"
        },
        "id": "v7HAAGWTtIsH",
        "outputId": "9f876d7a-6c1b-460d-eed4-500e9e0d3b47"
      },
      "execution_count": 26,
      "outputs": [
        {
          "output_type": "execute_result",
          "data": {
            "text/plain": [
              "array([1., 1., 1., 1., 1., 1., 1., 1., 1., 1.])"
            ]
          },
          "metadata": {},
          "execution_count": 26
        }
      ]
    },
    {
      "cell_type": "markdown",
      "source": [
        "<b>_like()</b> : 지정된 배열과 shape가 같은 행렬 생성\n",
        "- `np.zeros_like()`\n",
        "- `np.ones_like()`\n",
        "- `np.full_like()`\n",
        "- `np.empty_liek()`"
      ],
      "metadata": {
        "id": "Nrwsr1P0toeE"
      }
    },
    {
      "cell_type": "code",
      "source": [
        "print(a1)\n",
        "np.zeros_like(a1)"
      ],
      "metadata": {
        "colab": {
          "base_uri": "https://localhost:8080/"
        },
        "id": "yodU-5pdtYHV",
        "outputId": "cc1efdaa-f725-47e9-9c60-c76251629792"
      },
      "execution_count": 27,
      "outputs": [
        {
          "output_type": "stream",
          "name": "stdout",
          "text": [
            "[6 7 3 4 5]\n"
          ]
        },
        {
          "output_type": "execute_result",
          "data": {
            "text/plain": [
              "array([0, 0, 0, 0, 0])"
            ]
          },
          "metadata": {},
          "execution_count": 27
        }
      ]
    },
    {
      "cell_type": "code",
      "source": [
        "print(a2)\n",
        "np.ones_like(a2)"
      ],
      "metadata": {
        "colab": {
          "base_uri": "https://localhost:8080/"
        },
        "id": "Eplfmc7wuGhS",
        "outputId": "6f306cd0-8399-4c3c-b0e6-c548ca42ef1e"
      },
      "execution_count": 28,
      "outputs": [
        {
          "output_type": "stream",
          "name": "stdout",
          "text": [
            "[[1 2 3]\n",
            " [4 5 6]\n",
            " [7 8 9]]\n"
          ]
        },
        {
          "output_type": "execute_result",
          "data": {
            "text/plain": [
              "array([[1, 1, 1],\n",
              "       [1, 1, 1],\n",
              "       [1, 1, 1]])"
            ]
          },
          "metadata": {},
          "execution_count": 28
        }
      ]
    },
    {
      "cell_type": "code",
      "source": [
        "print(a3)\n",
        "np.full_like(a3,10)"
      ],
      "metadata": {
        "colab": {
          "base_uri": "https://localhost:8080/"
        },
        "id": "8S8WmmSOuKr6",
        "outputId": "a0085ec7-9249-40af-bf7f-903bf06bef91"
      },
      "execution_count": 29,
      "outputs": [
        {
          "output_type": "stream",
          "name": "stdout",
          "text": [
            "[[[1 2 3]\n",
            "  [4 5 6]\n",
            "  [7 8 9]]\n",
            "\n",
            " [[1 2 3]\n",
            "  [4 5 6]\n",
            "  [7 8 9]]\n",
            "\n",
            " [[1 2 3]\n",
            "  [4 5 6]\n",
            "  [7 8 9]]]\n"
          ]
        },
        {
          "output_type": "execute_result",
          "data": {
            "text/plain": [
              "array([[[10, 10, 10],\n",
              "        [10, 10, 10],\n",
              "        [10, 10, 10]],\n",
              "\n",
              "       [[10, 10, 10],\n",
              "        [10, 10, 10],\n",
              "        [10, 10, 10]],\n",
              "\n",
              "       [[10, 10, 10],\n",
              "        [10, 10, 10],\n",
              "        [10, 10, 10]]])"
            ]
          },
          "metadata": {},
          "execution_count": 29
        }
      ]
    },
    {
      "cell_type": "code",
      "source": [
        "# 정수 범위로 배열 생성\n",
        "\n",
        "np.arange(0,30,2) # 0부터 30까지 2스탭으로"
      ],
      "metadata": {
        "colab": {
          "base_uri": "https://localhost:8080/"
        },
        "id": "YrciyvRJuQID",
        "outputId": "92dccea0-93f7-4be0-9660-09dbce73b628"
      },
      "execution_count": 31,
      "outputs": [
        {
          "output_type": "execute_result",
          "data": {
            "text/plain": [
              "array([ 0,  2,  4,  6,  8, 10, 12, 14, 16, 18, 20, 22, 24, 26, 28])"
            ]
          },
          "metadata": {},
          "execution_count": 31
        }
      ]
    },
    {
      "cell_type": "code",
      "source": [
        "# 범위 내에서 균등 간격의 배열 생성\n",
        "\n",
        "np.linspace(0,1,5)"
      ],
      "metadata": {
        "colab": {
          "base_uri": "https://localhost:8080/"
        },
        "id": "6zQCGsM5ug2Q",
        "outputId": "5495e7c6-b802-489c-dd03-422b23f5770e"
      },
      "execution_count": 32,
      "outputs": [
        {
          "output_type": "execute_result",
          "data": {
            "text/plain": [
              "array([0.  , 0.25, 0.5 , 0.75, 1.  ])"
            ]
          },
          "metadata": {},
          "execution_count": 32
        }
      ]
    },
    {
      "cell_type": "code",
      "source": [
        "# 범위 내에서 균등간격으로 로그 스케일로 배열 생성\n",
        "\n",
        "np.logspace(0.1, 1, 20)"
      ],
      "metadata": {
        "colab": {
          "base_uri": "https://localhost:8080/"
        },
        "id": "UbiNBsdkuq3U",
        "outputId": "8a22335c-fa41-476c-f892-04858a6e5823"
      },
      "execution_count": 33,
      "outputs": [
        {
          "output_type": "execute_result",
          "data": {
            "text/plain": [
              "array([ 1.25892541,  1.40400425,  1.565802  ,  1.74624535,  1.94748304,\n",
              "        2.1719114 ,  2.42220294,  2.70133812,  3.0126409 ,  3.35981829,\n",
              "        3.74700446,  4.17881006,  4.66037703,  5.19743987,  5.79639395,\n",
              "        6.46437163,  7.2093272 ,  8.04013161,  8.9666781 , 10.        ])"
            ]
          },
          "metadata": {},
          "execution_count": 33
        }
      ]
    },
    {
      "cell_type": "code",
      "source": [
        "# 로그 스케일 복습\n",
        "\n",
        "a = np.logspace(0, 5, num=6, base=2, dtype=int)\n",
        "print(a)"
      ],
      "metadata": {
        "colab": {
          "base_uri": "https://localhost:8080/"
        },
        "id": "3faHCI872Sp2",
        "outputId": "6249e077-f692-4afd-9fb6-26c872d356f6"
      },
      "execution_count": 37,
      "outputs": [
        {
          "output_type": "stream",
          "name": "stdout",
          "text": [
            "[ 1  2  4  8 16 32]\n"
          ]
        }
      ]
    },
    {
      "cell_type": "markdown",
      "source": [
        "## 랜덤값으로 배열 생성\n",
        "| 함수 | 설명 |\n",
        "|------|------|\n",
        "|`seed`|난수 발생을 위한 시드(seed) 생성|\n",
        "|`permutation`|순서를 임의로 바꾸거나 임의의 순열 반환|\n",
        "|`shuffle`|리스트나 배열의 순서를 뒤섞음|\n",
        "|`random`|랜덤한 수의 배열 생성|\n",
        "|`rand`|균등분포에서 표본 추출|\n",
        "|`randint`|주어진 최소/최대 범위의 난수 추출|\n",
        "|`randn`|표준편차가 1, 평균값이 0인 정규분포의 표본 추출|\n",
        "|`binomial`|이항분포에서 표본 추출|\n",
        "|`normal`|정규분포(가우시안)에서 표본 추출|\n",
        "|`beta`|베타분포에서 표본 추출|\n",
        "|`chisquare`|카이제곱분포에서 표본 추출|\n",
        "|`gamma`|감마분포에서 표본 추출|\n",
        "|`uniform`|균등(0,1)분포에서 표본 추출|"
      ],
      "metadata": {
        "id": "ymk4QpiXwHzh"
      }
    },
    {
      "cell_type": "code",
      "source": [
        "# 랜덤한 수의 배열 생성\n",
        "np.random.random((3,3))"
      ],
      "metadata": {
        "colab": {
          "base_uri": "https://localhost:8080/"
        },
        "id": "OIleCEkFu35K",
        "outputId": "90e1be34-0a7b-4ddb-f453-2c0dbc905bef"
      },
      "execution_count": 34,
      "outputs": [
        {
          "output_type": "execute_result",
          "data": {
            "text/plain": [
              "array([[0.27995641, 0.33129213, 0.10184751],\n",
              "       [0.36685621, 0.45987492, 0.76533401],\n",
              "       [0.10661304, 0.27141088, 0.04599761]])"
            ]
          },
          "metadata": {},
          "execution_count": 34
        }
      ]
    },
    {
      "cell_type": "code",
      "source": [
        "# 일정 구간의 랜덤 정수의 배열 생성\n",
        "\n",
        "np.random.randint(0, 10, (3, 3))"
      ],
      "metadata": {
        "colab": {
          "base_uri": "https://localhost:8080/"
        },
        "id": "ZjD1YNpxyhhA",
        "outputId": "055ccb82-4eea-495b-b44b-31cc78d520c4"
      },
      "execution_count": 35,
      "outputs": [
        {
          "output_type": "execute_result",
          "data": {
            "text/plain": [
              "array([[5, 2, 3],\n",
              "       [8, 0, 2],\n",
              "       [6, 1, 4]])"
            ]
          },
          "metadata": {},
          "execution_count": 35
        }
      ]
    },
    {
      "cell_type": "code",
      "source": [
        "# 정규분포를 고려한 랜덤한 수의 배열 생성\n",
        "# 평균 = 0, 표준편차 = 1, 3x3 배열\n",
        "\n",
        "np.random.normal(0, 1, size=(3,3))"
      ],
      "metadata": {
        "colab": {
          "base_uri": "https://localhost:8080/"
        },
        "id": "72rLZmquys4Y",
        "outputId": "7d821d82-5428-4e84-f5df-821a3c5a5e29"
      },
      "execution_count": 38,
      "outputs": [
        {
          "output_type": "execute_result",
          "data": {
            "text/plain": [
              "array([[ 1.37035916, -0.00713138, -0.53284088],\n",
              "       [ 2.26005502,  0.34003513,  0.01734043],\n",
              "       [ 0.90876358, -0.1947044 , -0.55212895]])"
            ]
          },
          "metadata": {},
          "execution_count": 38
        }
      ]
    },
    {
      "cell_type": "code",
      "source": [
        "# 균등분포를 고려한 랜덤한 의 배열 생성\n",
        "\n",
        "np.random.rand(3,3)"
      ],
      "metadata": {
        "colab": {
          "base_uri": "https://localhost:8080/"
        },
        "id": "yO2XmrcQ4K7w",
        "outputId": "29662037-e475-401e-f1a9-ad2aabc8aaff"
      },
      "execution_count": 39,
      "outputs": [
        {
          "output_type": "execute_result",
          "data": {
            "text/plain": [
              "array([[0.07632018, 0.6563818 , 0.65978215],\n",
              "       [0.76694307, 0.08448424, 0.6141083 ],\n",
              "       [0.32089009, 0.45596869, 0.15478634]])"
            ]
          },
          "metadata": {},
          "execution_count": 39
        }
      ]
    },
    {
      "cell_type": "code",
      "source": [
        "# 표준 정규 분포를 고려한 랜덤한 수의 배열 생성\n",
        "\n",
        "np.random.randn(3,3)"
      ],
      "metadata": {
        "colab": {
          "base_uri": "https://localhost:8080/"
        },
        "id": "L-ojGj-Q8kc4",
        "outputId": "33e0225f-87c4-434b-efdb-34988241e76d"
      },
      "execution_count": 40,
      "outputs": [
        {
          "output_type": "execute_result",
          "data": {
            "text/plain": [
              "array([[ 1.77439416, -0.17089048, -1.25507188],\n",
              "       [-1.46150976, -2.25060186,  0.21337124],\n",
              "       [ 1.66704082,  0.05371474, -1.66025874]])"
            ]
          },
          "metadata": {},
          "execution_count": 40
        }
      ]
    },
    {
      "cell_type": "markdown",
      "source": [
        "## 표준 데이터 타입"
      ],
      "metadata": {
        "id": "eYyZ1Tvb8wQU"
      }
    },
    {
      "cell_type": "code",
      "source": [
        "np.zeros(20, dtype=int)"
      ],
      "metadata": {
        "colab": {
          "base_uri": "https://localhost:8080/"
        },
        "id": "G-IzWlpR8uh_",
        "outputId": "45f9f2ea-3ab1-4a3e-bb3f-40b10ef6b6b3"
      },
      "execution_count": 41,
      "outputs": [
        {
          "output_type": "execute_result",
          "data": {
            "text/plain": [
              "array([0, 0, 0, 0, 0, 0, 0, 0, 0, 0, 0, 0, 0, 0, 0, 0, 0, 0, 0, 0])"
            ]
          },
          "metadata": {},
          "execution_count": 41
        }
      ]
    },
    {
      "cell_type": "code",
      "source": [
        "np.ones((3,3), dtype=bool)"
      ],
      "metadata": {
        "colab": {
          "base_uri": "https://localhost:8080/"
        },
        "id": "FDr-LV7B9GyJ",
        "outputId": "6d4360ed-70f4-4c6d-fd03-0338ef42bba5"
      },
      "execution_count": 42,
      "outputs": [
        {
          "output_type": "execute_result",
          "data": {
            "text/plain": [
              "array([[ True,  True,  True],\n",
              "       [ True,  True,  True],\n",
              "       [ True,  True,  True]])"
            ]
          },
          "metadata": {},
          "execution_count": 42
        }
      ]
    },
    {
      "cell_type": "code",
      "source": [
        "np.full((3, 3), 1.0, dtype=float)"
      ],
      "metadata": {
        "colab": {
          "base_uri": "https://localhost:8080/"
        },
        "id": "NxiWpxrk9LpI",
        "outputId": "8c5e77fd-69c6-4241-c42b-12ff33d33ea0"
      },
      "execution_count": 43,
      "outputs": [
        {
          "output_type": "execute_result",
          "data": {
            "text/plain": [
              "array([[1., 1., 1.],\n",
              "       [1., 1., 1.],\n",
              "       [1., 1., 1.]])"
            ]
          },
          "metadata": {},
          "execution_count": 43
        }
      ]
    },
    {
      "cell_type": "markdown",
      "source": [
        "## 날짜/시간 배열 생성"
      ],
      "metadata": {
        "id": "TQg1csUP9YB-"
      }
    },
    {
      "cell_type": "code",
      "source": [
        "date = np.array('2020-01-01', dtype=np.datetime64)\n",
        "date"
      ],
      "metadata": {
        "colab": {
          "base_uri": "https://localhost:8080/"
        },
        "id": "WtmcWwMq9VXB",
        "outputId": "a8c4b9f4-fffe-4506-b764-f57b6c11947d"
      },
      "execution_count": 45,
      "outputs": [
        {
          "output_type": "execute_result",
          "data": {
            "text/plain": [
              "array('2020-01-01', dtype='datetime64[D]')"
            ]
          },
          "metadata": {},
          "execution_count": 45
        }
      ]
    },
    {
      "cell_type": "code",
      "source": [
        "date + np.arange(12)"
      ],
      "metadata": {
        "colab": {
          "base_uri": "https://localhost:8080/"
        },
        "id": "2LDJ8mCl9tpf",
        "outputId": "48d3b0bc-d1d5-49f4-b35a-edfbf833af45"
      },
      "execution_count": 46,
      "outputs": [
        {
          "output_type": "execute_result",
          "data": {
            "text/plain": [
              "array(['2020-01-01', '2020-01-02', '2020-01-03', '2020-01-04',\n",
              "       '2020-01-05', '2020-01-06', '2020-01-07', '2020-01-08',\n",
              "       '2020-01-09', '2020-01-10', '2020-01-11', '2020-01-12'],\n",
              "      dtype='datetime64[D]')"
            ]
          },
          "metadata": {},
          "execution_count": 46
        }
      ]
    },
    {
      "cell_type": "code",
      "source": [
        "datetime = np.datetime64('2020-06-01 12:00')\n",
        "datetime"
      ],
      "metadata": {
        "colab": {
          "base_uri": "https://localhost:8080/"
        },
        "id": "4FKXJMri95LA",
        "outputId": "c812665b-2e40-4631-f70e-e8aac517190a"
      },
      "execution_count": 47,
      "outputs": [
        {
          "output_type": "execute_result",
          "data": {
            "text/plain": [
              "np.datetime64('2020-06-01T12:00')"
            ]
          },
          "metadata": {},
          "execution_count": 47
        }
      ]
    },
    {
      "cell_type": "code",
      "source": [
        "datetime = np.datetime64('2020-06-01 12:00:12.34','ns')\n",
        "datetime"
      ],
      "metadata": {
        "colab": {
          "base_uri": "https://localhost:8080/"
        },
        "id": "VHQ4bfVi-I9R",
        "outputId": "f7399257-dac5-4a07-86f7-91bc3cc4fb10"
      },
      "execution_count": 48,
      "outputs": [
        {
          "output_type": "execute_result",
          "data": {
            "text/plain": [
              "np.datetime64('2020-06-01T12:00:12.340000000')"
            ]
          },
          "metadata": {},
          "execution_count": 48
        }
      ]
    }
  ]
}