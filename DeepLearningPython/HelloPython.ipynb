{
 "cells": [
  {
   "cell_type": "code",
   "execution_count": 1,
   "id": "5ff85820",
   "metadata": {},
   "outputs": [
    {
     "name": "stdout",
     "output_type": "stream",
     "text": [
      "2\n",
      "20\n",
      "1.4\n",
      "9\n"
     ]
    }
   ],
   "source": [
    "# 산술 연산\n",
    "\n",
    "print(3-1)\n",
    "print(4*5)\n",
    "print(7/5)\n",
    "print(3**2)"
   ]
  },
  {
   "cell_type": "code",
   "execution_count": 2,
   "id": "95964186",
   "metadata": {},
   "outputs": [
    {
     "name": "stdout",
     "output_type": "stream",
     "text": [
      "<class 'int'>\n",
      "<class 'str'>\n",
      "<class 'float'>\n",
      "<class 'str'>\n",
      "<class 'bool'>\n"
     ]
    }
   ],
   "source": [
    "# 자료형\n",
    "\n",
    "print(type(10))\n",
    "print(type('10'))\n",
    "print(type(2.15))\n",
    "print(type('hello'))\n",
    "print(type(True))"
   ]
  },
  {
   "cell_type": "code",
   "execution_count": 6,
   "id": "fa91b083",
   "metadata": {},
   "outputs": [
    {
     "name": "stdout",
     "output_type": "stream",
     "text": [
      "10\n",
      "100\n",
      "314.0\n",
      "<class 'float'>\n"
     ]
    }
   ],
   "source": [
    "# 변수\n",
    "\n",
    "x = 10\n",
    "print(x)\n",
    "\n",
    "x = 100\n",
    "print(x)\n",
    "\n",
    "y = 3.14\n",
    "print(x * y)\n",
    "print(type(x * y))"
   ]
  },
  {
   "cell_type": "code",
   "execution_count": 7,
   "id": "33b771b7",
   "metadata": {},
   "outputs": [
    {
     "name": "stdout",
     "output_type": "stream",
     "text": [
      "[1, 2, 3, 4, 5]\n",
      "5\n",
      "1\n",
      "5\n",
      "[1, 2, 3, 4, 100]\n"
     ]
    }
   ],
   "source": [
    "# 리스트\n",
    "\n",
    "a = [1,2,3,4,5]\n",
    "print(a)\n",
    "print(len(a))\n",
    "print(a[0])\n",
    "print(a[4])\n",
    "\n",
    "a[4] = 100\n",
    "print(a)"
   ]
  },
  {
   "cell_type": "code",
   "execution_count": null,
   "id": "178d6311",
   "metadata": {},
   "outputs": [
    {
     "name": "stdout",
     "output_type": "stream",
     "text": [
      "[1, 2, 3, 4, 99]\n",
      "[1, 2]\n",
      "[2, 3, 4, 99]\n",
      "[1, 2, 3]\n",
      "[1, 2, 3, 4]\n",
      "4\n"
     ]
    }
   ],
   "source": [
    "# 리스트 슬라이싱\n",
    "\n",
    "a = [1,2,3,4,99]\n",
    "\n",
    "print(a)\n",
    "print(a[:2])\n",
    "print(a[1:])\n",
    "print(a[:3])\n",
    "print(a[:-1]) # 처음부터 마지막 원소 1개 앞까지\n",
    "print(a[-2])"
   ]
  },
  {
   "cell_type": "code",
   "execution_count": 9,
   "id": "9752fa06",
   "metadata": {},
   "outputs": [
    {
     "name": "stdout",
     "output_type": "stream",
     "text": [
      "180\n",
      "{'height': 180, 'weight': 70}\n"
     ]
    }
   ],
   "source": [
    "# 딕셔너리\n",
    "\n",
    "me = {'height':180}\n",
    "print(me['height'])\n",
    "\n",
    "me['weight'] = 70\n",
    "print(me)"
   ]
  },
  {
   "cell_type": "code",
   "execution_count": 10,
   "id": "a75f6a3c",
   "metadata": {},
   "outputs": [
    {
     "name": "stdout",
     "output_type": "stream",
     "text": [
      "<class 'bool'>\n",
      "<class 'bool'>\n",
      "False\n",
      "True\n"
     ]
    }
   ],
   "source": [
    "# bool\n",
    "\n",
    "hungry = True\n",
    "sleepy = False\n",
    "\n",
    "print(type(hungry))\n",
    "print(type(sleepy))\n",
    "\n",
    "print(hungry and sleepy)\n",
    "print(hungry | sleepy)"
   ]
  },
  {
   "cell_type": "code",
   "execution_count": 12,
   "id": "e7f86218",
   "metadata": {},
   "outputs": [
    {
     "name": "stdout",
     "output_type": "stream",
     "text": [
      "I'm hungry !\n",
      "I'm not sleepy !\n"
     ]
    }
   ],
   "source": [
    "# if 문\n",
    "\n",
    "hungry = True\n",
    "if hungry :\n",
    "    print('I\\'m hungry !')\n",
    "\n",
    "\n",
    "sleepy = False\n",
    "if sleepy :\n",
    "    print('I\\'m sleepy !')\n",
    "else :\n",
    "    print('I\\'m not sleepy !')"
   ]
  },
  {
   "cell_type": "code",
   "execution_count": 13,
   "id": "79e73f5e",
   "metadata": {},
   "outputs": [
    {
     "name": "stdout",
     "output_type": "stream",
     "text": [
      "1\n",
      "2\n",
      "3\n"
     ]
    }
   ],
   "source": [
    "# for\n",
    "\n",
    "for i in [1,2,3] :\n",
    "    print(i)"
   ]
  },
  {
   "cell_type": "code",
   "execution_count": 14,
   "id": "221c4f3c",
   "metadata": {},
   "outputs": [
    {
     "name": "stdout",
     "output_type": "stream",
     "text": [
      "Hello world !\n"
     ]
    }
   ],
   "source": [
    "def hello() :\n",
    "    print(\"Hello world !\")\n",
    "\n",
    "hello()"
   ]
  },
  {
   "cell_type": "code",
   "execution_count": 15,
   "id": "e032faea",
   "metadata": {},
   "outputs": [
    {
     "name": "stdout",
     "output_type": "stream",
     "text": [
      "Hello world dog!\n"
     ]
    }
   ],
   "source": [
    "def hello(object) :\n",
    "    print(f\"Hello world {object}!\")\n",
    "\n",
    "hello('dog')"
   ]
  },
  {
   "cell_type": "code",
   "execution_count": 2,
   "id": "0b778257",
   "metadata": {},
   "outputs": [
    {
     "name": "stdout",
     "output_type": "stream",
     "text": [
      "Intialized !\n",
      "Hello maru !\n",
      "Goodbye maru !\n"
     ]
    }
   ],
   "source": [
    "# 클래스\n",
    "\n",
    "class Man :\n",
    "    def __init__(self, name) :\n",
    "        self.name = name\n",
    "        print('Intialized !')\n",
    "\n",
    "    def hello(self) :\n",
    "        print(f\"Hello {self.name} !\")\n",
    "\n",
    "    def goodbye(self) :\n",
    "        print(f'Goodbye {self.name} !')\n",
    "\n",
    "m = Man('maru')\n",
    "m.hello()\n",
    "m.goodbye()"
   ]
  }
 ],
 "metadata": {
  "kernelspec": {
   "display_name": "Python 3",
   "language": "python",
   "name": "python3"
  },
  "language_info": {
   "codemirror_mode": {
    "name": "ipython",
    "version": 3
   },
   "file_extension": ".py",
   "mimetype": "text/x-python",
   "name": "python",
   "nbconvert_exporter": "python",
   "pygments_lexer": "ipython3",
   "version": "3.13.1"
  }
 },
 "nbformat": 4,
 "nbformat_minor": 5
}
