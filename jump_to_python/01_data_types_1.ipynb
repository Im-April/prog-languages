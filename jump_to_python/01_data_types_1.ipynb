{
 "cells": [
  {
   "cell_type": "markdown",
   "id": "a357b51f",
   "metadata": {},
   "source": [
    "### 변수 📦\n",
    "- a = 3 : 등호 왼쪽에 있는 것을 등호 오른쪽에 담는다 라는 의미\n",
    "\n",
    "### 숫자형 🔢\n",
    "- 정수형 (int)\n",
    "- 실수형 (float)\n",
    "- 컴퓨터 지수 표현 방식\n",
    "- 8진수\n",
    "- 16진수"
   ]
  },
  {
   "cell_type": "code",
   "execution_count": 1,
   "id": "3a78491b",
   "metadata": {},
   "outputs": [
    {
     "name": "stdout",
     "output_type": "stream",
     "text": [
      "<class 'int'>\n"
     ]
    }
   ],
   "source": [
    "a = 123\n",
    "print(type(a))"
   ]
  },
  {
   "cell_type": "code",
   "execution_count": 2,
   "id": "1479d37d",
   "metadata": {},
   "outputs": [
    {
     "name": "stdout",
     "output_type": "stream",
     "text": [
      "<class 'float'>\n"
     ]
    }
   ],
   "source": [
    "a = 1.2\n",
    "print(type(a))"
   ]
  },
  {
   "cell_type": "code",
   "execution_count": 4,
   "id": "1f63e259",
   "metadata": {},
   "outputs": [
    {
     "name": "stdout",
     "output_type": "stream",
     "text": [
      "42400000000.0\n"
     ]
    }
   ],
   "source": [
    "a = 4.24E10\n",
    "print(a)"
   ]
  },
  {
   "cell_type": "code",
   "execution_count": 5,
   "id": "683c8aa4",
   "metadata": {},
   "outputs": [
    {
     "name": "stdout",
     "output_type": "stream",
     "text": [
      "127\n"
     ]
    }
   ],
   "source": [
    "a = 0o177\n",
    "print(a)"
   ]
  },
  {
   "cell_type": "code",
   "execution_count": 6,
   "id": "021ea7ca",
   "metadata": {},
   "outputs": [
    {
     "name": "stdout",
     "output_type": "stream",
     "text": [
      "2303\n"
     ]
    }
   ],
   "source": [
    "a = 0x8ff\n",
    "print(a)"
   ]
  },
  {
   "cell_type": "code",
   "execution_count": 10,
   "id": "05767666",
   "metadata": {},
   "outputs": [
    {
     "name": "stdout",
     "output_type": "stream",
     "text": [
      "7\n",
      "-1\n",
      "12\n",
      "0.75\n",
      "0\n",
      "3\n",
      "81\n"
     ]
    }
   ],
   "source": [
    "# 사칙연산\n",
    "a = 3\n",
    "b = 4\n",
    "\n",
    "print(a+b)\n",
    "print(a-b)\n",
    "print(a*b)\n",
    "print(a/b)\n",
    "print(a//b) # 몫\n",
    "print(a%b) # 나머지\n",
    "print(a**b) # a의 b제곱"
   ]
  },
  {
   "cell_type": "markdown",
   "id": "55023897",
   "metadata": {},
   "source": [
    "## 문자형 자료형 🆎"
   ]
  },
  {
   "cell_type": "code",
   "execution_count": 1,
   "id": "4e5ea1fa",
   "metadata": {},
   "outputs": [
    {
     "name": "stdout",
     "output_type": "stream",
     "text": [
      "<class 'str'>\n",
      "<class 'str'>\n",
      "<class 'str'>\n"
     ]
    }
   ],
   "source": [
    "a = \"Life is short, You need Python\"\n",
    "b = 'a'\n",
    "c = \"\"\"123\"\"\"\n",
    "\n",
    "print(type(a))\n",
    "print(type(b))\n",
    "print(type(c))"
   ]
  },
  {
   "cell_type": "markdown",
   "id": "c31d6aaf",
   "metadata": {},
   "source": [
    "## 이스케이프 코드\n",
    "- 프로그래밍할 때 사용할 수 있도록 미리 정의해 둔 '문자 조합'을 말한다. 주로 출력물을 보기 좋게 정렬하는 용도로 사용\n",
    "\n",
    "- \\\\n\t: 문자열 안에서 줄을 바꿀 때 사용\n",
    "- \\\\t\t: 문자열 사이에 탭 간격을 줄 때 사용\n",
    "- \\\\\\\\\t: \\를 그대로 표현할 때 사용\n",
    "- \\\\'\t: 작은따옴표(')를 그대로 표현할 때 사용\n",
    "- \\\\\"\t: 큰따옴표(\")를 그대로 표현할 때 사용\n",
    "- \\\\r\t: 캐리지 리턴(줄 바꿈 문자, 커서를 현재 줄의 가장 앞으로 이동)\n",
    "- \\\\f\t: 폼 피드(줄 바꿈 문자, 커서를 현재 줄의 다음 줄로 이동)\n",
    "- \\\\a\t: 벨 소리(출력할 때 PC 스피커에서 '삑' 소리가 난다)\n",
    "- \\\\b\t: 백 스페이스\n",
    "- \\\\000\t: 널 문자"
   ]
  },
  {
   "cell_type": "code",
   "execution_count": 2,
   "id": "451419ac",
   "metadata": {},
   "outputs": [
    {
     "name": "stdout",
     "output_type": "stream",
     "text": [
      "Life is short, You need \"Python\"\n"
     ]
    }
   ],
   "source": [
    "# 따옴표 출력하기\n",
    "a = \"Life is short, You need \\\"Python\\\"\"\n",
    "print(a)"
   ]
  },
  {
   "cell_type": "code",
   "execution_count": 3,
   "id": "039e83ad",
   "metadata": {},
   "outputs": [
    {
     "name": "stdout",
     "output_type": "stream",
     "text": [
      "Life is too short\n",
      "You need python\n"
     ]
    }
   ],
   "source": [
    "# 여러 줄인 문자열을 변수에 대입하고 싶을 때\n",
    "\n",
    "# 이스케이프 코드 \\n 사용\n",
    "multiline = \"Life is too short\\nYou need python\"\n",
    "print(multiline)"
   ]
  },
  {
   "cell_type": "code",
   "execution_count": 4,
   "id": "cc4f8e88",
   "metadata": {},
   "outputs": [
    {
     "name": "stdout",
     "output_type": "stream",
     "text": [
      "Life is too short\n",
      "You need python\n"
     ]
    }
   ],
   "source": [
    "a = \"\"\"Life is too short\n",
    "You need python\"\"\"\n",
    "\n",
    "print(a)"
   ]
  },
  {
   "cell_type": "code",
   "execution_count": 7,
   "id": "576fb4da",
   "metadata": {},
   "outputs": [
    {
     "name": "stdout",
     "output_type": "stream",
     "text": [
      "python is fun !\n",
      "pythonpythonpython\n"
     ]
    }
   ],
   "source": [
    "# 문자열연산하기\n",
    "\n",
    "head = \"python\"\n",
    "tail = \" is fun !\"\n",
    "\n",
    "print(head + tail)\n",
    "print(head * 3)"
   ]
  },
  {
   "cell_type": "code",
   "execution_count": 8,
   "id": "8b45ff35",
   "metadata": {},
   "outputs": [
    {
     "name": "stdout",
     "output_type": "stream",
     "text": [
      "==================================================\n",
      "My program\n",
      "==================================================\n"
     ]
    }
   ],
   "source": [
    "# 문자열 곱하기 응용\n",
    "\n",
    "print(\"=\" * 50)\n",
    "print(\"My program\")\n",
    "print(\"=\" * 50)"
   ]
  },
  {
   "cell_type": "code",
   "execution_count": 9,
   "id": "7317f8f2",
   "metadata": {},
   "outputs": [
    {
     "name": "stdout",
     "output_type": "stream",
     "text": [
      "17\n"
     ]
    }
   ],
   "source": [
    "a = \"Life is too short\"\n",
    "print(len(a))"
   ]
  },
  {
   "cell_type": "markdown",
   "id": "590fc4f7",
   "metadata": {},
   "source": [
    "## 문자열의 인덱싱과 슬라이싱\n",
    "\n",
    "### 문자열의 인덱싱\n",
    "- 문자열 안에 있는 각 문자에 번호(인덱스)를 붙여서 특정 위치의 문자를 가져오는 것\n",
    "\n",
    "### 슬라이싱\n",
    "-  문자열의 일부분을 잘라내는 방법이에요. 인덱스를 사용해서 원하는 범위만 뽑아낼 수 있다.\n",
    "- a[b:c] -> b 이상 c 미만의 인덱스까지...\n",
    "- a[b:c:d] -> b 이상 c 미만 인덱스까지, d 간격으로"
   ]
  },
  {
   "cell_type": "code",
   "execution_count": null,
   "id": "d96ff6eb",
   "metadata": {},
   "outputs": [
    {
     "name": "stdout",
     "output_type": "stream",
     "text": [
      "e\n",
      "L\n",
      "s\n",
      "n\n",
      "o\n",
      "L\n"
     ]
    }
   ],
   "source": [
    "# 문자열 인덱싱\n",
    "\n",
    "a = \"Life is too short, You need Python\"\n",
    "\n",
    "print(a[3])\n",
    "print(a[0])\n",
    "print(a[12])\n",
    "print(a[-1])\n",
    "print(a[-2])\n",
    "print(a[-34])"
   ]
  },
  {
   "cell_type": "code",
   "execution_count": 20,
   "id": "e0e20ad3",
   "metadata": {},
   "outputs": [
    {
     "name": "stdout",
     "output_type": "stream",
     "text": [
      "Life\n",
      "You need Python\n",
      "Lf stosot o edPto\n",
      "nohtyP deen uoY ,trohs oot si efiL\n",
      "You need\n"
     ]
    }
   ],
   "source": [
    "# 문자열 슬라이싱\n",
    "\n",
    "a = \"Life is too short, You need Python\"\n",
    "b = a[:4]\n",
    "c = a[19:]\n",
    "d = a[::2]\n",
    "e = a[::-1]\n",
    "f = a[19:-7]\n",
    "\n",
    "print(b)\n",
    "print(c)\n",
    "print(d)\n",
    "print(e)\n",
    "print(f)"
   ]
  },
  {
   "cell_type": "markdown",
   "id": "a2bf21e0",
   "metadata": {},
   "source": [
    "## 문자열 포맷 코드\n",
    "\n",
    "- %s\t: 문자열(String)\n",
    "- %c\t: 문자 1개(character)\n",
    "- %d\t: 정수(Integer)\n",
    "- %f\t: 부동소수(floating-point)\n",
    "- %o\t: 8진수\n",
    "- %x\t: 16진수\n",
    "- %%\t: Literal % (문자 % 자체)\n",
    "\n",
    "- 재미있는 것은 %s 포맷 코드인데, 이 코드에는 어떤 형태의 값이든 변환해 넣을 수 있다. "
   ]
  },
  {
   "cell_type": "code",
   "execution_count": 21,
   "id": "d8b28b0f",
   "metadata": {},
   "outputs": [
    {
     "name": "stdout",
     "output_type": "stream",
     "text": [
      "I ate 6 apples\n"
     ]
    }
   ],
   "source": [
    "# 문자열 포매팅\n",
    "\n",
    "a = \"I ate %d apples\" % 6\n",
    "print(a)"
   ]
  },
  {
   "cell_type": "code",
   "execution_count": 24,
   "id": "b6bcb50e",
   "metadata": {},
   "outputs": [
    {
     "name": "stdout",
     "output_type": "stream",
     "text": [
      "I ate 3 apples\n"
     ]
    }
   ],
   "source": [
    "num = 3\n",
    "\n",
    "a = \"I ate %d apples\" % num\n",
    "print(a)"
   ]
  },
  {
   "cell_type": "code",
   "execution_count": 25,
   "id": "f66eda95",
   "metadata": {},
   "outputs": [
    {
     "name": "stdout",
     "output_type": "stream",
     "text": [
      "I ate 3 apples. so I was sick for three days\n"
     ]
    }
   ],
   "source": [
    "num = 3\n",
    "day = \"three\"\n",
    "\n",
    "a = \"I ate %d apples. so I was sick for %s days\" % (num, day)\n",
    "print(a)"
   ]
  },
  {
   "cell_type": "code",
   "execution_count": 23,
   "id": "c58640bc",
   "metadata": {},
   "outputs": [
    {
     "name": "stdout",
     "output_type": "stream",
     "text": [
      "I ate five apples\n"
     ]
    }
   ],
   "source": [
    "# 문자열 포매팅\n",
    "\n",
    "a = \"I ate %s apples\" % \"five\"\n",
    "print(a)"
   ]
  },
  {
   "cell_type": "code",
   "execution_count": null,
   "id": "2660d24f",
   "metadata": {},
   "outputs": [
    {
     "name": "stdout",
     "output_type": "stream",
     "text": [
      "        hi\n"
     ]
    }
   ],
   "source": [
    "# 포멧 코드와 숫자 사용해보기\n",
    "\n",
    "a = \"%10s\" % \"hi\" # hi까지 10칸을 맞춰서 출력된다.\n",
    "\n",
    "print(a)"
   ]
  },
  {
   "cell_type": "code",
   "execution_count": null,
   "id": "7917025c",
   "metadata": {},
   "outputs": [
    {
     "name": "stdout",
     "output_type": "stream",
     "text": [
      "hi        \n"
     ]
    }
   ],
   "source": [
    "# 포멧 코드와 숫자 사용해보기\n",
    "\n",
    "a = \"%-10s\" % \"hi\" # hi가 맨 앞에 오고 뒤에 8칸 ..\n",
    "\n",
    "print(a)"
   ]
  },
  {
   "cell_type": "code",
   "execution_count": 29,
   "id": "0a46fbfb",
   "metadata": {},
   "outputs": [
    {
     "name": "stdout",
     "output_type": "stream",
     "text": [
      "3.4213\n"
     ]
    }
   ],
   "source": [
    "# 소수점 표현하기\n",
    "\n",
    "a = \"%0.4f\" % 3.42134234\n",
    "\n",
    "print(a)"
   ]
  },
  {
   "cell_type": "code",
   "execution_count": 31,
   "id": "20f79f5c",
   "metadata": {},
   "outputs": [
    {
     "name": "stdout",
     "output_type": "stream",
     "text": [
      "I eat 3 apples\n",
      "I eat five apples\n"
     ]
    }
   ],
   "source": [
    "a = \"I eat {0} apples\".format(3)\n",
    "print(a)\n",
    "\n",
    "print(\"I eat {0} apples\".format(\"five\"))"
   ]
  },
  {
   "cell_type": "code",
   "execution_count": 32,
   "id": "2b8e08e3",
   "metadata": {},
   "outputs": [
    {
     "name": "stdout",
     "output_type": "stream",
     "text": [
      "I eat 3 apples\n"
     ]
    }
   ],
   "source": [
    "number = 3\n",
    "print(\"I eat {0} apples\".format(number))"
   ]
  },
  {
   "cell_type": "code",
   "execution_count": 34,
   "id": "4b7382aa",
   "metadata": {},
   "outputs": [
    {
     "name": "stdout",
     "output_type": "stream",
     "text": [
      "I ate 10 apples. so I was sick for three days.\n",
      "I ate 10 apples. so I was sick for 3 days.\n"
     ]
    }
   ],
   "source": [
    "number = 10\n",
    "day = \"three\"\n",
    "\n",
    "print(\"I ate {0} apples. so I was sick for {1} days.\".format(number, day))\n",
    "print(\"I ate {number} apples. so I was sick for {day} days.\".format(number=10, day=3))"
   ]
  },
  {
   "cell_type": "code",
   "execution_count": 35,
   "id": "4b22e532",
   "metadata": {},
   "outputs": [
    {
     "name": "stdout",
     "output_type": "stream",
     "text": [
      "I ate three apples. so I was sick for 10 days.\n"
     ]
    }
   ],
   "source": [
    "number = 10\n",
    "day = \"three\"\n",
    "\n",
    "print(\"I ate {1} apples. so I was sick for {0} days.\".format(number, day))"
   ]
  },
  {
   "cell_type": "code",
   "execution_count": null,
   "id": "c98768e0",
   "metadata": {},
   "outputs": [
    {
     "name": "stdout",
     "output_type": "stream",
     "text": [
      "        hi\n",
      "hi        \n",
      "    hi    \n"
     ]
    }
   ],
   "source": [
    "# 왼쪽 정렬\n",
    "print(\"{0:>10}\".format(\"hi\"))\n",
    "#오른쪽 정렬\n",
    "print(\"{0:<10}\".format(\"hi\"))\n",
    "# 가운데 정렬\n",
    "print(\"{0:^10}\".format(\"hi\"))"
   ]
  },
  {
   "cell_type": "code",
   "execution_count": 42,
   "id": "0189942b",
   "metadata": {},
   "outputs": [
    {
     "name": "stdout",
     "output_type": "stream",
     "text": [
      "====hi====\n",
      "hi********\n"
     ]
    }
   ],
   "source": [
    "# 공백 채우기\n",
    "\n",
    "print(\"{0:=^10}\".format(\"hi\"))\n",
    "print(\"{0:*<10}\".format(\"hi\"))"
   ]
  },
  {
   "cell_type": "code",
   "execution_count": 43,
   "id": "173ee5a9",
   "metadata": {},
   "outputs": [
    {
     "name": "stdout",
     "output_type": "stream",
     "text": [
      "3.4213\n"
     ]
    }
   ],
   "source": [
    "# 소수점 표기\n",
    "\n",
    "y = 3.42134234\n",
    "print(\"{0:0.4f}\".format(y))"
   ]
  },
  {
   "cell_type": "code",
   "execution_count": 45,
   "id": "9f87cc03",
   "metadata": {},
   "outputs": [
    {
     "name": "stdout",
     "output_type": "stream",
     "text": [
      "나의 이름은 홍길동입니다. 나이는 30살 입니다.\n",
      "내년 이면 31살 입니다\n"
     ]
    }
   ],
   "source": [
    "# f문자열 포매팅\n",
    "\n",
    "name = \"홍길동\"\n",
    "age = 30\n",
    "\n",
    "a = f'나의 이름은 {name}입니다. 나이는 {age}살 입니다.'\n",
    "\n",
    "print(a)\n",
    "print(f\"내년 이면 {age+1}살 입니다\")"
   ]
  },
  {
   "cell_type": "code",
   "execution_count": 48,
   "id": "79943f4b",
   "metadata": {},
   "outputs": [
    {
     "name": "stdout",
     "output_type": "stream",
     "text": [
      "hi        \n",
      "        hi\n",
      "    hi    \n"
     ]
    }
   ],
   "source": [
    "# 왼쪽 정렬\n",
    "a = f'{\"hi\":<10}'\n",
    "print(a)\n",
    "\n",
    "# 오른쪽 정렬\n",
    "a = f'{\"hi\":>10}'\n",
    "print(a)\n",
    "\n",
    "# 가운데 정렬\n",
    "a = f'{\"hi\":^10}'\n",
    "print(a)"
   ]
  },
  {
   "cell_type": "code",
   "execution_count": 49,
   "id": "f23fb2ba",
   "metadata": {},
   "outputs": [
    {
     "name": "stdout",
     "output_type": "stream",
     "text": [
      "3.4213\n"
     ]
    }
   ],
   "source": [
    "y = 3.42134234\n",
    "\n",
    "a = f'{y:0.4f}'\n",
    "print(a)"
   ]
  },
  {
   "cell_type": "markdown",
   "id": "fc33564a",
   "metadata": {},
   "source": [
    "## 문자열 함수들\n",
    "- 문자열 자료형은 자체적으로 함수를 가지고 있다. 이들 함수를 다른 말로 '문자열 내장 함수'라고 한다\n",
    "- 이 내장 함수를 사용하려면 문자열 변수 이름 뒤에 '.'를 붙인 후 함수 이름을 써 주면 된다."
   ]
  },
  {
   "cell_type": "code",
   "execution_count": 50,
   "id": "0ad92ca6",
   "metadata": {},
   "outputs": [
    {
     "name": "stdout",
     "output_type": "stream",
     "text": [
      "2\n"
     ]
    }
   ],
   "source": [
    "a = 'hobby'\n",
    "print(a.count('b'))"
   ]
  },
  {
   "cell_type": "code",
   "execution_count": null,
   "id": "f9f5b628",
   "metadata": {},
   "outputs": [
    {
     "name": "stdout",
     "output_type": "stream",
     "text": [
      "2\n"
     ]
    }
   ],
   "source": [
    "a = 'hobby'\n",
    "print(a.find('b')) # 처음 인덱스"
   ]
  },
  {
   "cell_type": "code",
   "execution_count": 52,
   "id": "2df56517",
   "metadata": {},
   "outputs": [
    {
     "name": "stdout",
     "output_type": "stream",
     "text": [
      "-1\n"
     ]
    }
   ],
   "source": [
    "a = 'hobby'\n",
    "print(a.find('x')) # -1"
   ]
  },
  {
   "cell_type": "code",
   "execution_count": 54,
   "id": "f88836b4",
   "metadata": {},
   "outputs": [
    {
     "name": "stdout",
     "output_type": "stream",
     "text": [
      "2\n"
     ]
    }
   ],
   "source": [
    "a = 'hobby'\n",
    "print(a.index('b')) # 없는 문자를 넣으면 오류가 남"
   ]
  },
  {
   "cell_type": "code",
   "execution_count": 58,
   "id": "ae3bf091",
   "metadata": {},
   "outputs": [
    {
     "name": "stdout",
     "output_type": "stream",
     "text": [
      "a to the b to the c to the d\n"
     ]
    }
   ],
   "source": [
    "# \"구분자\".join(시퀀스)\n",
    "# 시퀀스(문자열, 리스트 등)의 각 요소 사이에 \"구분자\"를 넣어서 하나의 문자열로 만들어주는 메서드\n",
    "\n",
    "print(\" to the \".join('abcd'))"
   ]
  },
  {
   "cell_type": "code",
   "execution_count": 60,
   "id": "476bc7e6",
   "metadata": {},
   "outputs": [
    {
     "name": "stdout",
     "output_type": "stream",
     "text": [
      "HI\n",
      "hello\n"
     ]
    }
   ],
   "source": [
    "# 소문자 대문자 바꾸기\n",
    "\n",
    "a = \"hi\"\n",
    "print(a.upper())\n",
    "\n",
    "b = \"HELLO\"\n",
    "print(b.lower())"
   ]
  },
  {
   "cell_type": "code",
   "execution_count": 64,
   "id": "5d17b70e",
   "metadata": {},
   "outputs": [
    {
     "name": "stdout",
     "output_type": "stream",
     "text": [
      "hi\n",
      "hello\n",
      "hi\n"
     ]
    }
   ],
   "source": [
    "# 공백 지우기\n",
    "\n",
    "# 왼쪽 공백 지우기\n",
    "a = \" hi\"\n",
    "print(a.lstrip())\n",
    "\n",
    "# 오른쪽 공백 지우기\n",
    "a = \"hello \"\n",
    "print(a.rstrip())\n",
    "\n",
    "# 양쪽 공백 없애기\n",
    "a = a = \" hi \"\n",
    "print(a.strip())"
   ]
  },
  {
   "cell_type": "code",
   "execution_count": 65,
   "id": "a12c92e5",
   "metadata": {},
   "outputs": [
    {
     "name": "stdout",
     "output_type": "stream",
     "text": [
      "Your leg is too short, You need Python\n"
     ]
    }
   ],
   "source": [
    "#  문자열 바꾸기\n",
    "\n",
    "a = \"Life is too short, You need Python\"\n",
    "\n",
    "print(a.replace(\"Life\", \"Your leg\"))"
   ]
  },
  {
   "cell_type": "code",
   "execution_count": null,
   "id": "c6c51d44",
   "metadata": {},
   "outputs": [
    {
     "name": "stdout",
     "output_type": "stream",
     "text": [
      "['Life', 'is', 'too', 'short']\n",
      "['a', 'b', 'c', 'd']\n"
     ]
    }
   ],
   "source": [
    "# 문자열 나누기\n",
    "\n",
    "a = \"Life is too short\"\n",
    "print(a.split()) # 기본값이 띄어쓰기 기준으로 나눔\n",
    "\n",
    "a = \"a,b,c,d\"\n",
    "print(a.split(\",\")) # , 기준으로 나누기"
   ]
  },
  {
   "cell_type": "markdown",
   "id": "f20833ba",
   "metadata": {},
   "source": [
    "## 리스트\n",
    "- 데이터를 여러 개 묶어서 저장할 수 있는 자료형이에요. 쉽게 말해, 여러 값을 하나의 변수에 저장하고 싶을 때 사용\n",
    "- 아무것도 포함하지 않아 비어 있는 리스트([])일 수도 있고, \n",
    "- 숫자를 요솟값으로 가질 수도 있으며, \n",
    "- 문자열을 요솟값으로 가질 수도 있다. 또한 \n",
    "- 숫자와 문자열을 함께 요솟값으로 가질 수도 있고, \n",
    "- 리스트 자체를 요솟값으로 가질 수도 있다. \n",
    "- 즉, 리스트 안에는 어떠한 자료형도 포함할 수 있다."
   ]
  },
  {
   "cell_type": "code",
   "execution_count": 70,
   "id": "7e553022",
   "metadata": {},
   "outputs": [
    {
     "name": "stdout",
     "output_type": "stream",
     "text": [
      "[1, 3, 5, 7, 9]\n",
      "<class 'list'>\n"
     ]
    }
   ],
   "source": [
    "odd = [1,3,5,7,9]\n",
    "print(odd)\n",
    "print(type(odd))"
   ]
  },
  {
   "cell_type": "code",
   "execution_count": 71,
   "id": "3a105a21",
   "metadata": {},
   "outputs": [
    {
     "name": "stdout",
     "output_type": "stream",
     "text": [
      "[]\n",
      "[1, 2, 3]\n",
      "['Life', 'is', 'too', 'short']\n",
      "[1, 2, 'Life', 'is']\n",
      "[1, 2, ['Life', 'is']]\n"
     ]
    }
   ],
   "source": [
    "a = []\n",
    "b = [1, 2, 3]\n",
    "c = ['Life', 'is', 'too', 'short']\n",
    "d = [1, 2, 'Life', 'is']\n",
    "e = [1, 2, ['Life', 'is']]\n",
    "\n",
    "print(a)\n",
    "print(b)\n",
    "print(c)\n",
    "print(d)\n",
    "print(e)"
   ]
  },
  {
   "cell_type": "code",
   "execution_count": 76,
   "id": "766ba10f",
   "metadata": {},
   "outputs": [
    {
     "name": "stdout",
     "output_type": "stream",
     "text": [
      "1\n",
      "2\n",
      "5\n",
      "3\n",
      "2\n"
     ]
    }
   ],
   "source": [
    "# 리스트의 인덱싱\n",
    "\n",
    "a = [1,2,3]\n",
    "\n",
    "print(a[0])\n",
    "print(a[1])\n",
    "print(a[1] + a[2])\n",
    "print(a[-1])\n",
    "print(a[-2])"
   ]
  },
  {
   "cell_type": "code",
   "execution_count": 79,
   "id": "62c0b021",
   "metadata": {},
   "outputs": [
    {
     "name": "stdout",
     "output_type": "stream",
     "text": [
      "['a', 'b', 'c']\n",
      "b\n",
      "c\n"
     ]
    }
   ],
   "source": [
    "a = [1,2,3,['a','b','c']]\n",
    "\n",
    "print(a[3])\n",
    "print(a[3][1])\n",
    "print(a[-1][2])"
   ]
  },
  {
   "cell_type": "code",
   "execution_count": 82,
   "id": "d0d9c60b",
   "metadata": {},
   "outputs": [
    {
     "name": "stdout",
     "output_type": "stream",
     "text": [
      "[1, 3, 5]\n",
      "[1, 2]\n"
     ]
    }
   ],
   "source": [
    "# 리스트의 슬라이싱\n",
    "\n",
    "a = [1,2,3,4,5]\n",
    "print(a[::2])\n",
    "print(a[:2])\n"
   ]
  },
  {
   "cell_type": "code",
   "execution_count": 83,
   "id": "7cb2bb0a",
   "metadata": {},
   "outputs": [
    {
     "name": "stdout",
     "output_type": "stream",
     "text": [
      "[3, ['a', 'b', 'c'], 4]\n"
     ]
    }
   ],
   "source": [
    "a = [1, 2, 3, ['a', 'b', 'c'], 4, 5]\n",
    "print(a[2:5])"
   ]
  },
  {
   "cell_type": "code",
   "execution_count": null,
   "id": "b3440790",
   "metadata": {},
   "outputs": [
    {
     "name": "stdout",
     "output_type": "stream",
     "text": [
      "[1, 2, 3, 4, 5, 6]\n",
      "[1, 2, 3, 1, 2, 3, 1, 2, 3]\n"
     ]
    }
   ],
   "source": [
    "# 리스트 연산하기\n",
    "\n",
    "a = [1,2,3]\n",
    "b = [4,5,6]\n",
    "\n",
    "print(a+b)\n",
    "print(a * 3)"
   ]
  },
  {
   "cell_type": "code",
   "execution_count": 86,
   "id": "3add61d8",
   "metadata": {},
   "outputs": [
    {
     "name": "stdout",
     "output_type": "stream",
     "text": [
      "3\n"
     ]
    }
   ],
   "source": [
    "# 리스트 길이구하기\n",
    "\n",
    "a = [1,2,3]\n",
    "\n",
    "print(len(a))"
   ]
  },
  {
   "cell_type": "code",
   "execution_count": null,
   "id": "035456b3",
   "metadata": {},
   "outputs": [
    {
     "name": "stdout",
     "output_type": "stream",
     "text": [
      "3hi\n"
     ]
    }
   ],
   "source": [
    "\"\"\"\n",
    "a = [1,2,3]\n",
    "print(a[2] + \"hi\") -> typeError\n",
    "\"\"\"\n",
    "\n",
    "a = [1,2,3]\n",
    "print(str(a[2]) + \"hi\") # 자료형변환해줘야함"
   ]
  },
  {
   "cell_type": "code",
   "execution_count": 92,
   "id": "762364d0",
   "metadata": {},
   "outputs": [
    {
     "name": "stdout",
     "output_type": "stream",
     "text": [
      "[1, 2, 4]\n",
      "[2, 4]\n",
      "[1, 2]\n"
     ]
    }
   ],
   "source": [
    "# 리스트 수정\n",
    "a = [1,2,3]\n",
    "a[2] = 4\n",
    "print(a)\n",
    "\n",
    "# 리스트 삭제\n",
    "del a[0]\n",
    "print(a)\n",
    "\n",
    "a = [1, 2, 3, 4, 5]\n",
    "\n",
    "del a[2:]\n",
    "print(a)"
   ]
  },
  {
   "cell_type": "markdown",
   "id": "2a6722b1",
   "metadata": {},
   "source": [
    "## 리스트 관련 함수"
   ]
  },
  {
   "cell_type": "code",
   "execution_count": 94,
   "id": "179cdf48",
   "metadata": {},
   "outputs": [
    {
     "name": "stdout",
     "output_type": "stream",
     "text": [
      "[1, 2, 3, 4, [5, 6]]\n"
     ]
    }
   ],
   "source": [
    "# 리스테에 요소 추가하기\n",
    "\n",
    "a = [1,2,3]\n",
    "a.append(4)\n",
    "a.append([5,6])\n",
    "\n",
    "print(a)"
   ]
  },
  {
   "cell_type": "code",
   "execution_count": 96,
   "id": "bdc684a0",
   "metadata": {},
   "outputs": [
    {
     "name": "stdout",
     "output_type": "stream",
     "text": [
      "[1, 2, 3, 4]\n",
      "['a', 'b', 'c']\n"
     ]
    }
   ],
   "source": [
    "# 리스트 정렬\n",
    "\n",
    "a = [1,4,3,2]\n",
    "a.sort() \n",
    "\n",
    "print(a)\n",
    "\n",
    "a = ['a','c','b']\n",
    "a.sort()\n",
    "\n",
    "print(a)"
   ]
  },
  {
   "cell_type": "code",
   "execution_count": 98,
   "id": "0a7f8122",
   "metadata": {},
   "outputs": [
    {
     "name": "stdout",
     "output_type": "stream",
     "text": [
      "['b', 'c', 'a']\n",
      "['c', 'b', 'a']\n"
     ]
    }
   ],
   "source": [
    "# 리스트 뒤집기\n",
    "\n",
    "a = ['a','c','b']\n",
    "a.reverse()\n",
    "print(a) # 리스트 인덱스 거꾸로 ...\n",
    "\n",
    "a.sort()\n",
    "a.reverse()\n",
    "print(a)"
   ]
  },
  {
   "cell_type": "code",
   "execution_count": 100,
   "id": "5199a225",
   "metadata": {},
   "outputs": [
    {
     "name": "stdout",
     "output_type": "stream",
     "text": [
      "2\n",
      "0\n"
     ]
    }
   ],
   "source": [
    "a = [1,2,3]\n",
    "\n",
    "print(a.index(3))\n",
    "print(a.index(1))"
   ]
  },
  {
   "cell_type": "code",
   "execution_count": 101,
   "id": "4dbd22be",
   "metadata": {},
   "outputs": [
    {
     "name": "stdout",
     "output_type": "stream",
     "text": [
      "[1, 4, 2, 3]\n"
     ]
    }
   ],
   "source": [
    "# 리스트 요소 삽입\n",
    "# 몇번째에 어떤 값을 추가할 건지\n",
    "\n",
    "a = [1,2,3]\n",
    "a.insert(1,4) # 1 인덱스에 4 대입\n",
    "print(a)"
   ]
  },
  {
   "cell_type": "code",
   "execution_count": 102,
   "id": "7e4aba72",
   "metadata": {},
   "outputs": [
    {
     "name": "stdout",
     "output_type": "stream",
     "text": [
      "[1, 2, 1, 2, 3]\n"
     ]
    }
   ],
   "source": [
    "# 리스트 요소 제거\n",
    "\n",
    "a = [1,2,3,1,2,3]\n",
    "a.remove(3) # 첫번째 3만 제거\n",
    "print(a)"
   ]
  },
  {
   "cell_type": "code",
   "execution_count": null,
   "id": "961c3baa",
   "metadata": {},
   "outputs": [
    {
     "name": "stdout",
     "output_type": "stream",
     "text": [
      "3\n",
      "[1, 2]\n"
     ]
    }
   ],
   "source": [
    "# 리스트 요소 끄집어 내기\n",
    "\n",
    "a = [1,2,3]\n",
    "print(a.pop()) # 괄호 안에 인덱스 사용 가능.\n",
    "print(a)"
   ]
  },
  {
   "cell_type": "code",
   "execution_count": 104,
   "id": "231027f2",
   "metadata": {},
   "outputs": [
    {
     "name": "stdout",
     "output_type": "stream",
     "text": [
      "2\n"
     ]
    }
   ],
   "source": [
    "# 요소 개수 세기\n",
    "a = [1, 2, 3, 1]\n",
    "print(a.count(1))"
   ]
  },
  {
   "cell_type": "code",
   "execution_count": 106,
   "id": "bf24d3fc",
   "metadata": {},
   "outputs": [
    {
     "name": "stdout",
     "output_type": "stream",
     "text": [
      "[1, 2, 3, [4, 5]]\n",
      "[1, 2, 3, 4, 5]\n"
     ]
    }
   ],
   "source": [
    "# 리스트 확장\n",
    "# extend(x)에서 x에는 리스트만 올 수 있으며 원래의 a 리스트에 x 리스트를 더하게 된다.\n",
    "\n",
    "# append\n",
    "a = [1,2,3]\n",
    "a.append([4,5])\n",
    "print(a)\n",
    "\n",
    "\n",
    "a = [1, 2, 3]\n",
    "a.extend([4, 5])\n",
    "print(a)"
   ]
  }
 ],
 "metadata": {
  "kernelspec": {
   "display_name": "venv",
   "language": "python",
   "name": "python3"
  },
  "language_info": {
   "codemirror_mode": {
    "name": "ipython",
    "version": 3
   },
   "file_extension": ".py",
   "mimetype": "text/x-python",
   "name": "python",
   "nbconvert_exporter": "python",
   "pygments_lexer": "ipython3",
   "version": "3.12.7"
  }
 },
 "nbformat": 4,
 "nbformat_minor": 5
}
