{
  "nbformat": 4,
  "nbformat_minor": 0,
  "metadata": {
    "colab": {
      "provenance": [],
      "gpuType": "T4"
    },
    "kernelspec": {
      "name": "python3",
      "display_name": "Python 3"
    },
    "language_info": {
      "name": "python"
    },
    "accelerator": "GPU"
  },
  "cells": [
    {
      "cell_type": "markdown",
      "source": [
        "# PyTorch\n",
        "- 과학 연산을 위한 라이브러리\n",
        "- <b>GPU</b>를 이용한 텐서 조작 및 동적 신경망 구축이 가능하도록 딥러닝 프레임워크를 발전 시킴\n",
        "\n",
        "## 텐서\n",
        "- 데이터 표현을 위한 기본 구조\n",
        "- 데이터를 담기 위한 컨테이너로서 일반적으로 수치형 데이터를 저장\n",
        "- 넘파이의 ndarray와 유사 (다차원 행렬과 유사)\n",
        "- GPU를 사용한 연산 가속 가능"
      ],
      "metadata": {
        "id": "TGZW-SAIyTYH"
      }
    },
    {
      "cell_type": "code",
      "execution_count": null,
      "metadata": {
        "colab": {
          "base_uri": "https://localhost:8080/",
          "height": 36
        },
        "id": "OR9kdpeVxhKX",
        "outputId": "504bb0dd-a9cb-44fd-9d73-acf7e804d152"
      },
      "outputs": [
        {
          "output_type": "execute_result",
          "data": {
            "text/plain": [
              "'2.6.0+cu124'"
            ],
            "application/vnd.google.colaboratory.intrinsic+json": {
              "type": "string"
            }
          },
          "metadata": {},
          "execution_count": 1
        }
      ],
      "source": [
        "import torch\n",
        "\n",
        "torch.__version__"
      ]
    },
    {
      "cell_type": "code",
      "source": [
        "# 초기화 되지 않은 텐서\n",
        "\n",
        "x = torch.empty(4, 2)\n",
        "print(x)"
      ],
      "metadata": {
        "colab": {
          "base_uri": "https://localhost:8080/"
        },
        "id": "QFYfaQwE0dFt",
        "outputId": "a99e38a5-93f5-4c4b-fffc-4c84eb486ba1"
      },
      "execution_count": null,
      "outputs": [
        {
          "output_type": "stream",
          "name": "stdout",
          "text": [
            "tensor([[-5.8393e+02,  4.3992e-41],\n",
            "        [-5.8395e+02,  4.3992e-41],\n",
            "        [-5.8639e+02,  4.3992e-41],\n",
            "        [-5.8643e+02,  4.3992e-41]])\n"
          ]
        }
      ]
    },
    {
      "cell_type": "code",
      "source": [
        "# 무작위로 초기화 된 텐서\n",
        "\n",
        "x = torch.rand(4, 2)\n",
        "print(x)"
      ],
      "metadata": {
        "colab": {
          "base_uri": "https://localhost:8080/"
        },
        "id": "ciC_iS1N00P2",
        "outputId": "c7d7f8f9-6d79-4f28-de70-58a0638a073c"
      },
      "execution_count": null,
      "outputs": [
        {
          "output_type": "stream",
          "name": "stdout",
          "text": [
            "tensor([[0.7223, 0.5290],\n",
            "        [0.0290, 0.4108],\n",
            "        [0.9690, 0.5624],\n",
            "        [0.8044, 0.4205]])\n"
          ]
        }
      ]
    },
    {
      "cell_type": "code",
      "source": [
        "# 데이터 타입이 long이고 , 0으로 채워진 텐서\n",
        "\n",
        "x = torch.zeros(4, 2, dtype=torch.long)\n",
        "print(x)"
      ],
      "metadata": {
        "colab": {
          "base_uri": "https://localhost:8080/"
        },
        "id": "OuhhXxqQ09ei",
        "outputId": "1a8bc826-45c8-46ca-b4d3-78ac0c4de622"
      },
      "execution_count": null,
      "outputs": [
        {
          "output_type": "stream",
          "name": "stdout",
          "text": [
            "tensor([[0, 0],\n",
            "        [0, 0],\n",
            "        [0, 0],\n",
            "        [0, 0]])\n"
          ]
        }
      ]
    },
    {
      "cell_type": "code",
      "source": [
        "# 사용자가 입력한 값으로 텐서 초기화\n",
        "\n",
        "x = torch.tensor([3, 2.3])\n",
        "print(x)"
      ],
      "metadata": {
        "colab": {
          "base_uri": "https://localhost:8080/"
        },
        "id": "_cHu4BH41H9B",
        "outputId": "901bdf24-7304-4b55-85b8-ae9e8710291a"
      },
      "execution_count": null,
      "outputs": [
        {
          "output_type": "stream",
          "name": "stdout",
          "text": [
            "tensor([3.0000, 2.3000])\n"
          ]
        }
      ]
    },
    {
      "cell_type": "code",
      "source": [
        "# 2 x 4 크기, double 타입 1로 채워진 텐서\n",
        "\n",
        "x = x.new_ones(2, 4, dtype=torch.double)\n",
        "print(x)"
      ],
      "metadata": {
        "colab": {
          "base_uri": "https://localhost:8080/"
        },
        "id": "x5KXaoFg1Wjt",
        "outputId": "8f86ed4b-3445-4b60-d9ee-4ed160064ba4"
      },
      "execution_count": null,
      "outputs": [
        {
          "output_type": "stream",
          "name": "stdout",
          "text": [
            "tensor([[1., 1., 1., 1.],\n",
            "        [1., 1., 1., 1.]], dtype=torch.float64)\n"
          ]
        }
      ]
    },
    {
      "cell_type": "code",
      "source": [
        "# 같은 크기, float 타입, 무작위로 채워진 텐서\n",
        "\n",
        "x = torch.randn_like(x, dtype=float)\n",
        "print(x)"
      ],
      "metadata": {
        "colab": {
          "base_uri": "https://localhost:8080/"
        },
        "id": "2OfPY8xZ16vx",
        "outputId": "7ce3a85a-f449-4448-ef3a-0ebf1dbf763c"
      },
      "execution_count": null,
      "outputs": [
        {
          "output_type": "stream",
          "name": "stdout",
          "text": [
            "tensor([[-0.3041,  0.1017,  0.3352,  0.3874],\n",
            "        [ 2.6053, -0.0937, -2.3188, -0.7400]], dtype=torch.float64)\n"
          ]
        }
      ]
    },
    {
      "cell_type": "code",
      "source": [
        "# 텐서의 크기 계산\n",
        "\n",
        "print(x.size())"
      ],
      "metadata": {
        "colab": {
          "base_uri": "https://localhost:8080/"
        },
        "id": "nH0RcaZv2NzZ",
        "outputId": "58a0ea70-0fb5-4708-8517-70b0032942b8"
      },
      "execution_count": null,
      "outputs": [
        {
          "output_type": "stream",
          "name": "stdout",
          "text": [
            "torch.Size([2, 4])\n"
          ]
        }
      ]
    },
    {
      "cell_type": "code",
      "source": [
        "# 데이터 타입\n",
        "\n",
        "ft = torch.FloatTensor([1,2,3])\n",
        "print(ft)\n",
        "print(ft.dtype)"
      ],
      "metadata": {
        "colab": {
          "base_uri": "https://localhost:8080/"
        },
        "id": "nGVOyZ9J2bVD",
        "outputId": "cf6494c8-03d1-44fc-b09c-2dbaa08e64df"
      },
      "execution_count": null,
      "outputs": [
        {
          "output_type": "stream",
          "name": "stdout",
          "text": [
            "tensor([1., 2., 3.])\n",
            "torch.float32\n"
          ]
        }
      ]
    },
    {
      "cell_type": "code",
      "source": [
        "print(ft.short())\n",
        "print(ft.int())\n",
        "print(ft.long())"
      ],
      "metadata": {
        "colab": {
          "base_uri": "https://localhost:8080/"
        },
        "id": "N5htR-fP21VU",
        "outputId": "158f3e03-17ea-4190-e5dc-e5b77cd9374c"
      },
      "execution_count": null,
      "outputs": [
        {
          "output_type": "stream",
          "name": "stdout",
          "text": [
            "tensor([1, 2, 3], dtype=torch.int16)\n",
            "tensor([1, 2, 3], dtype=torch.int32)\n",
            "tensor([1, 2, 3])\n"
          ]
        }
      ]
    },
    {
      "cell_type": "code",
      "source": [
        "it = torch.IntTensor([1,2,3])\n",
        "print(it)\n",
        "print(it.dtype)"
      ],
      "metadata": {
        "colab": {
          "base_uri": "https://localhost:8080/"
        },
        "id": "W4h-k7jM28UV",
        "outputId": "b97c306e-9624-4866-a175-494844348f3f"
      },
      "execution_count": null,
      "outputs": [
        {
          "output_type": "stream",
          "name": "stdout",
          "text": [
            "tensor([1, 2, 3], dtype=torch.int32)\n",
            "torch.int32\n"
          ]
        }
      ]
    },
    {
      "cell_type": "code",
      "source": [
        "print(it.float())\n",
        "print(it.double())\n",
        "print(it.half())"
      ],
      "metadata": {
        "colab": {
          "base_uri": "https://localhost:8080/"
        },
        "id": "JVIhbwfB3HQB",
        "outputId": "7566b91e-1da1-4e1b-aba7-b79498d3848c"
      },
      "execution_count": null,
      "outputs": [
        {
          "output_type": "stream",
          "name": "stdout",
          "text": [
            "tensor([1., 2., 3.])\n",
            "tensor([1., 2., 3.], dtype=torch.float64)\n",
            "tensor([1., 2., 3.], dtype=torch.float16)\n"
          ]
        }
      ]
    },
    {
      "cell_type": "markdown",
      "source": [
        "## CUDA Tensor\n",
        "- `.to` 메소드를 통해 텐서를 어떠한 장치 (cpu, gpu) 로도 옮길 수 있음"
      ],
      "metadata": {
        "id": "PjipeN7z3Vbz"
      }
    },
    {
      "cell_type": "code",
      "source": [
        "x = torch.randn(1)\n",
        "print(x)\n",
        "print(x.item())\n",
        "print(x.dtype)"
      ],
      "metadata": {
        "colab": {
          "base_uri": "https://localhost:8080/"
        },
        "id": "J5NZb9uL3RnB",
        "outputId": "5767494d-3bc1-4e6a-fdea-ea99a49a33ac"
      },
      "execution_count": null,
      "outputs": [
        {
          "output_type": "stream",
          "name": "stdout",
          "text": [
            "tensor([0.5679])\n",
            "0.5679059028625488\n",
            "torch.float32\n"
          ]
        }
      ]
    },
    {
      "cell_type": "code",
      "source": [
        "device = torch.device('cuda' if torch.cuda.is_available() else 'cpu')\n",
        "print(f'현재의 디바이스 : {device}')\n",
        "y = torch.ones_like(x, device=device)\n",
        "print(y)\n",
        "x = x.to(device)\n",
        "print(x)\n",
        "z = x + y\n",
        "print(z)\n",
        "print(z.to('cpu', torch.double))\n",
        "print(z)"
      ],
      "metadata": {
        "colab": {
          "base_uri": "https://localhost:8080/"
        },
        "id": "hWAiUbaZ3rHt",
        "outputId": "800e793c-8c1d-4c41-8c20-32bcc29aabb7"
      },
      "execution_count": null,
      "outputs": [
        {
          "output_type": "stream",
          "name": "stdout",
          "text": [
            "현재의 디바이스 : cuda\n",
            "tensor([1.], device='cuda:0')\n",
            "tensor([0.5679], device='cuda:0')\n",
            "tensor([1.5679], device='cuda:0')\n",
            "tensor([1.5679], dtype=torch.float64)\n",
            "tensor([1.5679], device='cuda:0')\n"
          ]
        }
      ]
    },
    {
      "cell_type": "markdown",
      "source": [
        "## 다차원 텐서 표현"
      ],
      "metadata": {
        "id": "V_F6OTJO5rdO"
      }
    },
    {
      "cell_type": "code",
      "source": [
        "# 0D Tensor\n",
        "# 하나의 숫자를 담고 있는 탠서\n",
        "# 축과 형상이 없음\n",
        "\n",
        "t0 = torch.tensor(0)\n",
        "print(t0.ndim) # 차원 수\n",
        "print(t0.shape)\n",
        "print(t0.size())\n",
        "print(t0.item())\n",
        "print(t0)"
      ],
      "metadata": {
        "colab": {
          "base_uri": "https://localhost:8080/"
        },
        "id": "IsHH06ER4ZWP",
        "outputId": "53b77b6a-fc6d-4fc9-8ed6-27120d3de49e"
      },
      "execution_count": null,
      "outputs": [
        {
          "output_type": "stream",
          "name": "stdout",
          "text": [
            "0\n",
            "torch.Size([])\n",
            "torch.Size([])\n",
            "0\n",
            "tensor(0)\n"
          ]
        }
      ]
    },
    {
      "cell_type": "code",
      "source": [
        "# 1D Tensor (Vector)\n",
        "# 값들을 저장한 리스트와 유사한 텐서\n",
        "# 하나의 축이 존재\n",
        "\n",
        "t1 = torch.tensor([1,2,3])\n",
        "print(t1.ndim) # 차원\n",
        "print(t1.shape)\n",
        "print(t1.size())\n",
        "print(t1.numel())\n",
        "print(t1[0])\n",
        "print(t1[1])\n",
        "print(t1)"
      ],
      "metadata": {
        "colab": {
          "base_uri": "https://localhost:8080/"
        },
        "id": "ZL5csVLS55Vz",
        "outputId": "7917f98e-8e6c-4b95-f8b8-6ad8c452fb3d"
      },
      "execution_count": null,
      "outputs": [
        {
          "output_type": "stream",
          "name": "stdout",
          "text": [
            "1\n",
            "torch.Size([3])\n",
            "torch.Size([3])\n",
            "3\n",
            "tensor(1)\n",
            "tensor(2)\n",
            "tensor([1, 2, 3])\n"
          ]
        }
      ]
    },
    {
      "cell_type": "code",
      "source": [
        "# 2D Tensor (Matrix)\n",
        "# 행렬과 같은 모양으로 두개의 축이 존재\n",
        "# 일반적인 수치, 통계 데이터셋이 해당\n",
        "# 주로 샘플(Samples)과 특성(Features)을가진 구조로 사용\n",
        "\n",
        "t2 = torch.tensor([[1,2,3],\n",
        "                  [4,5,6],\n",
        "                  [7,8,9]])\n",
        "print(t2.ndim) # 차원\n",
        "print(t2.shape)\n",
        "print(t2.size())\n",
        "print(t2.numel())\n",
        "print(t2[0])\n",
        "print(t2[1])\n",
        "print(t2[0][1])\n",
        "print(t2[1,2])\n",
        "print(t2)"
      ],
      "metadata": {
        "colab": {
          "base_uri": "https://localhost:8080/"
        },
        "id": "Uy3eb2r46M3n",
        "outputId": "7419dc68-ef4e-49c2-cf3e-e7e60fcae597"
      },
      "execution_count": null,
      "outputs": [
        {
          "output_type": "stream",
          "name": "stdout",
          "text": [
            "2\n",
            "torch.Size([3, 3])\n",
            "torch.Size([3, 3])\n",
            "9\n",
            "tensor([1, 2, 3])\n",
            "tensor([4, 5, 6])\n",
            "tensor(2)\n",
            "tensor(6)\n",
            "tensor([[1, 2, 3],\n",
            "        [4, 5, 6],\n",
            "        [7, 8, 9]])\n"
          ]
        }
      ]
    },
    {
      "cell_type": "code",
      "source": [
        "# 3D Tensor\n",
        "# 큐브(cube)와 같은 모양으로 세개의 축이 존재\n",
        "# 데이터가 연속된 시퀀스 데이터나 시가 축이 포함된 시계열 데이터에 해당\n",
        "# 주식 가격 데이터셋, 시간에 따른 질병 발병 데이터 등이 존재\n",
        "# 주로 샘플(Samples), 타임스템(Timesteps), 특성(Features)을 가진 구조로 사용\n",
        "\n",
        "t3 = torch.tensor([[[1,2,3],\n",
        "                  [4,5,6],\n",
        "                  [7,8,9]],\n",
        "                   [[1,2,3],\n",
        "                  [4,5,6],\n",
        "                  [7,8,9]],\n",
        "                   [[1,2,3],\n",
        "                  [4,5,6],\n",
        "                  [7,8,9]]])\n",
        "print(t3.ndim) # 차원\n",
        "print(t3.shape)\n",
        "print(t3.size())\n",
        "print(t3.numel())\n",
        "print(t3[1])\n",
        "print(t3[1,2])\n",
        "print(t3[1,2,0])\n",
        "print(t3)"
      ],
      "metadata": {
        "colab": {
          "base_uri": "https://localhost:8080/"
        },
        "id": "HqZ9v9A063OC",
        "outputId": "49e9b782-9a23-4c64-b767-47b73a48fb00"
      },
      "execution_count": null,
      "outputs": [
        {
          "output_type": "stream",
          "name": "stdout",
          "text": [
            "3\n",
            "torch.Size([3, 3, 3])\n",
            "torch.Size([3, 3, 3])\n",
            "27\n",
            "tensor([[1, 2, 3],\n",
            "        [4, 5, 6],\n",
            "        [7, 8, 9]])\n",
            "tensor([7, 8, 9])\n",
            "tensor(7)\n",
            "tensor([[[1, 2, 3],\n",
            "         [4, 5, 6],\n",
            "         [7, 8, 9]],\n",
            "\n",
            "        [[1, 2, 3],\n",
            "         [4, 5, 6],\n",
            "         [7, 8, 9]],\n",
            "\n",
            "        [[1, 2, 3],\n",
            "         [4, 5, 6],\n",
            "         [7, 8, 9]]])\n"
          ]
        }
      ]
    },
    {
      "cell_type": "code",
      "source": [
        "# 4D Tensor\n",
        "# 4개의 축\n",
        "# 컬러 이미지 데이터가 대표적인 사례 (흑백 이미지 데이터는 3D Tensor로 가능)\n",
        "# 주로 샘플(samples), 높이(height), 너비(width), 컬러 채널(channel)을 가진 구조로 사용\n",
        "\n",
        "t4 = torch.tensor([[[[1,2,3],\n",
        "                  [4,5,6],\n",
        "                  [7,8,9]],\n",
        "                  [[1,2,3],\n",
        "                  [4,5,6],\n",
        "                  [7,8,9]]],\n",
        "                  [[[1,2,3],\n",
        "                  [4,5,6],\n",
        "                  [7,8,9]],\n",
        "                  [[1,2,3],\n",
        "                  [4,5,6],\n",
        "                  [7,8,9]]]])\n",
        "print(t4.ndim)\n",
        "print(t4.shape)\n",
        "print(t4.size())\n",
        "print(t4.numel())\n",
        "print(t4[0])\n",
        "print(t4[0,1])\n",
        "print(t4)"
      ],
      "metadata": {
        "colab": {
          "base_uri": "https://localhost:8080/"
        },
        "id": "ojgVtQEk71k4",
        "outputId": "8ed61cf4-a193-4e55-99f3-18e4438dbcd3"
      },
      "execution_count": null,
      "outputs": [
        {
          "output_type": "stream",
          "name": "stdout",
          "text": [
            "4\n",
            "torch.Size([2, 2, 3, 3])\n",
            "torch.Size([2, 2, 3, 3])\n",
            "36\n",
            "tensor([[[1, 2, 3],\n",
            "         [4, 5, 6],\n",
            "         [7, 8, 9]],\n",
            "\n",
            "        [[1, 2, 3],\n",
            "         [4, 5, 6],\n",
            "         [7, 8, 9]]])\n",
            "tensor([[1, 2, 3],\n",
            "        [4, 5, 6],\n",
            "        [7, 8, 9]])\n",
            "tensor([[[[1, 2, 3],\n",
            "          [4, 5, 6],\n",
            "          [7, 8, 9]],\n",
            "\n",
            "         [[1, 2, 3],\n",
            "          [4, 5, 6],\n",
            "          [7, 8, 9]]],\n",
            "\n",
            "\n",
            "        [[[1, 2, 3],\n",
            "          [4, 5, 6],\n",
            "          [7, 8, 9]],\n",
            "\n",
            "         [[1, 2, 3],\n",
            "          [4, 5, 6],\n",
            "          [7, 8, 9]]]])\n"
          ]
        }
      ]
    },
    {
      "cell_type": "code",
      "source": [
        "# 5D Tensor\n",
        "# 5개의 축\n",
        "# 비디오데이터가 대표적인 사례\n",
        "# 주로 샘플(samples), 프레임(Frames), 높이(height), 너비(width), 컬러 채널(channel)을 가진 구조로 사용\n",
        "\n",
        "t5 = torch.tensor([[[[[1,2,3],\n",
        "                  [4,5,6],\n",
        "                  [7,8,9]],\n",
        "                  [[1,2,3],\n",
        "                  [4,5,6],\n",
        "                  [7,8,9]]],\n",
        "                  [[[1,2,3],\n",
        "                  [4,5,6],\n",
        "                  [7,8,9]],\n",
        "                  [[1,2,3],\n",
        "                  [4,5,6],\n",
        "                  [7,8,9]]]],\n",
        "                  [[[[1,2,3],\n",
        "                  [4,5,6],\n",
        "                  [7,8,9]],\n",
        "                  [[1,2,3],\n",
        "                  [4,5,6],\n",
        "                  [7,8,9]]],\n",
        "                  [[[1,2,3],\n",
        "                  [4,5,6],\n",
        "                  [7,8,9]],\n",
        "                  [[1,2,3],\n",
        "                  [4,5,6],\n",
        "                  [7,8,9]]]]])\n",
        "print(t5.ndim)\n",
        "print(t5.shape)\n",
        "print(t5.size())\n",
        "print(t5.numel())\n",
        "print(t5)"
      ],
      "metadata": {
        "colab": {
          "base_uri": "https://localhost:8080/"
        },
        "id": "EM7tjTqF9nPc",
        "outputId": "8b1a238e-7eac-428f-a89d-3907cb6705ea"
      },
      "execution_count": null,
      "outputs": [
        {
          "output_type": "stream",
          "name": "stdout",
          "text": [
            "5\n",
            "torch.Size([2, 2, 2, 3, 3])\n",
            "torch.Size([2, 2, 2, 3, 3])\n",
            "72\n",
            "tensor([[[[[1, 2, 3],\n",
            "           [4, 5, 6],\n",
            "           [7, 8, 9]],\n",
            "\n",
            "          [[1, 2, 3],\n",
            "           [4, 5, 6],\n",
            "           [7, 8, 9]]],\n",
            "\n",
            "\n",
            "         [[[1, 2, 3],\n",
            "           [4, 5, 6],\n",
            "           [7, 8, 9]],\n",
            "\n",
            "          [[1, 2, 3],\n",
            "           [4, 5, 6],\n",
            "           [7, 8, 9]]]],\n",
            "\n",
            "\n",
            "\n",
            "        [[[[1, 2, 3],\n",
            "           [4, 5, 6],\n",
            "           [7, 8, 9]],\n",
            "\n",
            "          [[1, 2, 3],\n",
            "           [4, 5, 6],\n",
            "           [7, 8, 9]]],\n",
            "\n",
            "\n",
            "         [[[1, 2, 3],\n",
            "           [4, 5, 6],\n",
            "           [7, 8, 9]],\n",
            "\n",
            "          [[1, 2, 3],\n",
            "           [4, 5, 6],\n",
            "           [7, 8, 9]]]]])\n"
          ]
        }
      ]
    },
    {
      "cell_type": "code",
      "source": [
        "# 텐서의 연산\n",
        "# 텐서에 대한 수학연산, 삼각함수, 비트연산, 비교 연산, 집계 등 제공\n",
        "\n",
        "import math\n",
        "\n",
        "a = torch.rand(1,2) * 2 - 1\n",
        "print(a)\n",
        "print(torch.abs(a))\n",
        "print(torch.ceil(a))\n",
        "print(torch.floor(a))\n",
        "print(torch.clamp(a, -0.5, 0.5))"
      ],
      "metadata": {
        "colab": {
          "base_uri": "https://localhost:8080/"
        },
        "id": "msIb8eNN-dMC",
        "outputId": "64dbbd5c-4991-44ae-a119-f36999a0030d"
      },
      "execution_count": null,
      "outputs": [
        {
          "output_type": "stream",
          "name": "stdout",
          "text": [
            "tensor([[-0.7353,  0.9194]])\n",
            "tensor([[0.7353, 0.9194]])\n",
            "tensor([[-0., 1.]])\n",
            "tensor([[-1.,  0.]])\n",
            "tensor([[-0.5000,  0.5000]])\n"
          ]
        }
      ]
    },
    {
      "cell_type": "code",
      "source": [
        "print(a)\n",
        "print(torch.min(a))\n",
        "print(torch.max(a))\n",
        "print(torch.mean(a))\n",
        "print(torch.std(a))\n",
        "print(torch.prod(a))\n",
        "print(torch.unique(torch.tensor([1,2,3,1,2,2])))"
      ],
      "metadata": {
        "colab": {
          "base_uri": "https://localhost:8080/"
        },
        "id": "lUkfsXM1wmAO",
        "outputId": "8caec668-c3ee-4ba0-b79d-5568b5376c30"
      },
      "execution_count": null,
      "outputs": [
        {
          "output_type": "stream",
          "name": "stdout",
          "text": [
            "tensor([[-0.7353,  0.9194]])\n",
            "tensor(-0.7353)\n",
            "tensor(0.9194)\n",
            "tensor(0.0921)\n",
            "tensor(1.1700)\n",
            "tensor(-0.6760)\n",
            "tensor([1, 2, 3])\n"
          ]
        }
      ]
    },
    {
      "cell_type": "code",
      "source": [
        "# 텐서 연산 연습 1\n",
        "\n",
        "a = torch.tensor([1,2]) * 2 - 1\n",
        "print(a)\n",
        "print(torch.abs(a)) # 절댓값\n",
        "print(torch.ceil(a)) # 반올림\n",
        "print(torch.floor(a)) # 내림\n",
        "print(torch.clamp(a, -0.5, 0.5))"
      ],
      "metadata": {
        "id": "zjJJm-Ea_DkW",
        "colab": {
          "base_uri": "https://localhost:8080/"
        },
        "outputId": "41069708-cc49-48fb-fa71-1b1a0d87f26d"
      },
      "execution_count": null,
      "outputs": [
        {
          "output_type": "stream",
          "name": "stdout",
          "text": [
            "tensor([1, 3])\n",
            "tensor([1, 3])\n",
            "tensor([1, 3])\n",
            "tensor([1, 3])\n",
            "tensor([0.5000, 0.5000])\n"
          ]
        }
      ]
    },
    {
      "cell_type": "code",
      "source": [
        "# 텐서 연산 연습 2\n",
        "\n",
        "a = torch.tensor([1,2,3])\n",
        "b = torch.tensor([4,5,6])\n",
        "\n",
        "result = a + b\n",
        "print(result)\n",
        "\n",
        "result = a - b\n",
        "print(result)\n",
        "\n",
        "result = a * b\n",
        "print(result)\n",
        "\n",
        "result = a / b\n",
        "print(result)"
      ],
      "metadata": {
        "colab": {
          "base_uri": "https://localhost:8080/"
        },
        "id": "z53xppzHsaOA",
        "outputId": "5fc5d9ee-188e-40b3-c19f-efbb231ac409"
      },
      "execution_count": null,
      "outputs": [
        {
          "output_type": "stream",
          "name": "stdout",
          "text": [
            "tensor([5, 7, 9])\n",
            "tensor([-3, -3, -3])\n",
            "tensor([ 4, 10, 18])\n",
            "tensor([0.2500, 0.4000, 0.5000])\n"
          ]
        }
      ]
    },
    {
      "cell_type": "code",
      "source": [
        "# 행렬 연산\n",
        "\n",
        "a = torch.tensor([[1,2],[3,4]])\n",
        "b = torch.tensor([[5,6],[7,8]])\n",
        "\n",
        "# 행렬 덧셈\n",
        "print(a + b)\n",
        "\n",
        "# 행렬 뺄셈\n",
        "print(a - b)\n",
        "\n",
        "# 행렬 곱셈\n",
        "print(torch.matmul(a,b))\n",
        "\n",
        "# 행렬 나눗셈\n",
        "print(a / b)"
      ],
      "metadata": {
        "colab": {
          "base_uri": "https://localhost:8080/"
        },
        "id": "WMUPeZdltMd6",
        "outputId": "bae8248c-d0a1-4a98-9e8b-209a1226e008"
      },
      "execution_count": null,
      "outputs": [
        {
          "output_type": "stream",
          "name": "stdout",
          "text": [
            "tensor([[ 6,  8],\n",
            "        [10, 12]])\n",
            "tensor([[-4, -4],\n",
            "        [-4, -4]])\n",
            "tensor([[19, 22],\n",
            "        [43, 50]])\n",
            "tensor([[0.2000, 0.3333],\n",
            "        [0.4286, 0.5000]])\n"
          ]
        }
      ]
    },
    {
      "cell_type": "code",
      "source": [],
      "metadata": {
        "id": "awY2Q6nNvDeE"
      },
      "execution_count": null,
      "outputs": []
    }
  ]
}