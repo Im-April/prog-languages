{
 "cells": [
  {
   "cell_type": "code",
   "execution_count": 1,
   "id": "b45812c0",
   "metadata": {},
   "outputs": [
    {
     "name": "stdout",
     "output_type": "stream",
     "text": [
      "<__main__.car object at 0x0000018DEAC1BB60>\n"
     ]
    }
   ],
   "source": [
    "# 기본\n",
    "\n",
    "class car :\n",
    "    pass # 아무것도 안 하는 빈 클래스\n",
    "\n",
    "my_car = car()\n",
    "print(my_car)"
   ]
  },
  {
   "cell_type": "code",
   "execution_count": 3,
   "id": "2ee5e0b8",
   "metadata": {},
   "outputs": [
    {
     "name": "stdout",
     "output_type": "stream",
     "text": [
      "현대\n",
      "아반떼\n",
      "0\n"
     ]
    }
   ],
   "source": [
    "# 속성 추가\n",
    "\n",
    "class car :\n",
    "    def __init__(self, brand, model) :\n",
    "        self.brand = brand\n",
    "        self.model = model\n",
    "        self.speed = 0\n",
    "\n",
    "my_car = car('현대', '아반떼')\n",
    "print(my_car.brand)\n",
    "print(my_car.model)\n",
    "print(my_car.speed)"
   ]
  },
  {
   "cell_type": "code",
   "execution_count": 4,
   "id": "776a8a1d",
   "metadata": {},
   "outputs": [
    {
     "name": "stdout",
     "output_type": "stream",
     "text": [
      "속도가 50km/h로 증가\n",
      "속도가 70km/h로 증가\n",
      "현대 아반떼, 현재 속도 : 70km/h\n",
      "차가 멈췄습니다\n"
     ]
    }
   ],
   "source": [
    "# 메서드 추가하기\n",
    "\n",
    "class car :\n",
    "    def __init__(self, brand, model) :\n",
    "        self.brand = brand\n",
    "        self.model = model\n",
    "        self.speed = 0\n",
    "\n",
    "    def accelerate(self, amount) :\n",
    "        self.speed += amount\n",
    "        print(f'속도가 {self.speed}km/h로 증가')\n",
    "\n",
    "    def brake(self):\n",
    "        self.speed = 0\n",
    "        print(\"차가 멈췄습니다\")\n",
    "\n",
    "    def get_info(self):\n",
    "        return f'{self.brand} {self.model}, 현재 속도 : {self.speed}km/h'\n",
    "    \n",
    "my_car = car('현대','아반떼')\n",
    "my_car.accelerate(50)    # 속도가 50km/h로 증가했습니다\n",
    "my_car.accelerate(20)    # 속도가 70km/h로 증가했습니다\n",
    "print(my_car.get_info())\n",
    "my_car.brake()"
   ]
  },
  {
   "cell_type": "code",
   "execution_count": 5,
   "id": "b8e54dd4",
   "metadata": {},
   "outputs": [
    {
     "name": "stdout",
     "output_type": "stream",
     "text": [
      "2\n",
      "2\n",
      "2\n"
     ]
    }
   ],
   "source": [
    "# 클래스 변수 vs 인스턴스 변수\n",
    "\n",
    "class car :\n",
    "    # 클래스 변수 (모든 객체가 공유)\n",
    "    total_cars = 0\n",
    "\n",
    "    def __init__(self, brand, model):\n",
    "        self.brand = brand\n",
    "        self.model = model\n",
    "        car.total_cars += 1 # 클래스 변수 증가\n",
    "\n",
    "    @classmethod\n",
    "    def get_total_cars(cls):\n",
    "        return cls.total_cars\n",
    "    \n",
    "\n",
    "car1 = car(\"현대\", \"아반떼\")\n",
    "car2 = car(\"기아\", \"K5\")\n",
    "\n",
    "print(car.get_total_cars())  # 2\n",
    "print(car1.total_cars)       # 2\n",
    "print(car2.total_cars)       # 2"
   ]
  },
  {
   "cell_type": "code",
   "execution_count": 7,
   "id": "62a9953e",
   "metadata": {},
   "outputs": [
    {
     "name": "stdout",
     "output_type": "stream",
     "text": [
      "현대 아반떼이 시동을 걸었습니다\n",
      "빵빵\n",
      "야마하 R1이 시동을 걸었습니다\n",
      "앞바퀴 들기\n"
     ]
    }
   ],
   "source": [
    "# 상속\n",
    "\n",
    "class vehicle : # 부모 클래스\n",
    "    def __init__(self, brand, model) :\n",
    "        self.brand = brand\n",
    "        self.model = model\n",
    "\n",
    "    def start(self) :\n",
    "        print(f\"{self.brand} {self.model}이 시동을 걸었습니다\")\n",
    "\n",
    "class car(vehicle) : # 자식 클래스\n",
    "    def __init__(self, brand, model, doors):\n",
    "        super().__init__(brand, model) # 부모 클래스의 __init__ 호출\n",
    "        self.doors = doors\n",
    "\n",
    "    def honk(self) :\n",
    "        print('빵빵')\n",
    "\n",
    "class motorcycle(vehicle) : # 또 다른 자식 \n",
    "    def __init__(self, brand, model, engine_cc):\n",
    "        super().__init__(brand, model)\n",
    "        self.engine_cc = engine_cc\n",
    "\n",
    "    def wheelie(self) :\n",
    "        print('앞바퀴 들기')\n",
    "\n",
    "car = car(\"현대\", \"아반떼\", 4)\n",
    "bike = motorcycle(\"야마하\", \"R1\", 1000)\n",
    "\n",
    "car.start()\n",
    "car.honk()\n",
    "\n",
    "bike.start()   # 야마하 R1이 시동을 걸었습니다\n",
    "bike.wheelie() # 앞바퀴 들기!"
   ]
  },
  {
   "cell_type": "markdown",
   "id": "800d8e5a",
   "metadata": {},
   "source": [
    "### ✅ 캡슐화란?\n",
    "- 객체 내부의 데이터(변수)나 구현 세부사항을 감추고,\n",
    "외부에서는 정해진 방식으로만 접근하게 만드는 것\n",
    "\n",
    "\n",
    "#### 🔒 왜 캡슐화가 중요할까?\n",
    "- 데이터를 함부로 수정하거나 깨트리지 못하게 보호\n",
    "- 복잡한 내부 구조는 숨기고, 필요한 정보만 안전하게 메서드로 공개\n",
    "\n",
    "### ✅ 캡슐화를 위한 방법: __변수명 (비공개)\n",
    "```python\n",
    "self.__balance = balance\n",
    "```\n",
    "- 언더바 2개 __를 붙이면 외부에서 직접 접근이 불가능"
   ]
  },
  {
   "cell_type": "code",
   "execution_count": 10,
   "id": "10fd3a26",
   "metadata": {},
   "outputs": [
    {
     "name": "stdout",
     "output_type": "stream",
     "text": [
      "5000원이 입금되었습니다\n",
      "3000원이 출금되었습니다\n",
      "12000\n"
     ]
    }
   ],
   "source": [
    "# 캡슐화\n",
    "\n",
    "class BankAccount :\n",
    "    def __init__(self, owner, balance=0) :\n",
    "        self.owner = owner\n",
    "        self.__balance = balance # 비공개 속성 (캡슐화)\n",
    "\n",
    "    def deposit(self, amount) :\n",
    "        if amount > 0 :\n",
    "            self.__balance += amount\n",
    "            print(f'{amount}원이 입금되었습니다')\n",
    "        else :\n",
    "            print('양수만 입금 가능합니다')\n",
    "\n",
    "    def withdraw(self, amount):\n",
    "        if 0 < amount <= self.__balance:\n",
    "            self.__balance -= amount\n",
    "            print(f\"{amount}원이 출금되었습니다\")\n",
    "        else:\n",
    "            print(\"잔액이 부족하거나 잘못된 금액입니다\")\n",
    "\n",
    "    def get_balance(self) :\n",
    "        return self.__balance\n",
    "    \n",
    "account = BankAccount(\"홍길동\", 10000)\n",
    "account.deposit(5000)     # 5000원이 입금되었습니다\n",
    "account.withdraw(3000)    # 3000원이 출금되었습니다\n",
    "print(account.get_balance())  # 12000\n",
    "\n",
    "# print(account.__balance)  # 오류! 직접 접근 불가"
   ]
  },
  {
   "cell_type": "code",
   "execution_count": 2,
   "id": "8797adf0",
   "metadata": {},
   "outputs": [
    {
     "name": "stdout",
     "output_type": "stream",
     "text": [
      "'파이썬 입문' by 김코딩\n",
      "300\n",
      "False\n",
      "True\n"
     ]
    }
   ],
   "source": [
    "# 매직 메서드\n",
    "\n",
    "class Book :\n",
    "    def __init__(self, title, author, pages) :\n",
    "        self.title = title\n",
    "        self.author = author\n",
    "        self.pages = pages\n",
    "\n",
    "    def __str__(self): # print( )할 때 출력되는 내용\n",
    "        return f'\\'{self.title}\\' by {self.author}'\n",
    "    \n",
    "    def __len__(self) : # len() 함수 사용 시\n",
    "        return self.pages\n",
    "    \n",
    "    def __eq__(self, other) : # == 비교 시\n",
    "        return self.title == other.title and self.author == other.author\n",
    "    \n",
    "    def __lt__(self, other) : # < 비교 시 \n",
    "        return self.pages < other.pages\n",
    "    \n",
    "\n",
    "# 사용 예시\n",
    "book1 = Book(\"파이썬 입문\", \"김코딩\", 300)\n",
    "book2 = Book(\"알고리즘\", \"박개발\", 450)\n",
    "\n",
    "print(book1)        # '파이썬 입문' by 김코딩\n",
    "print(len(book1))   # 300\n",
    "print(book1 == book2)\n",
    "print(book1 < book2)  # True (페이지 수 비교)"
   ]
  },
  {
   "cell_type": "markdown",
   "id": "1676b71a",
   "metadata": {},
   "source": [
    "### 🏠 프로퍼티(Property)란?\n",
    "- “메서드처럼 정의하지만, 변수처럼 사용할 수 있게 해주는 기능”\n",
    "\n",
    "- 원래는 값을 계산해서 반환하는 함수인데, 함수처럼 안 보이고 변수처럼 사용할 수 있게 만들어주는 것\n",
    "\n"
   ]
  },
  {
   "cell_type": "code",
   "execution_count": 5,
   "id": "bc52a6db",
   "metadata": {},
   "outputs": [
    {
     "name": "stdout",
     "output_type": "stream",
     "text": [
      "-5\n"
     ]
    }
   ],
   "source": [
    "class Person :\n",
    "    def __init__(self, age) :\n",
    "        self.age = age\n",
    "\n",
    "person = Person(-5)  # ❌ 말이 안 되는 나이\n",
    "print(person.age)    # -5 (잘못된 값도 그대로 들어감)"
   ]
  },
  {
   "cell_type": "code",
   "execution_count": 7,
   "id": "04508c81",
   "metadata": {},
   "outputs": [
    {
     "name": "stdout",
     "output_type": "stream",
     "text": [
      "10\n"
     ]
    }
   ],
   "source": [
    "class Person:\n",
    "    def __init__(self, age):\n",
    "        self.set_age(age)\n",
    "\n",
    "    def get_age(self):\n",
    "        return self._age\n",
    "\n",
    "    def set_age(self, value):\n",
    "        if value < 0:\n",
    "            raise ValueError(\"나이는 음수일 수 없습니다\")\n",
    "        self._age = value\n",
    "\n",
    "\n",
    "p = Person(10)\n",
    "print(p.get_age())    # 10\n",
    "p.set_age(20)         # setter 함수 호출"
   ]
  },
  {
   "cell_type": "code",
   "execution_count": 9,
   "id": "1a5bb4ae",
   "metadata": {},
   "outputs": [
    {
     "name": "stdout",
     "output_type": "stream",
     "text": [
      "10\n"
     ]
    }
   ],
   "source": [
    "class Person:\n",
    "    def __init__(self, age):\n",
    "        self.age = age  # setter가 자동 호출됨\n",
    "\n",
    "    @property\n",
    "    def age(self) :\n",
    "        return self._age\n",
    "    \n",
    "    @age.setter\n",
    "    def age(self, value) :\n",
    "        if value < 0 :\n",
    "            raise ValueError('나이는 음수일 수 없습니다')\n",
    "        self._age = value\n",
    "\n",
    "\n",
    "p = Person(10)\n",
    "print(p.age)     # ✅ 그냥 변수처럼 사용\n",
    "p.age = 20       # ✅ 값 설정도 변수처럼\n",
    "# p.age = -5     # ❌ ValueError: 나이는 음수일 수 없습니다\n"
   ]
  },
  {
   "cell_type": "code",
   "execution_count": 10,
   "id": "1275c437",
   "metadata": {},
   "outputs": [
    {
     "ename": "ValueError",
     "evalue": "나이는 음수일 수 없습니다",
     "output_type": "error",
     "traceback": [
      "\u001b[1;31m---------------------------------------------------------------------------\u001b[0m",
      "\u001b[1;31mValueError\u001b[0m                                Traceback (most recent call last)",
      "Cell \u001b[1;32mIn[10], line 1\u001b[0m\n\u001b[1;32m----> 1\u001b[0m \u001b[43mp\u001b[49m\u001b[38;5;241;43m.\u001b[39;49m\u001b[43mage\u001b[49m \u001b[38;5;241m=\u001b[39m \u001b[38;5;241m-\u001b[39m\u001b[38;5;241m5\u001b[39m  \n",
      "Cell \u001b[1;32mIn[9], line 12\u001b[0m, in \u001b[0;36mPerson.age\u001b[1;34m(self, value)\u001b[0m\n\u001b[0;32m      9\u001b[0m \u001b[38;5;129m@age\u001b[39m\u001b[38;5;241m.\u001b[39msetter\n\u001b[0;32m     10\u001b[0m \u001b[38;5;28;01mdef\u001b[39;00m \u001b[38;5;21mage\u001b[39m(\u001b[38;5;28mself\u001b[39m, value) :\n\u001b[0;32m     11\u001b[0m     \u001b[38;5;28;01mif\u001b[39;00m value \u001b[38;5;241m<\u001b[39m \u001b[38;5;241m0\u001b[39m :\n\u001b[1;32m---> 12\u001b[0m         \u001b[38;5;28;01mraise\u001b[39;00m \u001b[38;5;167;01mValueError\u001b[39;00m(\u001b[38;5;124m'\u001b[39m\u001b[38;5;124m나이는 음수일 수 없습니다\u001b[39m\u001b[38;5;124m'\u001b[39m)\n\u001b[0;32m     13\u001b[0m     \u001b[38;5;28mself\u001b[39m\u001b[38;5;241m.\u001b[39m_age \u001b[38;5;241m=\u001b[39m value\n",
      "\u001b[1;31mValueError\u001b[0m: 나이는 음수일 수 없습니다"
     ]
    }
   ],
   "source": [
    "p.age = -5  "
   ]
  },
  {
   "cell_type": "code",
   "execution_count": 4,
   "id": "42215c10",
   "metadata": {},
   "outputs": [
    {
     "name": "stdout",
     "output_type": "stream",
     "text": [
      "5\n",
      "78.53975\n",
      "10\n",
      "314.159\n"
     ]
    }
   ],
   "source": [
    "class Circle :\n",
    "    def __init__(self, radius) :\n",
    "        self.radius = radius\n",
    "\n",
    "    @property\n",
    "    def radius(self) :\n",
    "        return self._radius\n",
    "    \n",
    "    @radius.setter\n",
    "    def radius(self, value) :\n",
    "        if value < 0 :\n",
    "            raise ValueError('반지름은 음수일 수 없습니다.')\n",
    "        self._radius = value\n",
    "\n",
    "    @property\n",
    "    def area(self) :\n",
    "        return 3.14159 * self._radius ** 2\n",
    "    \n",
    "    @property\n",
    "    def diameter(self) :\n",
    "        return 2 * self._radius\n",
    "    \n",
    "\n",
    "# 사용 예시\n",
    "circle = Circle(5)\n",
    "print(circle.radius)    # 5\n",
    "print(circle.area)      # 78.53975\n",
    "print(circle.diameter)  # 10\n",
    "\n",
    "circle.radius = 10\n",
    "print(circle.area)      # 314.159\n",
    "\n",
    "# circle.radius = -5  # ValueError 발생"
   ]
  },
  {
   "cell_type": "code",
   "execution_count": 12,
   "id": "05d6f53e",
   "metadata": {},
   "outputs": [
    {
     "name": "stdout",
     "output_type": "stream",
     "text": [
      "=== 도서 목록 ===\n",
      "파이썬 입문 (김코딩) - 대출가능\n",
      "알고리즘 (박개발) - 대출가능\n",
      "홍길동님이 '파이썬 입문'를 대출했습니다\n",
      "=== 도서 목록 ===\n",
      "파이썬 입문 (김코딩) - 대출중\n",
      "알고리즘 (박개발) - 대출가능\n",
      "홍길동님이 '파이썬 입문'를 반납했습니다\n",
      "=== 도서 목록 ===\n",
      "파이썬 입문 (김코딩) - 대출가능\n",
      "알고리즘 (박개발) - 대출가능\n"
     ]
    }
   ],
   "source": [
    "class Book:\n",
    "    def __init__(self, title, author, isbn):\n",
    "        self.title = title\n",
    "        self.author = author\n",
    "        self.isbn = isbn\n",
    "        self.is_borrowed = False\n",
    "    \n",
    "    def __str__(self):\n",
    "        status = \"대출중\" if self.is_borrowed else \"대출가능\"\n",
    "        return f\"{self.title} ({self.author}) - {status}\"\n",
    "\n",
    "class Member:\n",
    "    def __init__(self, name, member_id):\n",
    "        self.name = name\n",
    "        self.member_id = member_id\n",
    "        self.borrowed_books = []\n",
    "    \n",
    "    def borrow_book(self, book):\n",
    "        if not book.is_borrowed:\n",
    "            book.is_borrowed = True\n",
    "            self.borrowed_books.append(book)\n",
    "            print(f\"{self.name}님이 '{book.title}'를 대출했습니다\")\n",
    "        else:\n",
    "            print(\"이미 대출된 책입니다\")\n",
    "    \n",
    "    def return_book(self, book):\n",
    "        if book in self.borrowed_books:\n",
    "            book.is_borrowed = False\n",
    "            self.borrowed_books.remove(book)\n",
    "            print(f\"{self.name}님이 '{book.title}'를 반납했습니다\")\n",
    "        else:\n",
    "            print(\"대출하지 않은 책입니다\")\n",
    "\n",
    "class Library:\n",
    "    def __init__(self):\n",
    "        self.books = []\n",
    "        self.members = []\n",
    "    \n",
    "    def add_book(self, book):\n",
    "        self.books.append(book)\n",
    "    \n",
    "    def add_member(self, member):\n",
    "        self.members.append(member)\n",
    "    \n",
    "    def display_books(self):\n",
    "        print(\"=== 도서 목록 ===\")\n",
    "        for book in self.books:\n",
    "            print(book)\n",
    "\n",
    "# 사용 예시\n",
    "library = Library()\n",
    "\n",
    "# 책 추가\n",
    "book1 = Book(\"파이썬 입문\", \"김코딩\", \"978-1234567890\")\n",
    "book2 = Book(\"알고리즘\", \"박개발\", \"978-0987654321\")\n",
    "library.add_book(book1)\n",
    "library.add_book(book2)\n",
    "\n",
    "# 회원 추가\n",
    "member1 = Member(\"홍길동\", \"M001\")\n",
    "library.add_member(member1)\n",
    "\n",
    "# 도서 대출/반납\n",
    "library.display_books()\n",
    "member1.borrow_book(book1)\n",
    "library.display_books()\n",
    "member1.return_book(book1)\n",
    "library.display_books()"
   ]
  }
 ],
 "metadata": {
  "kernelspec": {
   "display_name": "Python 3",
   "language": "python",
   "name": "python3"
  },
  "language_info": {
   "codemirror_mode": {
    "name": "ipython",
    "version": 3
   },
   "file_extension": ".py",
   "mimetype": "text/x-python",
   "name": "python",
   "nbconvert_exporter": "python",
   "pygments_lexer": "ipython3",
   "version": "3.13.1"
  }
 },
 "nbformat": 4,
 "nbformat_minor": 5
}
