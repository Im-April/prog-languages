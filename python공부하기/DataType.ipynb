{
  "nbformat": 4,
  "nbformat_minor": 0,
  "metadata": {
    "colab": {
      "provenance": []
    },
    "kernelspec": {
      "name": "python3",
      "display_name": "Python 3"
    },
    "language_info": {
      "name": "python"
    }
  },
  "cells": [
    {
      "cell_type": "code",
      "execution_count": 1,
      "metadata": {
        "colab": {
          "base_uri": "https://localhost:8080/"
        },
        "id": "OiPHlBsaomAP",
        "outputId": "76c57386-1a00-42a6-b203-bff0ad82d2ce"
      },
      "outputs": [
        {
          "output_type": "stream",
          "name": "stdout",
          "text": [
            "65536\n",
            "3.3333333333333335\n",
            "3\n"
          ]
        }
      ],
      "source": [
        "# 승수 연산자를 이용해서 2의 16승을 연산\n",
        "print(2 ** 16)\n",
        "\n",
        "# 결과 값이 실수형\n",
        "print(10/3)\n",
        "\n",
        "# 결과 값이 정수형\n",
        "print(10//3)"
      ]
    },
    {
      "cell_type": "code",
      "source": [
        "# 문자열 연산\n",
        "\n",
        "print('Hello' + \"python\")\n",
        "print(\"Hello ~\" * 3)"
      ],
      "metadata": {
        "colab": {
          "base_uri": "https://localhost:8080/"
        },
        "id": "KAWn8OWkpBRy",
        "outputId": "d1053650-2fe0-4f05-c382-bc45fd4a1568"
      },
      "execution_count": 2,
      "outputs": [
        {
          "output_type": "stream",
          "name": "stdout",
          "text": [
            "Hellopython\n",
            "Hello ~Hello ~Hello ~\n"
          ]
        }
      ]
    },
    {
      "cell_type": "code",
      "source": [
        "# 문자열 슬라이싱\n",
        "\n",
        "str1 = 'Hello Python World'\n",
        "\n",
        "print(str1[6])\n",
        "print(str1[6:])\n",
        "print(str1[:6])\n",
        "print(str1[-5])"
      ],
      "metadata": {
        "colab": {
          "base_uri": "https://localhost:8080/"
        },
        "id": "K4oZxYvlpN5r",
        "outputId": "233d1294-4406-4d39-9b7e-2995caa33ee4"
      },
      "execution_count": 3,
      "outputs": [
        {
          "output_type": "stream",
          "name": "stdout",
          "text": [
            "P\n",
            "Python World\n",
            "Hello \n",
            "W\n"
          ]
        }
      ]
    },
    {
      "cell_type": "code",
      "source": [
        "# 인덱싱을 이용해서 새로운 문자열 만들기\n",
        "\n",
        "str2 = \"Hello world!\"\n",
        "idx = str2.index(\"world\") # str2에 저장된 문자열에서 \"world\" 단어가 위치한 시작 index를 찾는다\n",
        "print(str2[:idx])\n",
        "print(str2[idx:])\n",
        "\n",
        "str2 = str2[:idx] + \"python \" + str2[idx:]\n",
        "print(str2)\n",
        "\n",
        "# 인덱스에 음수를 사용하면 문자열 끝에서부터 인덱싱한다.\n",
        "print(str2[2:-3])"
      ],
      "metadata": {
        "colab": {
          "base_uri": "https://localhost:8080/"
        },
        "id": "JO6QGDJEpm9z",
        "outputId": "55b5ec4a-49cd-4b24-fdd4-da33495e0b45"
      },
      "execution_count": 7,
      "outputs": [
        {
          "output_type": "stream",
          "name": "stdout",
          "text": [
            "Hello \n",
            "world!\n",
            "Hello python world!\n",
            "llo python wor\n"
          ]
        }
      ]
    },
    {
      "cell_type": "code",
      "source": [
        "# format() 함수를 이용한 문자열 처리\n",
        "print(\"{:-^50}\".format(\"사랑\"))\n",
        "print(\"{:&<50}\".format(\"사랑\"))\n",
        "print(\"{:*>50}\".format(\"사랑\"))\n",
        "\n",
        "name = \"홍길동\"\n",
        "age = 45\n",
        "info = f\"성명 : {name} | 나이 : {age}\"\n",
        "print(info)"
      ],
      "metadata": {
        "colab": {
          "base_uri": "https://localhost:8080/"
        },
        "id": "Dn05EezaqATN",
        "outputId": "a4db84da-7f2f-4cd9-fadf-4651bb6d7b74"
      },
      "execution_count": 8,
      "outputs": [
        {
          "output_type": "stream",
          "name": "stdout",
          "text": [
            "------------------------사랑------------------------\n",
            "사랑&&&&&&&&&&&&&&&&&&&&&&&&&&&&&&&&&&&&&&&&&&&&&&&&\n",
            "************************************************사랑\n",
            "성명 : 홍길동 | 나이 : 45\n"
          ]
        }
      ]
    },
    {
      "cell_type": "code",
      "source": [
        "# format() 함수를 이용한 여러 행 문자열 처리\n",
        "\n",
        "multiline = '''여러행 문자열\n",
        "우리나라는 {}이다.\n",
        "서기 {}년{}월{}일'''.format(\"대한민국\",2018,4,12)\n",
        "\n",
        "print(multiline)"
      ],
      "metadata": {
        "colab": {
          "base_uri": "https://localhost:8080/"
        },
        "id": "qLHimDVwtve5",
        "outputId": "97771176-d3fe-43b0-db68-4fb6426264f0"
      },
      "execution_count": 10,
      "outputs": [
        {
          "output_type": "stream",
          "name": "stdout",
          "text": [
            "여러행 문자열\n",
            "우리나라는 대한민국이다.\n",
            "서기 2018년4월12일\n"
          ]
        }
      ]
    },
    {
      "cell_type": "code",
      "source": [
        "# 형식 지정자를 이용해서 소수점 아래 4번째 자리에서 반올림\n",
        "print(\"%0.4f\" %(2.555555))\n",
        "\n",
        "# 형식 지정자를 이용해서 공간을 10칸 확보하고 정수를 오른쪽 정렬\n",
        "print(\"%+10d\" %100)\n",
        "\n",
        "# 형식 지정자를 이용해서 여러 데이터 문자열에 삽입\n",
        "print(\"성명 : %s, 나이 : %d\\n\" %(\"이순신\",55))"
      ],
      "metadata": {
        "colab": {
          "base_uri": "https://localhost:8080/"
        },
        "id": "B8NASXHquUVH",
        "outputId": "524ac710-ba84-4251-fc07-00c8926c83f2"
      },
      "execution_count": 13,
      "outputs": [
        {
          "output_type": "stream",
          "name": "stdout",
          "text": [
            "2.5556\n",
            "      +100\n",
            "성명 : 이순신, 나이 : 55\n",
            "\n"
          ]
        }
      ]
    },
    {
      "cell_type": "code",
      "source": [
        "# 이스케이프 코드\n",
        "\n",
        "print(\"줄\\n바\\n꿈\")\n",
        "print('파이썬 \\'따옴표\\' 출력')\n",
        "print('널문자 : \\000')\n",
        "print('탭\\t키')\n",
        "print(\"역슬레시 출력 : \\\\\" )"
      ],
      "metadata": {
        "colab": {
          "base_uri": "https://localhost:8080/"
        },
        "id": "akQGB3M4u80B",
        "outputId": "fd25f815-df64-454c-ca85-88ef29e80634"
      },
      "execution_count": 21,
      "outputs": [
        {
          "output_type": "stream",
          "name": "stdout",
          "text": [
            "줄\n",
            "바\n",
            "꿈\n",
            "파이썬 '따옴표' 출력\n",
            "널문자 : \u0000\n",
            "탭\t키\n",
            "역슬레시 출력 : \\\n"
          ]
        }
      ]
    },
    {
      "cell_type": "code",
      "source": [
        "print(type(365))\n",
        "print(type('hello'))\n",
        "print(type(True))\n",
        "print(type([1,2,3]))\n",
        "print(type({'no':1,'name':'kim'}))\n",
        "print(type(print))"
      ],
      "metadata": {
        "colab": {
          "base_uri": "https://localhost:8080/"
        },
        "id": "C-trBvoywpi5",
        "outputId": "8dcaa886-b8f9-421d-9f44-9cce8bafda77"
      },
      "execution_count": 22,
      "outputs": [
        {
          "output_type": "stream",
          "name": "stdout",
          "text": [
            "<class 'int'>\n",
            "<class 'str'>\n",
            "<class 'bool'>\n",
            "<class 'list'>\n",
            "<class 'dict'>\n",
            "<class 'builtin_function_or_method'>\n"
          ]
        }
      ]
    },
    {
      "cell_type": "code",
      "source": [
        "print(\"Hello\"+\"Python\")\n",
        "print(\"Hello\"*5)"
      ],
      "metadata": {
        "colab": {
          "base_uri": "https://localhost:8080/"
        },
        "id": "n95QLuJPxK26",
        "outputId": "e6a15651-45f1-491c-a3f6-653737e35353"
      },
      "execution_count": 23,
      "outputs": [
        {
          "output_type": "stream",
          "name": "stdout",
          "text": [
            "HelloPython\n",
            "HelloHelloHelloHelloHello\n"
          ]
        }
      ]
    },
    {
      "cell_type": "code",
      "source": [
        "str1 = 'Hello Python World'\n",
        "\n",
        "print(str1[6]) # P\n",
        "print(str1[6:]) # Python World\n",
        "print(str1[:6]) # Hello\n",
        "print(str1[-5]) # W"
      ],
      "metadata": {
        "colab": {
          "base_uri": "https://localhost:8080/"
        },
        "id": "BtmBH83wxk2t",
        "outputId": "f0af45a1-417e-490e-8eeb-aa9ce8e798c1"
      },
      "execution_count": 24,
      "outputs": [
        {
          "output_type": "stream",
          "name": "stdout",
          "text": [
            "P\n",
            "Python World\n",
            "Hello \n",
            "W\n"
          ]
        }
      ]
    },
    {
      "cell_type": "code",
      "source": [
        "str2 = \"Hello World\"\n",
        "idx = str2.index(\"World\") # 6\n",
        "str2 = str2[:idx] + \"Python \" + str2[idx:] + '!'\n",
        "\n",
        "print(str2)"
      ],
      "metadata": {
        "colab": {
          "base_uri": "https://localhost:8080/"
        },
        "id": "uh0uHpSqx9Ni",
        "outputId": "55a98a52-68dd-4354-ab30-5e62935d986f"
      },
      "execution_count": 26,
      "outputs": [
        {
          "output_type": "stream",
          "name": "stdout",
          "text": [
            "Hello Python World!\n"
          ]
        }
      ]
    },
    {
      "cell_type": "code",
      "source": [
        "print('{:-^50}'.format('사랑'))"
      ],
      "metadata": {
        "colab": {
          "base_uri": "https://localhost:8080/"
        },
        "id": "Wrvv7PJQynGj",
        "outputId": "4a8d8f48-53f0-4231-ca71-97f532847f56"
      },
      "execution_count": 27,
      "outputs": [
        {
          "output_type": "stream",
          "name": "stdout",
          "text": [
            "------------------------사랑------------------------\n"
          ]
        }
      ]
    },
    {
      "cell_type": "code",
      "source": [
        "multiline = '''여러행의 문자열\n",
        "마루는 {}이다.\n",
        "마루는 {}년{}월{}일에 우리집에 왔다.'''.format(\"진돗개\",2023,12,21)\n",
        "\n",
        "print(multiline)"
      ],
      "metadata": {
        "colab": {
          "base_uri": "https://localhost:8080/"
        },
        "id": "p0qe7OSyyzyN",
        "outputId": "b1bcae88-131c-4455-a596-dee96fcac3f2"
      },
      "execution_count": 30,
      "outputs": [
        {
          "output_type": "stream",
          "name": "stdout",
          "text": [
            "여러행의 문자열\n",
            "마루는 진돗개이다.\n",
            "마루는 2023년12월21일에 우리집에 왔다.\n"
          ]
        }
      ]
    },
    {
      "cell_type": "code",
      "source": [
        "num = int(input('정수 입력 : '))\n",
        "\n",
        "print(bin(num))\n",
        "print(oct(num))\n",
        "print(hex(num))"
      ],
      "metadata": {
        "colab": {
          "base_uri": "https://localhost:8080/"
        },
        "id": "HiBYH1q1zNRf",
        "outputId": "80a89d3e-e76e-44d8-b6b9-f8308cf29aa0"
      },
      "execution_count": 32,
      "outputs": [
        {
          "output_type": "stream",
          "name": "stdout",
          "text": [
            "정수 입력 : 256\n",
            "0b100000000\n",
            "0o400\n",
            "0x100\n"
          ]
        }
      ]
    },
    {
      "cell_type": "code",
      "source": [
        "str1 = input('Hello python world 입력하세요 : ')\n",
        "idx = str1.index(\"python\")\n",
        "\n",
        "str2 = str1[:idx] + \"happy \" + str1[13:]\n",
        "\n",
        "print('{:-^50}'.format('결과'))\n",
        "print(str2)"
      ],
      "metadata": {
        "colab": {
          "base_uri": "https://localhost:8080/"
        },
        "id": "7VO8M6d80FVO",
        "outputId": "a984f635-4a3b-477e-a239-9e266c74cb00"
      },
      "execution_count": 4,
      "outputs": [
        {
          "output_type": "stream",
          "name": "stdout",
          "text": [
            "Hello python world 입력하세요 : Hello python world\n",
            "------------------------결과------------------------\n",
            "Hello happy world\n"
          ]
        }
      ]
    },
    {
      "cell_type": "code",
      "source": [
        "name = input('이름 입력 : ')\n",
        "job = input('직업 입력 : ')\n",
        "addr = input('사는 곳 입력 : ')\n",
        "feature = input('특이 사항 입력 : ')\n",
        "\n",
        "print('{:-^30}'.format('결과'))\n",
        "print('이름{:->30}'.format(name))\n",
        "print('직업{:>30}'.format(job))\n",
        "print('주소{:->30}'.format(addr))\n",
        "print('특이사항{:->30}'.format(feature))"
      ],
      "metadata": {
        "colab": {
          "base_uri": "https://localhost:8080/"
        },
        "id": "K88o6P-1CpB1",
        "outputId": "46244c1a-682f-4947-b846-374e57410404"
      },
      "execution_count": 6,
      "outputs": [
        {
          "output_type": "stream",
          "name": "stdout",
          "text": [
            "이름 입력 : 홍길동\n",
            "직업 입력 : 개발자\n",
            "사는 곳 입력 : 제주도\n",
            "특이 사항 입력 : 강아지랑 같이 산다\n",
            "--------------결과--------------\n",
            "이름---------------------------홍길동\n",
            "직업                           개발자\n",
            "주소---------------------------제주도\n",
            "특이사항--------------------강아지랑 같이 산다\n"
          ]
        }
      ]
    }
  ]
}