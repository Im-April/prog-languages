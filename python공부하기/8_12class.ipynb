{
 "cells": [
  {
   "cell_type": "code",
   "execution_count": 1,
   "id": "1e962454",
   "metadata": {},
   "outputs": [
    {
     "name": "stdout",
     "output_type": "stream",
     "text": [
      "마린 유닛이 생성되었습니다\n",
      "체력 : 40 공격력 : 5\n"
     ]
    }
   ],
   "source": [
    "name = '마린'\n",
    "hp = 40\n",
    "damage = 5\n",
    "\n",
    "print(f'{name} 유닛이 생성되었습니다')\n",
    "print(f'체력 : {hp} 공격력 : {damage}')"
   ]
  },
  {
   "cell_type": "code",
   "execution_count": 2,
   "id": "4d3136a3",
   "metadata": {},
   "outputs": [
    {
     "name": "stdout",
     "output_type": "stream",
     "text": [
      "탱크 유닛이 생성되었습니다\n",
      "체력 : 150 공격력 : 35\n"
     ]
    }
   ],
   "source": [
    "tank_name = '탱크'\n",
    "tank_hp = 150\n",
    "tank_damage = 35\n",
    "\n",
    "print(f'{tank_name} 유닛이 생성되었습니다')\n",
    "print(f'체력 : {tank_hp} 공격력 : {tank_damage}')"
   ]
  },
  {
   "cell_type": "code",
   "execution_count": 3,
   "id": "0ba1ad00",
   "metadata": {},
   "outputs": [
    {
     "name": "stdout",
     "output_type": "stream",
     "text": [
      "마린이 1시 방향으로 적군을 공격합니다. 공격력 : 5\n"
     ]
    }
   ],
   "source": [
    "def attack(name, location, damage) :\n",
    "    print(f'{name}이 {location} 방향으로 적군을 공격합니다. 공격력 : {damage}')\n",
    "\n",
    "\n",
    "attack(name,'1시',damage)"
   ]
  },
  {
   "cell_type": "code",
   "execution_count": null,
   "id": "228676ce",
   "metadata": {},
   "outputs": [
    {
     "name": "stdout",
     "output_type": "stream",
     "text": [
      "마린 유닛이 생성되었습니다\n",
      "체력 : 40, 공격력 : 5\n",
      "마린2 유닛이 생성되었습니다\n",
      "체력 : 42, 공격력 : 25\n",
      "탱크 유닛이 생성되었습니다\n",
      "체력 : 150, 공격력 : 35\n"
     ]
    }
   ],
   "source": [
    "# 클래스는 하나의 틀\n",
    "# 서로 연관된 변수와 함수의 집합\n",
    "\n",
    "\n",
    "class Unit :\n",
    "    def __init__(self, name, hp, damage) :\n",
    "        self.name = name\n",
    "        self.hp = hp\n",
    "        self.damage = damage\n",
    "        print(f'{self.name} 유닛이 생성되었습니다')\n",
    "        print(f'체력 : {self.hp}, 공격력 : {self.damage}')\n",
    "\n",
    "\n",
    "marine1 = Unit('마린',40,5)\n",
    "marine2 = Unit('마린2',42,25)\n",
    "tank = Unit('탱크',150,35)"
   ]
  },
  {
   "cell_type": "markdown",
   "id": "5280e4ec",
   "metadata": {},
   "source": [
    "### 클래스 란?\n",
    "- 객체(object)를 만들기 위한 설계도"
   ]
  },
  {
   "cell_type": "code",
   "execution_count": 11,
   "id": "8cc06bb3",
   "metadata": {},
   "outputs": [
    {
     "name": "stdout",
     "output_type": "stream",
     "text": [
      "빨간색 페라리 자동차가 달립니다\n"
     ]
    }
   ],
   "source": [
    "class Car :\n",
    "    def __init__(self, color, brand):\n",
    "        self.color = color\n",
    "        self.brand = brand\n",
    "\n",
    "    def drive(self):\n",
    "        print(f'{self.color}색 {self.brand} 자동차가 달립니다')\n",
    "\n",
    "\n",
    "Ferrari = Car('빨간','페라리')\n",
    "Ferrari.drive()"
   ]
  },
  {
   "cell_type": "code",
   "execution_count": 10,
   "id": "a1308216",
   "metadata": {},
   "outputs": [
    {
     "name": "stdout",
     "output_type": "stream",
     "text": [
      "초코가 멍멍 짖습니다!\n"
     ]
    }
   ],
   "source": [
    "class Dog:\n",
    "    def __init__(self, name):\n",
    "        self.name = name\n",
    "\n",
    "    def bark(self):\n",
    "        print(f\"{self.name}가 멍멍 짖습니다!\")\n",
    "\n",
    "# \"초코\"라는 이름의 개를 만들고 짖게 하기\n",
    "choco = Dog('초코')    # ✔️ 객체(인스턴스) 생성\n",
    "choco.bark()           # ✔️ 멍멍 짖게 하기\n"
   ]
  },
  {
   "cell_type": "code",
   "execution_count": null,
   "id": "691596c2",
   "metadata": {},
   "outputs": [
    {
     "name": "stdout",
     "output_type": "stream",
     "text": [
      "레이스 유닛이 생성되었습니다\n",
      "체력 : 80, 공격력 : 5\n",
      "유닛 이름 : 레이스 , 공격력 : 5\n",
      "레이스 유닛이 생성되었습니다\n",
      "체력 : 80, 공격력 : 5\n",
      "레이스은 현재 클로킹 상태입니다\n"
     ]
    }
   ],
   "source": [
    "class Unit :\n",
    "    def __init__(self, name, hp, damage) :\n",
    "        self.name = name\n",
    "        self.hp = hp\n",
    "        self.damage = damage\n",
    "        print(f'{self.name} 유닛이 생성되었습니다')\n",
    "        print(f'체력 : {self.hp}, 공격력 : {self.damage}')\n",
    "\n",
    "wraith1 = Unit('레이스',80,5)\n",
    "\n",
    "print(f'유닛 이름 : {wraith1.name} , 공격력 : {wraith1.damage}')\n",
    "\n",
    "wraith2 = Unit('레이스',80,5)\n",
    "wraith2.clocking = True # 객체에 추가로 외부에서 만들수 있다\n",
    "\n",
    "if wraith2.clocking == True :\n",
    "    print(f'{wraith2.name}은 현재 클로킹 상태입니다')"
   ]
  },
  {
   "cell_type": "code",
   "execution_count": 16,
   "id": "d2d7ad8b",
   "metadata": {},
   "outputs": [
    {
     "name": "stdout",
     "output_type": "stream",
     "text": [
      "안녕! 나는 마루야 2살이야.\n"
     ]
    }
   ],
   "source": [
    "class Dog :\n",
    "    def __init__(self,name,age):\n",
    "        self.name = name\n",
    "        self.age = age\n",
    "\n",
    "    def introduce(self):\n",
    "        print(f'안녕! 나는 {self.name}야 {self.age}살이야.')\n",
    "\n",
    "\n",
    "maru = Dog('마루',2)\n",
    "maru.introduce()"
   ]
  },
  {
   "cell_type": "markdown",
   "id": "7215a1bb",
   "metadata": {},
   "source": [
    "### 🎯 요약\n",
    "| 변수 종류   | 선언 위치                       | 접근 방법                          | 객체마다 다름? |\n",
    "|-------------|----------------------------------|-------------------------------------|----------------|\n",
    "| 멤버 변수   | `__init__()` 등에서 `self.`로   | `self.변수`                         | ✅              |\n",
    "| 클래스 변수 | 클래스 블록 안, `self` 없이      | `클래스명.변수`, `self.변수`        | ❌ (모두 공유)  |\n",
    "| 지역 변수   | 함수(메서드) 안                 | 변수명 직접 사용                   | ✅ (함수마다 다름, 일시적) |\n"
   ]
  },
  {
   "cell_type": "code",
   "execution_count": 17,
   "id": "dc258855",
   "metadata": {},
   "outputs": [
    {
     "name": "stdout",
     "output_type": "stream",
     "text": [
      "나비\n",
      "미미\n",
      "고양이\n",
      "고양이\n",
      "나비가 냐옹 하고 울어요\n",
      "미미가 냐옹 하고 울어요\n"
     ]
    }
   ],
   "source": [
    "class Cat:\n",
    "    species = \"고양이\" # 클래스 변수\n",
    "\n",
    "    def __init__(self, name) :\n",
    "        self.name = name # 멤버변수\n",
    "\n",
    "    def speak(self) :\n",
    "        sound = '냐옹' # 지역 변수 (speak 함수 안에서만 사용)\n",
    "        print(f'{self.name}가 {sound} 하고 울어요')\n",
    "\n",
    "cat1 = Cat('나비')\n",
    "cat2 = Cat('미미')\n",
    "\n",
    "print(cat1.name)\n",
    "print(cat2.name)\n",
    "print(cat1.species)\n",
    "print(cat2.species)\n",
    "cat1.speak()\n",
    "cat2.speak()"
   ]
  },
  {
   "cell_type": "code",
   "execution_count": 22,
   "id": "ac5e695e",
   "metadata": {},
   "outputs": [
    {
     "name": "stdout",
     "output_type": "stream",
     "text": [
      "파이어뱃이 5시 방향으로 적군을 공격합니다. [공격력 : 16]\n",
      "파이어뱃 : 25 데이미를 입었습니다\n",
      "파이어뱃  : 현재 체력은 25 입니다.\n",
      "파이어뱃 : 25 데이미를 입었습니다\n",
      "파이어뱃  : 현재 체력은 0 입니다.\n",
      "파이어뱃 : 파괴되었습니다\n"
     ]
    }
   ],
   "source": [
    "class Unit :\n",
    "    def __init__(self, name, hp, damage) :\n",
    "        self.name = name\n",
    "        self.hp = hp\n",
    "        self.damage = damage\n",
    "        print(f'{self.name} 유닛이 생성되었습니다')\n",
    "        print(f'체력 : {self.hp}, 공격력 : {self.damage}')\n",
    "\n",
    "class AttackUnit:\n",
    "    def __init__(self,name,hp,damage):\n",
    "        self.name = name\n",
    "        self.hp = hp\n",
    "        self.damage = damage\n",
    "\n",
    "    def attack(self, location):\n",
    "        print(f'{self.name}이 {location} 방향으로 적군을 공격합니다. [공격력 : {self.damage}]')\n",
    "\n",
    "    \n",
    "    def damaged(self,damage):\n",
    "        print(f'{self.name} : {damage} 데이미를 입었습니다')\n",
    "        self.hp -= damage\n",
    "        print(f'{self.name}  : 현재 체력은 {self.hp} 입니다.')\n",
    "        if self.hp <= 0:\n",
    "            print(f'{self.name} : 파괴되었습니다')\n",
    "\n",
    "firebat1 = AttackUnit('파이어뱃',50,16)\n",
    "firebat1.attack('5시')\n",
    "firebat1.damaged(25)\n",
    "firebat1.damaged(25)"
   ]
  },
  {
   "cell_type": "code",
   "execution_count": 23,
   "id": "69c1844e",
   "metadata": {},
   "outputs": [
    {
     "name": "stdout",
     "output_type": "stream",
     "text": [
      "파이어뱃이 5시 방향으로 적군을 공격합니다. [공격력 : 16]\n",
      "파이어뱃 : 25 데이미를 입었습니다\n",
      "파이어뱃  : 현재 체력은 25 입니다.\n",
      "파이어뱃 : 25 데이미를 입었습니다\n",
      "파이어뱃  : 현재 체력은 0 입니다.\n",
      "파이어뱃 : 파괴되었습니다\n"
     ]
    }
   ],
   "source": [
    "# 일반 유닛 \n",
    "class Unit :\n",
    "    def __init__(self, name, hp) :\n",
    "        self.name = name\n",
    "        self.hp = hp\n",
    "\n",
    "# 공격 유닛\n",
    "class AttackUnit(Unit):\n",
    "    def __init__(self,name,hp,damage):\n",
    "        Unit. __init__ (self, name, hp)\n",
    "        self.damage = damage\n",
    "\n",
    "    def attack(self, location):\n",
    "        print(f'{self.name}이 {location} 방향으로 적군을 공격합니다. [공격력 : {self.damage}]')\n",
    "\n",
    "    \n",
    "    def damaged(self,damage):\n",
    "        print(f'{self.name} : {damage} 데이미를 입었습니다')\n",
    "        self.hp -= damage\n",
    "        print(f'{self.name}  : 현재 체력은 {self.hp} 입니다.')\n",
    "        if self.hp <= 0:\n",
    "            print(f'{self.name} : 파괴되었습니다')\n",
    "\n",
    "\n",
    "firebat1 = AttackUnit('파이어뱃',50,16)\n",
    "firebat1.attack('5시')\n",
    "firebat1.damaged(25)\n",
    "firebat1.damaged(25)"
   ]
  },
  {
   "cell_type": "code",
   "execution_count": 24,
   "id": "a57851ed",
   "metadata": {},
   "outputs": [
    {
     "name": "stdout",
     "output_type": "stream",
     "text": [
      "마루이 6시 방향으로 적군을 공격합니다. [공격력 : 70]\n"
     ]
    }
   ],
   "source": [
    "# 부모 클래스\n",
    "class Unit:\n",
    "    def __init__(self, name, hp):\n",
    "        self.name = name\n",
    "        self.hp = hp\n",
    "\n",
    "# 자식 클래스 : Unit을 상속받음\n",
    "class AttakUnit(Unit):\n",
    "    def __init__(self, name, hp, damage):\n",
    "        Unit .__init__(self, name, hp)\n",
    "        self.damage = damage\n",
    "\n",
    "    def attack(self, location):\n",
    "        print(f'{self.name}이 {location} 방향으로 공격합니다. [공격력: {self.damage}]')\n",
    "\n",
    "\n",
    "maru = AttackUnit('마루',100,70)\n",
    "maru.attack('6시')"
   ]
  },
  {
   "cell_type": "code",
   "execution_count": null,
   "id": "8182900b",
   "metadata": {},
   "outputs": [],
   "source": [
    "# 부모 클래스\n",
    "class Unit:\n",
    "    def __init__(self, name, hp):\n",
    "        self.name = name\n",
    "        self.hp = hp\n",
    "\n",
    "# 자식 클래스 : Unit을 상속받음\n",
    "class AttakUnit(Unit):\n",
    "    def __init__(self, name, hp, damage):\n",
    "        Unit .__init__(self, name, hp)\n",
    "        self.damage = damage\n",
    "\n",
    "    def attack(self, location):\n",
    "        print(f'{self.name}이 {location} 방향으로 공격합니다. [공격력: {self.damage}]')"
   ]
  },
  {
   "cell_type": "markdown",
   "id": "e05f7be3",
   "metadata": {},
   "source": [
    "### 🧐 연습 "
   ]
  },
  {
   "cell_type": "code",
   "execution_count": 31,
   "id": "54b0956e",
   "metadata": {},
   "outputs": [
    {
     "name": "stdout",
     "output_type": "stream",
     "text": [
      "벙커 (체력 : 150) 가 생성되었습니다.\n",
      "벙커은(는) 방어 태세 돌입! 방어력 +20\n",
      "벙커이 10의 공격을 받았지만, 방어력 20로 0만큼만 피해를 입습니다.\n",
      "벙커의 현재 체력: 150\n",
      "벙커이 25의 공격을 받았지만, 방어력 20로 5만큼만 피해를 입습니다.\n",
      "벙커의 현재 체력: 145\n",
      "벙커이 200의 공격을 받았지만, 방어력 20로 180만큼만 피해를 입습니다.\n",
      "벙커의 현재 체력: -35\n",
      "벙커은(는) 파괴되었습니다.\n"
     ]
    }
   ],
   "source": [
    "class Unit:\n",
    "    def __init__(self, name, hp):\n",
    "        self.name = name\n",
    "        self.hp = hp\n",
    "        print(f'{self.name} (체력 : {self.hp}) 가 생성되었습니다.')\n",
    "\n",
    "\n",
    "class AttackUnit(Unit):\n",
    "    def __init__(self, name, hp, damage):\n",
    "        super().__init__(name, hp)\n",
    "        self.damage = damage\n",
    "\n",
    "    def attack(self, location):\n",
    "        print(f'{self.name}이 {location} 방향으로 공격합니다. [공격력: {self.damage}]')\n",
    "\n",
    "    def special_attack(self):\n",
    "        print(f'{self.name}이 특수 공격을 합니다! 🔥')\n",
    "\n",
    "    def damaged(self,damage):\n",
    "        print(f'{self.name}이 {damage}의 피해를 입었습니다.')\n",
    "        self.hp -= damage\n",
    "        print(f'{self.name}의 현재 체력 : {self.hp}')\n",
    "        if self.hp <= 0 :\n",
    "            print(f'{self.name}은 파괴되었습니다.')\n",
    "\n",
    "\n",
    "class DefenseUnit(Unit):\n",
    "    def __init__(self, name, hp, armor):\n",
    "        super().__init__(name, hp)\n",
    "        self.armor = armor\n",
    "\n",
    "    def defend(self):\n",
    "        print(f'{self.name}은(는) 방어 태세 돌입! 방어력 +{self.armor}')\n",
    "\n",
    "    def damaged(self, damage):\n",
    "        reduced = max(damage-self.armor,0)\n",
    "        print(f'{self.name}이 {damage}의 공격을 받았지만, 방어력 {self.armor}로 {reduced}만큼만 피해를 입습니다.')\n",
    "        self.hp -= reduced\n",
    "        print(f'{self.name}의 현재 체력: {self.hp}')\n",
    "        if self.hp <= 0:\n",
    "            print(f'{self.name}은(는) 파괴되었습니다.')\n",
    "\n",
    "\n",
    "\n",
    "# 테스트\n",
    "bunker = DefenseUnit(\"벙커\", 150, 20)\n",
    "bunker.defend()\n",
    "bunker.damaged(10)  # 방어력 > 데미지 → 피해 0\n",
    "bunker.damaged(25)  # 25 - 20 = 5 피해\n",
    "bunker.damaged(200) # 방어 못함, 파괴됨\n",
    "\n"
   ]
  },
  {
   "cell_type": "code",
   "execution_count": 36,
   "id": "337c4e27",
   "metadata": {},
   "outputs": [
    {
     "name": "stdout",
     "output_type": "stream",
     "text": [
      "발키리이 3시 방향으로 날아갑니다 속도 : 5\n"
     ]
    }
   ],
   "source": [
    "# 일반 유닛 \n",
    "class Unit :\n",
    "    def __init__(self, name, hp) :\n",
    "        self.name = name\n",
    "        self.hp = hp\n",
    "\n",
    "# 공격 유닛\n",
    "class AttackUnit(Unit):\n",
    "    def __init__(self,name,hp,damage):\n",
    "        Unit. __init__ (self, name, hp)\n",
    "        self.damage = damage\n",
    "\n",
    "    def attack(self, location):\n",
    "        print(f'{self.name}이 {location} 방향으로 적군을 공격합니다. [공격력 : {self.damage}]')\n",
    "\n",
    "    \n",
    "    def damaged(self,damage):\n",
    "        print(f'{self.name} : {damage} 데이미를 입었습니다')\n",
    "        self.hp -= damage\n",
    "        print(f'{self.name}  : 현재 체력은 {self.hp} 입니다.')\n",
    "        if self.hp <= 0:\n",
    "            print(f'{self.name} : 파괴되었습니다')\n",
    "\n",
    "class Flyable:\n",
    "    def __init__(self, flying_speed):\n",
    "        self.flying_speed = flying_speed\n",
    "\n",
    "    def fly(self, name, location):\n",
    "        print(f'{name}이 {location} 방향으로 날아갑니다 속도 : {self.flying_speed}')\n",
    "\n",
    "\n",
    "class FlyabelAttackUnit(AttackUnit, Flyable):\n",
    "       def __init__(self, name, hp, damage, flying_speed):\n",
    "           AttackUnit .__init__(self, name, hp,damage)\n",
    "           Flyable .__init__(self,flying_speed)\n",
    "\n",
    "\n",
    "valkyrie = FlyabelAttackUnit('발키리',200,6,5)\n",
    "valkyrie.fly(valkyrie.name,'3시')"
   ]
  },
  {
   "cell_type": "markdown",
   "id": "2ff7b49c",
   "metadata": {},
   "source": [
    "### 메소드 오버라이딩\n",
    "- 부모 클래스에서 정의한 메서드를 자식 클래스에서 같은 이름으로 다시 정의하면,\n",
    "자식 클래스의 메서드가 우선 적용\n",
    "    - 부모의 메서드를 **덮어쓴다(overwrite)**는 개념"
   ]
  },
  {
   "cell_type": "code",
   "execution_count": 37,
   "id": "5ec73293",
   "metadata": {},
   "outputs": [
    {
     "name": "stdout",
     "output_type": "stream",
     "text": [
      "동물이 소리를 냅니다\n",
      "멍멍\n",
      "야옹\n"
     ]
    }
   ],
   "source": [
    "class Animal:\n",
    "    def speak(self):\n",
    "        print('동물이 소리를 냅니다')\n",
    "\n",
    "class Dog(Animal):\n",
    "    def speak(self): #오버라이딩\n",
    "        print('멍멍')\n",
    "\n",
    "class Cat(Animal):\n",
    "    def speak(self): # 오버라이딩\n",
    "        print('야옹')\n",
    "\n",
    "\n",
    "animal = Animal()\n",
    "dog = Dog()\n",
    "cat = Cat()\n",
    "\n",
    "animal.speak()  # 동물이 소리를 냅니다.\n",
    "dog.speak()     # 멍멍!\n",
    "cat.speak()     # 야옹~"
   ]
  },
  {
   "cell_type": "code",
   "execution_count": 43,
   "id": "96a6c58d",
   "metadata": {},
   "outputs": [
    {
     "name": "stdout",
     "output_type": "stream",
     "text": [
      "지상 유닛 이동 !\n",
      "벌처 : 11시 방향으로 이동합니다 속도 : 10\n",
      "지상 유닛 이동 !\n",
      "배틀크루저 : 2시 방향으로 이동합니다 속도 : 0\n"
     ]
    }
   ],
   "source": [
    "# 일반 유닛 \n",
    "class Unit :\n",
    "    def __init__(self, name, hp, speed) :\n",
    "        self.name = name\n",
    "        self.hp = hp\n",
    "        self.speed = speed\n",
    "\n",
    "    def move(self, location):\n",
    "        print('지상 유닛 이동 !')\n",
    "        print(f'{self.name} : {location} 방향으로 이동합니다 속도 : {self.speed}')\n",
    "\n",
    "# 공격 유닛\n",
    "class AttackUnit(Unit):\n",
    "    def __init__(self,name,hp,speed,damage):\n",
    "        Unit .__init__ (self, name, hp, speed)\n",
    "        self.damage = damage\n",
    "\n",
    "    def attack(self, location):\n",
    "        print(f'{self.name}이 {location} 방향으로 적군을 공격합니다. [공격력 : {self.damage}]')\n",
    "\n",
    "    \n",
    "    def damaged(self,damage):\n",
    "        print(f'{self.name} : {damage} 데이미를 입었습니다')\n",
    "        self.hp -= damage\n",
    "        print(f'{self.name}  : 현재 체력은 {self.hp} 입니다.')\n",
    "        if self.hp <= 0:\n",
    "            print(f'{self.name} : 파괴되었습니다')\n",
    "\n",
    "class Flyable:\n",
    "    def __init__(self, flying_speed):\n",
    "        self.flying_speed = flying_speed\n",
    "\n",
    "    def fly(self, name, location):\n",
    "        print(f'{name}이 {location} 방향으로 날아갑니다 속도 : {self.flying_speed}')\n",
    "\n",
    "\n",
    "class FlyableAttackUnit(AttackUnit, Flyable):\n",
    "    def __init__(self, name, hp, damage, flying_speed):\n",
    "        AttackUnit.__init__(self, name, hp, 0, damage)  # 지상 스피드 0\n",
    "        Flyable.__init__(self, flying_speed)\n",
    "\n",
    "    # 메소드 오버라이딩\n",
    "    def move(self, location):\n",
    "        print(\"공중 유닛 이동!\")\n",
    "        self.fly(self.name, location)\n",
    "\n",
    "\n",
    "vulture = AttackUnit('벌처',80,10,20)\n",
    "\n",
    "battlecruiser = FlyabelAttackUnit('배틀크루저',500,25,3)\n",
    "\n",
    "vulture.move(\"11시\")\n",
    "battlecruiser.move('2시')"
   ]
  },
  {
   "cell_type": "markdown",
   "id": "f115bf20",
   "metadata": {},
   "source": [
    "### super()\n",
    "- 자식 클래스가 부모 클래스의 메서드(특히 __init__)를 호출할 때 사용하는 함수"
   ]
  },
  {
   "cell_type": "code",
   "execution_count": 50,
   "id": "36e4ca27",
   "metadata": {},
   "outputs": [
    {
     "name": "stdout",
     "output_type": "stream",
     "text": [
      "마루가(이) 태어났습니다.\n",
      "마루가(이) 태어났습니다.\n",
      "마루은(는) 멍멍 하며 웁니다.\n"
     ]
    }
   ],
   "source": [
    "class Dog :\n",
    "    def __init__(self,name):\n",
    "        self.name = name\n",
    "        print(f'{self.name}가(이) 태어났습니다.')\n",
    "\n",
    "maru = Dog('마루')\n",
    "\n",
    "class ServiceDog(Dog) :\n",
    "    def __init__(self,name,bark) :\n",
    "        super() .__init__(name)\n",
    "        self.bark = bark\n",
    "        print(f'{self.name}은(는) {self.bark} 하며 웁니다.')\n",
    "\n",
    "maru = ServiceDog('마루','멍멍')\n",
    "\n"
   ]
  },
  {
   "cell_type": "code",
   "execution_count": null,
   "id": "b894af11",
   "metadata": {},
   "outputs": [],
   "source": [
    "# 일반 유닛 \n",
    "class Unit :\n",
    "    def __init__(self, name, hp, speed) :\n",
    "        self.name = name\n",
    "        self.hp = hp\n",
    "        self.speed = speed\n",
    "\n",
    "    def move(self, location):\n",
    "        print('지상 유닛 이동 !')\n",
    "        print(f'{self.name} : {location} 방향으로 이동합니다 속도 : {self.speed}')\n",
    "\n",
    "# 공격 유닛\n",
    "class AttackUnit(Unit):\n",
    "    def __init__(self,name,hp,speed,damage):\n",
    "        Unit .__init__ (self, name, hp, speed)\n",
    "        self.damage = damage\n",
    "\n",
    "    def attack(self, location):\n",
    "        print(f'{self.name}이 {location} 방향으로 적군을 공격합니다. [공격력 : {self.damage}]')\n",
    "\n",
    "    \n",
    "    def damaged(self,damage):\n",
    "        print(f'{self.name} : {damage} 데이미를 입었습니다')\n",
    "        self.hp -= damage\n",
    "        print(f'{self.name}  : 현재 체력은 {self.hp} 입니다.')\n",
    "        if self.hp <= 0:\n",
    "            print(f'{self.name} : 파괴되었습니다')\n",
    "\n",
    "class Flyable:\n",
    "    def __init__(self, flying_speed):\n",
    "        self.flying_speed = flying_speed\n",
    "\n",
    "    def fly(self, name, location):\n",
    "        print(f'{name}이 {location} 방향으로 날아갑니다 속도 : {self.flying_speed}')\n",
    "\n",
    "\n",
    "class FlyableAttackUnit(AttackUnit, Flyable):\n",
    "    def __init__(self, name, hp, damage, flying_speed):\n",
    "        AttackUnit.__init__(self, name, hp, 0, damage)  # 지상 스피드 0\n",
    "        Flyable.__init__(self, flying_speed)\n",
    "\n",
    "    # 메소드 오버라이딩\n",
    "    def move(self, location):\n",
    "        print(\"공중 유닛 이동!\")\n",
    "        self.fly(self.name, location)\n",
    "\n",
    "class BuildingUnit(Unit) :\n",
    "    def __init__(self, name, hp, location):\n",
    "        super().__init__(name,hp,0)\n",
    "        self.locatioin = location"
   ]
  },
  {
   "cell_type": "code",
   "execution_count": 53,
   "id": "7b5a1189",
   "metadata": {},
   "outputs": [
    {
     "name": "stdout",
     "output_type": "stream",
     "text": [
      "Unit 생성자\n",
      "Flyable 생성자\n"
     ]
    }
   ],
   "source": [
    "# class Unit :\n",
    "#     def __init__(self) :\n",
    "#         print('Unit 생성자')\n",
    "\n",
    "# class Flyable :\n",
    "#     def __init__(self) :\n",
    "#         print('Flyable 생성자')\n",
    "\n",
    "# class FlyableUnit(Flyable, Unit) :\n",
    "#     def __init__(self):\n",
    "#         super().__init__()\n",
    "\n",
    "'''\n",
    "두 개 이상의 부모클래스를 다중 상속 받을 때\n",
    "수퍼를 사용하면 맨 처음 클래스에 대해 init함수가 호출된다다\n",
    "'''\n",
    "\n",
    "class Unit :\n",
    "    def __init__(self) :\n",
    "        print('Unit 생성자')\n",
    "\n",
    "class Flyable :\n",
    "    def __init__(self) :\n",
    "        print('Flyable 생성자')\n",
    "\n",
    "class FlyableUnit(Flyable, Unit) :\n",
    "    def __init__(self):\n",
    "        #super().__init__()\n",
    "        Unit.__init__(self)\n",
    "        Flyable.__init__(self)\n",
    "\n",
    "dropship = FlyableUnit()"
   ]
  }
 ],
 "metadata": {
  "kernelspec": {
   "display_name": "venv",
   "language": "python",
   "name": "python3"
  },
  "language_info": {
   "codemirror_mode": {
    "name": "ipython",
    "version": 3
   },
   "file_extension": ".py",
   "mimetype": "text/x-python",
   "name": "python",
   "nbconvert_exporter": "python",
   "pygments_lexer": "ipython3",
   "version": "3.12.7"
  }
 },
 "nbformat": 4,
 "nbformat_minor": 5
}
