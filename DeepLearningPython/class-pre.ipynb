{
 "cells": [
  {
   "cell_type": "code",
   "execution_count": 1,
   "id": "b45812c0",
   "metadata": {},
   "outputs": [
    {
     "name": "stdout",
     "output_type": "stream",
     "text": [
      "<__main__.car object at 0x0000018DEAC1BB60>\n"
     ]
    }
   ],
   "source": [
    "# 기본\n",
    "\n",
    "class car :\n",
    "    pass # 아무것도 안 하는 빈 클래스\n",
    "\n",
    "my_car = car()\n",
    "print(my_car)"
   ]
  },
  {
   "cell_type": "code",
   "execution_count": 3,
   "id": "2ee5e0b8",
   "metadata": {},
   "outputs": [
    {
     "name": "stdout",
     "output_type": "stream",
     "text": [
      "현대\n",
      "아반떼\n",
      "0\n"
     ]
    }
   ],
   "source": [
    "# 속성 추가\n",
    "\n",
    "class car :\n",
    "    def __init__(self, brand, model) :\n",
    "        self.brand = brand\n",
    "        self.model = model\n",
    "        self.speed = 0\n",
    "\n",
    "my_car = car('현대', '아반떼')\n",
    "print(my_car.brand)\n",
    "print(my_car.model)\n",
    "print(my_car.speed)"
   ]
  },
  {
   "cell_type": "code",
   "execution_count": 4,
   "id": "776a8a1d",
   "metadata": {},
   "outputs": [
    {
     "name": "stdout",
     "output_type": "stream",
     "text": [
      "속도가 50km/h로 증가\n",
      "속도가 70km/h로 증가\n",
      "현대 아반떼, 현재 속도 : 70km/h\n",
      "차가 멈췄습니다\n"
     ]
    }
   ],
   "source": [
    "# 메서드 추가하기\n",
    "\n",
    "class car :\n",
    "    def __init__(self, brand, model) :\n",
    "        self.brand = brand\n",
    "        self.model = model\n",
    "        self.speed = 0\n",
    "\n",
    "    def accelerate(self, amount) :\n",
    "        self.speed += amount\n",
    "        print(f'속도가 {self.speed}km/h로 증가')\n",
    "\n",
    "    def brake(self):\n",
    "        self.speed = 0\n",
    "        print(\"차가 멈췄습니다\")\n",
    "\n",
    "    def get_info(self):\n",
    "        return f'{self.brand} {self.model}, 현재 속도 : {self.speed}km/h'\n",
    "    \n",
    "my_car = car('현대','아반떼')\n",
    "my_car.accelerate(50)    # 속도가 50km/h로 증가했습니다\n",
    "my_car.accelerate(20)    # 속도가 70km/h로 증가했습니다\n",
    "print(my_car.get_info())\n",
    "my_car.brake()"
   ]
  },
  {
   "cell_type": "code",
   "execution_count": 5,
   "id": "b8e54dd4",
   "metadata": {},
   "outputs": [
    {
     "name": "stdout",
     "output_type": "stream",
     "text": [
      "2\n",
      "2\n",
      "2\n"
     ]
    }
   ],
   "source": [
    "# 클래스 변수 vs 인스턴스 변수\n",
    "\n",
    "class car :\n",
    "    # 클래스 변수 (모든 객체가 공유)\n",
    "    total_cars = 0\n",
    "\n",
    "    def __init__(self, brand, model):\n",
    "        self.brand = brand\n",
    "        self.model = model\n",
    "        car.total_cars += 1 # 클래스 변수 증가\n",
    "\n",
    "    @classmethod\n",
    "    def get_total_cars(cls):\n",
    "        return cls.total_cars\n",
    "    \n",
    "\n",
    "car1 = car(\"현대\", \"아반떼\")\n",
    "car2 = car(\"기아\", \"K5\")\n",
    "\n",
    "print(car.get_total_cars())  # 2\n",
    "print(car1.total_cars)       # 2\n",
    "print(car2.total_cars)       # 2"
   ]
  }
 ],
 "metadata": {
  "kernelspec": {
   "display_name": "Python 3",
   "language": "python",
   "name": "python3"
  },
  "language_info": {
   "codemirror_mode": {
    "name": "ipython",
    "version": 3
   },
   "file_extension": ".py",
   "mimetype": "text/x-python",
   "name": "python",
   "nbconvert_exporter": "python",
   "pygments_lexer": "ipython3",
   "version": "3.13.1"
  }
 },
 "nbformat": 4,
 "nbformat_minor": 5
}
