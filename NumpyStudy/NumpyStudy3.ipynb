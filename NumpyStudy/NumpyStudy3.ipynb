{
  "nbformat": 4,
  "nbformat_minor": 0,
  "metadata": {
    "colab": {
      "provenance": []
    },
    "kernelspec": {
      "name": "python3",
      "display_name": "Python 3"
    },
    "language_info": {
      "name": "python"
    }
  },
  "cells": [
    {
      "cell_type": "markdown",
      "source": [
        "## 배열 연산\n",
        "- Numpy의 배열 연산은 벡터화 연산을 사용\n",
        "- 일반적으로 Numpy의 범용 함수를 통해 구현\n",
        "- 배열 요소에 대한 반복적인 계산을 효율적으로 수행"
      ],
      "metadata": {
        "id": "dnNmHgjLFFrh"
      }
    },
    {
      "cell_type": "markdown",
      "source": [
        "### 브로드 캐스팅 (Broadcastin)\n",
        "- NumPy에서 서로 다른 크기의 배열 간에 연산을 수행할 때 자동으로 배열의 모양을 맞춰주는 메커니즘\n",
        "- 배열 연산은 같은 크기의 배열끼리만 가능하지만, 브로드캐스팅을 통해 크기가 다른 배열들도 연산할 수 있게 된다."
      ],
      "metadata": {
        "id": "UgzM_gHXFYNN"
      }
    },
    {
      "cell_type": "code",
      "execution_count": 19,
      "metadata": {
        "id": "Dl_4kVMnE3aV",
        "colab": {
          "base_uri": "https://localhost:8080/"
        },
        "outputId": "177372ee-4c82-4741-a88a-2b1f64a4e1a6"
      },
      "outputs": [
        {
          "output_type": "stream",
          "name": "stdout",
          "text": [
            "[1 2 3]\n",
            "----------------------------------------\n",
            "a1 + 5 = \n",
            "[6 7 8]\n",
            "----------------------------------------\n",
            "[[1 2 3]\n",
            " [4 5 6]\n",
            " [7 8 9]]\n",
            "----------------------------------------\n",
            "a1 + a2 = \n",
            "[[ 2  4  6]\n",
            " [ 5  7  9]\n",
            " [ 8 10 12]]\n",
            "----------------------------------------\n",
            "[[1]\n",
            " [2]\n",
            " [3]]\n",
            "----------------------------------------\n",
            "a1 + b2 = \n",
            "[[2 3 4]\n",
            " [3 4 5]\n",
            " [4 5 6]]\n"
          ]
        }
      ],
      "source": [
        "import numpy as np\n",
        "\n",
        "a1 = np.array([1,2,3])\n",
        "print(a1)\n",
        "print('-'*40)\n",
        "print(f'a1 + 5 = \\n{a1+5}') # [6 7 8]\n",
        "print('-'*40)\n",
        "\n",
        "a2 = np.arange(1,10).reshape(3,3)\n",
        "print(a2)\n",
        "print('-'*40)\n",
        "print(f'a1 + a2 = \\n{a1+a2}')\n",
        "print('-'*40)\n",
        "\n",
        "b2 = np.array([1,2,3]).reshape(3,1)\n",
        "print(b2)\n",
        "print('-'*40)\n",
        "print(f'a1 + b2 = \\n{a1+b2}')"
      ]
    },
    {
      "cell_type": "markdown",
      "source": [
        "## 산술 연산"
      ],
      "metadata": {
        "id": "5TMIjElDguKX"
      }
    },
    {
      "cell_type": "markdown",
      "source": [
        "| 연산자 | 범용 함수 | 설명 |\n",
        "|:------:|:---------:|:----:|\n",
        "|`+`|`np.app`|덧셈|\n",
        "|`-`|`np.subtract`|뺄셈|\n",
        "|`-`|`np.negative`|단항 음수|\n",
        "|`*`|`np.multiply`|덧셈|\n",
        "|`/`|`np.divide`|나눗셈|\n",
        "|`//`|`np.floor_divide`|나눗셈 내림|\n",
        "|`**`|`np.power`|지수 연산\n",
        "|`%`|`np.mod`|나머지 연산|"
      ],
      "metadata": {
        "id": "xoitME2Ggx6k"
      }
    },
    {
      "cell_type": "code",
      "source": [
        "a1 = np.arange(1, 10)\n",
        "print(a1)\n",
        "print('-'*40)\n",
        "print(a1 + 1)\n",
        "print('-'*40)\n",
        "print(np.add(a1,10))\n",
        "print('-'*40)\n",
        "print(a1-2)\n",
        "print('-'*40)\n",
        "print(np.subtract(a1,10))\n",
        "print('-'*40)\n",
        "print(-a1)\n",
        "print('-'*40)\n",
        "print(np.negative(a1))\n",
        "print('-'*40)\n",
        "print(a1 * 2)\n",
        "print('-'*40)\n",
        "print(np.multiply(a1,2))\n",
        "print('-'*40)\n",
        "print(a1 / 2)\n",
        "print('-'*40)\n",
        "print(np.divide(a1,2))\n",
        "print('-'*40)\n",
        "print(a1 // 2)\n",
        "print('-'*40)\n",
        "print(np.floor_divide(a1,2)) # 내림\n",
        "print('-'*40)\n",
        "print(a1 ** 2)\n",
        "print('-'*40)\n",
        "print(np.power(a1,2))\n",
        "print('-'*40)\n",
        "print(a1 % 2)\n",
        "print('-'*40)\n",
        "print(np.mod(a1,2))"
      ],
      "metadata": {
        "colab": {
          "base_uri": "https://localhost:8080/"
        },
        "id": "XhLpAOokgZzO",
        "outputId": "999649ad-bc53-4a58-caed-56ae684e57ed"
      },
      "execution_count": 24,
      "outputs": [
        {
          "output_type": "stream",
          "name": "stdout",
          "text": [
            "[1 2 3 4 5 6 7 8 9]\n",
            "----------------------------------------\n",
            "[ 2  3  4  5  6  7  8  9 10]\n",
            "----------------------------------------\n",
            "[11 12 13 14 15 16 17 18 19]\n",
            "----------------------------------------\n",
            "[-1  0  1  2  3  4  5  6  7]\n",
            "----------------------------------------\n",
            "[-9 -8 -7 -6 -5 -4 -3 -2 -1]\n",
            "----------------------------------------\n",
            "[-1 -2 -3 -4 -5 -6 -7 -8 -9]\n",
            "----------------------------------------\n",
            "[-1 -2 -3 -4 -5 -6 -7 -8 -9]\n",
            "----------------------------------------\n",
            "[ 2  4  6  8 10 12 14 16 18]\n",
            "----------------------------------------\n",
            "[ 2  4  6  8 10 12 14 16 18]\n",
            "----------------------------------------\n",
            "[0.5 1.  1.5 2.  2.5 3.  3.5 4.  4.5]\n",
            "----------------------------------------\n",
            "[0.5 1.  1.5 2.  2.5 3.  3.5 4.  4.5]\n",
            "----------------------------------------\n",
            "[0 1 1 2 2 3 3 4 4]\n",
            "----------------------------------------\n",
            "[0 1 1 2 2 3 3 4 4]\n",
            "----------------------------------------\n",
            "[ 1  4  9 16 25 36 49 64 81]\n",
            "----------------------------------------\n",
            "[ 1  4  9 16 25 36 49 64 81]\n",
            "----------------------------------------\n",
            "[1 0 1 0 1 0 1 0 1]\n",
            "----------------------------------------\n",
            "[1 0 1 0 1 0 1 0 1]\n"
          ]
        }
      ]
    },
    {
      "cell_type": "code",
      "source": [
        "import random\n",
        "\n",
        "a1 = np.arange(1, 10)\n",
        "print(a1)\n",
        "print('-'*40)\n",
        "b1 = np.random.randint(1,10,size=9) # size=9: 생성할 원소의 개수\n",
        "print(b1)\n",
        "print('-'*40)\n",
        "\n",
        "print(a1 + b1)\n",
        "print(a1 - b1)\n",
        "print(a1 * b1)\n",
        "print(a1 / b1)\n",
        "print(a1 // b1)\n",
        "print(a1 ** b1)\n",
        "print(a1 % b1)"
      ],
      "metadata": {
        "colab": {
          "base_uri": "https://localhost:8080/"
        },
        "id": "m9q0AxSbjQdR",
        "outputId": "5e46f308-0953-4623-b7d7-9e600320f641"
      },
      "execution_count": 26,
      "outputs": [
        {
          "output_type": "stream",
          "name": "stdout",
          "text": [
            "[1 2 3 4 5 6 7 8 9]\n",
            "----------------------------------------\n",
            "[2 3 5 2 5 4 7 4 5]\n",
            "----------------------------------------\n",
            "[ 3  5  8  6 10 10 14 12 14]\n",
            "[-1 -1 -2  2  0  2  0  4  4]\n",
            "[ 2  6 15  8 25 24 49 32 45]\n",
            "[0.5        0.66666667 0.6        2.         1.         1.5\n",
            " 1.         2.         1.8       ]\n",
            "[0 0 0 2 1 1 1 2 1]\n",
            "[     1      8    243     16   3125   1296 823543   4096  59049]\n",
            "[1 2 3 0 0 2 0 0 4]\n"
          ]
        }
      ]
    },
    {
      "cell_type": "code",
      "source": [
        "a2 = np.arange(1, 10).reshape(3,3)\n",
        "print(a2)\n",
        "print('-'*40)\n",
        "b2 = np.random.randint(1, 10, size=(3,3)) # size=(3, 3) → 2차원 배열, 3행 3열\n",
        "print(b2)\n",
        "print('-'*40)\n",
        "print(a2 + b2)\n",
        "print(a2 - b2)\n",
        "print(a2 * b2)\n",
        "print(a2 / b2)\n",
        "print(a2 // b2)\n",
        "print(a2 ** b2)\n",
        "print(a2 % b2)"
      ],
      "metadata": {
        "colab": {
          "base_uri": "https://localhost:8080/"
        },
        "id": "BTwNZjtvkI8B",
        "outputId": "ef18e7c4-633f-4015-f4e2-335c7e65a00f"
      },
      "execution_count": 29,
      "outputs": [
        {
          "output_type": "stream",
          "name": "stdout",
          "text": [
            "[[1 2 3]\n",
            " [4 5 6]\n",
            " [7 8 9]]\n",
            "----------------------------------------\n",
            "[[7 9 8]\n",
            " [3 5 2]\n",
            " [3 8 1]]\n",
            "----------------------------------------\n",
            "[[ 8 11 11]\n",
            " [ 7 10  8]\n",
            " [10 16 10]]\n",
            "[[-6 -7 -5]\n",
            " [ 1  0  4]\n",
            " [ 4  0  8]]\n",
            "[[ 7 18 24]\n",
            " [12 25 12]\n",
            " [21 64  9]]\n",
            "[[0.14285714 0.22222222 0.375     ]\n",
            " [1.33333333 1.         3.        ]\n",
            " [2.33333333 1.         9.        ]]\n",
            "[[0 0 0]\n",
            " [1 1 3]\n",
            " [2 1 9]]\n",
            "[[       1      512     6561]\n",
            " [      64     3125       36]\n",
            " [     343 16777216        9]]\n",
            "[[1 2 3]\n",
            " [1 0 0]\n",
            " [1 0 0]]\n"
          ]
        }
      ]
    },
    {
      "cell_type": "markdown",
      "source": [
        "## 절댓값 함수\n",
        "- `absolute()`, `abs()` : 내장된 절대값 함수"
      ],
      "metadata": {
        "id": "8ljkaKzlmzwJ"
      }
    },
    {
      "cell_type": "code",
      "source": [
        "a1 = np.random.randint(-10,10,size=5)\n",
        "print(a1)\n",
        "print('-'*40)\n",
        "print(np.absolute(a1))\n",
        "print('-'*40)\n",
        "print(np.abs(a1))"
      ],
      "metadata": {
        "colab": {
          "base_uri": "https://localhost:8080/"
        },
        "id": "ajOD_0lBmxvG",
        "outputId": "ad17f373-39d8-4b33-f28d-09a8c233ac3a"
      },
      "execution_count": 31,
      "outputs": [
        {
          "output_type": "stream",
          "name": "stdout",
          "text": [
            "[ -1  -3  -4  -2 -10]\n",
            "----------------------------------------\n",
            "[ 1  3  4  2 10]\n",
            "----------------------------------------\n",
            "[ 1  3  4  2 10]\n"
          ]
        }
      ]
    },
    {
      "cell_type": "markdown",
      "source": [
        "## 제곱/제곱근 함수\n",
        "- `square`, `sqrt` : 제곱, 제곱근 함수"
      ],
      "metadata": {
        "id": "9wldf5KGnS0u"
      }
    },
    {
      "cell_type": "code",
      "source": [
        "print(a1)\n",
        "print('-'*40)\n",
        "print(np.square(a1))\n",
        "print('-'*40)\n",
        "print(np.sqrt(a1))"
      ],
      "metadata": {
        "colab": {
          "base_uri": "https://localhost:8080/"
        },
        "id": "UIpf2i6onEES",
        "outputId": "38be009a-8ae1-467a-c981-62a8962373e7"
      },
      "execution_count": 32,
      "outputs": [
        {
          "output_type": "stream",
          "name": "stdout",
          "text": [
            "[ -1  -3  -4  -2 -10]\n",
            "----------------------------------------\n",
            "[  1   9  16   4 100]\n",
            "----------------------------------------\n",
            "[nan nan nan nan nan]\n"
          ]
        },
        {
          "output_type": "stream",
          "name": "stderr",
          "text": [
            "/tmp/ipython-input-32-3180808080.py:5: RuntimeWarning: invalid value encountered in sqrt\n",
            "  print(np.sqrt(a1))\n"
          ]
        }
      ]
    },
    {
      "cell_type": "markdown",
      "source": [
        "## 지수와 로그 함수"
      ],
      "metadata": {
        "id": "aBJ5s9rmnvcU"
      }
    },
    {
      "cell_type": "code",
      "source": [
        "a1 = np.random.randint(1,10,size=5)\n",
        "print(a1)\n",
        "print('-'*40)\n",
        "print(np.exp(a1))\n",
        "print('-'*40)\n",
        "print(np.exp2(a1))\n",
        "print('-'*40)\n",
        "print(np.power(a1,2))"
      ],
      "metadata": {
        "colab": {
          "base_uri": "https://localhost:8080/"
        },
        "id": "ZRjiXG--nuni",
        "outputId": "9eab8e38-73a6-4243-b27f-012935d27e29"
      },
      "execution_count": 33,
      "outputs": [
        {
          "output_type": "stream",
          "name": "stdout",
          "text": [
            "[6 3 3 2 3]\n",
            "----------------------------------------\n",
            "[403.42879349  20.08553692  20.08553692   7.3890561   20.08553692]\n",
            "----------------------------------------\n",
            "[64.  8.  8.  4.  8.]\n",
            "----------------------------------------\n",
            "[36  9  9  4  9]\n"
          ]
        }
      ]
    },
    {
      "cell_type": "code",
      "source": [
        "print(a1)\n",
        "print('-'*40)\n",
        "print(np.log(a1))\n",
        "print(np.log2(a1))\n",
        "print(np.log10(a1))"
      ],
      "metadata": {
        "colab": {
          "base_uri": "https://localhost:8080/"
        },
        "id": "90k9pfmWoKur",
        "outputId": "f9e7ee79-a761-410b-de90-cbf70c464dd9"
      },
      "execution_count": 34,
      "outputs": [
        {
          "output_type": "stream",
          "name": "stdout",
          "text": [
            "[6 3 3 2 3]\n",
            "----------------------------------------\n",
            "[1.79175947 1.09861229 1.09861229 0.69314718 1.09861229]\n",
            "[2.5849625 1.5849625 1.5849625 1.        1.5849625]\n",
            "[0.77815125 0.47712125 0.47712125 0.30103    0.47712125]\n"
          ]
        }
      ]
    },
    {
      "cell_type": "markdown",
      "source": [
        "## 삼각함수\n",
        "\n",
        "| 함수 | 설명 |\n",
        "|:----:|:----:|\n",
        "|np.sin(array) | 요소 별 사인|\n",
        "|np.cos(array) | 요소 별 코사인|\n",
        "|np.tan(array) | 요소 별 탄젠트|\n",
        "|np.arcsin(array) | 요소 별 아크 사인|\n",
        "|np.arccos(array) | 요소 별 아크 코사인|\n",
        "|np.arctan(array) | 요소 별 아크 탄젠트|"
      ],
      "metadata": {
        "id": "XbcZk9LYobMd"
      }
    },
    {
      "cell_type": "code",
      "source": [
        "t = np.linspace(0, np.pi, 3)\n",
        "print(t)\n",
        "print('-'*40)\n",
        "print(np.sin(t))\n",
        "print(np.cos(t))\n",
        "print(np.tan(t))"
      ],
      "metadata": {
        "colab": {
          "base_uri": "https://localhost:8080/"
        },
        "id": "EvzoqYpooa2u",
        "outputId": "da2a7c5e-e668-40a3-e08c-3171d9469885"
      },
      "execution_count": 35,
      "outputs": [
        {
          "output_type": "stream",
          "name": "stdout",
          "text": [
            "[0.         1.57079633 3.14159265]\n",
            "----------------------------------------\n",
            "[0.0000000e+00 1.0000000e+00 1.2246468e-16]\n",
            "[ 1.000000e+00  6.123234e-17 -1.000000e+00]\n",
            "[ 0.00000000e+00  1.63312394e+16 -1.22464680e-16]\n"
          ]
        }
      ]
    },
    {
      "cell_type": "code",
      "source": [
        "x = [-1, 0, 1]\n",
        "print(x)\n",
        "print('-'*40)\n",
        "print(np.arcsin(x))\n",
        "print(np.arccos(x))\n",
        "print(np.arctan(x))"
      ],
      "metadata": {
        "colab": {
          "base_uri": "https://localhost:8080/"
        },
        "id": "VcZgBcSAIMj2",
        "outputId": "598ac1f9-1f02-4b90-8bf3-d4cf11dfee29"
      },
      "execution_count": 36,
      "outputs": [
        {
          "output_type": "stream",
          "name": "stdout",
          "text": [
            "[-1, 0, 1]\n",
            "----------------------------------------\n",
            "[-1.57079633  0.          1.57079633]\n",
            "[3.14159265 1.57079633 0.        ]\n",
            "[-0.78539816  0.          0.78539816]\n"
          ]
        }
      ]
    },
    {
      "cell_type": "markdown",
      "source": [
        "## 집계 함수"
      ],
      "metadata": {
        "id": "VhDGSqCHIdS9"
      }
    },
    {
      "cell_type": "markdown",
      "source": [
        "- `sum()` : 합 계산"
      ],
      "metadata": {
        "id": "yl9T9ZqxIyPI"
      }
    },
    {
      "cell_type": "code",
      "source": [
        "a2 = np.random.randint(1,10,size=(3,3))"
      ],
      "metadata": {
        "id": "Zgv8GuHTI2yb"
      },
      "execution_count": null,
      "outputs": []
    }
  ]
}