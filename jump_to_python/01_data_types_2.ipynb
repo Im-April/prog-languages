{
 "cells": [
  {
   "cell_type": "markdown",
   "id": "d4ffba55",
   "metadata": {},
   "source": [
    "## 튜플\n",
    "\n",
    "-  여러 값을 하나로 묶을 수 있는 파이썬의 자료형이야. 리스트와 비슷하지만 \n",
    "- **한 번 만들면 수정할 수 없다는 특징(불변성)**\n",
    "\n",
    "## Mutable\n",
    "- 리스트\n",
    "- 딕셔너리\n",
    "- 집합\n",
    "\n",
    "## Immutable\n",
    "- 정수\n",
    "- 실수\n",
    "- 문자열\n",
    "- 튜플"
   ]
  },
  {
   "cell_type": "code",
   "execution_count": 7,
   "id": "5e33656c",
   "metadata": {},
   "outputs": [
    {
     "name": "stdout",
     "output_type": "stream",
     "text": [
      "()\n",
      "<class 'tuple'>\n",
      "(1,)\n",
      "(1, 2, 3)\n",
      "3\n",
      "(1, 2, 3)\n",
      "('a', 'b', ('ab', 'cd'))\n",
      "ab\n"
     ]
    }
   ],
   "source": [
    "t1 = ()\n",
    "t2 = (1,)\n",
    "t3 = (1, 2, 3)\n",
    "t4 = 1, 2, 3\n",
    "t5 = ('a', 'b', ('ab', 'cd'))\n",
    "\n",
    "print(t1)\n",
    "print(type(t1))\n",
    "print(t2)\n",
    "print(t3)\n",
    "print(t3[2])\n",
    "print(t4)\n",
    "print(t5)\n",
    "print(t5[2][0])"
   ]
  },
  {
   "cell_type": "code",
   "execution_count": 6,
   "id": "06f50484",
   "metadata": {},
   "outputs": [
    {
     "name": "stdout",
     "output_type": "stream",
     "text": [
      "<class 'tuple'>\n",
      "(1,)\n",
      "(1, 2, 3, 4, 5)\n"
     ]
    }
   ],
   "source": [
    "t6 = (1,) # 요소가 1개일 때\n",
    "t7 = 1,2,3,4,5 # 이것도 튜플이 된다\n",
    "print(type(t7))\n",
    "\n",
    "print(t6)\n",
    "print(t7)"
   ]
  },
  {
   "cell_type": "code",
   "execution_count": null,
   "id": "fa6650be",
   "metadata": {},
   "outputs": [
    {
     "name": "stdout",
     "output_type": "stream",
     "text": [
      "(2, 'a', 'b')\n",
      "(1, 2, 'a', 'b')\n"
     ]
    }
   ],
   "source": [
    "# 튜플 슬라이싱\n",
    "\n",
    "t1 = (1,2,'a','b')\n",
    "\n",
    "print(t1[1:])\n",
    "print(t1)"
   ]
  },
  {
   "cell_type": "code",
   "execution_count": null,
   "id": "870e81d2",
   "metadata": {},
   "outputs": [
    {
     "name": "stdout",
     "output_type": "stream",
     "text": [
      "(1, 2, 'a', 'b', 3, 4)\n"
     ]
    }
   ],
   "source": [
    "# 튜플 덧셈\n",
    "\n",
    "t1 = (1, 2, 'a', 'b')\n",
    "t2 = (3, 4)\n",
    "t3 = t1 + t2 # t1, t2를 더해서 새로운 튜플 t3\n",
    "print(t3)"
   ]
  },
  {
   "cell_type": "code",
   "execution_count": 12,
   "id": "d52ee78f",
   "metadata": {},
   "outputs": [
    {
     "name": "stdout",
     "output_type": "stream",
     "text": [
      "(3, 4, 3, 4, 3, 4)\n"
     ]
    }
   ],
   "source": [
    "# 튜플 곱셈\n",
    "\n",
    "t2 = (3, 4)\n",
    "t3 = t2 * 3\n",
    "\n",
    "print(t3)"
   ]
  },
  {
   "cell_type": "code",
   "execution_count": 13,
   "id": "fc3ec5ea",
   "metadata": {},
   "outputs": [
    {
     "name": "stdout",
     "output_type": "stream",
     "text": [
      "4\n"
     ]
    }
   ],
   "source": [
    "t1 = 1,2,3,4\n",
    "\n",
    "print(len(t1))"
   ]
  },
  {
   "cell_type": "markdown",
   "id": "f90b09e0",
   "metadata": {},
   "source": [
    "## 딕셔너리\n",
    "\n",
    "- 딕셔너리는 **키(key)와 값(value)** 의 쌍으로 데이터를 저장하는 파이썬의 자료형이야. \n",
    "- 마치 영어 단어 사전처럼, “단어(키)”를 넣으면 “뜻(값)”이 나오는 구조"
   ]
  },
  {
   "cell_type": "code",
   "execution_count": 15,
   "id": "ebbb1daf",
   "metadata": {},
   "outputs": [
    {
     "name": "stdout",
     "output_type": "stream",
     "text": [
      "{'name': '마루', 'phone': '010-1234-1234', 'birth': '1221', 'hobby': ['산책', '낮잠']}\n"
     ]
    }
   ],
   "source": [
    "dic = {'name':'마루', 'phone':'010-1234-1234','birth':'1221','hobby':[\"산책\",'낮잠']}\n",
    "print(dic)"
   ]
  },
  {
   "cell_type": "code",
   "execution_count": null,
   "id": "909932d7",
   "metadata": {},
   "outputs": [
    {
     "name": "stdout",
     "output_type": "stream",
     "text": [
      "{1: 'a', 2: 'b', 'key': 'value', '3': ['L', 'I', 'S', 'T']}\n"
     ]
    }
   ],
   "source": [
    "# 딕셔너리 요소 추가\n",
    "\n",
    "a = {1:'a'}\n",
    "a[2] = 'b'\n",
    "a['key'] = 'value'\n",
    "a['3'] = ['L',\"I\",'S','T']\n",
    "\n",
    "print(a)"
   ]
  },
  {
   "cell_type": "code",
   "execution_count": 19,
   "id": "07781f33",
   "metadata": {},
   "outputs": [
    {
     "name": "stdout",
     "output_type": "stream",
     "text": [
      "{1: 'a', 2: 'b', 3: [1, 2, 3]}\n"
     ]
    }
   ],
   "source": [
    "# 삭제\n",
    "\n",
    "a = {1: 'a', 2: 'b', 'name': 'pey', 3: [1, 2, 3]}\n",
    "\n",
    "del a['name'] # key를 입력해서 지움\n",
    "\n",
    "print(a)"
   ]
  },
  {
   "cell_type": "code",
   "execution_count": 21,
   "id": "db0e435f",
   "metadata": {},
   "outputs": [
    {
     "name": "stdout",
     "output_type": "stream",
     "text": [
      "10\n"
     ]
    }
   ],
   "source": [
    "# key를 사용해서 value 얻기\n",
    "\n",
    "grade = {'pay':10, 'julliet':99}\n",
    "print(grade['pay'])"
   ]
  },
  {
   "cell_type": "code",
   "execution_count": 23,
   "id": "29a4f396",
   "metadata": {},
   "outputs": [
    {
     "name": "stdout",
     "output_type": "stream",
     "text": [
      "pey 010-9999-1234\n"
     ]
    }
   ],
   "source": [
    "dic = {'name':'pey', 'phone':'010-9999-1234', 'birth': '1118'}\n",
    "\n",
    "print(dic['name'], dic['phone'])"
   ]
  },
  {
   "cell_type": "code",
   "execution_count": null,
   "id": "237cf009",
   "metadata": {},
   "outputs": [
    {
     "name": "stdout",
     "output_type": "stream",
     "text": [
      "{1: 'b'}\n"
     ]
    }
   ],
   "source": [
    "# Key는 고유한 값이므로 중복되는 Key 값을 설정해 놓으면 하나를 제외한 나머지 것들이 모두 무시된다는 점에 주의\n",
    "a = {1:'a', 1:'b'}\n",
    "\n",
    "print(a) # 덮어쓰여져 뒤에 하나만 출력된다."
   ]
  },
  {
   "cell_type": "code",
   "execution_count": 26,
   "id": "10016827",
   "metadata": {},
   "outputs": [
    {
     "name": "stdout",
     "output_type": "stream",
     "text": [
      "{('a', 'b'): 80, 'c': 90}\n"
     ]
    }
   ],
   "source": [
    "# Key에 리스트는 쓸 수 없다는 것이다. 하지만 튜플은 Key로 쓸 수 있다\n",
    "# 딕셔너리의 Key로 쓸 수 있느냐, 없느냐는 Key가 변하는(mutable) 값인지, 변하지 않는(immutable) 값인지에 달려 있다. \n",
    "\n",
    "a = {('a','b') : 80, 'c' : 90}\n",
    "print(a)"
   ]
  },
  {
   "cell_type": "code",
   "execution_count": null,
   "id": "a0cc908d",
   "metadata": {},
   "outputs": [
    {
     "name": "stdout",
     "output_type": "stream",
     "text": [
      "dict_keys(['name', 'phone', 'birth'])\n"
     ]
    }
   ],
   "source": [
    "a = {'name':'pey', 'phone':'010-9999-1234', 'birth': '1118'}\n",
    "\n",
    "print(a.keys()) # dict_keys 데이터 타입 형태로 key 출력, list보다 메모리 적게됨."
   ]
  },
  {
   "cell_type": "code",
   "execution_count": null,
   "id": "953e5a70",
   "metadata": {},
   "outputs": [
    {
     "name": "stdout",
     "output_type": "stream",
     "text": [
      "dict_values(['pey', '010-9999-1234', '1118'])\n"
     ]
    }
   ],
   "source": [
    "a = {'name':'pey', 'phone':'010-9999-1234', 'birth': '1118'}\n",
    "\n",
    "print(a.values()) # dict_values 데이터 타입 형태로 value 출력"
   ]
  },
  {
   "cell_type": "code",
   "execution_count": null,
   "id": "48e580d4",
   "metadata": {},
   "outputs": [
    {
     "name": "stdout",
     "output_type": "stream",
     "text": [
      "dict_items([('name', 'pey'), ('phone', '010-9999-1234'), ('birth', '1118')])\n"
     ]
    }
   ],
   "source": [
    "a = {'name':'pey', 'phone':'010-9999-1234', 'birth': '1118'}\n",
    "\n",
    "print(a.items()) # dict_items 데이터 타입 형태 key와 value 쌍으로 얻기"
   ]
  },
  {
   "cell_type": "code",
   "execution_count": null,
   "id": "ee6e3f2b",
   "metadata": {},
   "outputs": [
    {
     "name": "stdout",
     "output_type": "stream",
     "text": [
      "None\n"
     ]
    }
   ],
   "source": [
    "a = {'name':'pey', 'phone':'010-9999-1234', 'birth': '1118'}\n",
    "\n",
    "print(a.clear()) # 값 다 날리기"
   ]
  },
  {
   "cell_type": "code",
   "execution_count": 35,
   "id": "334d7c69",
   "metadata": {},
   "outputs": [
    {
     "name": "stdout",
     "output_type": "stream",
     "text": [
      "pey\n",
      "pey\n",
      "None\n",
      "값이 없습니다\n",
      "010-9999-1234\n"
     ]
    }
   ],
   "source": [
    "a = {'name':'pey', 'phone':'010-9999-1234', 'birth': '1118'}\n",
    "\n",
    "print(a['name'])\n",
    "print(a.get('name'))\n",
    "print(a.get('hi')) # None이 나온다\n",
    "print(a.get('hi','값이 없습니다')) # 없으면 뒤의 문자열이 나온다\n",
    "print(a.get('phone','값이 없습니다'))"
   ]
  },
  {
   "cell_type": "code",
   "execution_count": 37,
   "id": "3a9b9f75",
   "metadata": {},
   "outputs": [
    {
     "name": "stdout",
     "output_type": "stream",
     "text": [
      "True\n",
      "False\n"
     ]
    }
   ],
   "source": [
    "# 해당 키가 딕셔너리에 있는지 확인하기\n",
    "a = {'name':'pey', 'phone':'010-9999-1234', 'birth': '1118'}\n",
    "\n",
    "print('name' in a)\n",
    "print('hi' in a)"
   ]
  },
  {
   "cell_type": "markdown",
   "id": "a05f9b71",
   "metadata": {},
   "source": [
    "## 집합\n",
    "- 중복을 허용하지 않고, 순서가 없는 자료형"
   ]
  },
  {
   "cell_type": "code",
   "execution_count": null,
   "id": "3cb0cd4b",
   "metadata": {},
   "outputs": [
    {
     "name": "stdout",
     "output_type": "stream",
     "text": [
      "<class 'set'>\n",
      "<class 'set'>\n"
     ]
    }
   ],
   "source": [
    "s1 = set([1, 2, 3]) # 리스트를 set으로 바꾼것\n",
    "s2 = {1,2,3}\n",
    "print(type(s1))\n",
    "print(type(s2))"
   ]
  },
  {
   "cell_type": "code",
   "execution_count": 61,
   "id": "94a5cb5d",
   "metadata": {},
   "outputs": [
    {
     "name": "stdout",
     "output_type": "stream",
     "text": [
      "{1, 2, 3, 4, 5}\n"
     ]
    }
   ],
   "source": [
    "l1 = [1,1,2,2,2,3,3,3,3,4,4,5]\n",
    "s1 = set(l1)\n",
    "print(s1)"
   ]
  },
  {
   "cell_type": "code",
   "execution_count": 42,
   "id": "3b4636bf",
   "metadata": {},
   "outputs": [
    {
     "name": "stdout",
     "output_type": "stream",
     "text": [
      "{'e', 'l', 'h', 'o'}\n",
      "<class 'set'>\n"
     ]
    }
   ],
   "source": [
    "s1 = set(\"hello\")\n",
    "print(s1)\n",
    "print(type(s1))"
   ]
  },
  {
   "cell_type": "code",
   "execution_count": 43,
   "id": "8e1e191e",
   "metadata": {},
   "outputs": [
    {
     "name": "stdout",
     "output_type": "stream",
     "text": [
      "1\n"
     ]
    }
   ],
   "source": [
    "s1 = set([1,2,3])\n",
    "l1 = list(s1)\n",
    "print(l1[0])"
   ]
  },
  {
   "cell_type": "code",
   "execution_count": 48,
   "id": "243d5789",
   "metadata": {},
   "outputs": [
    {
     "name": "stdout",
     "output_type": "stream",
     "text": [
      "(1, 2, 3)\n"
     ]
    }
   ],
   "source": [
    "s1 = set([1,2,3])\n",
    "t1 = tuple(s1)\n",
    "print(t1)"
   ]
  },
  {
   "cell_type": "code",
   "execution_count": 50,
   "id": "dd5d6869",
   "metadata": {},
   "outputs": [
    {
     "name": "stdout",
     "output_type": "stream",
     "text": [
      "{4, 5, 6}\n",
      "{4, 5, 6}\n"
     ]
    }
   ],
   "source": [
    "# 교집합 구하기\n",
    "s1 = set([1, 2, 3, 4, 5, 6])\n",
    "s2 = set([4, 5, 6, 7, 8, 9])\n",
    "\n",
    "print(s1 & s2)\n",
    "\n",
    "print(s1.intersection(s2))"
   ]
  },
  {
   "cell_type": "code",
   "execution_count": 52,
   "id": "d04fb42b",
   "metadata": {},
   "outputs": [
    {
     "name": "stdout",
     "output_type": "stream",
     "text": [
      "{1, 2, 3, 4, 5, 6, 7, 8, 9}\n",
      "{1, 2, 3, 4, 5, 6, 7, 8, 9}\n"
     ]
    }
   ],
   "source": [
    "# 합집합 구하기\n",
    "\n",
    "s1 = set([1, 2, 3, 4, 5, 6])\n",
    "s2 = set([4, 5, 6, 7, 8, 9])\n",
    "\n",
    "print(s1 | s2)\n",
    "print(s1.union(s2))"
   ]
  },
  {
   "cell_type": "code",
   "execution_count": 55,
   "id": "64a2714a",
   "metadata": {},
   "outputs": [
    {
     "name": "stdout",
     "output_type": "stream",
     "text": [
      "{1, 2, 3}\n",
      "{8, 9, 7}\n",
      "{1, 2, 3}\n"
     ]
    }
   ],
   "source": [
    "# 차집합 구하기\n",
    "\n",
    "s1 = set([1, 2, 3, 4, 5, 6])\n",
    "s2 = set([4, 5, 6, 7, 8, 9])\n",
    "\n",
    "print(s1 - s2)\n",
    "print(s2 - s1)\n",
    "print(s1.difference(s2))"
   ]
  },
  {
   "cell_type": "code",
   "execution_count": 59,
   "id": "32fd7357",
   "metadata": {},
   "outputs": [
    {
     "name": "stdout",
     "output_type": "stream",
     "text": [
      "{1, 2, 3, 4}\n",
      "{1, 2, 3, 4, 5, 6}\n",
      "{1, 3, 4, 5, 6}\n"
     ]
    }
   ],
   "source": [
    "# 더하기\n",
    "s1 = set([1, 2, 3])\n",
    "s1.add(4)\n",
    "print(s1)\n",
    "\n",
    "# 여러 개 추가하기\n",
    "s1 = set([1, 2, 3])\n",
    "s1.update([4,4,5,6])\n",
    "print(s1)\n",
    "\n",
    "# 특정값 제거\n",
    "s1.remove(2) # 값이다 인덱스 아님. 집합은 인덱스 없음\n",
    "print(s1)"
   ]
  },
  {
   "cell_type": "markdown",
   "id": "b04b3f52",
   "metadata": {},
   "source": [
    "## 불(boolean) 자료형\n",
    "\n",
    "-  참(True) 또는 **거짓(False)**을 나타내는 자료형이야. 조건문, 비교 연산, 논리 연산 등에서 아주 많이 사용돼."
   ]
  },
  {
   "cell_type": "code",
   "execution_count": 63,
   "id": "a9a625b1",
   "metadata": {},
   "outputs": [
    {
     "name": "stdout",
     "output_type": "stream",
     "text": [
      "<class 'bool'>\n",
      "<class 'bool'>\n"
     ]
    }
   ],
   "source": [
    "a = True\n",
    "print(type(a))\n",
    "\n",
    "b = False\n",
    "print(type(b))"
   ]
  },
  {
   "cell_type": "code",
   "execution_count": 66,
   "id": "b3fc17c5",
   "metadata": {},
   "outputs": [
    {
     "name": "stdout",
     "output_type": "stream",
     "text": [
      "True\n",
      "False\n",
      "True\n"
     ]
    }
   ],
   "source": [
    "a = 1 == 1\n",
    "print(a)\n",
    "\n",
    "b = 1 == 2\n",
    "print(b)\n",
    "\n",
    "print(4 < 5)"
   ]
  },
  {
   "cell_type": "markdown",
   "id": "d7fcc7ea",
   "metadata": {},
   "source": [
    "## 자료형의 참과 거짓\n",
    "\n",
    "- \"python\"\t: 참\n",
    "- \"\"\t: 거짓\n",
    "- [1, 2, 3]\t: 참\n",
    "- []\t: 거짓\n",
    "- (1, 2, 3)\t: 참\n",
    "- ()\t: 거짓\n",
    "- {'a': 1}\t: 참\n",
    "- {}\t: 거짓\n",
    "- 1\t: 참\n",
    "- 0\t: 거짓\n",
    "- None\t: 거짓"
   ]
  },
  {
   "cell_type": "code",
   "execution_count": 67,
   "id": "78747e7e",
   "metadata": {},
   "outputs": [
    {
     "name": "stdout",
     "output_type": "stream",
     "text": [
      "[1, 2, 3, 4]\n",
      "[1, 2, 3]\n",
      "[1, 2]\n",
      "[1]\n"
     ]
    }
   ],
   "source": [
    "a = [1,2,3,4]\n",
    "while a:\n",
    "    print(a)\n",
    "    a.pop()"
   ]
  },
  {
   "cell_type": "code",
   "execution_count": 69,
   "id": "aa2d926b",
   "metadata": {},
   "outputs": [
    {
     "name": "stdout",
     "output_type": "stream",
     "text": [
      "거짓\n",
      "참\n"
     ]
    }
   ],
   "source": [
    "if [] :\n",
    "    print('참')\n",
    "else :\n",
    "    print('거짓')\n",
    "\n",
    "\n",
    "if [1,2,3] :\n",
    "    print('참')\n",
    "else :\n",
    "    print('거짓')"
   ]
  },
  {
   "cell_type": "code",
   "execution_count": 72,
   "id": "e7cec463",
   "metadata": {},
   "outputs": [
    {
     "name": "stdout",
     "output_type": "stream",
     "text": [
      "True\n",
      "False\n"
     ]
    }
   ],
   "source": [
    "a = bool([1,2,3])\n",
    "b = bool([])\n",
    "print(a)\n",
    "print(b)"
   ]
  },
  {
   "cell_type": "code",
   "execution_count": 74,
   "id": "0378bcc3",
   "metadata": {},
   "outputs": [
    {
     "name": "stdout",
     "output_type": "stream",
     "text": [
      "False\n",
      "True\n"
     ]
    }
   ],
   "source": [
    "print(bool(0))\n",
    "print(bool(1))"
   ]
  },
  {
   "cell_type": "markdown",
   "id": "b5d3460a",
   "metadata": {},
   "source": [
    "## 변수\n",
    "\n",
    "- a = 1 이라면...\n",
    "- 값을 담는 상자라고 생각\n",
    "- 주소값을 a라는 상자에 넣는 것이고 메모리에 실제적인 값(1)이 들어가 있다\n",
    "- 메모리의 특정 주소값에 값이 있는것이다\n",
    "\n",
    "### GPT 정리\n",
    "✅ a = 1의 진짜 의미\n",
    "값 1이 메모리에 먼저 생성된다.\n",
    "\n",
    "파이썬은 숫자 1을 객체로 만들고, 메모리에 저장함.\n",
    "\n",
    "변수 a는 ‘1’을 가리키는 이름표 역할을 한다.\n",
    "\n",
    "a는 메모리 주소를 저장하는 **참조(reference)**임.\n",
    "\n",
    "즉, a는 1이라는 값이 저장된 메모리 주소를 가리킴."
   ]
  },
  {
   "cell_type": "code",
   "execution_count": null,
   "id": "f0a5e2f7",
   "metadata": {},
   "outputs": [
    {
     "name": "stdout",
     "output_type": "stream",
     "text": [
      "2228520555712\n",
      "2228520555712\n",
      "[1, 4, 3]\n",
      "[1, 4, 3]\n",
      "[1, 2, 3]\n"
     ]
    }
   ],
   "source": [
    "a = [1,2,3] # [1,2,3]의 값의 주소가 a에 할당이된다.\n",
    "b = a # 주소값을 b에 넣는다.\n",
    "c = a[:] # 새로 복사한 값의 주소값 ?\n",
    "\n",
    "print(id(a))\n",
    "print(id(b))\n",
    "\n",
    "\n",
    "a[1] = 4\n",
    "\n",
    "# a와 b가 같은 주소를 할당받고 있어서 같은 결과가 나온다.\n",
    "print(a)\n",
    "print(b)\n",
    "print(c)"
   ]
  },
  {
   "cell_type": "code",
   "execution_count": 81,
   "id": "6b90b004",
   "metadata": {},
   "outputs": [
    {
     "name": "stdout",
     "output_type": "stream",
     "text": [
      "2228520070208\n",
      "2228513219648\n"
     ]
    }
   ],
   "source": [
    "from copy import copy\n",
    "\n",
    "a = [1,2,3]\n",
    "b = copy(a) # a라는 리스트 자체를 복사해줌\n",
    "\n",
    "print(id(a))\n",
    "print(id(b))"
   ]
  },
  {
   "cell_type": "code",
   "execution_count": null,
   "id": "96bb4f58",
   "metadata": {},
   "outputs": [
    {
     "name": "stdout",
     "output_type": "stream",
     "text": [
      "python\n",
      "life\n"
     ]
    }
   ],
   "source": [
    "'''\n",
    "a = 'python'\n",
    "b = 'life'\n",
    "'''\n",
    "\n",
    "a, b = ('python', 'life') # 양쪽 모두 튜플\n",
    "\n",
    "print(a)\n",
    "print(b)"
   ]
  },
  {
   "cell_type": "code",
   "execution_count": 83,
   "id": "ddc18342",
   "metadata": {},
   "outputs": [
    {
     "name": "stdout",
     "output_type": "stream",
     "text": [
      "python\n",
      "life\n"
     ]
    }
   ],
   "source": [
    "[a, b] = ['python', 'life'] # 양쪽 모두 리스트\n",
    "\n",
    "print(a)\n",
    "print(b)"
   ]
  },
  {
   "cell_type": "code",
   "execution_count": 84,
   "id": "c80cab9e",
   "metadata": {},
   "outputs": [
    {
     "name": "stdout",
     "output_type": "stream",
     "text": [
      "python\n",
      "python\n"
     ]
    }
   ],
   "source": [
    "a = b = 'python'\n",
    "\n",
    "print(a)\n",
    "print(b)"
   ]
  },
  {
   "cell_type": "code",
   "execution_count": 85,
   "id": "9e933b92",
   "metadata": {},
   "outputs": [
    {
     "name": "stdout",
     "output_type": "stream",
     "text": [
      "5\n",
      "3\n"
     ]
    }
   ],
   "source": [
    "a = 3\n",
    "b = 5\n",
    "\n",
    "# 두 변수의 값을 바꾸고싶다면.. ?\n",
    "a,b = b,a\n",
    "\n",
    "print(a)\n",
    "print(b)"
   ]
  }
 ],
 "metadata": {
  "kernelspec": {
   "display_name": "venv",
   "language": "python",
   "name": "python3"
  },
  "language_info": {
   "codemirror_mode": {
    "name": "ipython",
    "version": 3
   },
   "file_extension": ".py",
   "mimetype": "text/x-python",
   "name": "python",
   "nbconvert_exporter": "python",
   "pygments_lexer": "ipython3",
   "version": "3.12.7"
  }
 },
 "nbformat": 4,
 "nbformat_minor": 5
}
