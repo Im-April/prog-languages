{
  "nbformat": 4,
  "nbformat_minor": 0,
  "metadata": {
    "colab": {
      "provenance": []
    },
    "kernelspec": {
      "name": "python3",
      "display_name": "Python 3"
    },
    "language_info": {
      "name": "python"
    }
  },
  "cells": [
    {
      "cell_type": "markdown",
      "source": [
        "# 숫자형 (Number)\n",
        "- 숫자 형태로 이루어진 자료형\n",
        "\n",
        "## 숫자형은 어떻게 만들고 사용할까?\n",
        "---\n",
        "### 정수형 (integer)\n",
        "- 정수를 뜻하는 자료형\n",
        "- 양의 정수와 음의 정수, 숫자 0\n",
        "\n",
        "### 실수형 (floating-point)\n",
        "- 소수점이 포함된 숫자\n",
        "- '컴퓨터식 지수 표현 방식'\n",
        "  - e와 E 둘 중 어느 것을 사용\n",
        "  ```python\n",
        "  >>> a = 4.24E10\n",
        "  >>> a = 4.24e-10\n",
        "  ```"
      ],
      "metadata": {
        "id": "ZBz_S5kcGnr2"
      }
    },
    {
      "cell_type": "code",
      "execution_count": 2,
      "metadata": {
        "colab": {
          "base_uri": "https://localhost:8080/"
        },
        "id": "tsg_q2UFFG0b",
        "outputId": "6e06d072-8969-4224-fdc4-edf0016d5f78"
      },
      "outputs": [
        {
          "output_type": "stream",
          "name": "stdout",
          "text": [
            "123 : <class 'int'>\n",
            "456 : <class 'int'>\n"
          ]
        }
      ],
      "source": [
        "# 정수형\n",
        "a = 123\n",
        "b = 456\n",
        "\n",
        "print(f'{a} : {type(a)}')\n",
        "print(f'{b} : {type(b)}')"
      ]
    },
    {
      "cell_type": "code",
      "source": [
        "# 실수형\n",
        "a = 1.2\n",
        "b = -3.14\n",
        "\n",
        "print(f'{a} : {type(a)}')\n",
        "print(f'{b} : {type(b)}')"
      ],
      "metadata": {
        "colab": {
          "base_uri": "https://localhost:8080/"
        },
        "id": "03T9Va97H99P",
        "outputId": "15ad6992-2953-4ca7-d0ba-6b0c67c87af6"
      },
      "execution_count": 4,
      "outputs": [
        {
          "output_type": "stream",
          "name": "stdout",
          "text": [
            "1.2 : <class 'float'>\n",
            "-3.14 : <class 'float'>\n"
          ]
        }
      ]
    },
    {
      "cell_type": "code",
      "source": [
        "a = 4.24e10 # 4.24*10^10\n",
        "b = 4.24e-10 # 4.24*10^-10\n",
        "\n",
        "print(f'{a} : {type(a)}')\n",
        "print(f'{b} : {type(b)}')"
      ],
      "metadata": {
        "colab": {
          "base_uri": "https://localhost:8080/"
        },
        "id": "2WVNQZ_aIHee",
        "outputId": "ad861662-4bd2-4ffe-bf06-016ca5dd57f3"
      },
      "execution_count": 6,
      "outputs": [
        {
          "output_type": "stream",
          "name": "stdout",
          "text": [
            "42400000000.0 : <class 'float'>\n",
            "4.24e-10 : <class 'float'>\n"
          ]
        }
      ]
    },
    {
      "cell_type": "code",
      "source": [
        "# 8진수 16진수\n",
        "# 8진수(octal)를 만들기 위해서는 숫자가 0o 또는 0O(숫자 0 + 알파벳 소문자 o 또는 대문자 O)으로 시작\n",
        "a = 0o177\n",
        "print(a)\n",
        "\n",
        "# 16진수(hexadecimal)를 만들기 위해서는 0x로 시작\n",
        "a = 0x8ff\n",
        "b = 0xABC\n",
        "\n",
        "print(a)\n",
        "print(b)"
      ],
      "metadata": {
        "colab": {
          "base_uri": "https://localhost:8080/"
        },
        "id": "kd0v9f2pIeqy",
        "outputId": "ba978ca1-9c2c-4405-cd53-00d35461f49b"
      },
      "execution_count": 7,
      "outputs": [
        {
          "output_type": "stream",
          "name": "stdout",
          "text": [
            "127\n",
            "2303\n",
            "2748\n"
          ]
        }
      ]
    },
    {
      "cell_type": "code",
      "source": [
        "# 사칙연산\n",
        "a = 3\n",
        "b = 4\n",
        "print(a+b)\n",
        "print(a-b)\n",
        "print(a*b)\n",
        "print(a/b)"
      ],
      "metadata": {
        "colab": {
          "base_uri": "https://localhost:8080/"
        },
        "id": "PSgjJ1LKI5Kh",
        "outputId": "10c5357d-659e-4ab6-a9c7-9a8232478318"
      },
      "execution_count": 8,
      "outputs": [
        {
          "output_type": "stream",
          "name": "stdout",
          "text": [
            "7\n",
            "-1\n",
            "12\n",
            "0.75\n"
          ]
        }
      ]
    },
    {
      "cell_type": "code",
      "source": [
        "# 제곱 연산자\n",
        "print(a**b)\n",
        "\n",
        "# 나머지 연산자\n",
        "print(a%b)\n",
        "\n",
        "# 몫 연산자\n",
        "print(a//b)\n",
        "\n",
        "# 복합 연산자 (+=, -=, *=, /=, //=, %=, **=)\n",
        "a += 1 # a = a+1\n",
        "print(a) # 4"
      ],
      "metadata": {
        "colab": {
          "base_uri": "https://localhost:8080/"
        },
        "id": "PpGnWzkxJXFr",
        "outputId": "589534b5-6b59-4221-8412-317d8f7ccb59"
      },
      "execution_count": 9,
      "outputs": [
        {
          "output_type": "stream",
          "name": "stdout",
          "text": [
            "81\n",
            "3\n",
            "0\n",
            "4\n"
          ]
        }
      ]
    },
    {
      "cell_type": "markdown",
      "source": [
        "# 문자열(string)\n",
        "-  연속된 문자들의 나열\n",
        "\n"
      ],
      "metadata": {
        "id": "q7I21wX-J6iD"
      }
    },
    {
      "cell_type": "code",
      "source": [
        "# 문자열 만들기\n",
        "a = \"Hello World\"\n",
        "b = 'Hello World'\n",
        "print(a)\n",
        "print(b)"
      ],
      "metadata": {
        "colab": {
          "base_uri": "https://localhost:8080/"
        },
        "id": "guDTeOOkTSWz",
        "outputId": "b07afb85-06f4-4c0b-9922-b538b25f01a1"
      },
      "execution_count": 10,
      "outputs": [
        {
          "output_type": "stream",
          "name": "stdout",
          "text": [
            "Hello World\n",
            "Hello World\n"
          ]
        }
      ]
    },
    {
      "cell_type": "code",
      "source": [
        "# 따옴표 출력하기\n",
        "print(\"Python's favorite food is perl\")\n",
        "print('\"Python is very easy.\" he says.')\n",
        "print('Python\\'s favorite food is perl')\n",
        "print(\"\\\"Python is very easy.\\\" he says.\")"
      ],
      "metadata": {
        "colab": {
          "base_uri": "https://localhost:8080/"
        },
        "id": "jk78AXdlJztN",
        "outputId": "a24ddfc5-879a-4035-d73d-257dc3fc9bca"
      },
      "execution_count": 11,
      "outputs": [
        {
          "output_type": "stream",
          "name": "stdout",
          "text": [
            "Python's favorite food is perl\n",
            "\"Python is very easy.\" he says.\n",
            "Python's favorite food is perl\n",
            "\"Python is very easy.\" he says.\n"
          ]
        }
      ]
    },
    {
      "cell_type": "code",
      "source": [
        "# 여러 줄 변수에 대입하기\n",
        "\n",
        "multiline = \"Life is too short\\nYou need python\"\n",
        "print(multiline)"
      ],
      "metadata": {
        "colab": {
          "base_uri": "https://localhost:8080/"
        },
        "id": "q7WDwcMKTv4E",
        "outputId": "c645d65b-012d-42a7-8d08-1ad56346ea0d"
      },
      "execution_count": 12,
      "outputs": [
        {
          "output_type": "stream",
          "name": "stdout",
          "text": [
            "Life is too short\n",
            "You need python\n"
          ]
        }
      ]
    },
    {
      "cell_type": "code",
      "source": [
        "multiline='''\n",
        "Life is too short\n",
        "You need python\n",
        "'''\n",
        "\n",
        "print(multiline)"
      ],
      "metadata": {
        "colab": {
          "base_uri": "https://localhost:8080/"
        },
        "id": "zs5VEBVwT2SW",
        "outputId": "c3b451cd-e4ec-49c6-d9e3-578470c2ea4d"
      },
      "execution_count": 13,
      "outputs": [
        {
          "output_type": "stream",
          "name": "stdout",
          "text": [
            "\n",
            "Life is too short\n",
            "You need python\n",
            "\n"
          ]
        }
      ]
    },
    {
      "cell_type": "code",
      "source": [
        "# 문자열 연산\n",
        "\n",
        "head = 'Python'\n",
        "tail = 'is fun!'\n",
        "\n",
        "print(head + tail)\n",
        "print(head *2)"
      ],
      "metadata": {
        "colab": {
          "base_uri": "https://localhost:8080/"
        },
        "id": "bgwXe6W2T-Dl",
        "outputId": "14d6740d-b838-4879-ef14-8d4595cf5085"
      },
      "execution_count": 15,
      "outputs": [
        {
          "output_type": "stream",
          "name": "stdout",
          "text": [
            "Pythonis fun!\n",
            "PythonPython\n"
          ]
        }
      ]
    },
    {
      "cell_type": "code",
      "source": [
        "# 문자열 길이 구하기\n",
        "\n",
        "a = \"Life is too short\"\n",
        "print(len(a))"
      ],
      "metadata": {
        "colab": {
          "base_uri": "https://localhost:8080/"
        },
        "id": "bEMnMU0jUP20",
        "outputId": "950802a9-a285-4efe-880e-08aca66fa89e"
      },
      "execution_count": 16,
      "outputs": [
        {
          "output_type": "stream",
          "name": "stdout",
          "text": [
            "17\n"
          ]
        }
      ]
    },
    {
      "cell_type": "code",
      "source": [
        "# 문자열 인덱싱\n",
        "# 파이썬은 0부터 숫자를 센다.\n",
        "\n",
        "a = \"Life is too short, You need Python\"\n",
        "print(a[3]) # e\n",
        "print(a[0]) # L\n",
        "print(a[12]) # s\n",
        "print(a[-1]) # n\n",
        "print(a[-2]) # o\n",
        "print(a[-5]) # y"
      ],
      "metadata": {
        "colab": {
          "base_uri": "https://localhost:8080/"
        },
        "id": "Fbvtd7AAVhWT",
        "outputId": "44788e56-1573-4170-c2db-095354568f9e"
      },
      "execution_count": 18,
      "outputs": [
        {
          "output_type": "stream",
          "name": "stdout",
          "text": [
            "e\n",
            "L\n",
            "s\n",
            "n\n",
            "o\n",
            "y\n"
          ]
        }
      ]
    },
    {
      "cell_type": "code",
      "source": [
        "# 문자열 슬라이싱\n",
        "\n",
        "a = \"Life is too short, You need Python\"\n",
        "print(a[:4]) # Life\n",
        "print(a[0:3]) # Lif\n",
        "print(a[:5]) # 'Life '\n",
        "print(a[5:7]) # is\n",
        "print(a[12:17]) # short\n",
        "print(a[19:]) # You need Python\n",
        "print(a[:]) # Life is too short, You need Python\n",
        "print(a[19:-7]) # You need"
      ],
      "metadata": {
        "colab": {
          "base_uri": "https://localhost:8080/"
        },
        "id": "ef9jiSHuWLWP",
        "outputId": "59337978-2afa-4b43-c1a9-b411126a3750"
      },
      "execution_count": 20,
      "outputs": [
        {
          "output_type": "stream",
          "name": "stdout",
          "text": [
            "Life\n",
            "Lif\n",
            "Life \n",
            "is\n",
            "short\n",
            "You need Python\n",
            "Life is too short, You need Python\n",
            "You need\n"
          ]
        }
      ]
    },
    {
      "cell_type": "code",
      "source": [
        "# 슬라이싱으로 문자열 나누기\n",
        "\n",
        "a = \"20230331Rainy\"\n",
        "date = a[:8]\n",
        "year = a[:4]\n",
        "day = a[4:8]\n",
        "weather = a[8:]\n",
        "\n",
        "print(f'date : {date}')\n",
        "print(f'year : {year}')\n",
        "print(f'day : {day}')\n",
        "print(f'weather : {weather}')"
      ],
      "metadata": {
        "colab": {
          "base_uri": "https://localhost:8080/"
        },
        "id": "PsHESUaHifBB",
        "outputId": "749c94ff-2fd5-4901-d376-0c03d290769a"
      },
      "execution_count": 22,
      "outputs": [
        {
          "output_type": "stream",
          "name": "stdout",
          "text": [
            "date : 20230331\n",
            "year : 2023\n",
            "day : 0331\n",
            "weather : Rainy\n"
          ]
        }
      ]
    },
    {
      "cell_type": "code",
      "source": [
        "# 문자열을 '변경 불가능한(immutable) 자료형'\n",
        "a = \"Pithon\"\n",
        "a[1] = 'y' # 오류남\n",
        "\n",
        "print(a)"
      ],
      "metadata": {
        "colab": {
          "base_uri": "https://localhost:8080/",
          "height": 200
        },
        "id": "MJMLT0jAjirA",
        "outputId": "9edf05f1-d681-49b3-e524-8a4c49ecb37a"
      },
      "execution_count": 23,
      "outputs": [
        {
          "output_type": "error",
          "ename": "TypeError",
          "evalue": "'str' object does not support item assignment",
          "traceback": [
            "\u001b[0;31m---------------------------------------------------------------------------\u001b[0m",
            "\u001b[0;31mTypeError\u001b[0m                                 Traceback (most recent call last)",
            "\u001b[0;32m/tmp/ipython-input-1212553381.py\u001b[0m in \u001b[0;36m<cell line: 0>\u001b[0;34m()\u001b[0m\n\u001b[1;32m      1\u001b[0m \u001b[0ma\u001b[0m \u001b[0;34m=\u001b[0m \u001b[0;34m\"Pithon\"\u001b[0m\u001b[0;34m\u001b[0m\u001b[0;34m\u001b[0m\u001b[0m\n\u001b[0;32m----> 2\u001b[0;31m \u001b[0ma\u001b[0m\u001b[0;34m[\u001b[0m\u001b[0;36m1\u001b[0m\u001b[0;34m]\u001b[0m \u001b[0;34m=\u001b[0m \u001b[0;34m'y'\u001b[0m\u001b[0;34m\u001b[0m\u001b[0;34m\u001b[0m\u001b[0m\n\u001b[0m\u001b[1;32m      3\u001b[0m \u001b[0;34m\u001b[0m\u001b[0m\n\u001b[1;32m      4\u001b[0m \u001b[0mprint\u001b[0m\u001b[0;34m(\u001b[0m\u001b[0ma\u001b[0m\u001b[0;34m)\u001b[0m\u001b[0;34m\u001b[0m\u001b[0;34m\u001b[0m\u001b[0m\n",
            "\u001b[0;31mTypeError\u001b[0m: 'str' object does not support item assignment"
          ]
        }
      ]
    },
    {
      "cell_type": "code",
      "source": [
        "a = \"Pithon\"\n",
        "print(a[:1] + 'y' + a[2:])"
      ],
      "metadata": {
        "colab": {
          "base_uri": "https://localhost:8080/"
        },
        "id": "-QBQN6WnkQkU",
        "outputId": "222fd08a-e111-4a0e-8845-8b92dc182baf"
      },
      "execution_count": 24,
      "outputs": [
        {
          "output_type": "stream",
          "name": "stdout",
          "text": [
            "Python\n"
          ]
        }
      ]
    },
    {
      "cell_type": "code",
      "source": [
        "# 문자열 포매팅 (string formatting)\n",
        "# 문자열 안의 특정한 값을 바꿔야 할 경우가 있을 때 이것을 가능하게 해 주는 것\n",
        "\n",
        "# 숫자 바로 대입\n",
        "print('I eat %d apples.'% 3)\n",
        "\n",
        "# 문자열 바로 대입\n",
        "print('I eat %s apples. % five')\n",
        "\n",
        "# 숫자 값을 나타내는 변수로 대입\n",
        "num = 5\n",
        "print('I eat %d apples.' % num)\n",
        "\n",
        "# 2개 이상의 값 넣기\n",
        "number = 5\n",
        "day = 'three'\n",
        "print('I eat %d apples. so I was sick for %s days.' % (number, day))"
      ],
      "metadata": {
        "colab": {
          "base_uri": "https://localhost:8080/"
        },
        "id": "yCVmdRcjksYI",
        "outputId": "3d266d68-6ec4-47c5-9db2-3e22b7fd3b3e"
      },
      "execution_count": 28,
      "outputs": [
        {
          "output_type": "stream",
          "name": "stdout",
          "text": [
            "I eat 3 apples.\n",
            "I eat %s apples. % five\n",
            "I eat 5 apples.\n",
            "I eat 5 apples. so I was sick for three days.\n"
          ]
        }
      ]
    },
    {
      "cell_type": "markdown",
      "source": [
        "| 코드 | 설명 |\n",
        "|:----:|:----:|\n",
        "|%s|문자열(String)|\n",
        "|%c|문자 1개(character)|\n",
        "|%d|정수(Integer)|\n",
        "|%f|부동소수(floating-point)|\n",
        "|%o|8진수|\n",
        "|%x|16진수|\n",
        "|%%|Literal % (문자 % 자체)|\n",
        "\n",
        "- `%s` 포맷 코드인데, 이 코드에는 어떤 형태의 값이든 변환해 넣을 수 있다"
      ],
      "metadata": {
        "id": "mk7-EGvdl0-o"
      }
    },
    {
      "cell_type": "code",
      "source": [
        "# 포맷 코드와 숫자 함께 사용하기\n",
        "\n",
        "# 정렬과 공백\n",
        "# 전체 길이가 10개인 문자열 공간에서 대입되는 값을 오른쪽으로 정렬하고 그 앞의 나머지는 공백으로 남겨 두라는 의미\n",
        "print('%10s' % 'Hi')\n",
        "\n",
        "# 왼쪽 정렬은 %-10s\n",
        "print('%-10s' % 'Hi')\n",
        "print('%-10sJane' % 'Hi')"
      ],
      "metadata": {
        "colab": {
          "base_uri": "https://localhost:8080/"
        },
        "id": "Cvmh42M3lGXW",
        "outputId": "d58c0305-0e01-4ba4-9cf4-1fdb0e3906de"
      },
      "execution_count": 31,
      "outputs": [
        {
          "output_type": "stream",
          "name": "stdout",
          "text": [
            "        Hi\n",
            "Hi        \n",
            "Hi        Jane\n"
          ]
        }
      ]
    },
    {
      "cell_type": "code",
      "source": [
        "# 소수점 표현하기\n",
        "print('%0.4f' % 3.42134234) # 소수점 포인트, 그 뒤의 숫자 4는 소수점 뒤에 나올 숫자의 개수를 말한다.\n",
        "print('%.4f' % 3.42134234)\n",
        "\n",
        "print('%10.4f' % 3.42134234) # 소수점 네 번째 자리까지만 표시하고 전체 길이가 10개인 문자열 공간에서 오른쪽으로 정렬\n"
      ],
      "metadata": {
        "colab": {
          "base_uri": "https://localhost:8080/"
        },
        "id": "S-Pg7KDXnQOb",
        "outputId": "92fbdb26-5560-402d-b03e-41cf90d06bec"
      },
      "execution_count": 34,
      "outputs": [
        {
          "output_type": "stream",
          "name": "stdout",
          "text": [
            "3.4213\n",
            "3.4213\n",
            "    3.4213\n"
          ]
        }
      ]
    },
    {
      "cell_type": "code",
      "source": [
        "# format 함수를 사용\n",
        "\n",
        "# 숫자 바로 대입하기\n",
        "print('I eat {0} apples.'.format(5))\n",
        "\n",
        "# 문자열 바로 대입하기\n",
        "print('I eat {0} apples.'.format('five'))\n",
        "\n",
        "# 속성값을 가진 변수 대입하기\n",
        "number = 3\n",
        "print('I eat {0} apples'.format(number))\n",
        "\n",
        "# 2개 이상의 값 넣기\n",
        "number = 10\n",
        "day = 'three'\n",
        "print('I eat {0} apples. so I was sick for {1} days.'.format(number, day))\n",
        "\n",
        "# 이름으로 넣기\n",
        "print('I eat {number} apples. so I was sick for {day} days.'.format(number=5, day='three'))\n",
        "\n",
        "# 인덱스와 이름을 혼용해서 넣기\n",
        "print(\"I ate {0} apples. so I was sick for {day} days.\".format(10, day=3))\n",
        "\n",
        "# 왼쪽 정렬\n",
        "# `:<10` 표현식을 사용하면 치환되는 문자열을 왼쪽으로 정렬하고 문자열의 총 자릿수를 10으로 맞춤\n",
        "print('{0:<10}'.format('hi'))\n",
        "\n",
        "# 오른쪽 정렬\n",
        "# :>을 사용\n",
        "print('{0:>10}'.format('hi'))\n",
        "\n",
        "# 가운데 정렬\n",
        "# :^를 사용하면 가운데 정렬\n",
        "print('{0:^10}'.format('hi'))\n",
        "\n",
        "# 공백 채우기\n",
        "print('{0:=^10}'.format('hi'))\n",
        "print('{0:!<10}'.format('hi'))\n",
        "\n",
        "# 소수점 표현하기\n",
        "y = 3.42134234\n",
        "print('{0:0.4f}'.format(y)) # 소수점을 4자리까지만 표현\n",
        "print('{0:10.4f}'.format(y))\n",
        "\n",
        "# 포매팅 문자가 아닌 문자 그대로 사용하고 싶은 경우\n",
        "print('{{ and }}'.format())"
      ],
      "metadata": {
        "colab": {
          "base_uri": "https://localhost:8080/"
        },
        "id": "4VtZj83cnb5r",
        "outputId": "ea3f6031-bf30-4a1f-a6a0-eeded8ac36c9"
      },
      "execution_count": 50,
      "outputs": [
        {
          "output_type": "stream",
          "name": "stdout",
          "text": [
            "I eat 5 apples.\n",
            "I eat five apples.\n",
            "I eat 3 apples\n",
            "I eat 10 apples. so I was sick for three days.\n",
            "I eat 5 apples. so I was sick for three days.\n",
            "I ate 10 apples. so I was sick for 3 days.\n",
            "hi        \n",
            "        hi\n",
            "    hi    \n",
            "====hi====\n",
            "hi!!!!!!!!\n",
            "3.4213\n",
            "    3.4213\n",
            "{ and }\n"
          ]
        }
      ]
    },
    {
      "cell_type": "code",
      "source": [
        "# f 문자열 포매팅\n",
        "name = '홍길동'\n",
        "age = 30\n",
        "\n",
        "print(f'나의 이름은 {name} 입니다. 나이는 {age}살 입니다')\n",
        "print(f'나는 내년이면 {age + 1}살 입니다.')\n",
        "\n",
        "d = {'name':'홍길동', 'age':30}\n",
        "print(f'나의 이름은 {d[\"name\"]}입니다. 나이는 {d[\"age\"]}입니다.')\n",
        "\n",
        "# 정렬\n",
        "print(f'{\"hi\":<10}') # 왼쪽 정렬\n",
        "print(f'{\"hi\":>10}') # 오른쪽 정렬\n",
        "print(f'{\"hi\":^10}') # 가운데 정렬\n",
        "\n",
        "# 공백 채우기\n",
        "print(f'{\"hi\":=^10}')\n",
        "print(f'{\"hi\":!<10}')\n",
        "\n",
        "# 소수점 표현\n",
        "y = 3.42134234\n",
        "print(f'{y:0.4f}') # 소수점 4자리까지만 표현\n",
        "print(f'{y:10.4f}') # 소수점 4자리까지 표현하고 총 자리수를 10으로 맞춤\n",
        "\n",
        "# 중괄호 사용하기\n",
        "print(f'{{ and }}')\n",
        "\n",
        "# 금액 콤마 사용하기\n",
        "print(f'{1500000:,}')"
      ],
      "metadata": {
        "colab": {
          "base_uri": "https://localhost:8080/"
        },
        "id": "oypkt2onp9fY",
        "outputId": "7565f219-18c3-499f-e0fe-ac068f1ba96e"
      },
      "execution_count": 62,
      "outputs": [
        {
          "output_type": "stream",
          "name": "stdout",
          "text": [
            "나의 이름은 홍길동 입니다. 나이는 30살 입니다\n",
            "나는 내년이면 31살 입니다.\n",
            "나의 이름은 홍길동입니다. 나이는 30입니다.\n",
            "hi        \n",
            "        hi\n",
            "    hi    \n",
            "====hi====\n",
            "hi!!!!!!!!\n",
            "3.4213\n",
            "    3.4213\n",
            "{ and }\n",
            "1,500,000\n"
          ]
        }
      ]
    },
    {
      "cell_type": "code",
      "source": [
        "# 문자열 관련 함수들\n",
        "\n",
        "# 문자 개수 세기\n",
        "a = 'hobby'\n",
        "print(a.count('b'))\n",
        "\n",
        "# 위치 알려주기 1\n",
        "a = \"Python is the best choice\"\n",
        "print(a.find('b')) #  b가 처음으로 나온 위치를 반환\n",
        "print(a.find('k')) # 만약 찾는 문자나 문자열이 존재하지 않는다면 -1을 반환\n",
        "\n",
        "# 위치 알려주기 2\n",
        "a = \"Life is too short\"\n",
        "print(a.index('t'))\n",
        "# print(a.index('t')) 만약 찾는 문자나 문자열이 존재하지 않는다면 오류가 발생\n",
        "\n",
        "# 문자열 삽입\n",
        "# join 함수로 abcd 문자열의 각각의 문자 사이에 ','를 삽입\n",
        "print(\",\".join('abcd'))\n",
        "# join 함수 리스트에 사용해보기\n",
        "print(\",\".join(['a', 'b', 'c', 'd']))\n",
        "\n",
        "# 소문자를 대문자로 바꾸기\n",
        "a = 'hi'\n",
        "print(a.upper())\n",
        "\n",
        "# 대문자를 소문자로 바꾸기\n",
        "a = 'Hi'\n",
        "print(a.lower())\n",
        "print('='*30)\n",
        "\n",
        "# 왼쪽 공백 지우기\n",
        "a = ' hi'\n",
        "print(a)\n",
        "print(a.lstrip())\n",
        "\n",
        "# 오른쪽 공백 지우기\n",
        "a = 'hi '\n",
        "print(a+'python')\n",
        "print(a.rstrip()+'python')\n",
        "\n",
        "# 양쪽 공백 지우기\n",
        "a = ' hi '\n",
        "print(a)\n",
        "print(a.strip())\n",
        "\n",
        "# 문자열 바꾸기\n",
        "a = \"Life is too short\"\n",
        "print(a.replace(\"Life\", \"Your leg\"))\n",
        "\n",
        "# 문자열 나누기\n",
        "a = \"Life is too short\"\n",
        "print(a.split())\n",
        "\n",
        "# 문자열이 알파벳으로만 구성되어 있는지 확인하기\n",
        "s = \"Python\"\n",
        "print(s.isalpha()) # True\n",
        "\n",
        "s = 'python3'\n",
        "print(s.isalpha()) # False\n",
        "\n",
        "s = 'Hello World'\n",
        "print(s.isalpha()) # False\n",
        "\n",
        "# 문자열이 숫자로만 구성되어 있는지 확인하기\n",
        "s = \"12345\"\n",
        "print(s.isdigit()) # True\n",
        "\n",
        "s = '123a'\n",
        "print(s.isalpha()) # False\n",
        "\n",
        "s = '12 12'\n",
        "print(s.isalpha()) # False\n",
        "\n",
        "# 문자열이 특정 문자(열)로 시작하는지 확인하기\n",
        "s = \"Life is too short\"\n",
        "print(s.startswith('Life')) # True\n",
        "print(s.startswith('short')) # False\n",
        "\n",
        "# 문자열이 특정 문자(열)로 끝나는지 확인하기\n",
        "print(s.endswith('short')) # True\n",
        "print(s.endswith('too')) # False\n"
      ],
      "metadata": {
        "colab": {
          "base_uri": "https://localhost:8080/"
        },
        "id": "Vm7tjEs7rLEZ",
        "outputId": "fc5fbee5-4126-4063-f504-40448adc58be"
      },
      "execution_count": 83,
      "outputs": [
        {
          "output_type": "stream",
          "name": "stdout",
          "text": [
            "2\n",
            "14\n",
            "-1\n",
            "8\n",
            "a,b,c,d\n",
            "a,b,c,d\n",
            "HI\n",
            "hi\n",
            "==============================\n",
            " hi\n",
            "hi\n",
            "hi python\n",
            "hipython\n",
            " hi \n",
            "hi\n",
            "Your leg is too short\n",
            "['Life', 'is', 'too', 'short']\n",
            "True\n",
            "False\n",
            "False\n",
            "True\n",
            "False\n",
            "False\n",
            "True\n",
            "False\n",
            "True\n",
            "False\n"
          ]
        }
      ]
    },
    {
      "cell_type": "markdown",
      "source": [
        "### join함수\n",
        "- join 함수는 문자열뿐만 아니라 앞으로 배울 리스트나 튜플도 입력으로 사용할 수 있다\n",
        "\n",
        "### split\n",
        "- 괄호 안에 아무 값도 넣어 주지 않으면 공백(`[Space]`, `[Tab]`, `[Enter]`)을 기준으로 문자열을 나누어 준다.\n",
        "-  만약 `b.split(':')`처럼 괄호 안에 특정 값이 있을 경우에는 **괄호 안의 값을 구분자로 해서 문자열을 나누어** 준다.\n",
        "- 나눈 값은 **리스트**에 하나씩 들어간다.\n",
        "\n",
        "---\n",
        "## 주의 ⚠️\n",
        "- 문자열 자체의 값이 변경되는 것이 아니라 변경된 값을 반환한다는 사실에 주의"
      ],
      "metadata": {
        "id": "uSyIw_Atuhv_"
      }
    },
    {
      "cell_type": "markdown",
      "source": [
        "# 리스트\n",
        "-  대괄호([])로 감싸 주고 각 요솟값은 쉼표(,)로 구분\n",
        "- 비어 있는 리스트([]) 가능\n",
        "- 숫자를 요솟값으로 가질 수도 있으며,\n",
        "- 문자열을 요솟값으로 가질 수도 있다.\n",
        "- 숫자와 문자열을 함께 요솟값으로 가질 수도 있고,\n",
        "- 리스트 자체를 요솟값으로 가질 수도 있다."
      ],
      "metadata": {
        "id": "dTcv2mGS3NE-"
      }
    },
    {
      "cell_type": "code",
      "source": [
        "# 리스트 인덱싱\n",
        "a = [1, 2, 3]\n",
        "print(a[0])\n",
        "print(a[1])\n",
        "print(a[-1])\n",
        "print(a[0] + a[2]) # 4\n",
        "\n",
        "a = [1, 2, 3, ['a', 'b', 'c']]\n",
        "print(a[0])\n",
        "print(a[-1])\n",
        "print(a[3])\n",
        "print(a[-1][0]) # a\n",
        "print(a[-1][1]) # b\n",
        "print(a[-1][2]) # c\n",
        "\n",
        "# 삼중리스트 인덱싱\n",
        "a = [1, 2, ['a', 'b', ['Life', 'is']]]\n",
        "print(a[-1][-1][0])"
      ],
      "metadata": {
        "colab": {
          "base_uri": "https://localhost:8080/"
        },
        "id": "pGPxCXNw3mPG",
        "outputId": "7b145e90-3e9f-4451-d220-c151147bb556"
      },
      "execution_count": 88,
      "outputs": [
        {
          "output_type": "stream",
          "name": "stdout",
          "text": [
            "1\n",
            "2\n",
            "3\n",
            "4\n",
            "1\n",
            "['a', 'b', 'c']\n",
            "['a', 'b', 'c']\n",
            "a\n",
            "b\n",
            "c\n",
            "Life\n"
          ]
        }
      ]
    },
    {
      "cell_type": "code",
      "source": [
        "# 리스트 슬라이싱\n",
        "a = [1, 2, 3, 4, 5]\n",
        "print(a[:2]) # 1,2\n",
        "\n",
        "b = a[:2] # [1,2]\n",
        "c = a[2:] # [3,4,5]\n",
        "\n",
        "# 중첩된 리스트에서 슬라이싱하기\n",
        "a = [1, 2, 3, ['a', 'b', 'c'], 4, 5]\n",
        "print(a[2:5]) # [3,['a', 'b', 'c'], 4]\n",
        "print(a[3][:2]) # ['a','b']\n",
        "\n",
        "# 리스트 연산하기\n",
        "a = [1, 2, 3]\n",
        "b = [4, 5, 6]\n",
        "print(a+b) # [1, 2, 3, 4, 5, 6]\n",
        "print(a * 3) # [1, 2, 3, 1, 2, 3, 1, 2, 3]\n",
        "\n",
        "# 리스트 길이 구하기\n",
        "print(len(a)) # 3\n",
        "\n",
        "# 리스트 수정과 삭제\n",
        "# 리스트는 값을 수정하거나 삭제할 수 있다.\n",
        "a = [1, 2, 3]\n",
        "a[2] = 4\n",
        "print(a) # [1,2,4]\n",
        "\n",
        "# del을 사용해 리스트 요소 삭제\n",
        "del a[1]\n",
        "print(a) # [1,4]\n",
        "\n",
        "a = [1, 2, 3, 4, 5]\n",
        "del a[2:]\n",
        "print(a) # [1,2]"
      ],
      "metadata": {
        "colab": {
          "base_uri": "https://localhost:8080/"
        },
        "id": "OE-Ub1Lz3DIH",
        "outputId": "ca042c87-9f5f-4ec2-9a18-95dd4154396f"
      },
      "execution_count": 99,
      "outputs": [
        {
          "output_type": "stream",
          "name": "stdout",
          "text": [
            "[1, 2]\n",
            "[3, ['a', 'b', 'c'], 4]\n",
            "['a', 'b']\n",
            "[1, 2, 3, 4, 5, 6]\n",
            "[1, 2, 3, 1, 2, 3, 1, 2, 3]\n",
            "3\n",
            "[1, 2, 4]\n",
            "[1, 4]\n",
            "[1, 2]\n"
          ]
        }
      ]
    },
    {
      "cell_type": "code",
      "source": [
        "# 리스트 관련 함수\n",
        "\n",
        "# 리스트에 요소 추가하기\n",
        "a = [1,2,3]\n",
        "print(a)\n",
        "\n",
        "# insert(a, b)는 리스트의 a번째 위치에 b를 삽입하는 함수\n",
        "a = [1, 2, 3]\n",
        "a.insert(0,4)\n",
        "print(a)\n",
        "\n",
        "a = [1,2,3]\n",
        "\n",
        "a.append(4)\n",
        "print(a)\n",
        "\n",
        "a.append([5,6])\n",
        "print(a)\n",
        "\n",
        "# 리스트 정렬\n",
        "a = [1,4,3,2]\n",
        "a.sort()\n",
        "print(a)\n",
        "\n",
        "a = ['a', 'c', 'b']\n",
        "a.sort()\n",
        "print(a)\n",
        "\n",
        "# 리스트 뒤집기\n",
        "# 현재의 리스트를 그대로 거꾸로\n",
        "a = ['a', 'c', 'b']\n",
        "a.reverse()\n",
        "print(a)\n",
        "\n",
        "# 인덱스 반환\n",
        "a = [1, 2, 3]\n",
        "print(a.index(3)) # 2\n",
        "\n",
        "# 리스트 요소 제거\n",
        "# remove(x)는 리스트에서 첫 번째로 나오는 x를 삭제하는 함수\n",
        "a = [1, 2, 3, 1, 2, 3]\n",
        "print(a)\n",
        "a.remove(3)\n",
        "print(a)\n",
        "\n",
        "# 리스트 요소 끄집어 내기\n",
        "a = [1, 2, 3]\n",
        "print(a)\n",
        "print(a.pop())\n",
        "print(a)\n",
        "\n",
        "# 리스트에 포함된 요소 x의 개수 세기\n",
        "a = [1, 2, 3, 1]\n",
        "print(a.count(1))\n",
        "\n",
        "# 리스트 확장\n",
        "a = [1, 2, 3]\n",
        "print(a)\n",
        "a.extend([4, 5])\n",
        "print(a)\n",
        "\n",
        "b = [6, 7]\n",
        "a.extend(b)\n",
        "print(a)"
      ],
      "metadata": {
        "colab": {
          "base_uri": "https://localhost:8080/"
        },
        "id": "-Of6Pqg65_ES",
        "outputId": "c2c95e4f-1feb-4beb-d3e2-76c4bf87e7dd"
      },
      "execution_count": 116,
      "outputs": [
        {
          "output_type": "stream",
          "name": "stdout",
          "text": [
            "[1, 2, 3]\n",
            "[4, 1, 2, 3]\n",
            "[1, 2, 3, 4]\n",
            "[1, 2, 3, 4, [5, 6]]\n",
            "[1, 2, 3, 4]\n",
            "['a', 'b', 'c']\n",
            "['b', 'c', 'a']\n",
            "2\n",
            "[1, 2, 3, 1, 2, 3]\n",
            "[1, 2, 1, 2, 3]\n",
            "[1, 2, 3]\n",
            "3\n",
            "[1, 2]\n",
            "2\n",
            "[1, 2, 3]\n",
            "[1, 2, 3, 4, 5]\n",
            "[1, 2, 3, 4, 5, 6, 7]\n"
          ]
        }
      ]
    },
    {
      "cell_type": "code",
      "source": [],
      "metadata": {
        "id": "Bceghqkv8ICj"
      },
      "execution_count": null,
      "outputs": []
    }
  ]
}