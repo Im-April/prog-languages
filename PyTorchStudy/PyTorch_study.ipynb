{
  "nbformat": 4,
  "nbformat_minor": 0,
  "metadata": {
    "colab": {
      "provenance": [],
      "gpuType": "T4"
    },
    "kernelspec": {
      "name": "python3",
      "display_name": "Python 3"
    },
    "language_info": {
      "name": "python"
    },
    "accelerator": "GPU"
  },
  "cells": [
    {
      "cell_type": "markdown",
      "source": [
        "# PyTorch\n",
        "- 과학 연산을 위한 라이브러리\n",
        "- <b>GPU</b>를 이용한 텐서 조작 및 동적 신경망 구축이 가능하도록 딥러닝 프레임워크를 발전 시킴\n",
        "\n",
        "## 텐서\n",
        "- 데이터 표현을 위한 기본 구조\n",
        "- 데이터를 담기 위한 컨테이너로서 일반적으로 수치형 데이터를 저장\n",
        "- 넘파이의 ndarray와 유사 (다차원 행렬과 유사)\n",
        "- GPU를 사용한 연산 가속 가능"
      ],
      "metadata": {
        "id": "TGZW-SAIyTYH"
      }
    },
    {
      "cell_type": "code",
      "execution_count": 1,
      "metadata": {
        "colab": {
          "base_uri": "https://localhost:8080/",
          "height": 35
        },
        "id": "OR9kdpeVxhKX",
        "outputId": "22c5ba54-f7af-478f-8bc7-84aac5a56ce0"
      },
      "outputs": [
        {
          "output_type": "execute_result",
          "data": {
            "text/plain": [
              "'2.6.0+cu124'"
            ],
            "application/vnd.google.colaboratory.intrinsic+json": {
              "type": "string"
            }
          },
          "metadata": {},
          "execution_count": 1
        }
      ],
      "source": [
        "import torch\n",
        "\n",
        "torch.__version__"
      ]
    },
    {
      "cell_type": "code",
      "source": [
        "# 초기화 되지 않은 텐서\n",
        "\n",
        "x = torch.empty(4, 2)\n",
        "print(x)"
      ],
      "metadata": {
        "colab": {
          "base_uri": "https://localhost:8080/"
        },
        "id": "QFYfaQwE0dFt",
        "outputId": "3371da1b-8884-4ede-ca80-aa23d1d36398"
      },
      "execution_count": 2,
      "outputs": [
        {
          "output_type": "stream",
          "name": "stdout",
          "text": [
            "tensor([[0.0000e+00, 4.5101e-41],\n",
            "        [1.8788e+31, 1.7220e+22],\n",
            "        [2.1715e-18, 6.6471e+22],\n",
            "        [5.3691e-05, 2.6853e-06]])\n"
          ]
        }
      ]
    },
    {
      "cell_type": "code",
      "source": [
        "# 무작위로 초기화 된 텐서\n",
        "\n",
        "x = torch.rand(4, 2)\n",
        "print(x)"
      ],
      "metadata": {
        "colab": {
          "base_uri": "https://localhost:8080/"
        },
        "id": "ciC_iS1N00P2",
        "outputId": "605c347f-6189-4f71-d0e2-d1635c062389"
      },
      "execution_count": 3,
      "outputs": [
        {
          "output_type": "stream",
          "name": "stdout",
          "text": [
            "tensor([[0.0930, 0.4634],\n",
            "        [0.8255, 0.8517],\n",
            "        [0.2164, 0.3811],\n",
            "        [0.4472, 0.3748]])\n"
          ]
        }
      ]
    },
    {
      "cell_type": "code",
      "source": [
        "# 데이터 타입이 long이고 , 0으로 채워진 텐서\n",
        "\n",
        "x = torch.zeros(4, 2, dtype=torch.long)\n",
        "print(x)"
      ],
      "metadata": {
        "colab": {
          "base_uri": "https://localhost:8080/"
        },
        "id": "OuhhXxqQ09ei",
        "outputId": "84405a59-1859-4295-df35-b6444dda316d"
      },
      "execution_count": 4,
      "outputs": [
        {
          "output_type": "stream",
          "name": "stdout",
          "text": [
            "tensor([[0, 0],\n",
            "        [0, 0],\n",
            "        [0, 0],\n",
            "        [0, 0]])\n"
          ]
        }
      ]
    },
    {
      "cell_type": "code",
      "source": [
        "# 사용자가 입력한 값으로 텐서 초기화\n",
        "\n",
        "x = torch.tensor([3, 2.3])\n",
        "print(x)"
      ],
      "metadata": {
        "colab": {
          "base_uri": "https://localhost:8080/"
        },
        "id": "_cHu4BH41H9B",
        "outputId": "369e9375-53bb-47c5-eac0-295ef02ba575"
      },
      "execution_count": 5,
      "outputs": [
        {
          "output_type": "stream",
          "name": "stdout",
          "text": [
            "tensor([3.0000, 2.3000])\n"
          ]
        }
      ]
    },
    {
      "cell_type": "code",
      "source": [
        "# 2 x 4 크기, double 타입 1로 채워진 텐서\n",
        "\n",
        "x = x.new_ones(2, 4, dtype=torch.double)\n",
        "print(x)"
      ],
      "metadata": {
        "colab": {
          "base_uri": "https://localhost:8080/"
        },
        "id": "x5KXaoFg1Wjt",
        "outputId": "743f9ee8-efef-4ef7-eb95-11c0a73ce84b"
      },
      "execution_count": 6,
      "outputs": [
        {
          "output_type": "stream",
          "name": "stdout",
          "text": [
            "tensor([[1., 1., 1., 1.],\n",
            "        [1., 1., 1., 1.]], dtype=torch.float64)\n"
          ]
        }
      ]
    },
    {
      "cell_type": "code",
      "source": [
        "# 같은 크기, float 타입, 무작위로 채워진 텐서\n",
        "\n",
        "x = torch.randn_like(x, dtype=float)\n",
        "print(x)"
      ],
      "metadata": {
        "colab": {
          "base_uri": "https://localhost:8080/"
        },
        "id": "2OfPY8xZ16vx",
        "outputId": "93b13fcc-65b1-4ce8-cbfb-dd3d72f3c714"
      },
      "execution_count": 7,
      "outputs": [
        {
          "output_type": "stream",
          "name": "stdout",
          "text": [
            "tensor([[-0.7602,  0.1969,  0.1405,  0.4477],\n",
            "        [-0.6898, -1.3753, -1.4672,  0.4503]], dtype=torch.float64)\n"
          ]
        }
      ]
    },
    {
      "cell_type": "code",
      "source": [
        "# 텐서의 크기 계산\n",
        "\n",
        "print(x.size())"
      ],
      "metadata": {
        "colab": {
          "base_uri": "https://localhost:8080/"
        },
        "id": "nH0RcaZv2NzZ",
        "outputId": "90169000-4955-41b6-e287-7c54fc09dcc5"
      },
      "execution_count": 8,
      "outputs": [
        {
          "output_type": "stream",
          "name": "stdout",
          "text": [
            "torch.Size([2, 4])\n"
          ]
        }
      ]
    },
    {
      "cell_type": "code",
      "source": [
        "# 데이터 타입\n",
        "\n",
        "ft = torch.FloatTensor([1,2,3])\n",
        "print(ft)\n",
        "print(ft.dtype)"
      ],
      "metadata": {
        "colab": {
          "base_uri": "https://localhost:8080/"
        },
        "id": "nGVOyZ9J2bVD",
        "outputId": "5bf57f7c-befb-4823-eb90-1df199faeba5"
      },
      "execution_count": 9,
      "outputs": [
        {
          "output_type": "stream",
          "name": "stdout",
          "text": [
            "tensor([1., 2., 3.])\n",
            "torch.float32\n"
          ]
        }
      ]
    },
    {
      "cell_type": "code",
      "source": [
        "print(ft.short())\n",
        "print(ft.int())\n",
        "print(ft.long())"
      ],
      "metadata": {
        "colab": {
          "base_uri": "https://localhost:8080/"
        },
        "id": "N5htR-fP21VU",
        "outputId": "b9c39f8b-c657-43f1-a45e-47d0df7547bf"
      },
      "execution_count": 11,
      "outputs": [
        {
          "output_type": "stream",
          "name": "stdout",
          "text": [
            "tensor([1, 2, 3], dtype=torch.int16)\n",
            "tensor([1, 2, 3], dtype=torch.int32)\n",
            "tensor([1, 2, 3])\n"
          ]
        }
      ]
    },
    {
      "cell_type": "code",
      "source": [
        "it = torch.IntTensor([1,2,3])\n",
        "print(it)\n",
        "print(it.dtype)"
      ],
      "metadata": {
        "colab": {
          "base_uri": "https://localhost:8080/"
        },
        "id": "W4h-k7jM28UV",
        "outputId": "6e13ffcb-477d-4de8-ece2-6f73e05b099f"
      },
      "execution_count": 13,
      "outputs": [
        {
          "output_type": "stream",
          "name": "stdout",
          "text": [
            "tensor([1, 2, 3], dtype=torch.int32)\n",
            "torch.int32\n"
          ]
        }
      ]
    },
    {
      "cell_type": "code",
      "source": [
        "print(it.float())\n",
        "print(it.double())\n",
        "print(it.half())"
      ],
      "metadata": {
        "colab": {
          "base_uri": "https://localhost:8080/"
        },
        "id": "JVIhbwfB3HQB",
        "outputId": "17054b65-933c-4c4e-efa0-67a13658f69f"
      },
      "execution_count": 14,
      "outputs": [
        {
          "output_type": "stream",
          "name": "stdout",
          "text": [
            "tensor([1., 2., 3.])\n",
            "tensor([1., 2., 3.], dtype=torch.float64)\n",
            "tensor([1., 2., 3.], dtype=torch.float16)\n"
          ]
        }
      ]
    },
    {
      "cell_type": "markdown",
      "source": [
        "## CUDA Tensor\n",
        "- `.to` 메소드를 통해 텐서를 어떠한 장치 (cpu, gpu) 로도 옮길 수 있음"
      ],
      "metadata": {
        "id": "PjipeN7z3Vbz"
      }
    },
    {
      "cell_type": "code",
      "source": [
        "x = torch.randn(1)\n",
        "print(x)\n",
        "print(x.item())\n",
        "print(x.dtype)"
      ],
      "metadata": {
        "colab": {
          "base_uri": "https://localhost:8080/"
        },
        "id": "J5NZb9uL3RnB",
        "outputId": "420073d0-08ab-4fdb-bbe5-64a27d51d341"
      },
      "execution_count": 15,
      "outputs": [
        {
          "output_type": "stream",
          "name": "stdout",
          "text": [
            "tensor([-0.7466])\n",
            "-0.7465894818305969\n",
            "torch.float32\n"
          ]
        }
      ]
    },
    {
      "cell_type": "code",
      "source": [
        "device = torch.device('cuda' if torch.cuda.is_available() else 'cpu')\n",
        "print(f'현재의 디바이스 : {device}')\n",
        "y = torch.ones_like(x, device=device)\n",
        "print(y)\n",
        "x = x.to(device)\n",
        "print(x)\n",
        "z = x + y\n",
        "print(z)\n",
        "print(z.to('cpu', torch.double))\n",
        "print(z)"
      ],
      "metadata": {
        "colab": {
          "base_uri": "https://localhost:8080/"
        },
        "id": "hWAiUbaZ3rHt",
        "outputId": "8ccb309b-26a9-4b45-dd72-c3ccafd40aed"
      },
      "execution_count": 19,
      "outputs": [
        {
          "output_type": "stream",
          "name": "stdout",
          "text": [
            "현재의 디바이스 : cuda\n",
            "tensor([1.], device='cuda:0')\n",
            "tensor([-0.7466], device='cuda:0')\n",
            "tensor([0.2534], device='cuda:0')\n",
            "tensor([0.2534], dtype=torch.float64)\n",
            "tensor([0.2534], device='cuda:0')\n"
          ]
        }
      ]
    },
    {
      "cell_type": "markdown",
      "source": [
        "## 다차원 텐서 표현"
      ],
      "metadata": {
        "id": "V_F6OTJO5rdO"
      }
    },
    {
      "cell_type": "code",
      "source": [
        "# 0D Tensor\n",
        "# 하나의 숫자를 담고 있는 탠서\n",
        "# 축과 형상이 없음\n",
        "\n",
        "t0 = torch.tensor(0)\n",
        "print(t0.ndim)\n",
        "print(t0.shape)\n",
        "print(t0)"
      ],
      "metadata": {
        "colab": {
          "base_uri": "https://localhost:8080/"
        },
        "id": "IsHH06ER4ZWP",
        "outputId": "cb5f8eba-d4b5-4924-ea4e-9ff9dba6b611"
      },
      "execution_count": 21,
      "outputs": [
        {
          "output_type": "stream",
          "name": "stdout",
          "text": [
            "0\n",
            "torch.Size([])\n",
            "tensor(0)\n"
          ]
        }
      ]
    },
    {
      "cell_type": "code",
      "source": [
        "# 1D Tensor (Vector)\n",
        "# 값들을 저장한 리스트와 유사한 텐서\n",
        "# 하나의 축이 존재\n",
        "\n",
        "t1 = torch.tensor([1,2,3])\n",
        "print(t1.ndim) # 차원\n",
        "print(t1.shape)\n",
        "print(t1)"
      ],
      "metadata": {
        "colab": {
          "base_uri": "https://localhost:8080/"
        },
        "id": "ZL5csVLS55Vz",
        "outputId": "dc775b7b-e71c-4ebe-81f9-ea86b5813fbc"
      },
      "execution_count": 22,
      "outputs": [
        {
          "output_type": "stream",
          "name": "stdout",
          "text": [
            "1\n",
            "torch.Size([3])\n",
            "tensor([1, 2, 3])\n"
          ]
        }
      ]
    },
    {
      "cell_type": "code",
      "source": [
        "# 2D Tensor (Matrix)\n",
        "# 행렬과 같은 모양으로 두개의 축이 존재\n",
        "# 일반적인 수치, 통계 데이터셋이 해당\n",
        "# 주로 샘플(Samples)과 특성(Features)을가진 구조로 사용\n",
        "\n",
        "t2 = torch.tensor([[1,2,3],\n",
        "                  [4,5,6],\n",
        "                  [7,8,9]])\n",
        "print(t2.ndim) # 차원\n",
        "print(t2.shape)\n",
        "print(t2)"
      ],
      "metadata": {
        "colab": {
          "base_uri": "https://localhost:8080/"
        },
        "id": "Uy3eb2r46M3n",
        "outputId": "cefe664b-05c8-4c95-cc31-4dc9da5d9689"
      },
      "execution_count": 24,
      "outputs": [
        {
          "output_type": "stream",
          "name": "stdout",
          "text": [
            "2\n",
            "torch.Size([3, 3])\n",
            "tensor([[1, 2, 3],\n",
            "        [4, 5, 6],\n",
            "        [7, 8, 9]])\n"
          ]
        }
      ]
    },
    {
      "cell_type": "code",
      "source": [
        "# 3D Tensor\n",
        "# 큐브(cube)와 같은 모양으로 세개의 축이 존재\n",
        "# 데이터가 연속된 시퀀스 데이터나 시가 축이 포함된 시계열 데이터에 해당\n",
        "# 주식 가격 데이터셋, 시간에 따른 질병 발병 데이터 등이 존재\n",
        "# 주로 샘플(Samples), 타임스템(Timesteps), 특성(Features)을 가진 구조로 사용\n",
        "\n",
        "t3 = torch.tensor([[[1,2,3],\n",
        "                  [4,5,6],\n",
        "                  [7,8,9]],\n",
        "                   [[1,2,3],\n",
        "                  [4,5,6],\n",
        "                  [7,8,9]],\n",
        "                   [[1,2,3],\n",
        "                  [4,5,6],\n",
        "                  [7,8,9]]])\n",
        "print(t3.ndim) # 차원\n",
        "print(t3.shape)\n",
        "print(t3)"
      ],
      "metadata": {
        "colab": {
          "base_uri": "https://localhost:8080/"
        },
        "id": "HqZ9v9A063OC",
        "outputId": "9a5f5d47-5924-42f4-998b-a134fee2519a"
      },
      "execution_count": 25,
      "outputs": [
        {
          "output_type": "stream",
          "name": "stdout",
          "text": [
            "3\n",
            "torch.Size([3, 3, 3])\n",
            "tensor([[[1, 2, 3],\n",
            "         [4, 5, 6],\n",
            "         [7, 8, 9]],\n",
            "\n",
            "        [[1, 2, 3],\n",
            "         [4, 5, 6],\n",
            "         [7, 8, 9]],\n",
            "\n",
            "        [[1, 2, 3],\n",
            "         [4, 5, 6],\n",
            "         [7, 8, 9]]])\n"
          ]
        }
      ]
    },
    {
      "cell_type": "code",
      "source": [
        "# 4D Tensor\n",
        "# 4개의 축\n",
        "# 컬러 이미지 데이터가 대표적인 사례 (흑백 이미지 데이터는 3D Tensor로 가능)\n",
        "# 주로 샘플(samples), 높이(height), 너비(width), 컬러 채널(channel)을 가진 구조로 사용\n",
        "\n",
        "t4 = torch.tensor([[[[1,2,3],\n",
        "                  [4,5,6],\n",
        "                  [7,8,9]],\n",
        "                  [[1,2,3],\n",
        "                  [4,5,6],\n",
        "                  [7,8,9]]],\n",
        "                  [[[1,2,3],\n",
        "                  [4,5,6],\n",
        "                  [7,8,9]],\n",
        "                  [[1,2,3],\n",
        "                  [4,5,6],\n",
        "                  [7,8,9]]]])\n",
        "print(t4.ndim)\n",
        "print(t4.shape)\n",
        "print(t4)"
      ],
      "metadata": {
        "colab": {
          "base_uri": "https://localhost:8080/"
        },
        "id": "ojgVtQEk71k4",
        "outputId": "d41578d2-f359-407d-ba71-d76736af3046"
      },
      "execution_count": 28,
      "outputs": [
        {
          "output_type": "stream",
          "name": "stdout",
          "text": [
            "4\n",
            "torch.Size([2, 2, 3, 3])\n",
            "tensor([[[[1, 2, 3],\n",
            "          [4, 5, 6],\n",
            "          [7, 8, 9]],\n",
            "\n",
            "         [[1, 2, 3],\n",
            "          [4, 5, 6],\n",
            "          [7, 8, 9]]],\n",
            "\n",
            "\n",
            "        [[[1, 2, 3],\n",
            "          [4, 5, 6],\n",
            "          [7, 8, 9]],\n",
            "\n",
            "         [[1, 2, 3],\n",
            "          [4, 5, 6],\n",
            "          [7, 8, 9]]]])\n"
          ]
        }
      ]
    },
    {
      "cell_type": "code",
      "source": [
        "# 5D Tensor\n",
        "# 5개의 축\n",
        "# 비디오데이터가 대표적인 사례\n",
        "# 주로 샘플(samples), 프레임(Frames), 높이(height), 너비(width), 컬러 채널(channel)을 가진 구조로 사용\n",
        "\n",
        "t5 = torch.tensor([[[[[1,2,3],\n",
        "                  [4,5,6],\n",
        "                  [7,8,9]],\n",
        "                  [[1,2,3],\n",
        "                  [4,5,6],\n",
        "                  [7,8,9]]],\n",
        "                  [[[1,2,3],\n",
        "                  [4,5,6],\n",
        "                  [7,8,9]],\n",
        "                  [[1,2,3],\n",
        "                  [4,5,6],\n",
        "                  [7,8,9]]]],\n",
        "                  [[[[1,2,3],\n",
        "                  [4,5,6],\n",
        "                  [7,8,9]],\n",
        "                  [[1,2,3],\n",
        "                  [4,5,6],\n",
        "                  [7,8,9]]],\n",
        "                  [[[1,2,3],\n",
        "                  [4,5,6],\n",
        "                  [7,8,9]],\n",
        "                  [[1,2,3],\n",
        "                  [4,5,6],\n",
        "                  [7,8,9]]]]])\n",
        "print(t5.ndim)\n",
        "print(t5.shape)\n",
        "print(t5)"
      ],
      "metadata": {
        "colab": {
          "base_uri": "https://localhost:8080/"
        },
        "id": "EM7tjTqF9nPc",
        "outputId": "29ef8299-4561-42ba-932c-9a1e38aa01e7"
      },
      "execution_count": 29,
      "outputs": [
        {
          "output_type": "stream",
          "name": "stdout",
          "text": [
            "5\n",
            "torch.Size([2, 2, 2, 3, 3])\n",
            "tensor([[[[[1, 2, 3],\n",
            "           [4, 5, 6],\n",
            "           [7, 8, 9]],\n",
            "\n",
            "          [[1, 2, 3],\n",
            "           [4, 5, 6],\n",
            "           [7, 8, 9]]],\n",
            "\n",
            "\n",
            "         [[[1, 2, 3],\n",
            "           [4, 5, 6],\n",
            "           [7, 8, 9]],\n",
            "\n",
            "          [[1, 2, 3],\n",
            "           [4, 5, 6],\n",
            "           [7, 8, 9]]]],\n",
            "\n",
            "\n",
            "\n",
            "        [[[[1, 2, 3],\n",
            "           [4, 5, 6],\n",
            "           [7, 8, 9]],\n",
            "\n",
            "          [[1, 2, 3],\n",
            "           [4, 5, 6],\n",
            "           [7, 8, 9]]],\n",
            "\n",
            "\n",
            "         [[[1, 2, 3],\n",
            "           [4, 5, 6],\n",
            "           [7, 8, 9]],\n",
            "\n",
            "          [[1, 2, 3],\n",
            "           [4, 5, 6],\n",
            "           [7, 8, 9]]]]])\n"
          ]
        }
      ]
    },
    {
      "cell_type": "code",
      "source": [
        "# 텐서의 연산\n",
        "# 텐서에 대한 수학연산, 삼각함수, 비트연산, 비교 연산, 집계 등 제공\n",
        "\n",
        "import math\n",
        "\n",
        "a = torch.rand(1,2) * 2 - 1\n",
        "print(a)\n",
        "print(torch.abs(a))\n",
        "print(torch.ceil(a))\n",
        "print(torch.floor(a))\n",
        "print(torch.clamp(a, -0.5, 0.5))"
      ],
      "metadata": {
        "colab": {
          "base_uri": "https://localhost:8080/"
        },
        "id": "msIb8eNN-dMC",
        "outputId": "c8d280dc-8237-4131-a8b5-a48399dba17a"
      },
      "execution_count": 32,
      "outputs": [
        {
          "output_type": "stream",
          "name": "stdout",
          "text": [
            "tensor([[0.5582, 0.8293]])\n",
            "tensor([[0.5582, 0.8293]])\n",
            "tensor([[1., 1.]])\n",
            "tensor([[0., 0.]])\n",
            "tensor([[0.5000, 0.5000]])\n"
          ]
        }
      ]
    },
    {
      "cell_type": "code",
      "source": [],
      "metadata": {
        "id": "zjJJm-Ea_DkW"
      },
      "execution_count": null,
      "outputs": []
    }
  ]
}