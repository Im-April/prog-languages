{
  "nbformat": 4,
  "nbformat_minor": 0,
  "metadata": {
    "colab": {
      "provenance": []
    },
    "kernelspec": {
      "name": "python3",
      "display_name": "Python 3"
    },
    "language_info": {
      "name": "python"
    }
  },
  "cells": [
    {
      "cell_type": "code",
      "execution_count": null,
      "metadata": {
        "colab": {
          "base_uri": "https://localhost:8080/",
          "height": 36
        },
        "id": "qEeW6EK60c7g",
        "outputId": "a217b59d-b145-49cc-93bf-2cfa4db2a2b4"
      },
      "outputs": [
        {
          "output_type": "execute_result",
          "data": {
            "text/plain": [
              "\"\\n여러 줄 주석입니다.\\nprint('hello world')\\nfor i in range(1,10) : \\n  print(i)\\n\""
            ],
            "application/vnd.google.colaboratory.intrinsic+json": {
              "type": "string"
            }
          },
          "metadata": {},
          "execution_count": 1
        }
      ],
      "source": [
        "# 주석문 작성하기\n",
        "\n",
        "# 이것은 한 줄 주석입니다.\n",
        "# 주석은 해석되지 않습니다.\n",
        "# 소스에 대한 설명글을 작성할 때 사용합니다.\n",
        "\n",
        "'''\n",
        "여러 줄 주석입니다.\n",
        "print('hello world')\n",
        "for i in range(1,10) :\n",
        "  print(i)\n",
        "'''"
      ]
    },
    {
      "cell_type": "code",
      "source": [
        "# 파이썬 문자열 출력\n",
        "\n",
        "print(f'당신의 나이는 {3}살 입니다.')\n",
        "print('당신의 나이는' , 3 ,'살 입니다.')\n",
        "print('당신의 나이는 ' + str(3) + ' 살 입니다.')"
      ],
      "metadata": {
        "colab": {
          "base_uri": "https://localhost:8080/"
        },
        "id": "xW9juoD23LMM",
        "outputId": "7b3af2de-5720-47b3-9fac-2eab6ef6b792"
      },
      "execution_count": null,
      "outputs": [
        {
          "output_type": "stream",
          "name": "stdout",
          "text": [
            "당신의 나이는 3살 입니다.\n",
            "당신의 나이는 3 살 입니다.\n",
            "당신의 나이는 3 살 입니다.\n"
          ]
        }
      ]
    },
    {
      "cell_type": "code",
      "source": [
        "# 문자열 포맷을 이용한 문자열 처리\n",
        "\n",
        "print(\"당신의 나이는 %d세 입니다.\" % 3)\n",
        "print(\"%s님의 나이는 %d세 입니다.\" % ('홍길동', 3))"
      ],
      "metadata": {
        "colab": {
          "base_uri": "https://localhost:8080/"
        },
        "id": "Z72zcBmo4e6J",
        "outputId": "3e82e4b0-77cb-4ae5-811c-3eaf486906be"
      },
      "execution_count": null,
      "outputs": [
        {
          "output_type": "stream",
          "name": "stdout",
          "text": [
            "당신의 나이는 3세 입니다.\n",
            "홍길동님의 나이는 3세 입니다.\n"
          ]
        }
      ]
    },
    {
      "cell_type": "code",
      "source": [
        "# 문자열 format 메소드를 이용한 문자열 처리\n",
        "\n",
        "print(\"당신의 나이는 {}세 입니다.\".format(3))\n",
        "print(\"{1}님의 나이는 {0}세 입니다.\".format(3, '홍길동'))\n",
        "print(\"{:-^30}\".format('제목')) # ^ 가운데\n",
        "print(\"{:-<30}\".format('좌측'))\n",
        "print(\"{:->30}\".format('우측'))"
      ],
      "metadata": {
        "colab": {
          "base_uri": "https://localhost:8080/"
        },
        "id": "WRrnlnm85kav",
        "outputId": "e9c767db-1486-4258-812e-aaf201e0d8ab"
      },
      "execution_count": null,
      "outputs": [
        {
          "output_type": "stream",
          "name": "stdout",
          "text": [
            "당신의 나이는 3세 입니다.\n",
            "홍길동님의 나이는 3세 입니다.\n",
            "--------------제목--------------\n",
            "좌측----------------------------\n",
            "----------------------------우측\n"
          ]
        }
      ]
    }
  ]
}