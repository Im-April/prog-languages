{
  "nbformat": 4,
  "nbformat_minor": 0,
  "metadata": {
    "colab": {
      "provenance": []
    },
    "kernelspec": {
      "name": "python3",
      "display_name": "Python 3"
    },
    "language_info": {
      "name": "python"
    }
  },
  "cells": [
    {
      "cell_type": "code",
      "execution_count": 3,
      "metadata": {
        "colab": {
          "base_uri": "https://localhost:8080/"
        },
        "id": "q-bj5jd8HPUJ",
        "outputId": "3c5111be-2363-476e-c89d-52a23bf8f0e5"
      },
      "outputs": [
        {
          "output_type": "stream",
          "name": "stdout",
          "text": [
            "# 기본 입력받기\n",
            "김철수\n",
            "김철수\n"
          ]
        }
      ],
      "source": [
        "print('# 기본 입력받기')\n",
        "name = input()\n",
        "print(name)"
      ]
    },
    {
      "cell_type": "code",
      "source": [
        "print('-----안내 메시지와 함께 입력받기-----')\n",
        "name = input('이름을 입력하세요: ')\n",
        "print(f'안녕하세요, {name}님')"
      ],
      "metadata": {
        "colab": {
          "base_uri": "https://localhost:8080/"
        },
        "id": "4iVLkXZWIkhS",
        "outputId": "c31ddc31-5aec-417a-90be-b1c5abfc3fcd"
      },
      "execution_count": 6,
      "outputs": [
        {
          "output_type": "stream",
          "name": "stdout",
          "text": [
            "-----안내 메시지와 함께 입력받기-----\n",
            "이름을 입력하세요: 김철수\n",
            "안녕하세요, 김철수님\n"
          ]
        }
      ]
    },
    {
      "cell_type": "code",
      "source": [
        "say_hello = input('인사말을 입력하세요 : ')\n",
        "print(say_hello)"
      ],
      "metadata": {
        "colab": {
          "base_uri": "https://localhost:8080/"
        },
        "id": "UH71KsZxH3tP",
        "outputId": "6e3c2f3f-4885-4fa6-8973-2552f7f15dff"
      },
      "execution_count": 5,
      "outputs": [
        {
          "output_type": "stream",
          "name": "stdout",
          "text": [
            "인사말을 입력하세요 : 안녕하십니까\n",
            "안녕하십니까\n"
          ]
        }
      ]
    },
    {
      "cell_type": "code",
      "source": [
        "print('-----input 함수 자료형-----')\n",
        "age = input('나이를 입력하세요: ')\n",
        "print(type(age))\n",
        "print(age + '살')"
      ],
      "metadata": {
        "colab": {
          "base_uri": "https://localhost:8080/"
        },
        "id": "E3eRIcyPI4mC",
        "outputId": "658144be-ca20-452e-c9c3-3f34a1b7913a"
      },
      "execution_count": 7,
      "outputs": [
        {
          "output_type": "stream",
          "name": "stdout",
          "text": [
            "-----input 함수 자료형-----\n",
            "나이를 입력하세요: 22\n",
            "<class 'str'>\n",
            "22살\n"
          ]
        }
      ]
    },
    {
      "cell_type": "code",
      "source": [
        "height = float(input(\"키를 입력하세요(cm): \"))\n",
        "print(f\"입력한 키: {height}cm\")"
      ],
      "metadata": {
        "colab": {
          "base_uri": "https://localhost:8080/"
        },
        "id": "_ZchjaR7J7sc",
        "outputId": "25eb03a8-44c9-4d54-ada4-bfeea0e75c38"
      },
      "execution_count": 9,
      "outputs": [
        {
          "output_type": "stream",
          "name": "stdout",
          "text": [
            "키를 입력하세요(cm): 160.3\n",
            "입력한 키: 160.3cm\n"
          ]
        }
      ]
    },
    {
      "cell_type": "code",
      "source": [
        "number = input('숫자를 입력하세요 : ')\n",
        "print(number)\n",
        "print(type)"
      ],
      "metadata": {
        "colab": {
          "base_uri": "https://localhost:8080/"
        },
        "id": "qU0YYVXBJI39",
        "outputId": "38d41b9e-5a85-4be6-9584-473ddc3af8ed"
      },
      "execution_count": 8,
      "outputs": [
        {
          "output_type": "stream",
          "name": "stdout",
          "text": [
            "숫자를 입력하세요 : 123\n",
            "123\n",
            "<class 'str'>\n"
          ]
        }
      ]
    },
    {
      "cell_type": "code",
      "source": [
        "print('-----타입 변수-----')\n",
        "\n",
        "# 숫자 입력받기\n",
        "age_str = input('나이를 입력하세요 : ')\n",
        "age = int(age_str)\n",
        "print(f'10년 후 나이 : {age + 10}살')\n",
        "\n",
        "# 한 줄로 작성\n",
        "# age = int(input('나이를 입력하세요: '))"
      ],
      "metadata": {
        "colab": {
          "base_uri": "https://localhost:8080/"
        },
        "id": "nz3enTDYJ_eV",
        "outputId": "4609b73c-1620-4e1b-ad30-b3e2ebc99014"
      },
      "execution_count": 11,
      "outputs": [
        {
          "output_type": "stream",
          "name": "stdout",
          "text": [
            "-----타입 변수-----\n",
            "나이를 입력하세요 : 23\n",
            "10년 후 나이 : 33살\n"
          ]
        }
      ]
    },
    {
      "cell_type": "code",
      "source": [
        "string_a = input(\"입력: \")\n",
        "int_a = int(string_a)\n",
        "\n",
        "string_b = input('입력: ')\n",
        "int_b = int(string_b)\n",
        "\n",
        "print(f'문자열 자료 : {string_a} {string_b}')\n",
        "print(f'숫자 자료 : {int_a} {int_b}')"
      ],
      "metadata": {
        "colab": {
          "base_uri": "https://localhost:8080/"
        },
        "id": "-C3BE8sCKz3o",
        "outputId": "c841e5c6-e313-4348-a897-94099868b6e5"
      },
      "execution_count": 13,
      "outputs": [
        {
          "output_type": "stream",
          "name": "stdout",
          "text": [
            "입력: 1\n",
            "입력: 2\n",
            "문자열 자료 : 1 2\n",
            "숫자 자료 : 1 2\n"
          ]
        }
      ]
    },
    {
      "cell_type": "code",
      "source": [
        "output_a = int('53')\n",
        "output_b = float(\"5.5\")\n",
        "\n",
        "print(type(output_a), output_a)\n",
        "print(type(output_b), output_b)"
      ],
      "metadata": {
        "colab": {
          "base_uri": "https://localhost:8080/"
        },
        "id": "2ZGkUrZ4Lh6u",
        "outputId": "6d020c4f-7834-499c-808f-f7ce5e60afbd"
      },
      "execution_count": 14,
      "outputs": [
        {
          "output_type": "stream",
          "name": "stdout",
          "text": [
            "<class 'int'> 53\n",
            "<class 'float'> 5.5\n"
          ]
        }
      ]
    },
    {
      "cell_type": "code",
      "source": [
        "print('-----여러 값 한번에 입력-----')\n",
        "\n",
        "numbers = input('숫자 3개를 공백으로 구분해서 입력하세요: ')\n",
        "a,b,c = numbers.split() # 문자열로 분리\n",
        "a,b,c = int(a), int(b), int(c) # 정수로 변환\n",
        "print(f'합계 : {a+b+c}')"
      ],
      "metadata": {
        "colab": {
          "base_uri": "https://localhost:8080/"
        },
        "id": "qaHD3fCtL5jm",
        "outputId": "77dd871c-3205-4bef-8f76-0eaaaaebd686"
      },
      "execution_count": 15,
      "outputs": [
        {
          "output_type": "stream",
          "name": "stdout",
          "text": [
            "-----여러 값 한번에 입력-----\n",
            "숫자 3개를 공백으로 구분해서 입력하세요: 1 2 3\n",
            "합계 : 6\n"
          ]
        }
      ]
    },
    {
      "cell_type": "code",
      "source": [
        "# 더 간단하게\n",
        "a, b, c = map(int, input(\"숫자 3개 입력: \").split())\n",
        "print(f\"합계: {a + b + c}\")"
      ],
      "metadata": {
        "colab": {
          "base_uri": "https://localhost:8080/"
        },
        "id": "CgIhNLNRNFEU",
        "outputId": "b80bf964-dc7d-42fd-9f88-759f7659b045"
      },
      "execution_count": 16,
      "outputs": [
        {
          "output_type": "stream",
          "name": "stdout",
          "text": [
            "숫자 3개 입력: 5 6 7\n",
            "합계: 18\n"
          ]
        }
      ]
    },
    {
      "cell_type": "code",
      "source": [
        "print('# 실용적인 예시들')\n",
        "print('-----1. 간단한 계산기-----')\n",
        "\n",
        "first_num = float(input('숫자를 입력하세요: '))\n",
        "second_num = float(input('숫자를 입력하세요: '))\n",
        "operator = input('연산자(+,-,*,/)')\n",
        "\n",
        "if operator == '+':\n",
        "  result = first_num + second_num\n",
        "elif operator == '-':\n",
        "  result = first_num - second_num\n",
        "elif operator == '*':\n",
        "  result = first_num * second_num\n",
        "elif operator == '/':\n",
        "  result = first_num / second_num\n",
        "else:\n",
        "  print('잘못된 연산자입니다.')\n",
        "\n",
        "print(f'{first_num} {operator} {second_num} = {result}')"
      ],
      "metadata": {
        "colab": {
          "base_uri": "https://localhost:8080/"
        },
        "id": "RRv4PLtwNSRH",
        "outputId": "d47953a9-6510-48a0-d22c-03468225f084"
      },
      "execution_count": 17,
      "outputs": [
        {
          "output_type": "stream",
          "name": "stdout",
          "text": [
            "# 실용적인 예시들\n",
            "-----1. 간단한 계산기-----\n",
            "숫자를 입력하세요: 4\n",
            "숫자를 입력하세요: 2\n",
            "연산자(+,-,*,/)*\n",
            "4.0 * 2.0 = 8.0\n"
          ]
        }
      ]
    },
    {
      "cell_type": "code",
      "source": [
        "print('-----2. 개인정보 입력 프로그램-----')\n",
        "name = input('이름을 입력하세요: ')\n",
        "age = int(input('나이를 입력하세요: '))\n",
        "email = input('이메일을 입력하세요: ')\n",
        "phone = input('전화번호를 입력하세요: ')\n",
        "\n",
        "print(\"\\n=== 입력하신 정보 ===\")\n",
        "print(f\"이름: {name}\")\n",
        "print(f\"나이: {age}살\")\n",
        "print(f\"이메일: {email}\")\n",
        "print(f\"전화번호: {phone}\")"
      ],
      "metadata": {
        "colab": {
          "base_uri": "https://localhost:8080/"
        },
        "id": "EwSTPuyGOTbj",
        "outputId": "e88a4c50-393c-4029-b761-6ebd4cfa6a63"
      },
      "execution_count": 18,
      "outputs": [
        {
          "output_type": "stream",
          "name": "stdout",
          "text": [
            "-----2. 개인정보 입력 프로그램-----\n",
            "이름을 입력하세요: 김민수\n",
            "나이를 입력하세요: 12\n",
            "이메일을 입력하세요: minsu@mail.com\n",
            "전화번호를 입력하세요: 010-123-123\n",
            "\n",
            "=== 입력하신 정보 ===\n",
            "이름: 김민수\n",
            "나이: 12살\n",
            "이메일: minsu@mail.com\n",
            "전화번호: 010-123-123\n"
          ]
        }
      ]
    },
    {
      "cell_type": "code",
      "source": [
        "print('-----3. 성적 계산기 프로그램-----')\n",
        "student_name = input(\"학생 이름: \")\n",
        "korean = int(input(\"국어 점수: \"))\n",
        "english = int(input(\"영어 점수: \"))\n",
        "math = int(input(\"수학 점수: \"))\n",
        "\n",
        "total = korean + english + math\n",
        "average = total / 3\n",
        "\n",
        "print(f'{student_name}학생의 성적')\n",
        "print(f'총점 : {total}점')\n",
        "print(f'평균 : {average}점')\n",
        "\n",
        "if average >= 90 :\n",
        "   grade = 'A'\n",
        "elif average >= 80 :\n",
        "   grade = 'B'\n",
        "elif average >= 70 :\n",
        "   grade = 'C'\n",
        "elif average >= 60 :\n",
        "   grade = 'D'\n",
        "else :\n",
        "   grade = 'F'\n",
        "\n",
        "print(f'학점 : {grade}')"
      ],
      "metadata": {
        "colab": {
          "base_uri": "https://localhost:8080/"
        },
        "id": "De_B6V7-OyYD",
        "outputId": "2a5ddddb-0316-4190-fadc-c6ee9ac0b5ab"
      },
      "execution_count": 19,
      "outputs": [
        {
          "output_type": "stream",
          "name": "stdout",
          "text": [
            "-----3. 성적 계산기 프로그램-----\n",
            "학생 이름: 김민수\n",
            "국어 점수: 84\n",
            "영어 점수: 90\n",
            "수학 점수: 82\n",
            "김민수학생의 성적\n",
            "총점 : 256점\n",
            "평균 : 85.33333333333333점\n",
            "학점 : B\n"
          ]
        }
      ]
    },
    {
      "cell_type": "code",
      "source": [
        "print('# 입력 오류 처리')\n",
        "try:\n",
        "  age = int(input('나이를 입력하세요: '))\n",
        "  print(f'입력하신 나이 : {age}살')\n",
        "\n",
        "except ValueError:\n",
        "  print('숫자를 입력해주세요!')"
      ],
      "metadata": {
        "colab": {
          "base_uri": "https://localhost:8080/"
        },
        "id": "0bxW7WUCOrVD",
        "outputId": "fa681add-13ee-497d-c37a-7169f3bbec28"
      },
      "execution_count": 20,
      "outputs": [
        {
          "output_type": "stream",
          "name": "stdout",
          "text": [
            "# 입력 오류 처리\n",
            "나이를 입력하세요: ㅑㅑ\n",
            "숫자를 입력해주세요!\n"
          ]
        }
      ]
    },
    {
      "cell_type": "code",
      "source": [
        "print('-----반복해서 올바른 입력 받기-----')\n",
        "\n",
        "while True:\n",
        "  try:\n",
        "    age = int(input('나이를 입력하세요: '))\n",
        "    if age < 0 :\n",
        "      print('양수를 입력하세요: ')\n",
        "      continue\n",
        "    break\n",
        "  except ValueError:\n",
        "    print('숫자를 입력해주세요!')\n",
        "\n",
        "print(f'입력하신 나이 : {age}살')\n"
      ],
      "metadata": {
        "colab": {
          "base_uri": "https://localhost:8080/"
        },
        "id": "dkbJovTzPsK3",
        "outputId": "b6663c30-a509-4111-ec51-c1d563625a79"
      },
      "execution_count": 22,
      "outputs": [
        {
          "output_type": "stream",
          "name": "stdout",
          "text": [
            "-----반복해서 올바른 입력 받기-----\n",
            "나이를 입력하세요: -1\n",
            "양수를 입력하세요: \n",
            "나이를 입력하세요: -2\n",
            "양수를 입력하세요: \n",
            "나이를 입력하세요: dd\n",
            "숫자를 입력해주세요!\n",
            "나이를 입력하세요: 22\n",
            "입력하신 나이 : 22살\n"
          ]
        }
      ]
    }
  ]
}