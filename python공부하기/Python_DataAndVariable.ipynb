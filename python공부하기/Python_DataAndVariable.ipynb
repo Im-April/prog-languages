{
  "nbformat": 4,
  "nbformat_minor": 0,
  "metadata": {
    "colab": {
      "provenance": []
    },
    "kernelspec": {
      "name": "python3",
      "display_name": "Python 3"
    },
    "language_info": {
      "name": "python"
    }
  },
  "cells": [
    {
      "cell_type": "code",
      "execution_count": null,
      "metadata": {
        "colab": {
          "base_uri": "https://localhost:8080/"
        },
        "id": "_HTu38cU7Dna",
        "outputId": "4e78edd2-4a9f-4343-c72b-afafc57563f1"
      },
      "outputs": [
        {
          "output_type": "stream",
          "name": "stdout",
          "text": [
            ":::나는 65세까지 몇년 남았을까 .. ? :::\n",
            "성명 입력 : 마루집사\n",
            "나이 입력 : 27\n",
            "-----------입력 정보 확인-----------\n",
            "마루집사님은 65세까지 38년 남았습니다.\n"
          ]
        }
      ],
      "source": [
        "print(\":::나는 65세까지 몇년 남았을까 .. ? :::\")\n",
        "\n",
        "user = input('성명 입력 : ')\n",
        "age = int(input('나이 입력 : '))\n",
        "futureAge = 65 - age\n",
        "\n",
        "print(\"{:-^30}\".format('입력 정보 확인'))\n",
        "print(f'{user}님은 65세까지 {futureAge}년 남았습니다.')"
      ]
    },
    {
      "cell_type": "code",
      "source": [
        "height = 160\n",
        "name = '리바이'\n",
        "print(f\"{name}님은 키가 {height}cm 입니다.\")"
      ],
      "metadata": {
        "colab": {
          "base_uri": "https://localhost:8080/"
        },
        "id": "BWXcixnr8bBP",
        "outputId": "1d240272-4260-4442-a714-8802d5f3b8e6"
      },
      "execution_count": null,
      "outputs": [
        {
          "output_type": "stream",
          "name": "stdout",
          "text": [
            "리바이님은 키가 160cm 입니다.\n"
          ]
        }
      ]
    },
    {
      "cell_type": "code",
      "source": [
        "# math 모듈에 정의된 상수들\n",
        "\n",
        "import math\n",
        "\n",
        "pi = math.pi\n",
        "print(f\"pi => {pi}\")\n",
        "\n",
        "# 자연 로그의 밑 e 상수\n",
        "e = math.e\n",
        "print(f\"e => {e}\")"
      ],
      "metadata": {
        "colab": {
          "base_uri": "https://localhost:8080/"
        },
        "id": "ixUX9Rpu8uFu",
        "outputId": "b89b4ec6-b4b9-4dd0-bf4c-abf8ed42ee58"
      },
      "execution_count": null,
      "outputs": [
        {
          "output_type": "stream",
          "name": "stdout",
          "text": [
            "pi => 3.141592653589793\n",
            "e => 2.718281828459045\n"
          ]
        }
      ]
    },
    {
      "cell_type": "code",
      "source": [
        "# 변수를 선언하고 데이터 초기화\n",
        "\n",
        "name = 'Python'\n",
        "age = 29\n",
        "\n",
        "# 변수에 담긴 데이터 사용\n",
        "print(f'성명은 {name} 입니다.')\n",
        "print(f'나이는 {age}살 입니다')"
      ],
      "metadata": {
        "colab": {
          "base_uri": "https://localhost:8080/"
        },
        "id": "NWRiOzG1ATQ9",
        "outputId": "46c6e56e-c55a-4d49-dbd9-4be95cbdeff6"
      },
      "execution_count": null,
      "outputs": [
        {
          "output_type": "stream",
          "name": "stdout",
          "text": [
            "성명은 Python 입니다.\n",
            "나이는 29살 입니다\n"
          ]
        }
      ]
    },
    {
      "cell_type": "code",
      "source": [
        "# 변수 선언과 동시에 데이터 초기화\n",
        "name = 'JAVA'\n",
        "age = 25\n",
        "\n",
        "# 선언된 변수에 새로운 데이터 입력\n",
        "name = 'PYTHON'\n",
        "age = 29\n",
        "\n",
        "# 변수에 담긴 데이터 사용\n",
        "print(f'성함은 {name} 입니다.')\n",
        "print(f'나이는 {age}살 입니다.')"
      ],
      "metadata": {
        "colab": {
          "base_uri": "https://localhost:8080/"
        },
        "id": "0slhlMKFA50a",
        "outputId": "17cae867-8634-4e10-9066-f8576195b829"
      },
      "execution_count": null,
      "outputs": [
        {
          "output_type": "stream",
          "name": "stdout",
          "text": [
            "성함은 PYTHON 입니다.\n",
            "나이는 29살 입니다.\n"
          ]
        }
      ]
    },
    {
      "cell_type": "code",
      "source": [
        "# input 합수로 문자열 입력받기\n",
        "\n",
        "user_name = input('사용자 이름 입력 : ')\n",
        "print(f'입력받은 사용자 이름 => {user_name}')\n",
        "\n",
        "# input 함수는 문자열 입력 가능. 수치 자료는 입력 데이터를 형변환 해야 함\n",
        "age = input('나이를 입력하세요 : ')\n",
        "print(f'형변환 전 : {type(age)}')\n",
        "age = int(age)\n",
        "print(f'형변환 후 : {type(age)}')"
      ],
      "metadata": {
        "colab": {
          "base_uri": "https://localhost:8080/"
        },
        "id": "EEZolQVfBoQE",
        "outputId": "819b27be-5e42-42f6-b61d-f62e0376bcb3"
      },
      "execution_count": null,
      "outputs": [
        {
          "output_type": "stream",
          "name": "stdout",
          "text": [
            "사용자 이름 입력 : 마루집사\n",
            "입력받은 사용자 이름 => 마루집사\n",
            "나이를 입력하세요 : 12\n",
            "형변환 전 : <class 'str'>\n",
            "형변환 후 : <class 'int'>\n"
          ]
        }
      ]
    },
    {
      "cell_type": "code",
      "source": [
        "# 문자열 데이터 입력\n",
        "\n",
        "# 키보드로부터 데이터 입력받기\n",
        "user_name = input('사용자 이름 입력 : ')\n",
        "\n",
        "# 변수에 입력된 내용 출력\n",
        "print(f'입력된 사용자 이름 : {user_name}')"
      ],
      "metadata": {
        "colab": {
          "base_uri": "https://localhost:8080/"
        },
        "id": "oF3Lfx3jCu6z",
        "outputId": "2139371c-0bd5-4691-d1b5-4af3a95beceb"
      },
      "execution_count": null,
      "outputs": [
        {
          "output_type": "stream",
          "name": "stdout",
          "text": [
            "사용자 이름 입력 : 마루집사\n",
            "입력된 사용자 이름 : 마루집사\n"
          ]
        }
      ]
    },
    {
      "cell_type": "code",
      "source": [
        "# input 데이터로 입력받은 것은 무조건 문자열 타입\n",
        "# 숫자 타입은 int()함수 또는 float()함수로 형 변환 해야합니다\n",
        "\n",
        "num1 = input('num1 입력 : ')\n",
        "print(type(num1))\n",
        "\n",
        "# 정수 두 개를 키보드로 입력받아서 더하는 프로그램\n",
        "a = int(input('정수 a 입력 : '))\n",
        "b = int(input('정수 b 입력 : '))\n",
        "print(f'a + b = {a+b}')"
      ],
      "metadata": {
        "id": "ru3L19soDNv8",
        "colab": {
          "base_uri": "https://localhost:8080/"
        },
        "outputId": "fac99307-c898-49c2-b074-ffbb4c19ae09"
      },
      "execution_count": null,
      "outputs": [
        {
          "output_type": "stream",
          "name": "stdout",
          "text": [
            "num1 입력 : 1\n",
            "<class 'str'>\n",
            "정수 a 입력 : 2\n",
            "정수 b 입력 : 3\n",
            "a + b = 5\n"
          ]
        }
      ]
    },
    {
      "cell_type": "code",
      "source": [
        "# 파이썬 언어에서 변수 타입은 입력되는 데이터의 타입으로 결정\n",
        "# 변수에는 어떤 타입이든 담을 수 있음\n",
        "\n",
        "result = 5 + 3\n",
        "print(type(result))\n",
        "\n",
        "result = \"HONG\"\n",
        "print(type(result))"
      ],
      "metadata": {
        "colab": {
          "base_uri": "https://localhost:8080/"
        },
        "id": "C6VaJnkhV3dc",
        "outputId": "ad0672d2-e063-4cdc-e674-2adbf89f427b"
      },
      "execution_count": null,
      "outputs": [
        {
          "output_type": "stream",
          "name": "stdout",
          "text": [
            "<class 'int'>\n",
            "<class 'str'>\n"
          ]
        }
      ]
    },
    {
      "cell_type": "code",
      "source": [
        "# 변수 var01에 문자열 데이터를 대입하고 값과 타입 확인\n",
        "var01 = 'Korea'\n",
        "print(f'var01 : {var01}')\n",
        "print(f'type : {type(var01)}')\n",
        "\n",
        "# 변수 var01에 새로 정수형 데이터를 대입하고 값과 타입 확인\n",
        "var01 = 3000\n",
        "print(f'var01 : {var01}')\n",
        "print(f'type : {type(var01)}')\n",
        "\n",
        "# 변수 var01에 다시 새로 실수형 데이터를 대입하고 값과 타입 확인\n",
        "var01 = 3.14\n",
        "print(f'value : {var01}')\n",
        "print(f'type : {type(var01)}')"
      ],
      "metadata": {
        "colab": {
          "base_uri": "https://localhost:8080/"
        },
        "id": "EbeDBcU6Wdwl",
        "outputId": "233615f2-32ae-4989-b011-abed949c2e4c"
      },
      "execution_count": null,
      "outputs": [
        {
          "output_type": "stream",
          "name": "stdout",
          "text": [
            "var01 : Korea\n",
            "type : <class 'str'>\n",
            "var01 : 3000\n",
            "type : <class 'int'>\n",
            "value : 3.14\n",
            "type : <class 'float'>\n"
          ]
        }
      ]
    },
    {
      "cell_type": "code",
      "source": [
        "name = input('성명 입력 >> ')\n",
        "korea_score = input('국어 성적 >> ')\n",
        "math_score = input('수학 성적 >> ')\n",
        "english_score = input('영어 성적 >> ')\n",
        "mean_score = (int(korea_score) + int(math_score) + int(english_score))/3\n",
        "\n",
        "print('{:-^30}'.format('성적 계산 결과'))\n",
        "print(f'성명 : {name}')\n",
        "print(f'국어 : {korea_score}')\n",
        "print(f'수학 : {math_score}')\n",
        "print(f'영어 : {english_score}')\n",
        "print(f'평균 : {mean_score}')"
      ],
      "metadata": {
        "colab": {
          "base_uri": "https://localhost:8080/"
        },
        "id": "xTMgfnFyW0B0",
        "outputId": "d91a689c-972a-4886-95bf-88ef099286e2"
      },
      "execution_count": null,
      "outputs": [
        {
          "output_type": "stream",
          "name": "stdout",
          "text": [
            "성명 입력 >> 권하마루\n",
            "국어 성적 >> 80\n",
            "수학 성적 >> 86\n",
            "영어 성적 >> 100\n",
            "-----------성적 계산 결과-----------\n",
            "성명 : 권하마루\n",
            "국어 : 80\n",
            "수학 : 86\n",
            "영어 : 100\n",
            "평균 : 88.66666666666667\n"
          ]
        }
      ]
    },
    {
      "cell_type": "code",
      "source": [
        "import math\n",
        "\n",
        "pi = math.pi\n",
        "r = int(input('원의 반름 : '))\n",
        "print(f'반지름이 {r}인의원 둘레의 길이는 {2 * pi * r}이고 넓이는 {pi * r * r} 입니다.')"
      ],
      "metadata": {
        "colab": {
          "base_uri": "https://localhost:8080/"
        },
        "id": "pQaoFY8HZH8a",
        "outputId": "ba856092-01ae-4ca2-d4f7-2a71e439e436"
      },
      "execution_count": null,
      "outputs": [
        {
          "output_type": "stream",
          "name": "stdout",
          "text": [
            "원의 반름 : 10\n",
            "반지름이 10인의원 둘레의 길이는 62.83185307179586이고 넓이는 314.1592653589793 입니다.\n"
          ]
        }
      ]
    },
    {
      "cell_type": "code",
      "source": [
        "a = int(input('정수 입력 : '))\n",
        "b = int(input('정수 입력 : '))\n",
        "c = int(input('정수 입력 : '))\n",
        "\n",
        "num_max = max(a,b,c)\n",
        "num_min = min(a,b,c)\n",
        "\n",
        "print(f\"가장 큰 수는 {num_max} 입니다.\")\n",
        "print(f\"자가장 작은 수는 {num_min}입니다.\")"
      ],
      "metadata": {
        "id": "l0Fx4xyDaULW",
        "colab": {
          "base_uri": "https://localhost:8080/"
        },
        "outputId": "0a209299-b6c6-4be8-fedf-2662c78e5779"
      },
      "execution_count": null,
      "outputs": [
        {
          "output_type": "stream",
          "name": "stdout",
          "text": [
            "정수 입력 : 1\n",
            "정수 입력 : 2\n",
            "정수 입력 : 3\n",
            "가장 큰 수는 3 입니다.\n",
            "자가장 작은 수는 1입니다.\n"
          ]
        }
      ]
    },
    {
      "cell_type": "code",
      "source": [
        "p = int(input(\"평을 입력요세요 : \"))\n",
        "pp = p * 3.3058\n",
        "\n",
        "print(f\"{p}평은 {pp}제곱미터 입니다\")"
      ],
      "metadata": {
        "colab": {
          "base_uri": "https://localhost:8080/"
        },
        "id": "mqb7_ao_2aXe",
        "outputId": "b6751dbc-2a69-4ca0-97b1-9734250dc436"
      },
      "execution_count": null,
      "outputs": [
        {
          "output_type": "stream",
          "name": "stdout",
          "text": [
            "평을 입력요세요 : 24\n",
            "24평은 79.3392제곱미터 입니다\n"
          ]
        }
      ]
    },
    {
      "cell_type": "code",
      "source": [
        "name = input('이름을 입력하세요 : ')\n",
        "email = input('이메일을 입력하세요 : ')\n",
        "addr = input('주소를 잊력하세여 : ')\n",
        "phone = input(\"핸드폰 번호를 입력하세요 : \")\n",
        "\n",
        "print(\"{:-^30}\".format(\"입력 확인\"))\n",
        "print(f'이름 : {name}')\n",
        "print(f'이메일 : {email}')\n",
        "print(f'주소 : {addr}')\n",
        "print(f'핸드폰 번호 : {phone}')"
      ],
      "metadata": {
        "colab": {
          "base_uri": "https://localhost:8080/"
        },
        "id": "bxLIkDH24-tJ",
        "outputId": "f02e3ae2-6827-45d7-9455-a7e440c48203"
      },
      "execution_count": null,
      "outputs": [
        {
          "output_type": "stream",
          "name": "stdout",
          "text": [
            "이름을 입력하세요 : 마루집사\n",
            "이메일을 입력하세요 : maru12@exam.com\n",
            "주소를 잊력하세여 : 멍월드 마루똥시\n",
            "핸드폰 번호를 입력하세요 : 123-456-789\n",
            "------------입력 확인-------------\n",
            "이름 : 마루집사\n",
            "이메일 : maru12@exam.com\n",
            "주소 : 멍월드 마루똥시\n",
            "핸드폰 번호 : 123-456-789\n"
          ]
        }
      ]
    }
  ]
}