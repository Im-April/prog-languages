{
  "nbformat": 4,
  "nbformat_minor": 0,
  "metadata": {
    "colab": {
      "provenance": []
    },
    "kernelspec": {
      "name": "python3",
      "display_name": "Python 3"
    },
    "language_info": {
      "name": "python"
    }
  },
  "cells": [
    {
      "cell_type": "code",
      "execution_count": 1,
      "metadata": {
        "colab": {
          "base_uri": "https://localhost:8080/"
        },
        "id": "UK2eg1uQqJNs",
        "outputId": "9dd536e4-5d39-44b6-ccd4-2b83ef9e2fb0"
      },
      "outputs": [
        {
          "output_type": "stream",
          "name": "stdout",
          "text": [
            "Hello world\n"
          ]
        }
      ],
      "source": [
        "# 주석 입니다\n",
        "\n",
        "# Hello world 출력 코드\n",
        "print('Hello world')"
      ]
    },
    {
      "cell_type": "code",
      "source": [
        "# 하나 출력하기\n",
        "print('안녕하세요')\n",
        "print(10)\n",
        "\n",
        "# 여러 개 출력\n",
        "print(10,20,30)\n",
        "\n",
        "# 줄바꿈하기\n",
        "print()"
      ],
      "metadata": {
        "colab": {
          "base_uri": "https://localhost:8080/"
        },
        "id": "lE2p-jbk8hAn",
        "outputId": "37de5dbd-83b0-49d2-be74-aefaed0a59db"
      },
      "execution_count": 2,
      "outputs": [
        {
          "output_type": "stream",
          "name": "stdout",
          "text": [
            "안녕하세요\n",
            "10\n",
            "10 20 30\n",
            "\n"
          ]
        }
      ]
    },
    {
      "cell_type": "code",
      "source": [
        "# 기본 코드\n",
        "\n",
        "print('# 하나만 출력합니다.')\n",
        "print('Hello Python Programming...!')\n",
        "print()\n",
        "\n",
        "print('# 여러 개를 출력합니다.')\n",
        "print(10,20,30,40)\n",
        "print('안녕하세요','여러분','파이썬을','공부합시다')\n",
        "print()\n",
        "\n",
        "print('아무것도 출력하지 않습니다')\n",
        "print('-----확인선-----')\n",
        "print()\n",
        "print()\n",
        "print('-----확인선-----')"
      ],
      "metadata": {
        "colab": {
          "base_uri": "https://localhost:8080/"
        },
        "id": "49M-XNJS8wUq",
        "outputId": "e1a4aba6-ed39-4a98-b75e-cf6fa1dd7183"
      },
      "execution_count": 3,
      "outputs": [
        {
          "output_type": "stream",
          "name": "stdout",
          "text": [
            "# 하나만 출력합니다.\n",
            "Hello Python Programming...!\n",
            "\n",
            "# 여러 개를 출력합니다.\n",
            "10 20 30 40\n",
            "안녕하세요 여러분 파이썬을 공부합시다\n",
            "\n",
            "아무것도 출력하지 않습니다\n",
            "-----확인선-----\n",
            "\n",
            "\n",
            "-----확인선-----\n"
          ]
        }
      ]
    },
    {
      "cell_type": "code",
      "source": [
        "# 자료형 확인\n",
        "# type() 함수 사용\n",
        "\n",
        "print(type('안녕하세요'))\n",
        "print(type(12))\n",
        "print(type(3.14))\n",
        "print(type(True))"
      ],
      "metadata": {
        "colab": {
          "base_uri": "https://localhost:8080/"
        },
        "id": "GbXgRicG-hQK",
        "outputId": "4bbf90a0-5c90-4341-c779-bf13502faa08"
      },
      "execution_count": 4,
      "outputs": [
        {
          "output_type": "stream",
          "name": "stdout",
          "text": [
            "<class 'str'>\n",
            "<class 'int'>\n",
            "<class 'float'>\n",
            "<class 'bool'>\n"
          ]
        }
      ]
    },
    {
      "cell_type": "code",
      "source": [
        "# 문자열 만들기 -> 큰/작은 따옴표 사용\n",
        "'안녕하세요'\n",
        "\"안녕하세요\"\n",
        "\n",
        "# 따옴표도 출력하기\n",
        "# 1. 감싸주는 따옴표를 다른걸로..\n",
        "print('\"안녕하세요\"라고 말 했습니다.')\n",
        "\n",
        "# 2. 이스케이프 문자 사용\n",
        "print('\\'안녕하세요\\'라고 말 했습니다.')\n",
        "\n",
        "# 이스케이프 문자 활요\n",
        "print('안녕\\n하세요')\n",
        "print('안녕\\t하세요')\n",
        "print('안녕\\\\하세요')\n",
        "\n",
        "print()\n",
        "# 표처럼 ...\n",
        "print('이름\\t나이\\t색상')\n",
        "print('마루\\t2\\t아이보리')\n",
        "print('석탄\\t3\\t검정')\n",
        "\n",
        "print()\n",
        "# 긴 문장\n",
        "# 여러 줄 문자열\n",
        "print('-'*50)\n",
        "print(\"\"\"\n",
        "동해물과 백두산이 마르고 닳도록\n",
        "하느님이 보우하사\n",
        "우리나라 만세.\n",
        "무궁화 삼천리 화려 강산\n",
        "대한 사람 대한으로 길이\n",
        "보전하세\n",
        "\"\"\")\n",
        "print('-'*50)\n",
        "print(\"\"\"동해물과 백두산이 마르고 닳도록\n",
        "하느님이 보우하사\n",
        "우리나라 만세.\n",
        "무궁화 삼천리 화려 강산\n",
        "대한 사람 대한으로 길이\n",
        "보전하세\"\"\")\n",
        "print('-'*50)\n",
        "print(\"\"\"\\\n",
        "동해물과 백두산이 마르고 닳도록\n",
        "하느님이 보우하사\n",
        "우리나라 만세.\n",
        "무궁화 삼천리 화려 강산\n",
        "대한 사람 대한으로 길이\n",
        "보전하세\\\n",
        "\"\"\")\n",
        "print('-'*50)\n",
        "print()\n",
        "\n",
        "print\\\n",
        "(1,2,3)"
      ],
      "metadata": {
        "colab": {
          "base_uri": "https://localhost:8080/"
        },
        "id": "q_nqWf7FADyZ",
        "outputId": "01422575-cd07-4ede-c765-0b5a938e2b1f"
      },
      "execution_count": 5,
      "outputs": [
        {
          "output_type": "stream",
          "name": "stdout",
          "text": [
            "\"안녕하세요\"라고 말 했습니다.\n",
            "'안녕하세요'라고 말 했습니다.\n",
            "안녕\n",
            "하세요\n",
            "안녕\t하세요\n",
            "안녕\\하세요\n",
            "\n",
            "이름\t나이\t색상\n",
            "마루\t2\t아이보리\n",
            "석탄\t3\t검정\n",
            "\n",
            "--------------------------------------------------\n",
            "\n",
            "동해물과 백두산이 마르고 닳도록\n",
            "하느님이 보우하사 \n",
            "우리나라 만세. \n",
            "무궁화 삼천리 화려 강산 \n",
            "대한 사람 대한으로 길이 \n",
            "보전하세\n",
            "\n",
            "--------------------------------------------------\n",
            "동해물과 백두산이 마르고 닳도록\n",
            "하느님이 보우하사 \n",
            "우리나라 만세. \n",
            "무궁화 삼천리 화려 강산 \n",
            "대한 사람 대한으로 길이 \n",
            "보전하세\n",
            "--------------------------------------------------\n",
            "동해물과 백두산이 마르고 닳도록\n",
            "하느님이 보우하사 \n",
            "우리나라 만세. \n",
            "무궁화 삼천리 화려 강산 \n",
            "대한 사람 대한으로 길이 \n",
            "보전하세\n",
            "--------------------------------------------------\n",
            "\n",
            "1 2 3\n"
          ]
        }
      ]
    },
    {
      "cell_type": "code",
      "source": [
        "# 문자열 연산자\n",
        "\n",
        "# 문자열 연결 연산자\n",
        "print('안녕'+'하세요')\n",
        "\n",
        "# 문자열 반복 연산자\n",
        "print('안녕'*3)\n",
        "\n",
        "# 문자 선택 연산자\n",
        "# 문자열[]\n",
        "# 문자열[ : ]\n",
        "# 문자열[ : : ]\n",
        "print('안녕하세요'[0])\n",
        "print('안녕하세요'[1:3])\n",
        "print('안녕하세요'[0::2])\n",
        "print('안녕하세요'[-1])\n",
        "print('안녕하세요'[:3])\n",
        "print('안녕하세요'[1:4:2]) # 녕세\n",
        "print('0123456789'[::5])"
      ],
      "metadata": {
        "colab": {
          "base_uri": "https://localhost:8080/"
        },
        "id": "YseIIekKiWcA",
        "outputId": "159d05bc-1a82-44f7-9a20-02a15f7ced75"
      },
      "execution_count": 6,
      "outputs": [
        {
          "output_type": "stream",
          "name": "stdout",
          "text": [
            "안녕하세요\n",
            "안녕안녕안녕\n",
            "안\n",
            "녕하\n",
            "안하요\n",
            "요\n",
            "안녕하\n",
            "녕세\n",
            "05\n"
          ]
        }
      ]
    },
    {
      "cell_type": "code",
      "source": [
        "print('안녕하세요'[0]) # 안\n",
        "print('안녕하세요'[2]) # 하\n",
        "print('안녕하세요'[4]) # 요\n",
        "print('안녕하세요'[-1]) # 요\n",
        "\n",
        "print('안녕하세요'[0:1]) # 안\n",
        "print('안녕하세요'[0:2]) # 안녕\n",
        "print('안녕하세요'[2:3]) # 하\n",
        "\n",
        "print('안녕하세요'[2:]) # 하세요\n",
        "print('안녕하세요'[:]) # 안녕하세요"
      ],
      "metadata": {
        "colab": {
          "base_uri": "https://localhost:8080/"
        },
        "id": "lYIBTGYjksga",
        "outputId": "22780074-06ad-4a6e-f4a7-1b75d42ff756"
      },
      "execution_count": 7,
      "outputs": [
        {
          "output_type": "stream",
          "name": "stdout",
          "text": [
            "안\n",
            "하\n",
            "요\n",
            "요\n",
            "안\n",
            "안녕\n",
            "하\n",
            "하세요\n",
            "안녕하세요\n"
          ]
        }
      ]
    },
    {
      "cell_type": "code",
      "source": [
        "# IndexError\n",
        "print('안녕하세요'[100])"
      ],
      "metadata": {
        "colab": {
          "base_uri": "https://localhost:8080/",
          "height": 164
        },
        "id": "r38POgbRlG2U",
        "outputId": "4c72e790-1db1-43c5-d385-27efc2eea5d5"
      },
      "execution_count": 8,
      "outputs": [
        {
          "output_type": "error",
          "ename": "IndexError",
          "evalue": "string index out of range",
          "traceback": [
            "\u001b[0;31m---------------------------------------------------------------------------\u001b[0m",
            "\u001b[0;31mIndexError\u001b[0m                                Traceback (most recent call last)",
            "\u001b[0;32m/tmp/ipython-input-487837391.py\u001b[0m in \u001b[0;36m<cell line: 0>\u001b[0;34m()\u001b[0m\n\u001b[1;32m      1\u001b[0m \u001b[0;31m# IndexError\u001b[0m\u001b[0;34m\u001b[0m\u001b[0;34m\u001b[0m\u001b[0m\n\u001b[0;32m----> 2\u001b[0;31m \u001b[0mprint\u001b[0m\u001b[0;34m(\u001b[0m\u001b[0;34m'안녕하세요'\u001b[0m\u001b[0;34m[\u001b[0m\u001b[0;36m100\u001b[0m\u001b[0;34m]\u001b[0m\u001b[0;34m)\u001b[0m\u001b[0;34m\u001b[0m\u001b[0;34m\u001b[0m\u001b[0m\n\u001b[0m",
            "\u001b[0;31mIndexError\u001b[0m: string index out of range"
          ]
        }
      ]
    },
    {
      "cell_type": "code",
      "source": [
        "print('안녕하세요'[1:100])\n",
        "\n",
        "# 슬라이싱에는 IndexError가 발생하지 않는다.\n"
      ],
      "metadata": {
        "colab": {
          "base_uri": "https://localhost:8080/"
        },
        "id": "a2I2rBuvnneb",
        "outputId": "71e52d94-f2ab-425e-ceb0-1cd02720e174"
      },
      "execution_count": 1,
      "outputs": [
        {
          "output_type": "stream",
          "name": "stdout",
          "text": [
            "녕하세요\n"
          ]
        }
      ]
    },
    {
      "cell_type": "code",
      "source": [
        "# 문자열의 길이\n",
        "print(len('안녕하세요')) # 5"
      ],
      "metadata": {
        "colab": {
          "base_uri": "https://localhost:8080/"
        },
        "id": "y-OiWmyFnzrf",
        "outputId": "56f6b85f-21cd-43b6-a957-d02f4f2edb3d"
      },
      "execution_count": 2,
      "outputs": [
        {
          "output_type": "stream",
          "name": "stdout",
          "text": [
            "5\n"
          ]
        }
      ]
    },
    {
      "cell_type": "code",
      "source": [
        "print(type(0))\n",
        "print(type(0.0))"
      ],
      "metadata": {
        "colab": {
          "base_uri": "https://localhost:8080/"
        },
        "id": "HYdcuTt3oTpa",
        "outputId": "fb1946ee-0b09-4571-b0f3-5ecada2d605f"
      },
      "execution_count": 3,
      "outputs": [
        {
          "output_type": "stream",
          "name": "stdout",
          "text": [
            "<class 'int'>\n",
            "<class 'float'>\n"
          ]
        }
      ]
    },
    {
      "cell_type": "code",
      "source": [
        "print(10+10)\n",
        "print(10-10)\n",
        "print(10*10)\n",
        "print(10/3) # 결과가 부동소수로 나타남\n",
        "print(10%3) # 나머지\n",
        "print(10//3) # 몫 (정수 나눗셈)\n",
        "print(10**3) # 제곱"
      ],
      "metadata": {
        "colab": {
          "base_uri": "https://localhost:8080/"
        },
        "id": "q4cv3e8sp3_h",
        "outputId": "da0726fb-40bc-4de0-e368-2ec9134bd19a"
      },
      "execution_count": 4,
      "outputs": [
        {
          "output_type": "stream",
          "name": "stdout",
          "text": [
            "20\n",
            "0\n",
            "100\n",
            "3.3333333333333335\n",
            "1\n",
            "3\n",
            "1000\n"
          ]
        }
      ]
    },
    {
      "cell_type": "code",
      "source": [
        "# 부동소수점과 부동소수점 연산\n",
        "\n",
        "print(10.0+10.0)\n",
        "print(10.0-10.0)\n",
        "print(10.0*10.0)\n",
        "print(10.0/10.0)\n",
        "print(10.0%10.0)\n",
        "print(10.0**10.0)\n",
        "print(10.0//3.0) # 대충 설계해서 이상한 값이 나옴"
      ],
      "metadata": {
        "colab": {
          "base_uri": "https://localhost:8080/"
        },
        "id": "WL93TZogqFBf",
        "outputId": "c116fa10-613b-4442-804b-734c2591f6ec"
      },
      "execution_count": 5,
      "outputs": [
        {
          "output_type": "stream",
          "name": "stdout",
          "text": [
            "20.0\n",
            "0.0\n",
            "100.0\n",
            "1.0\n",
            "0.0\n",
            "10000000000.0\n",
            "3.0\n"
          ]
        }
      ]
    },
    {
      "cell_type": "code",
      "source": [
        "print('안녕'+4)"
      ],
      "metadata": {
        "colab": {
          "base_uri": "https://localhost:8080/",
          "height": 146
        },
        "id": "dl8RR7lvrlLc",
        "outputId": "18d69a2e-a0c7-4628-ed3f-fcd1a827530d"
      },
      "execution_count": 6,
      "outputs": [
        {
          "output_type": "error",
          "ename": "TypeError",
          "evalue": "can only concatenate str (not \"int\") to str",
          "traceback": [
            "\u001b[0;31m---------------------------------------------------------------------------\u001b[0m",
            "\u001b[0;31mTypeError\u001b[0m                                 Traceback (most recent call last)",
            "\u001b[0;32m/tmp/ipython-input-3515673204.py\u001b[0m in \u001b[0;36m<cell line: 0>\u001b[0;34m()\u001b[0m\n\u001b[0;32m----> 1\u001b[0;31m \u001b[0mprint\u001b[0m\u001b[0;34m(\u001b[0m\u001b[0;34m'안녕'\u001b[0m\u001b[0;34m+\u001b[0m\u001b[0;36m4\u001b[0m\u001b[0;34m)\u001b[0m\u001b[0;34m\u001b[0m\u001b[0;34m\u001b[0m\u001b[0m\n\u001b[0m",
            "\u001b[0;31mTypeError\u001b[0m: can only concatenate str (not \"int\") to str"
          ]
        }
      ]
    },
    {
      "cell_type": "code",
      "source": [
        "# 연산자 우선순위\n",
        "\n",
        "print(2+2*2)\n",
        "print((2+2)*2)\n",
        "print(4**(1/2))\n",
        "print(8**(1/3))"
      ],
      "metadata": {
        "colab": {
          "base_uri": "https://localhost:8080/"
        },
        "id": "di6KrzRLr7pR",
        "outputId": "dda4dd95-9756-4257-9938-0aedbb705f31"
      },
      "execution_count": 12,
      "outputs": [
        {
          "output_type": "stream",
          "name": "stdout",
          "text": [
            "6\n",
            "8\n",
            "2.0\n",
            "2.0\n"
          ]
        }
      ]
    },
    {
      "cell_type": "code",
      "source": [
        "print(0.1+0.2)\n",
        "print(0.1+0.2 == 0.3) # 정확도가 떨어짐"
      ],
      "metadata": {
        "colab": {
          "base_uri": "https://localhost:8080/"
        },
        "id": "DXXQVlHgVtUM",
        "outputId": "f2f30825-65ef-4cd7-94e6-0ef21aad5c69"
      },
      "execution_count": 14,
      "outputs": [
        {
          "output_type": "stream",
          "name": "stdout",
          "text": [
            "0.30000000000000004\n",
            "False\n"
          ]
        }
      ]
    }
  ]
}